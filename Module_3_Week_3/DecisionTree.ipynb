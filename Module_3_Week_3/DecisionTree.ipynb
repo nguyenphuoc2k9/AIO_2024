{
  "nbformat": 4,
  "nbformat_minor": 0,
  "metadata": {
    "colab": {
      "provenance": []
    },
    "kernelspec": {
      "name": "python3",
      "display_name": "Python 3"
    },
    "language_info": {
      "name": "python"
    }
  },
  "cells": [
    {
      "cell_type": "markdown",
      "source": [
        "\n",
        "\n",
        "1. Iris Decision Tree Implementation\n",
        "\n",
        "\n"
      ],
      "metadata": {
        "id": "LwECGhGu46AP"
      }
    },
    {
      "cell_type": "code",
      "execution_count": 2,
      "metadata": {
        "colab": {
          "base_uri": "https://localhost:8080/"
        },
        "id": "8oRblAdmvKsf",
        "outputId": "68a49f29-f3fc-455b-b979-fa8fefad71dd"
      },
      "outputs": [
        {
          "output_type": "execute_result",
          "data": {
            "text/plain": [
              "1.0"
            ]
          },
          "metadata": {},
          "execution_count": 2
        }
      ],
      "source": [
        "from sklearn import datasets\n",
        "from sklearn.model_selection import train_test_split\n",
        "from sklearn.metrics import accuracy_score\n",
        "from sklearn.tree import DecisionTreeClassifier\n",
        "\n",
        "#Load Dataset\n",
        "iris_X, iris_y = datasets.load_iris(return_X_y=True)\n",
        "#Split train:test = 8:2\n",
        "X_train,X_test, y_train,y_test = train_test_split(iris_X,iris_y,test_size=0.2,random_state=42)\n",
        "# Define model\n",
        "dt_classifier = DecisionTreeClassifier()\n",
        "# Train\n",
        "dt_classifier.fit(X_train,y_train)\n",
        "# Predict and evaluate\n",
        "y_pred = dt_classifier.predict(X_test)\n",
        "accuracy_score(y_test,y_pred)"
      ]
    },
    {
      "cell_type": "markdown",
      "source": [
        "2. Decision Tree Regression"
      ],
      "metadata": {
        "id": "f3Zsl3Bg7QLr"
      }
    },
    {
      "cell_type": "code",
      "source": [
        "from sklearn.datasets import fetch_openml\n",
        "from sklearn.model_selection import train_test_split\n",
        "from sklearn.tree import DecisionTreeRegressor\n",
        "from sklearn.metrics import mean_squared_error\n",
        "\n",
        "#load dataset\n",
        "machine_cpu = fetch_openml(name='machine_cpu')\n",
        "machine_data = machine_cpu.data\n",
        "machine_labels = machine_cpu.target\n",
        "#split train:test = 8:2\n",
        "X_train,X_test, y_train,y_test = train_test_split(machine_data,machine_labels,test_size=0.2,random_state=42)\n",
        "# define model\n",
        "\n",
        "tree_reg = DecisionTreeRegressor()\n",
        "# Train\n",
        "tree_reg.fit(X_train,y_train)\n",
        "# Predict and evaluate\n",
        "y_pred = tree_reg.predict(X_test)\n",
        "mean_squared_error(y_test,y_pred)"
      ],
      "metadata": {
        "colab": {
          "base_uri": "https://localhost:8080/"
        },
        "id": "sNTVHlUA7UD3",
        "outputId": "edf43de4-21bb-4624-a828-8f36d513767a"
      },
      "execution_count": 4,
      "outputs": [
        {
          "output_type": "stream",
          "name": "stderr",
          "text": [
            "/usr/local/lib/python3.10/dist-packages/sklearn/datasets/_openml.py:311: UserWarning: Multiple active versions of the dataset matching the name machine_cpu exist. Versions may be fundamentally different, returning version 1.\n",
            "  warn(\n",
            "/usr/local/lib/python3.10/dist-packages/sklearn/datasets/_openml.py:1022: FutureWarning: The default value of `parser` will change from `'liac-arff'` to `'auto'` in 1.4. You can set `parser='auto'` to silence this warning. Therefore, an `ImportError` will be raised from 1.4 if the dataset is dense and pandas is not installed. Note that the pandas parser may return different data types. See the Notes Section in fetch_openml's API doc for details.\n",
            "  warn(\n"
          ]
        },
        {
          "output_type": "execute_result",
          "data": {
            "text/plain": [
              "9248.60119047619"
            ]
          },
          "metadata": {},
          "execution_count": 4
        }
      ]
    }
  ]
}