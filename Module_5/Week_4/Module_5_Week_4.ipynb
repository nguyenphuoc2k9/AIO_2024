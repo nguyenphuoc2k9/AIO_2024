{
  "nbformat": 4,
  "nbformat_minor": 0,
  "metadata": {
    "colab": {
      "provenance": []
    },
    "kernelspec": {
      "name": "python3",
      "display_name": "Python 3"
    },
    "language_info": {
      "name": "python"
    }
  },
  "cells": [
    {
      "cell_type": "code",
      "source": [
        "import numpy as np"
      ],
      "metadata": {
        "id": "NDfC-QYQz-xu"
      },
      "execution_count": 2,
      "outputs": []
    },
    {
      "cell_type": "code",
      "execution_count": null,
      "metadata": {
        "colab": {
          "base_uri": "https://localhost:8080/"
        },
        "id": "hVbVIA31yTip",
        "outputId": "ad06a660-f3ff-42a1-9910-a1e2e832cc25"
      },
      "outputs": [
        {
          "output_type": "execute_result",
          "data": {
            "text/plain": [
              "[array([-5., -2.], dtype=float32),\n",
              " array([[-4.6,  1.2]]),\n",
              " array([[-4.232, -0.72 ]]),\n",
              " array([[-3.89344,  0.432  ]]),\n",
              " array([[-3.5819648, -0.2592   ]]),\n",
              " array([[-3.29540762,  0.15552   ]]),\n",
              " array([[-3.03177501, -0.093312  ]]),\n",
              " array([[-2.78923301,  0.0559872 ]]),\n",
              " array([[-2.56609437, -0.03359232]]),\n",
              " array([[-2.36080682,  0.02015539]]),\n",
              " array([[-2.17194227, -0.01209324]]),\n",
              " array([[-1.99818689,  0.00725594]]),\n",
              " array([[-1.83833194, -0.00435356]]),\n",
              " array([[-1.69126538,  0.00261214]]),\n",
              " array([[-1.55596415, -0.00156728]]),\n",
              " array([[-1.43148702e+00,  9.40369969e-04]]),\n",
              " array([[-1.31696806e+00, -5.64221981e-04]]),\n",
              " array([[-1.21161061e+00,  3.38533189e-04]]),\n",
              " array([[-1.11468176e+00, -2.03119913e-04]]),\n",
              " array([[-1.02550722e+00,  1.21871948e-04]]),\n",
              " array([[-9.43466646e-01, -7.31231688e-05]]),\n",
              " array([[-8.67989314e-01,  4.38739013e-05]]),\n",
              " array([[-7.98550169e-01, -2.63243408e-05]]),\n",
              " array([[-7.34666155e-01,  1.57946045e-05]]),\n",
              " array([[-6.75892863e-01, -9.47676268e-06]]),\n",
              " array([[-6.21821434e-01,  5.68605761e-06]]),\n",
              " array([[-5.72075719e-01, -3.41163456e-06]]),\n",
              " array([[-5.26309662e-01,  2.04698074e-06]]),\n",
              " array([[-4.84204889e-01, -1.22818844e-06]]),\n",
              " array([[-4.45468498e-01,  7.36913066e-07]]),\n",
              " array([[-4.09831018e-01, -4.42147839e-07]])]"
            ]
          },
          "metadata": {},
          "execution_count": 13
        }
      ],
      "source": [
        "# Bài 1 B)\n",
        "def df_w(W):\n",
        "  k = np.array([[0.2,4]])\n",
        "  return W*k\n",
        "def sgd(W,dW,lr):\n",
        "  return W-lr*dW\n",
        "def train_pl_1(optimizer,lr,epochs):\n",
        "  W = np.array([-5,-2],dtype=np.float32)\n",
        "  results = [W]\n",
        "\n",
        "  for _ in range(epochs):\n",
        "    dW = df_w(W)\n",
        "    W = optimizer(W,dW,lr)\n",
        "    results.append(W)\n",
        "  return results\n",
        "results = train_pl_1(sgd,0.4,30)\n",
        "results"
      ]
    },
    {
      "cell_type": "code",
      "source": [
        "# Bài 2 B)\n",
        "def df_w(W):\n",
        "  k = np.array([[0.2,4]])\n",
        "  return W*k\n",
        "def sgd_momentum(W,V,dW,beta,lr):\n",
        "  V_new = beta*V + (1-beta)*dW\n",
        "  W_new = W - lr*V_new\n",
        "  return W_new,V_new\n",
        "def train_pl_2(optimizer,lr,epochs):\n",
        "  V = np.array([0,0],dtype=np.float32)\n",
        "  W = np.array([-5,-2],dtype=np.float32)\n",
        "  beta = 0.5\n",
        "  results = [W]\n",
        "  for _ in range(epochs):\n",
        "    dW = df_w(W)\n",
        "    W,V = optimizer(W,V,dW,beta,lr)\n",
        "    results.append(W)\n",
        "  return results\n",
        "results = train_pl_2(sgd_momentum,0.6,30)\n",
        "results"
      ],
      "metadata": {
        "colab": {
          "base_uri": "https://localhost:8080/"
        },
        "collapsed": true,
        "id": "wQPJW46nau7m",
        "outputId": "4d8fc4fb-31e9-4922-df93-b71782689411"
      },
      "execution_count": 24,
      "outputs": [
        {
          "output_type": "execute_result",
          "data": {
            "text/plain": [
              "[array([-5., -2.], dtype=float32),\n",
              " array([[-4.7,  0.4]]),\n",
              " array([[-4.268,  1.12 ]]),\n",
              " array([[-3.79592,  0.136  ]]),\n",
              " array([[-3.3321248, -0.5192   ]]),\n",
              " array([[-2.90029971, -0.22376   ]]),\n",
              " array([[-2.51036919,  0.192472  ]]),\n",
              " array([[-2.16478177,  0.1696216 ]]),\n",
              " array([[-1.86210116, -0.04534952]]),\n",
              " array([[-1.59903478, -0.09841566]]),\n",
              " array([[-1.37155951, -0.00684994]]),\n",
              " array([[-1.1755283 ,  0.04715285]]),\n",
              " array([[-1.006981  ,  0.01757082]]),\n",
              " array([[-0.86228849, -0.01830518]]),\n",
              " array([[-0.73820492, -0.01427696]]),\n",
              " array([[-0.63187084,  0.0048695 ]]),\n",
              " array([[-0.54079155,  0.00859933]]),\n",
              " array([[-4.62804416e-01,  1.45050014e-04]]),\n",
              " array([[-0.39604258, -0.00425615]]),\n",
              " array([[-0.33889911, -0.00134937]]),\n",
              " array([[-0.28999343,  0.00172326]]),\n",
              " array([[-0.24814098,  0.00119166]]),\n",
              " array([[-0.2123263 , -0.00050413]]),\n",
              " array([[-0.18167938, -0.00074707]]),\n",
              " array([[-1.55455157e-01,  2.79448010e-05]]),\n",
              " array([[-0.13301574,  0.00038192]]),\n",
              " array([[-1.13815082e-01,  1.00603444e-04]]),\n",
              " array([[-0.09738585, -0.00016078]]),\n",
              " array([[-8.33280829e-02, -9.85353344e-05]]),\n",
              " array([[-7.12995144e-02,  5.08287536e-05]]),\n",
              " array([[-6.10072592e-02,  6.45162933e-05]])]"
            ]
          },
          "metadata": {},
          "execution_count": 24
        }
      ]
    },
    {
      "cell_type": "code",
      "source": [
        "# Bài 3 B)\n",
        "def df_w(W):\n",
        "  k = np.array([[0.2,4]])\n",
        "  return W*k\n",
        "def RMSProp(S,W,dW,decay_rate,learning_rate,e):\n",
        "  S_new = decay_rate*S + (1-decay_rate)*(dW**2)\n",
        "  W_new = W - learning_rate*(dW/np.sqrt(S_new+e))\n",
        "  return S_new,W_new\n",
        "def train_pl_3(optimizer,lr,epochs):\n",
        "  S = np.array([0,0],dtype=np.float32)\n",
        "  W = np.array([-5,-2],dtype=np.float32)\n",
        "  decay_rate = 0.9\n",
        "  e = 1e-6\n",
        "  results = [W]\n",
        "  for _ in range(epochs):\n",
        "    dW = df_w(W)\n",
        "    S,W = optimizer(S,W,dW,decay_rate,lr,e)\n",
        "    results.append(W)\n",
        "  return results\n",
        "train_pl_3(RMSProp,0.3,30)"
      ],
      "metadata": {
        "id": "YGTwM9nCgK5R",
        "colab": {
          "base_uri": "https://localhost:8080/"
        },
        "outputId": "6f1b3b81-e5fc-4ec9-c3a7-d5a793c5cbc4"
      },
      "execution_count": 20,
      "outputs": [
        {
          "output_type": "execute_result",
          "data": {
            "text/plain": [
              "[array([-5., -2.], dtype=float32),\n",
              " array([[-4.05132145, -1.05131678]]),\n",
              " array([[-3.43519754, -0.59152343]]),\n",
              " array([[-2.95893693, -0.3294394 ]]),\n",
              " array([[-2.56546289, -0.17756482]]),\n",
              " array([[-2.22920552, -0.09163256]]),\n",
              " array([[-1.93626752, -0.04494499]]),\n",
              " array([[-1.67817686, -0.02081423]]),\n",
              " array([[-1.44934985, -0.00903559]]),\n",
              " array([[-1.24588199, -0.00364591]]),\n",
              " array([[-1.06490301, -0.00135351]]),\n",
              " array([[-9.04202260e-01, -4.56444431e-04]]),\n",
              " array([[-7.61996495e-01, -1.37562928e-04]]),\n",
              " array([[-6.36778499e-01, -3.62601019e-05]]),\n",
              " array([[-5.27215237e-01, -8.11337456e-06]]),\n",
              " array([[-4.32078505e-01, -1.47473412e-06]]),\n",
              " array([[-3.50198507e-01, -2.02783991e-07]]),\n",
              " array([[-2.80434649e-01, -1.84231187e-08]]),\n",
              " array([[-2.21659834e-01, -7.67742748e-10]]),\n",
              " array([[-1.72755512e-01,  7.80451998e-12]]),\n",
              " array([[-1.32615134e-01, -5.05794800e-13]]),\n",
              " array([[-1.00153779e-01,  6.19123501e-14]]),\n",
              " array([[-7.43217708e-02, -1.13373781e-14]]),\n",
              " array([[-5.41201278e-02,  2.80166702e-15]]),\n",
              " array([[-3.86159157e-02, -8.81341191e-16]]),\n",
              " array([[-2.69558066e-02,  3.39921117e-16]]),\n",
              " array([[-1.83765633e-02, -1.56581731e-16]]),\n",
              " array([[-1.22116093e-02,  8.44994985e-17]]),\n",
              " array([[-7.89331794e-03, -5.26376595e-17]]),\n",
              " array([[-4.95110261e-03,  3.74107995e-17]]),\n",
              " array([[-3.00577081e-03, -3.00506084e-17]])]"
            ]
          },
          "metadata": {},
          "execution_count": 20
        }
      ]
    },
    {
      "cell_type": "code",
      "source": [
        "# Bài 4 b)\n",
        "def df_W(W):\n",
        "  k = np.array([[0.2,4]])\n",
        "  return W*k\n",
        "def Adam(W,S,V,dW,beta1,beta2,lr,e,t):\n",
        "  V_new = beta1*V + (1-beta1)*dW\n",
        "  S_new = beta2*S + (1-beta2)*(dW**2)\n",
        "  V_corr = V_new/(1-beta1**t)\n",
        "  S_corr = S_new/(1-beta2**t)\n",
        "  W_new = W - lr*(V_corr/(np.sqrt(S_corr)+e))\n",
        "  return W_new,V_new,S_new\n",
        "def train_pl_4(optimizer,lr,epochs):\n",
        "  S = np.array([0,0],dtype=np.float32)\n",
        "  W = np.array([-5,-2],dtype=np.float32)\n",
        "  V = np.array([0,0],dtype=np.float32)\n",
        "  beta1 = 0.9\n",
        "  beta2 = 0.999\n",
        "  e = 1e-6\n",
        "  results = [W]\n",
        "  for t in range(epochs):\n",
        "    dW = df_W(W)\n",
        "    W,V,S = optimizer(W,S,V,dW,beta1,beta2,lr,e,t+1)\n",
        "    results.append(W)\n",
        "  return results\n",
        "train_pl_4(Adam,0.2,30)"
      ],
      "metadata": {
        "colab": {
          "base_uri": "https://localhost:8080/"
        },
        "id": "pbfJwPsCG8m4",
        "outputId": "0b1f60cf-ece3-4e2d-ee75-68739301a523"
      },
      "execution_count": 21,
      "outputs": [
        {
          "output_type": "execute_result",
          "data": {
            "text/plain": [
              "[array([-5., -2.], dtype=float32),\n",
              " array([[-4.8000002 , -1.80000002]]),\n",
              " array([[-4.60025478, -1.60082451]]),\n",
              " array([[-4.40094848, -1.40317262]]),\n",
              " array([[-4.20227764, -1.20787822]]),\n",
              " array([[-4.00445033, -1.01592745]]),\n",
              " array([[-3.80768638, -0.82847307]]),\n",
              " array([[-3.61221732, -0.64684159]]),\n",
              " array([[-3.41828623, -0.47252765]]),\n",
              " array([[-3.22614739, -0.30716934]]),\n",
              " array([[-3.03606592, -0.15249855]]),\n",
              " array([[-2.84831706, -0.01026326]]),\n",
              " array([[-2.66318543,  0.11787552]]),\n",
              " array([[-2.480964  ,  0.23046161]]),\n",
              " array([[-2.30195279,  0.3263587 ]]),\n",
              " array([[-2.12645742,  0.40484195]]),\n",
              " array([[-1.95478732,  0.46564961]]),\n",
              " array([[-1.7872537 ,  0.50898799]]),\n",
              " array([[-1.62416726,  0.53549442]]),\n",
              " array([[-1.46583566,  0.54617144]]),\n",
              " array([[-1.31256067,  0.54230812]]),\n",
              " array([[-1.16463526,  0.52540206]]),\n",
              " array([[-1.02234036,  0.4970906 ]]),\n",
              " array([[-0.88594163,  0.4590951 ]]),\n",
              " array([[-0.75568617,  0.41317781]]),\n",
              " array([[-0.63179919,  0.3611089 ]]),\n",
              " array([[-0.51448089,  0.30464048]]),\n",
              " array([[-0.40390346,  0.24548409]]),\n",
              " array([[-0.30020842,  0.18528918]]),\n",
              " array([[-0.20350426,  0.12562074]]),\n",
              " array([[-0.11386457,  0.06793529]])]"
            ]
          },
          "metadata": {},
          "execution_count": 21
        }
      ]
    }
  ]
}