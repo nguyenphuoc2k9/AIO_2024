{
  "cells": [
    {
      "cell_type": "markdown",
      "metadata": {
        "id": "XluoOf3AvJsO"
      },
      "source": [
        "# Bài tập 1"
      ]
    },
    {
      "cell_type": "code",
      "execution_count": null,
      "metadata": {
        "colab": {
          "base_uri": "https://localhost:8080/"
        },
        "id": "mrp3klrKvNdE",
        "outputId": "dc290e7f-b247-4f6d-d059-fe218c6f504d"
      },
      "outputs": [
        {
          "output_type": "stream",
          "name": "stdout",
          "text": [
            "/usr/local/lib/python3.11/dist-packages/gdown/__main__.py:140: FutureWarning: Option `--id` was deprecated in version 4.3.1 and will be removed in 5.0. You don't need to pass it anymore to use a file ID.\n",
            "  warnings.warn(\n",
            "Downloading...\n",
            "From: https://drive.google.com/uc?id=1pESuZ_SjtR-kcxokNKuBwaSufVtsQCql\n",
            "To: /content/vietnam.mp4\n",
            "100% 5.47M/5.47M [00:00<00:00, 37.9MB/s]\n"
          ]
        }
      ],
      "source": [
        "!gdown --id 1pESuZ_SjtR-kcxokNKuBwaSufVtsQCql"
      ]
    },
    {
      "cell_type": "code",
      "execution_count": null,
      "metadata": {
        "colab": {
          "base_uri": "https://localhost:8080/"
        },
        "id": "WAOLoK9Axdme",
        "outputId": "820a705e-499b-4958-9ba2-35c9c8c2202f"
      },
      "outputs": [
        {
          "output_type": "stream",
          "name": "stdout",
          "text": [
            "Requirement already satisfied: ultralytics in /usr/local/lib/python3.11/dist-packages (8.3.68)\n",
            "Requirement already satisfied: numpy>=1.23.0 in /usr/local/lib/python3.11/dist-packages (from ultralytics) (1.26.4)\n",
            "Requirement already satisfied: matplotlib>=3.3.0 in /usr/local/lib/python3.11/dist-packages (from ultralytics) (3.10.0)\n",
            "Requirement already satisfied: opencv-python>=4.6.0 in /usr/local/lib/python3.11/dist-packages (from ultralytics) (4.10.0.84)\n",
            "Requirement already satisfied: pillow>=7.1.2 in /usr/local/lib/python3.11/dist-packages (from ultralytics) (11.1.0)\n",
            "Requirement already satisfied: pyyaml>=5.3.1 in /usr/local/lib/python3.11/dist-packages (from ultralytics) (6.0.2)\n",
            "Requirement already satisfied: requests>=2.23.0 in /usr/local/lib/python3.11/dist-packages (from ultralytics) (2.32.3)\n",
            "Requirement already satisfied: scipy>=1.4.1 in /usr/local/lib/python3.11/dist-packages (from ultralytics) (1.13.1)\n",
            "Requirement already satisfied: torch>=1.8.0 in /usr/local/lib/python3.11/dist-packages (from ultralytics) (2.5.1+cu121)\n",
            "Requirement already satisfied: torchvision>=0.9.0 in /usr/local/lib/python3.11/dist-packages (from ultralytics) (0.20.1+cu121)\n",
            "Requirement already satisfied: tqdm>=4.64.0 in /usr/local/lib/python3.11/dist-packages (from ultralytics) (4.67.1)\n",
            "Requirement already satisfied: psutil in /usr/local/lib/python3.11/dist-packages (from ultralytics) (5.9.5)\n",
            "Requirement already satisfied: py-cpuinfo in /usr/local/lib/python3.11/dist-packages (from ultralytics) (9.0.0)\n",
            "Requirement already satisfied: pandas>=1.1.4 in /usr/local/lib/python3.11/dist-packages (from ultralytics) (2.2.2)\n",
            "Requirement already satisfied: seaborn>=0.11.0 in /usr/local/lib/python3.11/dist-packages (from ultralytics) (0.13.2)\n",
            "Requirement already satisfied: ultralytics-thop>=2.0.0 in /usr/local/lib/python3.11/dist-packages (from ultralytics) (2.0.14)\n",
            "Requirement already satisfied: contourpy>=1.0.1 in /usr/local/lib/python3.11/dist-packages (from matplotlib>=3.3.0->ultralytics) (1.3.1)\n",
            "Requirement already satisfied: cycler>=0.10 in /usr/local/lib/python3.11/dist-packages (from matplotlib>=3.3.0->ultralytics) (0.12.1)\n",
            "Requirement already satisfied: fonttools>=4.22.0 in /usr/local/lib/python3.11/dist-packages (from matplotlib>=3.3.0->ultralytics) (4.55.4)\n",
            "Requirement already satisfied: kiwisolver>=1.3.1 in /usr/local/lib/python3.11/dist-packages (from matplotlib>=3.3.0->ultralytics) (1.4.8)\n",
            "Requirement already satisfied: packaging>=20.0 in /usr/local/lib/python3.11/dist-packages (from matplotlib>=3.3.0->ultralytics) (24.2)\n",
            "Requirement already satisfied: pyparsing>=2.3.1 in /usr/local/lib/python3.11/dist-packages (from matplotlib>=3.3.0->ultralytics) (3.2.1)\n",
            "Requirement already satisfied: python-dateutil>=2.7 in /usr/local/lib/python3.11/dist-packages (from matplotlib>=3.3.0->ultralytics) (2.8.2)\n",
            "Requirement already satisfied: pytz>=2020.1 in /usr/local/lib/python3.11/dist-packages (from pandas>=1.1.4->ultralytics) (2024.2)\n",
            "Requirement already satisfied: tzdata>=2022.7 in /usr/local/lib/python3.11/dist-packages (from pandas>=1.1.4->ultralytics) (2025.1)\n",
            "Requirement already satisfied: charset-normalizer<4,>=2 in /usr/local/lib/python3.11/dist-packages (from requests>=2.23.0->ultralytics) (3.4.1)\n",
            "Requirement already satisfied: idna<4,>=2.5 in /usr/local/lib/python3.11/dist-packages (from requests>=2.23.0->ultralytics) (3.10)\n",
            "Requirement already satisfied: urllib3<3,>=1.21.1 in /usr/local/lib/python3.11/dist-packages (from requests>=2.23.0->ultralytics) (2.3.0)\n",
            "Requirement already satisfied: certifi>=2017.4.17 in /usr/local/lib/python3.11/dist-packages (from requests>=2.23.0->ultralytics) (2024.12.14)\n",
            "Requirement already satisfied: filelock in /usr/local/lib/python3.11/dist-packages (from torch>=1.8.0->ultralytics) (3.17.0)\n",
            "Requirement already satisfied: typing-extensions>=4.8.0 in /usr/local/lib/python3.11/dist-packages (from torch>=1.8.0->ultralytics) (4.12.2)\n",
            "Requirement already satisfied: networkx in /usr/local/lib/python3.11/dist-packages (from torch>=1.8.0->ultralytics) (3.4.2)\n",
            "Requirement already satisfied: jinja2 in /usr/local/lib/python3.11/dist-packages (from torch>=1.8.0->ultralytics) (3.1.5)\n",
            "Requirement already satisfied: fsspec in /usr/local/lib/python3.11/dist-packages (from torch>=1.8.0->ultralytics) (2024.10.0)\n",
            "Requirement already satisfied: nvidia-cuda-nvrtc-cu12==12.1.105 in /usr/local/lib/python3.11/dist-packages (from torch>=1.8.0->ultralytics) (12.1.105)\n",
            "Requirement already satisfied: nvidia-cuda-runtime-cu12==12.1.105 in /usr/local/lib/python3.11/dist-packages (from torch>=1.8.0->ultralytics) (12.1.105)\n",
            "Requirement already satisfied: nvidia-cuda-cupti-cu12==12.1.105 in /usr/local/lib/python3.11/dist-packages (from torch>=1.8.0->ultralytics) (12.1.105)\n",
            "Requirement already satisfied: nvidia-cudnn-cu12==9.1.0.70 in /usr/local/lib/python3.11/dist-packages (from torch>=1.8.0->ultralytics) (9.1.0.70)\n",
            "Requirement already satisfied: nvidia-cublas-cu12==12.1.3.1 in /usr/local/lib/python3.11/dist-packages (from torch>=1.8.0->ultralytics) (12.1.3.1)\n",
            "Requirement already satisfied: nvidia-cufft-cu12==11.0.2.54 in /usr/local/lib/python3.11/dist-packages (from torch>=1.8.0->ultralytics) (11.0.2.54)\n",
            "Requirement already satisfied: nvidia-curand-cu12==10.3.2.106 in /usr/local/lib/python3.11/dist-packages (from torch>=1.8.0->ultralytics) (10.3.2.106)\n",
            "Requirement already satisfied: nvidia-cusolver-cu12==11.4.5.107 in /usr/local/lib/python3.11/dist-packages (from torch>=1.8.0->ultralytics) (11.4.5.107)\n",
            "Requirement already satisfied: nvidia-cusparse-cu12==12.1.0.106 in /usr/local/lib/python3.11/dist-packages (from torch>=1.8.0->ultralytics) (12.1.0.106)\n",
            "Requirement already satisfied: nvidia-nccl-cu12==2.21.5 in /usr/local/lib/python3.11/dist-packages (from torch>=1.8.0->ultralytics) (2.21.5)\n",
            "Requirement already satisfied: nvidia-nvtx-cu12==12.1.105 in /usr/local/lib/python3.11/dist-packages (from torch>=1.8.0->ultralytics) (12.1.105)\n",
            "Requirement already satisfied: triton==3.1.0 in /usr/local/lib/python3.11/dist-packages (from torch>=1.8.0->ultralytics) (3.1.0)\n",
            "Requirement already satisfied: sympy==1.13.1 in /usr/local/lib/python3.11/dist-packages (from torch>=1.8.0->ultralytics) (1.13.1)\n",
            "Requirement already satisfied: nvidia-nvjitlink-cu12 in /usr/local/lib/python3.11/dist-packages (from nvidia-cusolver-cu12==11.4.5.107->torch>=1.8.0->ultralytics) (12.6.85)\n",
            "Requirement already satisfied: mpmath<1.4,>=1.1.0 in /usr/local/lib/python3.11/dist-packages (from sympy==1.13.1->torch>=1.8.0->ultralytics) (1.3.0)\n",
            "Requirement already satisfied: six>=1.5 in /usr/local/lib/python3.11/dist-packages (from python-dateutil>=2.7->matplotlib>=3.3.0->ultralytics) (1.17.0)\n",
            "Requirement already satisfied: MarkupSafe>=2.0 in /usr/local/lib/python3.11/dist-packages (from jinja2->torch>=1.8.0->ultralytics) (3.0.2)\n"
          ]
        }
      ],
      "source": [
        "!pip install ultralytics"
      ]
    },
    {
      "cell_type": "markdown",
      "metadata": {
        "id": "o_oC_2V9x3Ul"
      },
      "source": [
        "## simple version"
      ]
    },
    {
      "cell_type": "code",
      "execution_count": null,
      "metadata": {
        "id": "ewKs9x9uw-pH"
      },
      "outputs": [],
      "source": [
        "from collections import defaultdict\n",
        "import cv2\n",
        "import numpy as np\n",
        "from ultralytics import YOLO"
      ]
    },
    {
      "cell_type": "code",
      "execution_count": null,
      "metadata": {
        "colab": {
          "base_uri": "https://localhost:8080/"
        },
        "id": "1B2uHVsonewI",
        "outputId": "f9e8d813-fd68-4f68-9dad-fa22efd7c78f"
      },
      "outputs": [
        {
          "output_type": "stream",
          "name": "stdout",
          "text": [
            "Downloading https://github.com/ultralytics/assets/releases/download/v8.3.0/yolo11l.pt to 'yolo11l.pt'...\n"
          ]
        },
        {
          "output_type": "stream",
          "name": "stderr",
          "text": [
            "100%|██████████| 49.0M/49.0M [00:00<00:00, 276MB/s]\n"
          ]
        }
      ],
      "source": [
        "model = YOLO(\"yolo11l.pt\")\n",
        "\n",
        "video_path = \"./vietnam.mp4\"\n",
        "cap = cv2.VideoCapture(video_path)"
      ]
    },
    {
      "cell_type": "code",
      "execution_count": null,
      "metadata": {
        "id": "54m1Ec_4vfbu"
      },
      "outputs": [],
      "source": [
        "width = int(cap.get(cv2.CAP_PROP_FRAME_WIDTH))\n",
        "height = int(cap.get(cv2.CAP_PROP_FRAME_HEIGHT))\n",
        "fps = int(cap.get(cv2.CAP_PROP_FPS))\n",
        "\n",
        "video_name = video_path.split(\"/\")[-1]\n",
        "output_path = f\"./{video_name.split('.')[0]}_tracked.mp4\"\n",
        "fourcc = cv2.VideoWriter_fourcc(*\"mp4v\")\n",
        "out = cv2.VideoWriter(output_path,fourcc,fps,(width,height))"
      ]
    },
    {
      "cell_type": "code",
      "execution_count": null,
      "metadata": {
        "colab": {
          "base_uri": "https://localhost:8080/"
        },
        "id": "MGC9hiH9v3-9",
        "outputId": "3d527707-be48-4c80-e328-ac9029f522be"
      },
      "outputs": [
        {
          "output_type": "stream",
          "name": "stdout",
          "text": [
            "Video has been saved to ./vietnam_tracked.mp4\n"
          ]
        }
      ],
      "source": [
        "track_history = defaultdict(lambda:[])\n",
        "\n",
        "while cap.isOpened():\n",
        "\n",
        "  success,frame =cap.read()\n",
        "\n",
        "  if success:\n",
        "    results = model.track(frame,persist=True,show=False)\n",
        "\n",
        "    boxes = results[0].boxes.xywh.cpu()\n",
        "    try:\n",
        "      track_ids = results[0].boxes.id\n",
        "      if track_ids is not None:\n",
        "        track_ids = track_ids.int().cpu().tolist()\n",
        "      else:\n",
        "        track_ids = []\n",
        "    except AttributeError:\n",
        "\n",
        "      track_ids = []\n",
        "    annotated_frame = results[0].plot()\n",
        "\n",
        "    if track_ids:\n",
        "      for box,track_id in zip(boxes,track_ids):\n",
        "        x,y,w,h = box\n",
        "        track = track_history[track_id]\n",
        "        track.append((float(x),float(y)))\n",
        "\n",
        "        if len(track)> 120:\n",
        "          track.pop(0)\n",
        "        points = np.hstack(track).astype(np.int32).reshape((-1,1,2))\n",
        "        cv2.polylines(\n",
        "            annotated_frame,\n",
        "            [points],\n",
        "            isClosed=False,\n",
        "            color = (230,230,230),\n",
        "            thickness=4,\n",
        "        )\n",
        "      out.write(annotated_frame)\n",
        "  else:\n",
        "      break\n",
        "cap.release()\n",
        "out.release()\n",
        "print(f\"Video has been saved to {output_path}\")\n"
      ]
    },
    {
      "cell_type": "markdown",
      "metadata": {
        "id": "vRe9e0Kjx5Xc"
      },
      "source": [
        "## optimized version"
      ]
    },
    {
      "cell_type": "code",
      "execution_count": null,
      "metadata": {
        "id": "bvA_nxPOy69n",
        "colab": {
          "base_uri": "https://localhost:8080/"
        },
        "outputId": "bbcd924f-30b1-40e7-f402-5a78c6eaa0f2"
      },
      "outputs": [
        {
          "output_type": "stream",
          "name": "stdout",
          "text": [
            "Requirement already satisfied: loguru in /usr/local/lib/python3.11/dist-packages (0.7.3)\n"
          ]
        }
      ],
      "source": [
        "!pip install loguru"
      ]
    },
    {
      "cell_type": "code",
      "execution_count": null,
      "metadata": {
        "id": "bCcMGXhxyoW3"
      },
      "outputs": [],
      "source": [
        "import argparse\n",
        "from collections import defaultdict\n",
        "import cv2\n",
        "import numpy as np\n",
        "from tqdm import tqdm\n",
        "from ultralytics import YOLO\n",
        "from loguru import logger"
      ]
    },
    {
      "cell_type": "code",
      "execution_count": null,
      "metadata": {
        "id": "r5yAVzGny5-m"
      },
      "outputs": [],
      "source": [
        "def load_config():\n",
        "  return {\n",
        "      \"model_path\":\"yolo11x.pt\",\n",
        "      \"track_history_length\":120,\n",
        "      \"batch_size\":64,\n",
        "      \"line_thickness\":4,\n",
        "      \"track_color\":(230,230,230)\n",
        "  }\n",
        "def initialize_video(video_path):\n",
        "  cap = cv2.VideoCapture(video_path)\n",
        "  width = int(cap.get(cv2.CAP_PROP_FRAME_WIDTH))\n",
        "  height = int(cap.get(cv2.CAP_PROP_FRAME_HEIGHT))\n",
        "  fps = int(cap.get(cv2.CAP_PROP_FPS))\n",
        "\n",
        "  video_name = video_path.split(\"/\")[-1]\n",
        "  output_path = f\"./{video_name.split('.')[0]}_tracked.mp4\"\n",
        "  fourcc = cv2.VideoWriter_fourcc(*\"mp4v\")\n",
        "  out = cv2.VideoWriter(output_path,fourcc,fps,(width,height))\n",
        "  return cap,out,output_path"
      ]
    },
    {
      "cell_type": "code",
      "execution_count": null,
      "metadata": {
        "id": "0jWsf29Ezyke"
      },
      "outputs": [],
      "source": [
        "from threading import current_thread\n",
        "def update_track_history(\n",
        "    track_history,\n",
        "    last_seen,\n",
        "    track_ids,\n",
        "    frame_count,\n",
        "    batch_size,\n",
        "    frame_idx,\n",
        "    history_length\n",
        "):\n",
        "  current_tracks = set(track_ids)\n",
        "  for track_id in list(track_history.keys()):\n",
        "    if track_id in current_tracks:\n",
        "      last_seen[track_id] = frame_count - (batch_size-frame_idx-1)\n",
        "    elif frame_count-last_seen[track_id] > history_length:\n",
        "      del track_history[track_id]\n",
        "      del last_seen[track_id]\n"
      ]
    },
    {
      "cell_type": "code",
      "execution_count": null,
      "metadata": {
        "id": "TNhVqrQa0dA3"
      },
      "outputs": [],
      "source": [
        "def draw_tracks(frame,boxes,track_ids,track_history,config):\n",
        "  if not track_ids:\n",
        "    return frame\n",
        "  for box,track_id in zip(boxes,track_ids):\n",
        "    x,y,w,h = box\n",
        "    track = track_history[track_id]\n",
        "    track.append((float(x),float(y)))\n",
        "    if len(track) > config['track_history_length']:\n",
        "      track.pop(0)\n",
        "    points = np.hstack(track).astype(np.int32).reshape((-1,1,2))\n",
        "    cv2.polylines(\n",
        "        frame,\n",
        "        [points],\n",
        "        isClosed=False,\n",
        "        color=config['track_color'],\n",
        "        thickness=config['line_thickness']\n",
        "    )\n",
        "  return frame"
      ]
    },
    {
      "cell_type": "code",
      "execution_count": null,
      "metadata": {
        "id": "xgdBjlJT1FyW"
      },
      "outputs": [],
      "source": [
        "def process_batch(model,batch_frames,track_history,last_seen,frame_count,config):\n",
        "  results = model.track(batch_frames,persist=True,tracker=\"botsort.yaml\",show=False,verbose=False,iou=0.5)\n",
        "  processed_frames=[]\n",
        "  for frame_idx,result in enumerate(results):\n",
        "    boxes = result.boxes.xywh.cpu()\n",
        "    track_ids = (result.boxes.id.int().tolist() if result.boxes.id is not None else [])\n",
        "\n",
        "    update_track_history(track_history,last_seen,track_ids,frame_count,len(batch_frames),frame_idx,config['track_history_length'])\n",
        "\n",
        "    annotated_frame = result.plot(font_size=4,line_width=2)\n",
        "    annotated_frame = draw_tracks(\n",
        "        annotated_frame,boxes,track_ids,track_history,config\n",
        "    )\n",
        "    processed_frames.append(annotated_frame)\n",
        "  return processed_frames"
      ]
    },
    {
      "cell_type": "code",
      "execution_count": null,
      "metadata": {
        "id": "nP9KmYNL3A9g",
        "colab": {
          "base_uri": "https://localhost:8080/"
        },
        "outputId": "a7e545e9-30db-4907-9657-116f86393db3"
      },
      "outputs": [
        {
          "output_type": "stream",
          "name": "stdout",
          "text": [
            "Downloading https://github.com/ultralytics/assets/releases/download/v8.3.0/yolo11x.pt to 'yolo11x.pt'...\n"
          ]
        },
        {
          "output_type": "stream",
          "name": "stderr",
          "text": [
            "100%|██████████| 109M/109M [00:00<00:00, 213MB/s]\n",
            "Processing frames: 100%|\u001b[32m█████████▉\u001b[0m| 777/780 [01:40<00:00, 15.37it/s]\u001b[32m2025-01-27 05:14:18.460\u001b[0m | \u001b[1mINFO    \u001b[0m | \u001b[36m__main__\u001b[0m:\u001b[36mmain\u001b[0m:\u001b[36m37\u001b[0m - \u001b[1m./vietnam_tracked.mp4\u001b[0m\n",
            "Processing frames: 100%|\u001b[32m██████████\u001b[0m| 780/780 [01:40<00:00,  7.76it/s]\n"
          ]
        }
      ],
      "source": [
        "def main(video_path):\n",
        "\n",
        "  CONFIG = load_config()\n",
        "  model = YOLO(CONFIG.get(\"model_path\",\"yolo11x.pt\"))\n",
        "  cap,out,output_path = initialize_video(video_path)\n",
        "  track_history = defaultdict(lambda:[])\n",
        "\n",
        "  last_seen = defaultdict(int)\n",
        "  total_frames = int(cap.get(cv2.CAP_PROP_FRAME_COUNT))\n",
        "\n",
        "  with tqdm(total=total_frames,desc=\"Processing frames\",colour=\"green\") as pbar:\n",
        "    frame_count = 0\n",
        "    batch_frames = []\n",
        "\n",
        "    while cap.isOpened():\n",
        "      success,frame=cap.read()\n",
        "      if not success:\n",
        "        break\n",
        "      batch_frames.append(frame)\n",
        "      frame_count += 1\n",
        "\n",
        "      if len(batch_frames) == CONFIG['batch_size'] or frame_count == total_frames:\n",
        "        try:\n",
        "          processed_frames = process_batch(model,batch_frames,track_history,last_seen,frame_count,CONFIG)\n",
        "          for frame in processed_frames:\n",
        "            out.write(frame)\n",
        "            pbar.update(1)\n",
        "          batch_frames = []\n",
        "        except Exception as e:\n",
        "          logger.error(f\"Error when handling frames {frame_count-len(batch_frames)+1} to {frame_count}: {str(e)}\")\n",
        "          batch_frames = []\n",
        "          continue\n",
        "    try:\n",
        "      cap.release()\n",
        "      out.release()\n",
        "      cv2.destroyAllWindows()\n",
        "      logger.info(f\"{output_path}\")\n",
        "    except Exception as e:\n",
        "      logger.error(f\"{str(e)}\")\n",
        "main(\"./vietnam.mp4\")\n",
        "# if __name__ == \"__main__\":\n",
        "#   parser = argparse.ArgumentParser()\n",
        "#   parser.add_argument(\"--video-path\",type=str,default=\"samples/vietnam-2.mp4\")\n",
        "#   args = parser.parse_args()\n",
        "#   main(args.video_path)"
      ]
    },
    {
      "cell_type": "code",
      "execution_count": null,
      "metadata": {
        "id": "kHrbAs5z3pl_",
        "colab": {
          "base_uri": "https://localhost:8080/"
        },
        "outputId": "367d2278-8d39-4fa4-8687-0e1fbe926143"
      },
      "outputs": [
        {
          "output_type": "stream",
          "name": "stdout",
          "text": [
            "python3: can't open file '/content/main.py': [Errno 2] No such file or directory\n"
          ]
        }
      ],
      "source": [
        "!python main.py --video-path \"samples/vietnam-2.mp4\""
      ]
    },
    {
      "cell_type": "markdown",
      "metadata": {
        "id": "7wxV2wKx4-H8"
      },
      "source": [
        "# Bài tập 2"
      ]
    },
    {
      "cell_type": "code",
      "source": [
        "!gdown --id 1a4vuMZJOC8MGpy_tcRDsmt8-yPtAIW9q"
      ],
      "metadata": {
        "id": "6hvCUljoqRRk"
      },
      "execution_count": null,
      "outputs": []
    },
    {
      "cell_type": "code",
      "source": [
        "from ultralytics import solutions\n",
        "import cv2"
      ],
      "metadata": {
        "id": "pd-j93nYpuy_"
      },
      "execution_count": null,
      "outputs": []
    },
    {
      "cell_type": "code",
      "source": [
        "cap = cv2.VideoCapture(\"./highway.mp4\")\n",
        "assert cap.isOpened(), \"Error reading video file\"\n",
        "w,h,fps = (\n",
        "    int(cap.get(x))\n",
        "    for x in (cv2.CAP_PROP_FRAME_WIDTH,cv2.CAP_PROP_FRAME_HEIGHT,cv2.CAP_PROP_FPS)\n",
        ")\n"
      ],
      "metadata": {
        "id": "z9w20dfGqOm0"
      },
      "execution_count": null,
      "outputs": []
    },
    {
      "cell_type": "code",
      "source": [
        "region_points = [\n",
        "    (430,700),\n",
        "    (1600,700),\n",
        "    (1600,1080),\n",
        "    (430,1080)\n",
        "]"
      ],
      "metadata": {
        "id": "R4nX64Vmq0gW"
      },
      "execution_count": null,
      "outputs": []
    },
    {
      "cell_type": "code",
      "source": [
        "video_writer = cv2.VideoWriter(\n",
        "    \"./highway_counted.mp4\", cv2.VideoWriter_fourcc(*\"mp4v\"),fps,(w,h)\n",
        ")"
      ],
      "metadata": {
        "id": "yU8_ULPsrBVb"
      },
      "execution_count": null,
      "outputs": []
    },
    {
      "cell_type": "code",
      "source": [
        "counter = solutions.ObjectCounter(\n",
        "    show = False,\n",
        "    region = region_points,\n",
        "    model=\"yolo11x.pt\"\n",
        ")"
      ],
      "metadata": {
        "id": "p3ZCq-rkrJud"
      },
      "execution_count": null,
      "outputs": []
    },
    {
      "cell_type": "code",
      "source": [
        "while cap.isOpened():\n",
        "  success,in0 = cap.read()\n",
        "  if not success:\n",
        "    print(\"Video frame is empty or video processing has been successfully completed\")\n",
        "    break\n",
        "  in0 = counter.count(in0)\n",
        "  video_writer.write(in0)\n",
        "cap.release()\n",
        "video_writer.release()\n",
        "cv2.destroyAllWindows()"
      ],
      "metadata": {
        "id": "uTDFrYcArcwE"
      },
      "execution_count": null,
      "outputs": []
    },
    {
      "cell_type": "markdown",
      "source": [
        "# Bài tập 3"
      ],
      "metadata": {
        "id": "1Y9V8-0wry44"
      }
    },
    {
      "cell_type": "code",
      "source": [
        "!gdown --id 11qqiZsW6nqB_VHG42mwCdgA_ASrSu3nr"
      ],
      "metadata": {
        "colab": {
          "base_uri": "https://localhost:8080/"
        },
        "id": "giHXvoy0JrC3",
        "outputId": "d5abf0b8-a379-4104-bdeb-0e62997fb5f1"
      },
      "execution_count": null,
      "outputs": [
        {
          "output_type": "stream",
          "name": "stdout",
          "text": [
            "/usr/local/lib/python3.11/dist-packages/gdown/__main__.py:140: FutureWarning: Option `--id` was deprecated in version 4.3.1 and will be removed in 5.0. You don't need to pass it anymore to use a file ID.\n",
            "  warnings.warn(\n",
            "Downloading...\n",
            "From: https://drive.google.com/uc?id=11qqiZsW6nqB_VHG42mwCdgA_ASrSu3nr\n",
            "To: /content/bus.jpg\n",
            "100% 137k/137k [00:00<00:00, 107MB/s]\n"
          ]
        }
      ]
    },
    {
      "cell_type": "code",
      "source": [
        "!pip install ultralytics"
      ],
      "metadata": {
        "colab": {
          "base_uri": "https://localhost:8080/"
        },
        "id": "6CdnRWzWIjeg",
        "outputId": "85dfccc0-2234-4bab-d357-b7a9168ef42d"
      },
      "execution_count": null,
      "outputs": [
        {
          "output_type": "stream",
          "name": "stdout",
          "text": [
            "Requirement already satisfied: ultralytics in /usr/local/lib/python3.11/dist-packages (8.3.68)\n",
            "Requirement already satisfied: numpy>=1.23.0 in /usr/local/lib/python3.11/dist-packages (from ultralytics) (1.26.4)\n",
            "Requirement already satisfied: matplotlib>=3.3.0 in /usr/local/lib/python3.11/dist-packages (from ultralytics) (3.10.0)\n",
            "Requirement already satisfied: opencv-python>=4.6.0 in /usr/local/lib/python3.11/dist-packages (from ultralytics) (4.10.0.84)\n",
            "Requirement already satisfied: pillow>=7.1.2 in /usr/local/lib/python3.11/dist-packages (from ultralytics) (11.1.0)\n",
            "Requirement already satisfied: pyyaml>=5.3.1 in /usr/local/lib/python3.11/dist-packages (from ultralytics) (6.0.2)\n",
            "Requirement already satisfied: requests>=2.23.0 in /usr/local/lib/python3.11/dist-packages (from ultralytics) (2.32.3)\n",
            "Requirement already satisfied: scipy>=1.4.1 in /usr/local/lib/python3.11/dist-packages (from ultralytics) (1.13.1)\n",
            "Requirement already satisfied: torch>=1.8.0 in /usr/local/lib/python3.11/dist-packages (from ultralytics) (2.5.1+cu121)\n",
            "Requirement already satisfied: torchvision>=0.9.0 in /usr/local/lib/python3.11/dist-packages (from ultralytics) (0.20.1+cu121)\n",
            "Requirement already satisfied: tqdm>=4.64.0 in /usr/local/lib/python3.11/dist-packages (from ultralytics) (4.67.1)\n",
            "Requirement already satisfied: psutil in /usr/local/lib/python3.11/dist-packages (from ultralytics) (5.9.5)\n",
            "Requirement already satisfied: py-cpuinfo in /usr/local/lib/python3.11/dist-packages (from ultralytics) (9.0.0)\n",
            "Requirement already satisfied: pandas>=1.1.4 in /usr/local/lib/python3.11/dist-packages (from ultralytics) (2.2.2)\n",
            "Requirement already satisfied: seaborn>=0.11.0 in /usr/local/lib/python3.11/dist-packages (from ultralytics) (0.13.2)\n",
            "Requirement already satisfied: ultralytics-thop>=2.0.0 in /usr/local/lib/python3.11/dist-packages (from ultralytics) (2.0.14)\n",
            "Requirement already satisfied: contourpy>=1.0.1 in /usr/local/lib/python3.11/dist-packages (from matplotlib>=3.3.0->ultralytics) (1.3.1)\n",
            "Requirement already satisfied: cycler>=0.10 in /usr/local/lib/python3.11/dist-packages (from matplotlib>=3.3.0->ultralytics) (0.12.1)\n",
            "Requirement already satisfied: fonttools>=4.22.0 in /usr/local/lib/python3.11/dist-packages (from matplotlib>=3.3.0->ultralytics) (4.55.4)\n",
            "Requirement already satisfied: kiwisolver>=1.3.1 in /usr/local/lib/python3.11/dist-packages (from matplotlib>=3.3.0->ultralytics) (1.4.8)\n",
            "Requirement already satisfied: packaging>=20.0 in /usr/local/lib/python3.11/dist-packages (from matplotlib>=3.3.0->ultralytics) (24.2)\n",
            "Requirement already satisfied: pyparsing>=2.3.1 in /usr/local/lib/python3.11/dist-packages (from matplotlib>=3.3.0->ultralytics) (3.2.1)\n",
            "Requirement already satisfied: python-dateutil>=2.7 in /usr/local/lib/python3.11/dist-packages (from matplotlib>=3.3.0->ultralytics) (2.8.2)\n",
            "Requirement already satisfied: pytz>=2020.1 in /usr/local/lib/python3.11/dist-packages (from pandas>=1.1.4->ultralytics) (2024.2)\n",
            "Requirement already satisfied: tzdata>=2022.7 in /usr/local/lib/python3.11/dist-packages (from pandas>=1.1.4->ultralytics) (2025.1)\n",
            "Requirement already satisfied: charset-normalizer<4,>=2 in /usr/local/lib/python3.11/dist-packages (from requests>=2.23.0->ultralytics) (3.4.1)\n",
            "Requirement already satisfied: idna<4,>=2.5 in /usr/local/lib/python3.11/dist-packages (from requests>=2.23.0->ultralytics) (3.10)\n",
            "Requirement already satisfied: urllib3<3,>=1.21.1 in /usr/local/lib/python3.11/dist-packages (from requests>=2.23.0->ultralytics) (2.3.0)\n",
            "Requirement already satisfied: certifi>=2017.4.17 in /usr/local/lib/python3.11/dist-packages (from requests>=2.23.0->ultralytics) (2024.12.14)\n",
            "Requirement already satisfied: filelock in /usr/local/lib/python3.11/dist-packages (from torch>=1.8.0->ultralytics) (3.17.0)\n",
            "Requirement already satisfied: typing-extensions>=4.8.0 in /usr/local/lib/python3.11/dist-packages (from torch>=1.8.0->ultralytics) (4.12.2)\n",
            "Requirement already satisfied: networkx in /usr/local/lib/python3.11/dist-packages (from torch>=1.8.0->ultralytics) (3.4.2)\n",
            "Requirement already satisfied: jinja2 in /usr/local/lib/python3.11/dist-packages (from torch>=1.8.0->ultralytics) (3.1.5)\n",
            "Requirement already satisfied: fsspec in /usr/local/lib/python3.11/dist-packages (from torch>=1.8.0->ultralytics) (2024.10.0)\n",
            "Requirement already satisfied: nvidia-cuda-nvrtc-cu12==12.1.105 in /usr/local/lib/python3.11/dist-packages (from torch>=1.8.0->ultralytics) (12.1.105)\n",
            "Requirement already satisfied: nvidia-cuda-runtime-cu12==12.1.105 in /usr/local/lib/python3.11/dist-packages (from torch>=1.8.0->ultralytics) (12.1.105)\n",
            "Requirement already satisfied: nvidia-cuda-cupti-cu12==12.1.105 in /usr/local/lib/python3.11/dist-packages (from torch>=1.8.0->ultralytics) (12.1.105)\n",
            "Requirement already satisfied: nvidia-cudnn-cu12==9.1.0.70 in /usr/local/lib/python3.11/dist-packages (from torch>=1.8.0->ultralytics) (9.1.0.70)\n",
            "Requirement already satisfied: nvidia-cublas-cu12==12.1.3.1 in /usr/local/lib/python3.11/dist-packages (from torch>=1.8.0->ultralytics) (12.1.3.1)\n",
            "Requirement already satisfied: nvidia-cufft-cu12==11.0.2.54 in /usr/local/lib/python3.11/dist-packages (from torch>=1.8.0->ultralytics) (11.0.2.54)\n",
            "Requirement already satisfied: nvidia-curand-cu12==10.3.2.106 in /usr/local/lib/python3.11/dist-packages (from torch>=1.8.0->ultralytics) (10.3.2.106)\n",
            "Requirement already satisfied: nvidia-cusolver-cu12==11.4.5.107 in /usr/local/lib/python3.11/dist-packages (from torch>=1.8.0->ultralytics) (11.4.5.107)\n",
            "Requirement already satisfied: nvidia-cusparse-cu12==12.1.0.106 in /usr/local/lib/python3.11/dist-packages (from torch>=1.8.0->ultralytics) (12.1.0.106)\n",
            "Requirement already satisfied: nvidia-nccl-cu12==2.21.5 in /usr/local/lib/python3.11/dist-packages (from torch>=1.8.0->ultralytics) (2.21.5)\n",
            "Requirement already satisfied: nvidia-nvtx-cu12==12.1.105 in /usr/local/lib/python3.11/dist-packages (from torch>=1.8.0->ultralytics) (12.1.105)\n",
            "Requirement already satisfied: triton==3.1.0 in /usr/local/lib/python3.11/dist-packages (from torch>=1.8.0->ultralytics) (3.1.0)\n",
            "Requirement already satisfied: sympy==1.13.1 in /usr/local/lib/python3.11/dist-packages (from torch>=1.8.0->ultralytics) (1.13.1)\n",
            "Requirement already satisfied: nvidia-nvjitlink-cu12 in /usr/local/lib/python3.11/dist-packages (from nvidia-cusolver-cu12==11.4.5.107->torch>=1.8.0->ultralytics) (12.6.85)\n",
            "Requirement already satisfied: mpmath<1.4,>=1.1.0 in /usr/local/lib/python3.11/dist-packages (from sympy==1.13.1->torch>=1.8.0->ultralytics) (1.3.0)\n",
            "Requirement already satisfied: six>=1.5 in /usr/local/lib/python3.11/dist-packages (from python-dateutil>=2.7->matplotlib>=3.3.0->ultralytics) (1.17.0)\n",
            "Requirement already satisfied: MarkupSafe>=2.0 in /usr/local/lib/python3.11/dist-packages (from jinja2->torch>=1.8.0->ultralytics) (3.0.2)\n"
          ]
        }
      ]
    },
    {
      "cell_type": "code",
      "source": [
        "!pip install loguru"
      ],
      "metadata": {
        "colab": {
          "base_uri": "https://localhost:8080/"
        },
        "id": "-xr0ZfDxJJ-o",
        "outputId": "20d3ddbe-99aa-4da3-9cc9-471669ba8f38"
      },
      "execution_count": null,
      "outputs": [
        {
          "output_type": "stream",
          "name": "stdout",
          "text": [
            "Collecting loguru\n",
            "  Downloading loguru-0.7.3-py3-none-any.whl.metadata (22 kB)\n",
            "Downloading loguru-0.7.3-py3-none-any.whl (61 kB)\n",
            "\u001b[?25l   \u001b[90m━━━━━━━━━━━━━━━━━━━━━━━━━━━━━━━━━━━━━━━━\u001b[0m \u001b[32m0.0/61.6 kB\u001b[0m \u001b[31m?\u001b[0m eta \u001b[36m-:--:--\u001b[0m\r\u001b[2K   \u001b[90m━━━━━━━━━━━━━━━━━━━━━━━━━━━━━━━━━━━━━━━━\u001b[0m \u001b[32m61.6/61.6 kB\u001b[0m \u001b[31m6.4 MB/s\u001b[0m eta \u001b[36m0:00:00\u001b[0m\n",
            "\u001b[?25hInstalling collected packages: loguru\n",
            "Successfully installed loguru-0.7.3\n"
          ]
        }
      ]
    },
    {
      "cell_type": "code",
      "source": [
        "from ultralytics import YOLOWorld\n",
        "from ultralytics.engine.results import Boxes\n",
        "import sys\n",
        "import uuid\n",
        "from pathlib import Path\n",
        "import cv2\n",
        "from loguru import logger\n",
        "\n"
      ],
      "metadata": {
        "id": "oX3HbtLsr3oe"
      },
      "execution_count": null,
      "outputs": []
    },
    {
      "cell_type": "code",
      "source": [
        "def save_detection_results(results):\n",
        "\n",
        "  saved_paths = []\n",
        "\n",
        "  for i,result in enumerate(results):\n",
        "\n",
        "    if len(result.boxes) > 0:\n",
        "      annotated_image = result.plot()\n",
        "\n",
        "      output_path = f\"./img_{uuid.uuid4()}.jpg\"\n",
        "\n",
        "      cv2.imwrite(output_path,annotated_image)\n",
        "\n",
        "      saved_path = Path(output_path).resolve()\n",
        "      print(f\"Image saved to {saved_path}\")\n",
        "      saved_paths.append(str(saved_path))\n",
        "  return saved_paths"
      ],
      "metadata": {
        "id": "CvUklCzXtVBl"
      },
      "execution_count": null,
      "outputs": []
    },
    {
      "cell_type": "code",
      "source": [
        "model = YOLOWorld(\"yolov8s-world.pt\")\n",
        "model.set_classes(['bus'])\n",
        "results: Boxes = model.predict(\"bus.jpg\")"
      ],
      "metadata": {
        "colab": {
          "base_uri": "https://localhost:8080/"
        },
        "id": "0mI_vuG-sG4W",
        "outputId": "430b26b1-82da-432e-fbf9-51927c4becb9"
      },
      "execution_count": null,
      "outputs": [
        {
          "output_type": "stream",
          "name": "stdout",
          "text": [
            "\n",
            "image 1/1 /content/bus.jpg: 640x480 1 bus, 21.3ms\n",
            "Speed: 8.8ms preprocess, 21.3ms inference, 1.9ms postprocess per image at shape (1, 3, 640, 480)\n"
          ]
        }
      ]
    },
    {
      "cell_type": "code",
      "source": [
        "save_detection_results(results)"
      ],
      "metadata": {
        "id": "JkgbwznJ3yXo",
        "colab": {
          "base_uri": "https://localhost:8080/"
        },
        "outputId": "d989af04-c082-4ce0-cf00-ef40a5131735"
      },
      "execution_count": null,
      "outputs": [
        {
          "output_type": "stream",
          "name": "stdout",
          "text": [
            "Image saved to /content/img_82f58d30-974b-4b94-84b5-322803e78eb5.jpg\n"
          ]
        },
        {
          "output_type": "execute_result",
          "data": {
            "text/plain": [
              "['/content/img_82f58d30-974b-4b94-84b5-322803e78eb5.jpg']"
            ]
          },
          "metadata": {},
          "execution_count": 16
        }
      ]
    }
  ],
  "metadata": {
    "colab": {
      "provenance": [],
      "gpuType": "T4"
    },
    "kernelspec": {
      "display_name": "Python 3",
      "name": "python3"
    },
    "language_info": {
      "name": "python"
    },
    "accelerator": "GPU"
  },
  "nbformat": 4,
  "nbformat_minor": 0
}