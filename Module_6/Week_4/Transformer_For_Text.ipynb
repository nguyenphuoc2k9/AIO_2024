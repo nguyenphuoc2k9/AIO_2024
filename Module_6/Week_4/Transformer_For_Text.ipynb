{
  "cells": [
    {
      "cell_type": "markdown",
      "metadata": {
        "id": "3KXOI_6AQiRo"
      },
      "source": [
        "\n",
        "#**Transformer Applications**"
      ]
    },
    {
      "cell_type": "markdown",
      "metadata": {
        "id": "4Hvpv9svQnPH"
      },
      "source": [
        "#**Transformer**"
      ]
    },
    {
      "cell_type": "code",
      "execution_count": 1,
      "metadata": {
        "id": "eJceC7Uz7dav",
        "colab": {
          "base_uri": "https://localhost:8080/"
        },
        "outputId": "4267a00a-c983-44ee-f3e2-861164dcbe6f"
      },
      "outputs": [
        {
          "output_type": "stream",
          "name": "stdout",
          "text": [
            "Requirement already satisfied: torchtext==0.17.2 in /usr/local/lib/python3.10/dist-packages (0.17.2)\n",
            "Requirement already satisfied: tqdm in /usr/local/lib/python3.10/dist-packages (from torchtext==0.17.2) (4.67.1)\n",
            "Requirement already satisfied: requests in /usr/local/lib/python3.10/dist-packages (from torchtext==0.17.2) (2.32.3)\n",
            "Collecting torch==2.2.2 (from torchtext==0.17.2)\n",
            "  Using cached torch-2.2.2-cp310-cp310-manylinux1_x86_64.whl.metadata (26 kB)\n",
            "Requirement already satisfied: numpy in /usr/local/lib/python3.10/dist-packages (from torchtext==0.17.2) (1.26.4)\n",
            "Requirement already satisfied: filelock in /usr/local/lib/python3.10/dist-packages (from torch==2.2.2->torchtext==0.17.2) (3.16.1)\n",
            "Requirement already satisfied: typing-extensions>=4.8.0 in /usr/local/lib/python3.10/dist-packages (from torch==2.2.2->torchtext==0.17.2) (4.12.2)\n",
            "Requirement already satisfied: sympy in /usr/local/lib/python3.10/dist-packages (from torch==2.2.2->torchtext==0.17.2) (1.13.1)\n",
            "Requirement already satisfied: networkx in /usr/local/lib/python3.10/dist-packages (from torch==2.2.2->torchtext==0.17.2) (3.4.2)\n",
            "Requirement already satisfied: jinja2 in /usr/local/lib/python3.10/dist-packages (from torch==2.2.2->torchtext==0.17.2) (3.1.4)\n",
            "Requirement already satisfied: fsspec in /usr/local/lib/python3.10/dist-packages (from torch==2.2.2->torchtext==0.17.2) (2024.9.0)\n",
            "Collecting nvidia-cuda-nvrtc-cu12==12.1.105 (from torch==2.2.2->torchtext==0.17.2)\n",
            "  Using cached nvidia_cuda_nvrtc_cu12-12.1.105-py3-none-manylinux1_x86_64.whl.metadata (1.5 kB)\n",
            "Collecting nvidia-cuda-runtime-cu12==12.1.105 (from torch==2.2.2->torchtext==0.17.2)\n",
            "  Using cached nvidia_cuda_runtime_cu12-12.1.105-py3-none-manylinux1_x86_64.whl.metadata (1.5 kB)\n",
            "Collecting nvidia-cuda-cupti-cu12==12.1.105 (from torch==2.2.2->torchtext==0.17.2)\n",
            "  Using cached nvidia_cuda_cupti_cu12-12.1.105-py3-none-manylinux1_x86_64.whl.metadata (1.6 kB)\n",
            "Collecting nvidia-cudnn-cu12==8.9.2.26 (from torch==2.2.2->torchtext==0.17.2)\n",
            "  Using cached nvidia_cudnn_cu12-8.9.2.26-py3-none-manylinux1_x86_64.whl.metadata (1.6 kB)\n",
            "Collecting nvidia-cublas-cu12==12.1.3.1 (from torch==2.2.2->torchtext==0.17.2)\n",
            "  Using cached nvidia_cublas_cu12-12.1.3.1-py3-none-manylinux1_x86_64.whl.metadata (1.5 kB)\n",
            "Collecting nvidia-cufft-cu12==11.0.2.54 (from torch==2.2.2->torchtext==0.17.2)\n",
            "  Using cached nvidia_cufft_cu12-11.0.2.54-py3-none-manylinux1_x86_64.whl.metadata (1.5 kB)\n",
            "Collecting nvidia-curand-cu12==10.3.2.106 (from torch==2.2.2->torchtext==0.17.2)\n",
            "  Using cached nvidia_curand_cu12-10.3.2.106-py3-none-manylinux1_x86_64.whl.metadata (1.5 kB)\n",
            "Collecting nvidia-cusolver-cu12==11.4.5.107 (from torch==2.2.2->torchtext==0.17.2)\n",
            "  Using cached nvidia_cusolver_cu12-11.4.5.107-py3-none-manylinux1_x86_64.whl.metadata (1.6 kB)\n",
            "Collecting nvidia-cusparse-cu12==12.1.0.106 (from torch==2.2.2->torchtext==0.17.2)\n",
            "  Using cached nvidia_cusparse_cu12-12.1.0.106-py3-none-manylinux1_x86_64.whl.metadata (1.6 kB)\n",
            "Collecting nvidia-nccl-cu12==2.19.3 (from torch==2.2.2->torchtext==0.17.2)\n",
            "  Using cached nvidia_nccl_cu12-2.19.3-py3-none-manylinux1_x86_64.whl.metadata (1.8 kB)\n",
            "Collecting nvidia-nvtx-cu12==12.1.105 (from torch==2.2.2->torchtext==0.17.2)\n",
            "  Using cached nvidia_nvtx_cu12-12.1.105-py3-none-manylinux1_x86_64.whl.metadata (1.7 kB)\n",
            "Collecting triton==2.2.0 (from torch==2.2.2->torchtext==0.17.2)\n",
            "  Using cached triton-2.2.0-cp310-cp310-manylinux_2_17_x86_64.manylinux2014_x86_64.whl.metadata (1.4 kB)\n",
            "Requirement already satisfied: nvidia-nvjitlink-cu12 in /usr/local/lib/python3.10/dist-packages (from nvidia-cusolver-cu12==11.4.5.107->torch==2.2.2->torchtext==0.17.2) (12.4.127)\n",
            "Requirement already satisfied: charset-normalizer<4,>=2 in /usr/local/lib/python3.10/dist-packages (from requests->torchtext==0.17.2) (3.4.0)\n",
            "Requirement already satisfied: idna<4,>=2.5 in /usr/local/lib/python3.10/dist-packages (from requests->torchtext==0.17.2) (3.10)\n",
            "Requirement already satisfied: urllib3<3,>=1.21.1 in /usr/local/lib/python3.10/dist-packages (from requests->torchtext==0.17.2) (2.2.3)\n",
            "Requirement already satisfied: certifi>=2017.4.17 in /usr/local/lib/python3.10/dist-packages (from requests->torchtext==0.17.2) (2024.12.14)\n",
            "Requirement already satisfied: MarkupSafe>=2.0 in /usr/local/lib/python3.10/dist-packages (from jinja2->torch==2.2.2->torchtext==0.17.2) (3.0.2)\n",
            "Requirement already satisfied: mpmath<1.4,>=1.1.0 in /usr/local/lib/python3.10/dist-packages (from sympy->torch==2.2.2->torchtext==0.17.2) (1.3.0)\n",
            "Using cached torch-2.2.2-cp310-cp310-manylinux1_x86_64.whl (755.5 MB)\n",
            "Using cached nvidia_cublas_cu12-12.1.3.1-py3-none-manylinux1_x86_64.whl (410.6 MB)\n",
            "Using cached nvidia_cuda_cupti_cu12-12.1.105-py3-none-manylinux1_x86_64.whl (14.1 MB)\n",
            "Using cached nvidia_cuda_nvrtc_cu12-12.1.105-py3-none-manylinux1_x86_64.whl (23.7 MB)\n",
            "Using cached nvidia_cuda_runtime_cu12-12.1.105-py3-none-manylinux1_x86_64.whl (823 kB)\n",
            "Using cached nvidia_cudnn_cu12-8.9.2.26-py3-none-manylinux1_x86_64.whl (731.7 MB)\n",
            "Using cached nvidia_cufft_cu12-11.0.2.54-py3-none-manylinux1_x86_64.whl (121.6 MB)\n",
            "Using cached nvidia_curand_cu12-10.3.2.106-py3-none-manylinux1_x86_64.whl (56.5 MB)\n",
            "Using cached nvidia_cusolver_cu12-11.4.5.107-py3-none-manylinux1_x86_64.whl (124.2 MB)\n",
            "Using cached nvidia_cusparse_cu12-12.1.0.106-py3-none-manylinux1_x86_64.whl (196.0 MB)\n",
            "Using cached nvidia_nccl_cu12-2.19.3-py3-none-manylinux1_x86_64.whl (166.0 MB)\n",
            "Using cached nvidia_nvtx_cu12-12.1.105-py3-none-manylinux1_x86_64.whl (99 kB)\n",
            "Using cached triton-2.2.0-cp310-cp310-manylinux_2_17_x86_64.manylinux2014_x86_64.whl (167.9 MB)\n",
            "Installing collected packages: triton, nvidia-nvtx-cu12, nvidia-nccl-cu12, nvidia-cusparse-cu12, nvidia-curand-cu12, nvidia-cufft-cu12, nvidia-cuda-runtime-cu12, nvidia-cuda-nvrtc-cu12, nvidia-cuda-cupti-cu12, nvidia-cublas-cu12, nvidia-cusolver-cu12, nvidia-cudnn-cu12, torch\n",
            "  Attempting uninstall: triton\n",
            "    Found existing installation: triton 3.1.0\n",
            "    Uninstalling triton-3.1.0:\n",
            "      Successfully uninstalled triton-3.1.0\n",
            "  Attempting uninstall: nvidia-nvtx-cu12\n",
            "    Found existing installation: nvidia-nvtx-cu12 12.4.127\n",
            "    Uninstalling nvidia-nvtx-cu12-12.4.127:\n",
            "      Successfully uninstalled nvidia-nvtx-cu12-12.4.127\n",
            "  Attempting uninstall: nvidia-nccl-cu12\n",
            "    Found existing installation: nvidia-nccl-cu12 2.21.5\n",
            "    Uninstalling nvidia-nccl-cu12-2.21.5:\n",
            "      Successfully uninstalled nvidia-nccl-cu12-2.21.5\n",
            "  Attempting uninstall: nvidia-cusparse-cu12\n",
            "    Found existing installation: nvidia-cusparse-cu12 12.3.1.170\n",
            "    Uninstalling nvidia-cusparse-cu12-12.3.1.170:\n",
            "      Successfully uninstalled nvidia-cusparse-cu12-12.3.1.170\n",
            "  Attempting uninstall: nvidia-curand-cu12\n",
            "    Found existing installation: nvidia-curand-cu12 10.3.5.147\n",
            "    Uninstalling nvidia-curand-cu12-10.3.5.147:\n",
            "      Successfully uninstalled nvidia-curand-cu12-10.3.5.147\n",
            "  Attempting uninstall: nvidia-cufft-cu12\n",
            "    Found existing installation: nvidia-cufft-cu12 11.2.1.3\n",
            "    Uninstalling nvidia-cufft-cu12-11.2.1.3:\n",
            "      Successfully uninstalled nvidia-cufft-cu12-11.2.1.3\n",
            "  Attempting uninstall: nvidia-cuda-runtime-cu12\n",
            "    Found existing installation: nvidia-cuda-runtime-cu12 12.4.127\n",
            "    Uninstalling nvidia-cuda-runtime-cu12-12.4.127:\n",
            "      Successfully uninstalled nvidia-cuda-runtime-cu12-12.4.127\n",
            "  Attempting uninstall: nvidia-cuda-nvrtc-cu12\n",
            "    Found existing installation: nvidia-cuda-nvrtc-cu12 12.4.127\n",
            "    Uninstalling nvidia-cuda-nvrtc-cu12-12.4.127:\n",
            "      Successfully uninstalled nvidia-cuda-nvrtc-cu12-12.4.127\n",
            "  Attempting uninstall: nvidia-cuda-cupti-cu12\n",
            "    Found existing installation: nvidia-cuda-cupti-cu12 12.4.127\n",
            "    Uninstalling nvidia-cuda-cupti-cu12-12.4.127:\n",
            "      Successfully uninstalled nvidia-cuda-cupti-cu12-12.4.127\n",
            "  Attempting uninstall: nvidia-cublas-cu12\n",
            "    Found existing installation: nvidia-cublas-cu12 12.4.5.8\n",
            "    Uninstalling nvidia-cublas-cu12-12.4.5.8:\n",
            "      Successfully uninstalled nvidia-cublas-cu12-12.4.5.8\n",
            "  Attempting uninstall: nvidia-cusolver-cu12\n",
            "    Found existing installation: nvidia-cusolver-cu12 11.6.1.9\n",
            "    Uninstalling nvidia-cusolver-cu12-11.6.1.9:\n",
            "      Successfully uninstalled nvidia-cusolver-cu12-11.6.1.9\n",
            "  Attempting uninstall: nvidia-cudnn-cu12\n",
            "    Found existing installation: nvidia-cudnn-cu12 9.1.0.70\n",
            "    Uninstalling nvidia-cudnn-cu12-9.1.0.70:\n",
            "      Successfully uninstalled nvidia-cudnn-cu12-9.1.0.70\n",
            "  Attempting uninstall: torch\n",
            "    Found existing installation: torch 2.5.1\n",
            "    Uninstalling torch-2.5.1:\n",
            "      Successfully uninstalled torch-2.5.1\n",
            "\u001b[31mERROR: pip's dependency resolver does not currently take into account all the packages that are installed. This behaviour is the source of the following dependency conflicts.\n",
            "torchaudio 2.5.1+cu121 requires torch==2.5.1, but you have torch 2.2.2 which is incompatible.\n",
            "torchvision 0.20.1+cu121 requires torch==2.5.1, but you have torch 2.2.2 which is incompatible.\u001b[0m\u001b[31m\n",
            "\u001b[0mSuccessfully installed nvidia-cublas-cu12-12.1.3.1 nvidia-cuda-cupti-cu12-12.1.105 nvidia-cuda-nvrtc-cu12-12.1.105 nvidia-cuda-runtime-cu12-12.1.105 nvidia-cudnn-cu12-8.9.2.26 nvidia-cufft-cu12-11.0.2.54 nvidia-curand-cu12-10.3.2.106 nvidia-cusolver-cu12-11.4.5.107 nvidia-cusparse-cu12-12.1.0.106 nvidia-nccl-cu12-2.19.3 nvidia-nvtx-cu12-12.1.105 torch-2.2.2 triton-2.2.0\n",
            "Requirement already satisfied: torchvision in /usr/local/lib/python3.10/dist-packages (0.20.1+cu121)\n",
            "Requirement already satisfied: numpy in /usr/local/lib/python3.10/dist-packages (from torchvision) (1.26.4)\n",
            "Collecting torch==2.5.1 (from torchvision)\n",
            "  Using cached torch-2.5.1-cp310-cp310-manylinux1_x86_64.whl.metadata (28 kB)\n",
            "Requirement already satisfied: pillow!=8.3.*,>=5.3.0 in /usr/local/lib/python3.10/dist-packages (from torchvision) (11.0.0)\n",
            "Requirement already satisfied: filelock in /usr/local/lib/python3.10/dist-packages (from torch==2.5.1->torchvision) (3.16.1)\n",
            "Requirement already satisfied: typing-extensions>=4.8.0 in /usr/local/lib/python3.10/dist-packages (from torch==2.5.1->torchvision) (4.12.2)\n",
            "Requirement already satisfied: networkx in /usr/local/lib/python3.10/dist-packages (from torch==2.5.1->torchvision) (3.4.2)\n",
            "Requirement already satisfied: jinja2 in /usr/local/lib/python3.10/dist-packages (from torch==2.5.1->torchvision) (3.1.4)\n",
            "Requirement already satisfied: fsspec in /usr/local/lib/python3.10/dist-packages (from torch==2.5.1->torchvision) (2024.9.0)\n",
            "Collecting nvidia-cuda-nvrtc-cu12==12.4.127 (from torch==2.5.1->torchvision)\n",
            "  Using cached nvidia_cuda_nvrtc_cu12-12.4.127-py3-none-manylinux2014_x86_64.whl.metadata (1.5 kB)\n",
            "Collecting nvidia-cuda-runtime-cu12==12.4.127 (from torch==2.5.1->torchvision)\n",
            "  Using cached nvidia_cuda_runtime_cu12-12.4.127-py3-none-manylinux2014_x86_64.whl.metadata (1.5 kB)\n",
            "Collecting nvidia-cuda-cupti-cu12==12.4.127 (from torch==2.5.1->torchvision)\n",
            "  Using cached nvidia_cuda_cupti_cu12-12.4.127-py3-none-manylinux2014_x86_64.whl.metadata (1.6 kB)\n",
            "Collecting nvidia-cudnn-cu12==9.1.0.70 (from torch==2.5.1->torchvision)\n",
            "  Using cached nvidia_cudnn_cu12-9.1.0.70-py3-none-manylinux2014_x86_64.whl.metadata (1.6 kB)\n",
            "Collecting nvidia-cublas-cu12==12.4.5.8 (from torch==2.5.1->torchvision)\n",
            "  Using cached nvidia_cublas_cu12-12.4.5.8-py3-none-manylinux2014_x86_64.whl.metadata (1.5 kB)\n",
            "Collecting nvidia-cufft-cu12==11.2.1.3 (from torch==2.5.1->torchvision)\n",
            "  Using cached nvidia_cufft_cu12-11.2.1.3-py3-none-manylinux2014_x86_64.whl.metadata (1.5 kB)\n",
            "Collecting nvidia-curand-cu12==10.3.5.147 (from torch==2.5.1->torchvision)\n",
            "  Using cached nvidia_curand_cu12-10.3.5.147-py3-none-manylinux2014_x86_64.whl.metadata (1.5 kB)\n",
            "Collecting nvidia-cusolver-cu12==11.6.1.9 (from torch==2.5.1->torchvision)\n",
            "  Using cached nvidia_cusolver_cu12-11.6.1.9-py3-none-manylinux2014_x86_64.whl.metadata (1.6 kB)\n",
            "Collecting nvidia-cusparse-cu12==12.3.1.170 (from torch==2.5.1->torchvision)\n",
            "  Using cached nvidia_cusparse_cu12-12.3.1.170-py3-none-manylinux2014_x86_64.whl.metadata (1.6 kB)\n",
            "Collecting nvidia-nccl-cu12==2.21.5 (from torch==2.5.1->torchvision)\n",
            "  Using cached nvidia_nccl_cu12-2.21.5-py3-none-manylinux2014_x86_64.whl.metadata (1.8 kB)\n",
            "Collecting nvidia-nvtx-cu12==12.4.127 (from torch==2.5.1->torchvision)\n",
            "  Using cached nvidia_nvtx_cu12-12.4.127-py3-none-manylinux2014_x86_64.whl.metadata (1.7 kB)\n",
            "Requirement already satisfied: nvidia-nvjitlink-cu12==12.4.127 in /usr/local/lib/python3.10/dist-packages (from torch==2.5.1->torchvision) (12.4.127)\n",
            "Collecting triton==3.1.0 (from torch==2.5.1->torchvision)\n",
            "  Using cached triton-3.1.0-cp310-cp310-manylinux_2_17_x86_64.manylinux2014_x86_64.whl.metadata (1.3 kB)\n",
            "Requirement already satisfied: sympy==1.13.1 in /usr/local/lib/python3.10/dist-packages (from torch==2.5.1->torchvision) (1.13.1)\n",
            "Requirement already satisfied: mpmath<1.4,>=1.1.0 in /usr/local/lib/python3.10/dist-packages (from sympy==1.13.1->torch==2.5.1->torchvision) (1.3.0)\n",
            "Requirement already satisfied: MarkupSafe>=2.0 in /usr/local/lib/python3.10/dist-packages (from jinja2->torch==2.5.1->torchvision) (3.0.2)\n",
            "Using cached torch-2.5.1-cp310-cp310-manylinux1_x86_64.whl (906.4 MB)\n",
            "Using cached nvidia_cublas_cu12-12.4.5.8-py3-none-manylinux2014_x86_64.whl (363.4 MB)\n",
            "Using cached nvidia_cuda_cupti_cu12-12.4.127-py3-none-manylinux2014_x86_64.whl (13.8 MB)\n",
            "Using cached nvidia_cuda_nvrtc_cu12-12.4.127-py3-none-manylinux2014_x86_64.whl (24.6 MB)\n",
            "Using cached nvidia_cuda_runtime_cu12-12.4.127-py3-none-manylinux2014_x86_64.whl (883 kB)\n",
            "Using cached nvidia_cudnn_cu12-9.1.0.70-py3-none-manylinux2014_x86_64.whl (664.8 MB)\n",
            "Using cached nvidia_cufft_cu12-11.2.1.3-py3-none-manylinux2014_x86_64.whl (211.5 MB)\n",
            "Using cached nvidia_curand_cu12-10.3.5.147-py3-none-manylinux2014_x86_64.whl (56.3 MB)\n",
            "Using cached nvidia_cusolver_cu12-11.6.1.9-py3-none-manylinux2014_x86_64.whl (127.9 MB)\n",
            "Using cached nvidia_cusparse_cu12-12.3.1.170-py3-none-manylinux2014_x86_64.whl (207.5 MB)\n",
            "Using cached nvidia_nccl_cu12-2.21.5-py3-none-manylinux2014_x86_64.whl (188.7 MB)\n",
            "Using cached nvidia_nvtx_cu12-12.4.127-py3-none-manylinux2014_x86_64.whl (99 kB)\n",
            "Using cached triton-3.1.0-cp310-cp310-manylinux_2_17_x86_64.manylinux2014_x86_64.whl (209.5 MB)\n",
            "Installing collected packages: triton, nvidia-nvtx-cu12, nvidia-nccl-cu12, nvidia-cusparse-cu12, nvidia-curand-cu12, nvidia-cufft-cu12, nvidia-cuda-runtime-cu12, nvidia-cuda-nvrtc-cu12, nvidia-cuda-cupti-cu12, nvidia-cublas-cu12, nvidia-cusolver-cu12, nvidia-cudnn-cu12, torch\n",
            "  Attempting uninstall: triton\n",
            "    Found existing installation: triton 2.2.0\n",
            "    Uninstalling triton-2.2.0:\n",
            "      Successfully uninstalled triton-2.2.0\n",
            "  Attempting uninstall: nvidia-nvtx-cu12\n",
            "    Found existing installation: nvidia-nvtx-cu12 12.1.105\n",
            "    Uninstalling nvidia-nvtx-cu12-12.1.105:\n",
            "      Successfully uninstalled nvidia-nvtx-cu12-12.1.105\n",
            "  Attempting uninstall: nvidia-nccl-cu12\n",
            "    Found existing installation: nvidia-nccl-cu12 2.19.3\n",
            "    Uninstalling nvidia-nccl-cu12-2.19.3:\n",
            "      Successfully uninstalled nvidia-nccl-cu12-2.19.3\n",
            "  Attempting uninstall: nvidia-cusparse-cu12\n",
            "    Found existing installation: nvidia-cusparse-cu12 12.1.0.106\n",
            "    Uninstalling nvidia-cusparse-cu12-12.1.0.106:\n",
            "      Successfully uninstalled nvidia-cusparse-cu12-12.1.0.106\n",
            "  Attempting uninstall: nvidia-curand-cu12\n",
            "    Found existing installation: nvidia-curand-cu12 10.3.2.106\n",
            "    Uninstalling nvidia-curand-cu12-10.3.2.106:\n",
            "      Successfully uninstalled nvidia-curand-cu12-10.3.2.106\n",
            "  Attempting uninstall: nvidia-cufft-cu12\n",
            "    Found existing installation: nvidia-cufft-cu12 11.0.2.54\n",
            "    Uninstalling nvidia-cufft-cu12-11.0.2.54:\n",
            "      Successfully uninstalled nvidia-cufft-cu12-11.0.2.54\n",
            "  Attempting uninstall: nvidia-cuda-runtime-cu12\n",
            "    Found existing installation: nvidia-cuda-runtime-cu12 12.1.105\n",
            "    Uninstalling nvidia-cuda-runtime-cu12-12.1.105:\n",
            "      Successfully uninstalled nvidia-cuda-runtime-cu12-12.1.105\n",
            "  Attempting uninstall: nvidia-cuda-nvrtc-cu12\n",
            "    Found existing installation: nvidia-cuda-nvrtc-cu12 12.1.105\n",
            "    Uninstalling nvidia-cuda-nvrtc-cu12-12.1.105:\n",
            "      Successfully uninstalled nvidia-cuda-nvrtc-cu12-12.1.105\n",
            "  Attempting uninstall: nvidia-cuda-cupti-cu12\n",
            "    Found existing installation: nvidia-cuda-cupti-cu12 12.1.105\n",
            "    Uninstalling nvidia-cuda-cupti-cu12-12.1.105:\n",
            "      Successfully uninstalled nvidia-cuda-cupti-cu12-12.1.105\n",
            "  Attempting uninstall: nvidia-cublas-cu12\n",
            "    Found existing installation: nvidia-cublas-cu12 12.1.3.1\n",
            "    Uninstalling nvidia-cublas-cu12-12.1.3.1:\n",
            "      Successfully uninstalled nvidia-cublas-cu12-12.1.3.1\n",
            "  Attempting uninstall: nvidia-cusolver-cu12\n",
            "    Found existing installation: nvidia-cusolver-cu12 11.4.5.107\n",
            "    Uninstalling nvidia-cusolver-cu12-11.4.5.107:\n",
            "      Successfully uninstalled nvidia-cusolver-cu12-11.4.5.107\n",
            "  Attempting uninstall: nvidia-cudnn-cu12\n",
            "    Found existing installation: nvidia-cudnn-cu12 8.9.2.26\n",
            "    Uninstalling nvidia-cudnn-cu12-8.9.2.26:\n",
            "      Successfully uninstalled nvidia-cudnn-cu12-8.9.2.26\n",
            "  Attempting uninstall: torch\n",
            "    Found existing installation: torch 2.2.2\n",
            "    Uninstalling torch-2.2.2:\n",
            "      Successfully uninstalled torch-2.2.2\n",
            "\u001b[31mERROR: pip's dependency resolver does not currently take into account all the packages that are installed. This behaviour is the source of the following dependency conflicts.\n",
            "torchtext 0.17.2 requires torch==2.2.2, but you have torch 2.5.1 which is incompatible.\u001b[0m\u001b[31m\n",
            "\u001b[0mSuccessfully installed nvidia-cublas-cu12-12.4.5.8 nvidia-cuda-cupti-cu12-12.4.127 nvidia-cuda-nvrtc-cu12-12.4.127 nvidia-cuda-runtime-cu12-12.4.127 nvidia-cudnn-cu12-9.1.0.70 nvidia-cufft-cu12-11.2.1.3 nvidia-curand-cu12-10.3.5.147 nvidia-cusolver-cu12-11.6.1.9 nvidia-cusparse-cu12-12.3.1.170 nvidia-nccl-cu12-2.21.5 nvidia-nvtx-cu12-12.4.127 torch-2.5.1 triton-3.1.0\n"
          ]
        }
      ],
      "source": [
        "!pip install torchtext==0.17.2 # cài torchtext sẽ sử dụng torch 2.2.0 các bạn có thể cái trước khi import torch\n",
        "!pip install torchvision"
      ]
    },
    {
      "cell_type": "code",
      "source": [
        "import torchtext\n",
        "import torch\n",
        "import torch.nn as nn\n",
        "from torch.nn import functional as F"
      ],
      "metadata": {
        "id": "wfMXyl2rR9Fi",
        "colab": {
          "base_uri": "https://localhost:8080/",
          "height": 339
        },
        "outputId": "2f424a1d-d1ef-4df8-a0b5-acef77033645"
      },
      "execution_count": 2,
      "outputs": [
        {
          "output_type": "error",
          "ename": "OSError",
          "evalue": "/usr/local/lib/python3.10/dist-packages/torchtext/lib/libtorchtext.so: undefined symbol: _ZN5torch3jit17parseSchemaOrNameERKSs",
          "traceback": [
            "\u001b[0;31m---------------------------------------------------------------------------\u001b[0m",
            "\u001b[0;31mOSError\u001b[0m                                   Traceback (most recent call last)",
            "\u001b[0;32m<ipython-input-2-991b729ef3e5>\u001b[0m in \u001b[0;36m<cell line: 1>\u001b[0;34m()\u001b[0m\n\u001b[0;32m----> 1\u001b[0;31m \u001b[0;32mimport\u001b[0m \u001b[0mtorchtext\u001b[0m\u001b[0;34m\u001b[0m\u001b[0;34m\u001b[0m\u001b[0m\n\u001b[0m\u001b[1;32m      2\u001b[0m \u001b[0;32mimport\u001b[0m \u001b[0mtorch\u001b[0m\u001b[0;34m\u001b[0m\u001b[0;34m\u001b[0m\u001b[0m\n\u001b[1;32m      3\u001b[0m \u001b[0;32mimport\u001b[0m \u001b[0mtorch\u001b[0m\u001b[0;34m.\u001b[0m\u001b[0mnn\u001b[0m \u001b[0;32mas\u001b[0m \u001b[0mnn\u001b[0m\u001b[0;34m\u001b[0m\u001b[0;34m\u001b[0m\u001b[0m\n\u001b[1;32m      4\u001b[0m \u001b[0;32mfrom\u001b[0m \u001b[0mtorch\u001b[0m\u001b[0;34m.\u001b[0m\u001b[0mnn\u001b[0m \u001b[0;32mimport\u001b[0m \u001b[0mfunctional\u001b[0m \u001b[0;32mas\u001b[0m \u001b[0mF\u001b[0m\u001b[0;34m\u001b[0m\u001b[0;34m\u001b[0m\u001b[0m\n",
            "\u001b[0;32m/usr/local/lib/python3.10/dist-packages/torchtext/__init__.py\u001b[0m in \u001b[0;36m<module>\u001b[0;34m\u001b[0m\n\u001b[1;32m      4\u001b[0m \u001b[0;34m\u001b[0m\u001b[0m\n\u001b[1;32m      5\u001b[0m \u001b[0;31m# the following import has to happen first in order to load the torchtext C++ library\u001b[0m\u001b[0;34m\u001b[0m\u001b[0;34m\u001b[0m\u001b[0m\n\u001b[0;32m----> 6\u001b[0;31m \u001b[0;32mfrom\u001b[0m \u001b[0mtorchtext\u001b[0m \u001b[0;32mimport\u001b[0m \u001b[0m_extension\u001b[0m  \u001b[0;31m# noqa: F401\u001b[0m\u001b[0;34m\u001b[0m\u001b[0;34m\u001b[0m\u001b[0m\n\u001b[0m\u001b[1;32m      7\u001b[0m \u001b[0;34m\u001b[0m\u001b[0m\n\u001b[1;32m      8\u001b[0m \u001b[0m_TEXT_BUCKET\u001b[0m \u001b[0;34m=\u001b[0m \u001b[0;34m\"https://download.pytorch.org/models/text/\"\u001b[0m\u001b[0;34m\u001b[0m\u001b[0;34m\u001b[0m\u001b[0m\n",
            "\u001b[0;32m/usr/local/lib/python3.10/dist-packages/torchtext/_extension.py\u001b[0m in \u001b[0;36m<module>\u001b[0;34m\u001b[0m\n\u001b[1;32m     62\u001b[0m \u001b[0;34m\u001b[0m\u001b[0m\n\u001b[1;32m     63\u001b[0m \u001b[0;34m\u001b[0m\u001b[0m\n\u001b[0;32m---> 64\u001b[0;31m \u001b[0m_init_extension\u001b[0m\u001b[0;34m(\u001b[0m\u001b[0;34m)\u001b[0m\u001b[0;34m\u001b[0m\u001b[0;34m\u001b[0m\u001b[0m\n\u001b[0m",
            "\u001b[0;32m/usr/local/lib/python3.10/dist-packages/torchtext/_extension.py\u001b[0m in \u001b[0;36m_init_extension\u001b[0;34m()\u001b[0m\n\u001b[1;32m     56\u001b[0m         \u001b[0;32mraise\u001b[0m \u001b[0mImportError\u001b[0m\u001b[0;34m(\u001b[0m\u001b[0;34m\"torchtext C++ Extension is not found.\"\u001b[0m\u001b[0;34m)\u001b[0m\u001b[0;34m\u001b[0m\u001b[0;34m\u001b[0m\u001b[0m\n\u001b[1;32m     57\u001b[0m \u001b[0;34m\u001b[0m\u001b[0m\n\u001b[0;32m---> 58\u001b[0;31m     \u001b[0m_load_lib\u001b[0m\u001b[0;34m(\u001b[0m\u001b[0;34m\"libtorchtext\"\u001b[0m\u001b[0;34m)\u001b[0m\u001b[0;34m\u001b[0m\u001b[0;34m\u001b[0m\u001b[0m\n\u001b[0m\u001b[1;32m     59\u001b[0m     \u001b[0;31m# This import is for initializing the methods registered via PyBind11\u001b[0m\u001b[0;34m\u001b[0m\u001b[0;34m\u001b[0m\u001b[0m\n\u001b[1;32m     60\u001b[0m     \u001b[0;31m# This has to happen after the base library is loaded\u001b[0m\u001b[0;34m\u001b[0m\u001b[0;34m\u001b[0m\u001b[0m\n",
            "\u001b[0;32m/usr/local/lib/python3.10/dist-packages/torchtext/_extension.py\u001b[0m in \u001b[0;36m_load_lib\u001b[0;34m(lib)\u001b[0m\n\u001b[1;32m     48\u001b[0m     \u001b[0;32mif\u001b[0m \u001b[0;32mnot\u001b[0m \u001b[0mpath\u001b[0m\u001b[0;34m.\u001b[0m\u001b[0mexists\u001b[0m\u001b[0;34m(\u001b[0m\u001b[0;34m)\u001b[0m\u001b[0;34m:\u001b[0m\u001b[0;34m\u001b[0m\u001b[0;34m\u001b[0m\u001b[0m\n\u001b[1;32m     49\u001b[0m         \u001b[0;32mreturn\u001b[0m \u001b[0;32mFalse\u001b[0m\u001b[0;34m\u001b[0m\u001b[0;34m\u001b[0m\u001b[0m\n\u001b[0;32m---> 50\u001b[0;31m     \u001b[0mtorch\u001b[0m\u001b[0;34m.\u001b[0m\u001b[0mops\u001b[0m\u001b[0;34m.\u001b[0m\u001b[0mload_library\u001b[0m\u001b[0;34m(\u001b[0m\u001b[0mpath\u001b[0m\u001b[0;34m)\u001b[0m\u001b[0;34m\u001b[0m\u001b[0;34m\u001b[0m\u001b[0m\n\u001b[0m\u001b[1;32m     51\u001b[0m     \u001b[0;32mreturn\u001b[0m \u001b[0;32mTrue\u001b[0m\u001b[0;34m\u001b[0m\u001b[0;34m\u001b[0m\u001b[0m\n\u001b[1;32m     52\u001b[0m \u001b[0;34m\u001b[0m\u001b[0m\n",
            "\u001b[0;32m/usr/local/lib/python3.10/dist-packages/torch/_ops.py\u001b[0m in \u001b[0;36mload_library\u001b[0;34m(self, path)\u001b[0m\n\u001b[1;32m   1348\u001b[0m             \u001b[0;31m# static (global) initialization code in order to register custom\u001b[0m\u001b[0;34m\u001b[0m\u001b[0;34m\u001b[0m\u001b[0m\n\u001b[1;32m   1349\u001b[0m             \u001b[0;31m# operators with the JIT.\u001b[0m\u001b[0;34m\u001b[0m\u001b[0;34m\u001b[0m\u001b[0m\n\u001b[0;32m-> 1350\u001b[0;31m             \u001b[0mctypes\u001b[0m\u001b[0;34m.\u001b[0m\u001b[0mCDLL\u001b[0m\u001b[0;34m(\u001b[0m\u001b[0mpath\u001b[0m\u001b[0;34m)\u001b[0m\u001b[0;34m\u001b[0m\u001b[0;34m\u001b[0m\u001b[0m\n\u001b[0m\u001b[1;32m   1351\u001b[0m         \u001b[0mself\u001b[0m\u001b[0;34m.\u001b[0m\u001b[0mloaded_libraries\u001b[0m\u001b[0;34m.\u001b[0m\u001b[0madd\u001b[0m\u001b[0;34m(\u001b[0m\u001b[0mpath\u001b[0m\u001b[0;34m)\u001b[0m\u001b[0;34m\u001b[0m\u001b[0;34m\u001b[0m\u001b[0m\n\u001b[1;32m   1352\u001b[0m \u001b[0;34m\u001b[0m\u001b[0m\n",
            "\u001b[0;32m/usr/lib/python3.10/ctypes/__init__.py\u001b[0m in \u001b[0;36m__init__\u001b[0;34m(self, name, mode, handle, use_errno, use_last_error, winmode)\u001b[0m\n\u001b[1;32m    372\u001b[0m \u001b[0;34m\u001b[0m\u001b[0m\n\u001b[1;32m    373\u001b[0m         \u001b[0;32mif\u001b[0m \u001b[0mhandle\u001b[0m \u001b[0;32mis\u001b[0m \u001b[0;32mNone\u001b[0m\u001b[0;34m:\u001b[0m\u001b[0;34m\u001b[0m\u001b[0;34m\u001b[0m\u001b[0m\n\u001b[0;32m--> 374\u001b[0;31m             \u001b[0mself\u001b[0m\u001b[0;34m.\u001b[0m\u001b[0m_handle\u001b[0m \u001b[0;34m=\u001b[0m \u001b[0m_dlopen\u001b[0m\u001b[0;34m(\u001b[0m\u001b[0mself\u001b[0m\u001b[0;34m.\u001b[0m\u001b[0m_name\u001b[0m\u001b[0;34m,\u001b[0m \u001b[0mmode\u001b[0m\u001b[0;34m)\u001b[0m\u001b[0;34m\u001b[0m\u001b[0;34m\u001b[0m\u001b[0m\n\u001b[0m\u001b[1;32m    375\u001b[0m         \u001b[0;32melse\u001b[0m\u001b[0;34m:\u001b[0m\u001b[0;34m\u001b[0m\u001b[0;34m\u001b[0m\u001b[0m\n\u001b[1;32m    376\u001b[0m             \u001b[0mself\u001b[0m\u001b[0;34m.\u001b[0m\u001b[0m_handle\u001b[0m \u001b[0;34m=\u001b[0m \u001b[0mhandle\u001b[0m\u001b[0;34m\u001b[0m\u001b[0;34m\u001b[0m\u001b[0m\n",
            "\u001b[0;31mOSError\u001b[0m: /usr/local/lib/python3.10/dist-packages/torchtext/lib/libtorchtext.so: undefined symbol: _ZN5torch3jit17parseSchemaOrNameERKSs"
          ]
        }
      ]
    },
    {
      "cell_type": "markdown",
      "metadata": {
        "id": "BcAlBpNLtSuK"
      },
      "source": [
        "###**Transformer-Encoder**"
      ]
    },
    {
      "cell_type": "markdown",
      "metadata": {
        "id": "f6Q5FngTtYOy"
      },
      "source": [
        "####**Token and Positional Embedding**"
      ]
    },
    {
      "cell_type": "code",
      "execution_count": null,
      "metadata": {
        "id": "25q36IJztegC"
      },
      "outputs": [],
      "source": [
        "class TokenAndPositionEmbedding(nn.Module):\n",
        "    def __init__(self, vocab_size, embed_dim, max_length, device='cpu'):\n",
        "        super().__init__()\n",
        "        self.device = device\n",
        "        self.word_emb = nn.Embedding(\n",
        "            num_embeddings=vocab_size,\n",
        "            embedding_dim=embed_dim\n",
        "        )\n",
        "        self.pos_emb = nn.Embedding(\n",
        "            num_embeddings=max_length,\n",
        "            embedding_dim=embed_dim\n",
        "        )\n",
        "\n",
        "    def forward(self, x):\n",
        "        N, seq_len = x.size()\n",
        "        positions = torch.arange(0, seq_len).expand(N, seq_len).to(self.device)\n",
        "        output1 = self.word_emb(x)\n",
        "        output2 = self.pos_emb(positions)\n",
        "        output = output1 + output2\n",
        "        return output"
      ]
    },
    {
      "cell_type": "markdown",
      "metadata": {
        "id": "iPs_PoYbvChg"
      },
      "source": [
        "####**Transformer-Encoder Block**"
      ]
    },
    {
      "cell_type": "code",
      "execution_count": null,
      "metadata": {
        "id": "Fz2Qw2sTvGeg"
      },
      "outputs": [],
      "source": [
        "class TransformerEncoderBlock(nn.Module):\n",
        "    def __init__(self, embed_dim, num_heads, ff_dim, dropout=0.1):\n",
        "        super().__init__()\n",
        "        self.attn = nn.MultiheadAttention(\n",
        "            embed_dim=embed_dim,\n",
        "            num_heads=num_heads,\n",
        "            batch_first=True\n",
        "        )\n",
        "        self.ffn = nn.Sequential(\n",
        "            nn.Linear(in_features=embed_dim, out_features=ff_dim, bias=True),\n",
        "            nn.ReLU(),\n",
        "            nn.Linear(in_features=ff_dim, out_features=embed_dim, bias=True)\n",
        "        )\n",
        "        self.layernorm_1 = nn.LayerNorm(normalized_shape=embed_dim, eps=1e-6)\n",
        "        self.layernorm_2 = nn.LayerNorm(normalized_shape=embed_dim, eps=1e-6)\n",
        "        self.dropout_1 = nn.Dropout(p=dropout)\n",
        "        self.dropout_2 = nn.Dropout(p=dropout)\n",
        "\n",
        "    def forward(self, query, key, value):\n",
        "        attn_output, _ = self.attn(query, key, value)\n",
        "        attn_output = self.dropout_1(attn_output)\n",
        "        out_1 = self.layernorm_1(query + attn_output)\n",
        "        ffn_output = self.ffn(out_1)\n",
        "        ffn_output = self.dropout_2(ffn_output)\n",
        "        out_2 = self.layernorm_2(out_1 + ffn_output)\n",
        "        return out_2"
      ]
    },
    {
      "cell_type": "markdown",
      "metadata": {
        "id": "MkqUlkTRh5BV"
      },
      "source": [
        "####**Transformer-Encoder**"
      ]
    },
    {
      "cell_type": "code",
      "execution_count": null,
      "metadata": {
        "id": "3LNdJIGch9p4"
      },
      "outputs": [],
      "source": [
        "class TransformerEncoder(nn.Module):\n",
        "    def __init__(self,src_vocab_size,embed_dim,max_length,num_layers, num_heads, ff_dim, dropout=0.1, device=\"cpu\"):\n",
        "      super().__init__()\n",
        "      self.embedding = TokenAndPositionEmbedding(src_vocab_size,embed_dim,max_length,device)\n",
        "      self.layers = nn.ModuleList(\n",
        "          [\n",
        "              TransformerEncoderBlock(embed_dim,num_heads,ff_dim,dropout) for _ in range(num_layers)\n",
        "          ]\n",
        "      )\n",
        "    def forward(self,x):\n",
        "      output = self.embedding(x)\n",
        "      for layer in self.layers:\n",
        "        output = layer(output,output,output)\n",
        "      return output"
      ]
    },
    {
      "cell_type": "code",
      "execution_count": null,
      "metadata": {
        "id": "liC9Tsgyj_lS"
      },
      "outputs": [],
      "source": [
        "batch_size = 32\n",
        "src_vocab_size = 1000\n",
        "embed_dim = 200\n",
        "max_length = 100\n",
        "num_layers = 2\n",
        "num_heads = 4\n",
        "ff_dim = 256"
      ]
    },
    {
      "cell_type": "code",
      "execution_count": null,
      "metadata": {
        "id": "vEHfSgc0jxcj"
      },
      "outputs": [],
      "source": [
        "input = torch.randint(\n",
        "    high=2,\n",
        "    size=(batch_size, max_length),\n",
        "    dtype=torch.int64\n",
        ")"
      ]
    },
    {
      "cell_type": "code",
      "execution_count": null,
      "metadata": {
        "id": "NH4UkoeHkXFd"
      },
      "outputs": [],
      "source": [
        "encoder = TransformerEncoder(\n",
        "    src_vocab_size, embed_dim, max_length, num_layers, num_heads, ff_dim\n",
        ")"
      ]
    },
    {
      "cell_type": "code",
      "execution_count": null,
      "metadata": {
        "id": "EJmB058vlvw9"
      },
      "outputs": [],
      "source": [
        "encoded = encoder(input)"
      ]
    },
    {
      "cell_type": "code",
      "execution_count": null,
      "metadata": {
        "id": "Ob0UB3gcl2Yf"
      },
      "outputs": [],
      "source": [
        "encoded.shape"
      ]
    },
    {
      "cell_type": "markdown",
      "metadata": {
        "id": "amT2NXCsmAlC"
      },
      "source": [
        "###**Transformer-Decoder**"
      ]
    },
    {
      "cell_type": "markdown",
      "metadata": {
        "id": "SonBn0szmEdT"
      },
      "source": [
        "####**Transformer Decoder Block**"
      ]
    },
    {
      "cell_type": "code",
      "execution_count": null,
      "metadata": {
        "id": "j-76f6gqmb0K"
      },
      "outputs": [],
      "source": [
        "class TransformerDecoderBlock(nn.Module):\n",
        "    def __init__(self, embed_dim, num_heads, ff_dim, dropout=0.1):\n",
        "        super().__init__()\n",
        "        self.attn = nn.MultiheadAttention(\n",
        "            embed_dim=embed_dim,\n",
        "            num_heads=num_heads,\n",
        "            batch_first=True\n",
        "        )\n",
        "        self.cross_attn = nn.MultiheadAttention(\n",
        "            embed_dim=embed_dim,\n",
        "            num_heads=num_heads,\n",
        "            batch_first=True\n",
        "        )\n",
        "        self.ffn = nn.Sequential(\n",
        "            nn.Linear(in_features=embed_dim, out_features=ff_dim, bias=True),\n",
        "            nn.ReLU(),\n",
        "            nn.Linear(in_features=ff_dim, out_features=embed_dim, bias=True)\n",
        "        )\n",
        "        self.layernorm_1 = nn.LayerNorm(normalized_shape=embed_dim, eps=1e-6)\n",
        "        self.layernorm_2 = nn.LayerNorm(normalized_shape=embed_dim, eps=1e-6)\n",
        "        self.layernorm_3 = nn.LayerNorm(normalized_shape=embed_dim, eps=1e-6)\n",
        "        self.dropout_1 = nn.Dropout(p=dropout)\n",
        "        self.dropout_2 = nn.Dropout(p=dropout)\n",
        "        self.dropout_3 = nn.Dropout(p=dropout)\n",
        "\n",
        "    def forward(self, x, enc_output, src_mask, tgt_mask):\n",
        "        attn_output, _ = self.attn(x, x, x, attn_mask=tgt_mask)\n",
        "        attn_output = self.dropout_1(attn_output)\n",
        "        out_1 = self.layernorm_1(x + attn_output)\n",
        "\n",
        "        attn_output, _ = self.cross_attn(\n",
        "            out_1, enc_output, enc_output, attn_mask=src_mask\n",
        "        )\n",
        "        attn_output = self.dropout_2(attn_output)\n",
        "        out_2 = self.layernorm_2(out_1 + attn_output)\n",
        "\n",
        "        ffn_output = self.ffn(out_2)\n",
        "        ffn_output = self.dropout_2(ffn_output)\n",
        "        out_3 = self.layernorm_2(out_2 + ffn_output)\n",
        "        return out_3"
      ]
    },
    {
      "cell_type": "markdown",
      "metadata": {
        "id": "O5ZaczJdpR-S"
      },
      "source": [
        "####**Transformer-Decoder**"
      ]
    },
    {
      "cell_type": "code",
      "execution_count": null,
      "metadata": {
        "id": "ut7GMi1yoZMQ"
      },
      "outputs": [],
      "source": [
        "class TransformerDecoder(nn.Module):\n",
        "    def __init__(self,tgt_vocab_size,embed_dim,max_length,nun_layers,num_heads,ff_dim,dropout=0.1,device=\"cpu\"):\n",
        "      super().__init__()\n",
        "      self.embedding = TokenAndPositionEmbedding(tgt_vocab_size,embed_dim,max_length,device)\n",
        "      self.layers = nn.ModuleList(\n",
        "          [\n",
        "              TransformerDecoderBlock(embed_dim,num_heads,ff_dim, dropout) for _ in range(num_layers)\n",
        "          ]\n",
        "      )\n",
        "    def forward(self,x,enc_output,src_mask,tgt_mask):\n",
        "      output = self.embedding(x)\n",
        "      for layer in self.layers:\n",
        "        output = layer(output,enc_output,src_mask,tgt_mask)\n",
        "      return output\n",
        "\n"
      ]
    },
    {
      "cell_type": "markdown",
      "metadata": {
        "id": "kPbn8xb4pXO4"
      },
      "source": [
        "###**Transformer**"
      ]
    },
    {
      "cell_type": "code",
      "execution_count": null,
      "metadata": {
        "id": "jicnGmh0paKC"
      },
      "outputs": [],
      "source": [
        "class Transformer(nn.Module):\n",
        "    def __init__(self,\n",
        "    src_vocab_size,tgt_vocab_size,embed_dim,max_length,num_layers,num_heads,ff_dim,dropout=0.1,device=\"cpu\"\n",
        "    ):\n",
        "      super().__init__()\n",
        "      self.device=device\n",
        "      self.encoder = TransformerEncoder(src_vocab_size,embed_dim,max_length,num_layers,num_heads,ff_dim)\n",
        "      self.decoder = TransformerDecoder(tgt_vocab_size,embed_dim,max_length,num_layers,num_heads,ff_dim)\n",
        "      self.fc = nn.Linear(embed_dim,tgt_vocab_size)\n",
        "    def generate_mask(self,src,tgt):\n",
        "      src_seq_len = src.shape[1]\n",
        "      tgt_seq_len = tgt.shape[1]\n",
        "      src_mask = torch.zeros((src_seq_len,src_seq_len),device=self.device).type(torch.bool)\n",
        "\n",
        "      tgt_mask = (torch.triu(torch.ones((tgt_seq_len,tgt_seq_len),device=self.device))==1).transpose(0,1)\n",
        "      tgt_mask = tgt_mask.float().masked_fill(\n",
        "          tgt_mask ==0,float(\"-inf\")).masked_fill(tgt_mask==1,float(0.0))\n",
        "      return src_mask,tgt_mask\n",
        "    def forward(self,src,tgt):\n",
        "      src_mask,tgt_mask = self.generate_mask(src,tgt)\n",
        "      enc_output = self.encoder(src)\n",
        "      dec_output = self.decoder(tgt,enc_output,src_mask,tgt_mask)\n",
        "      output = self.fc(dec_output)\n",
        "      return output"
      ]
    },
    {
      "cell_type": "code",
      "execution_count": null,
      "metadata": {
        "id": "2_cRy7XAqyNJ"
      },
      "outputs": [],
      "source": [
        "batch_size = 128\n",
        "src_vocab_size = 1000\n",
        "tgt_vocab_size = 2000\n",
        "embed_dim = 200\n",
        "max_length = 100\n",
        "num_layers = 2\n",
        "num_heads = 4\n",
        "ff_dim = 256"
      ]
    },
    {
      "cell_type": "code",
      "execution_count": null,
      "metadata": {
        "id": "_dhVd8NQq6gU"
      },
      "outputs": [],
      "source": [
        "model = Transformer(\n",
        "    src_vocab_size, tgt_vocab_size,\n",
        "    embed_dim, max_length, num_layers, num_heads, ff_dim\n",
        ")"
      ]
    },
    {
      "cell_type": "code",
      "execution_count": null,
      "metadata": {
        "id": "iHDmzJBtrJWM"
      },
      "outputs": [],
      "source": [
        "src = torch.randint(\n",
        "    high=2,\n",
        "    size=(batch_size, max_length),\n",
        "    dtype=torch.int64\n",
        ")"
      ]
    },
    {
      "cell_type": "code",
      "execution_count": null,
      "metadata": {
        "id": "yVrzrynJHNNC"
      },
      "outputs": [],
      "source": [
        "src"
      ]
    },
    {
      "cell_type": "code",
      "execution_count": null,
      "metadata": {
        "id": "By1PKy6prPj6"
      },
      "outputs": [],
      "source": [
        "tgt = torch.randint(\n",
        "    high=2,\n",
        "    size=(batch_size, max_length),\n",
        "    dtype=torch.int64\n",
        ")"
      ]
    },
    {
      "cell_type": "code",
      "execution_count": null,
      "metadata": {
        "id": "_otbgnZPrErX"
      },
      "outputs": [],
      "source": [
        "prediction = model(src, tgt)"
      ]
    },
    {
      "cell_type": "code",
      "execution_count": null,
      "metadata": {
        "id": "UePECukG6ZBw"
      },
      "outputs": [],
      "source": [
        "prediction.shape"
      ]
    },
    {
      "cell_type": "markdown",
      "metadata": {
        "id": "Apje_0G_6qqY"
      },
      "source": [
        "#**Text Classification using Transformer-Encoder**"
      ]
    },
    {
      "cell_type": "markdown",
      "metadata": {
        "id": "ira_hi4X6vfH"
      },
      "source": [
        "###**Load Dataset**"
      ]
    },
    {
      "cell_type": "code",
      "source": [
        "!pip install datasets"
      ],
      "metadata": {
        "id": "awqQeoUzYemW",
        "colab": {
          "base_uri": "https://localhost:8080/"
        },
        "outputId": "45bd4d90-088b-458c-c223-4230e48efed1"
      },
      "execution_count": 41,
      "outputs": [
        {
          "output_type": "stream",
          "name": "stdout",
          "text": [
            "Collecting datasets\n",
            "  Downloading datasets-3.2.0-py3-none-any.whl.metadata (20 kB)\n",
            "Requirement already satisfied: filelock in /usr/local/lib/python3.10/dist-packages (from datasets) (3.16.1)\n",
            "Requirement already satisfied: numpy>=1.17 in /usr/local/lib/python3.10/dist-packages (from datasets) (1.26.4)\n",
            "Requirement already satisfied: pyarrow>=15.0.0 in /usr/local/lib/python3.10/dist-packages (from datasets) (17.0.0)\n",
            "Collecting dill<0.3.9,>=0.3.0 (from datasets)\n",
            "  Downloading dill-0.3.8-py3-none-any.whl.metadata (10 kB)\n",
            "Requirement already satisfied: pandas in /usr/local/lib/python3.10/dist-packages (from datasets) (2.2.2)\n",
            "Requirement already satisfied: requests>=2.32.2 in /usr/local/lib/python3.10/dist-packages (from datasets) (2.32.3)\n",
            "Requirement already satisfied: tqdm>=4.66.3 in /usr/local/lib/python3.10/dist-packages (from datasets) (4.67.1)\n",
            "Collecting xxhash (from datasets)\n",
            "  Downloading xxhash-3.5.0-cp310-cp310-manylinux_2_17_x86_64.manylinux2014_x86_64.whl.metadata (12 kB)\n",
            "Collecting multiprocess<0.70.17 (from datasets)\n",
            "  Downloading multiprocess-0.70.16-py310-none-any.whl.metadata (7.2 kB)\n",
            "Collecting fsspec<=2024.9.0,>=2023.1.0 (from fsspec[http]<=2024.9.0,>=2023.1.0->datasets)\n",
            "  Downloading fsspec-2024.9.0-py3-none-any.whl.metadata (11 kB)\n",
            "Requirement already satisfied: aiohttp in /usr/local/lib/python3.10/dist-packages (from datasets) (3.11.10)\n",
            "Requirement already satisfied: huggingface-hub>=0.23.0 in /usr/local/lib/python3.10/dist-packages (from datasets) (0.27.0)\n",
            "Requirement already satisfied: packaging in /usr/local/lib/python3.10/dist-packages (from datasets) (24.2)\n",
            "Requirement already satisfied: pyyaml>=5.1 in /usr/local/lib/python3.10/dist-packages (from datasets) (6.0.2)\n",
            "Requirement already satisfied: aiohappyeyeballs>=2.3.0 in /usr/local/lib/python3.10/dist-packages (from aiohttp->datasets) (2.4.4)\n",
            "Requirement already satisfied: aiosignal>=1.1.2 in /usr/local/lib/python3.10/dist-packages (from aiohttp->datasets) (1.3.2)\n",
            "Requirement already satisfied: async-timeout<6.0,>=4.0 in /usr/local/lib/python3.10/dist-packages (from aiohttp->datasets) (4.0.3)\n",
            "Requirement already satisfied: attrs>=17.3.0 in /usr/local/lib/python3.10/dist-packages (from aiohttp->datasets) (24.3.0)\n",
            "Requirement already satisfied: frozenlist>=1.1.1 in /usr/local/lib/python3.10/dist-packages (from aiohttp->datasets) (1.5.0)\n",
            "Requirement already satisfied: multidict<7.0,>=4.5 in /usr/local/lib/python3.10/dist-packages (from aiohttp->datasets) (6.1.0)\n",
            "Requirement already satisfied: propcache>=0.2.0 in /usr/local/lib/python3.10/dist-packages (from aiohttp->datasets) (0.2.1)\n",
            "Requirement already satisfied: yarl<2.0,>=1.17.0 in /usr/local/lib/python3.10/dist-packages (from aiohttp->datasets) (1.18.3)\n",
            "Requirement already satisfied: typing-extensions>=3.7.4.3 in /usr/local/lib/python3.10/dist-packages (from huggingface-hub>=0.23.0->datasets) (4.12.2)\n",
            "Requirement already satisfied: charset-normalizer<4,>=2 in /usr/local/lib/python3.10/dist-packages (from requests>=2.32.2->datasets) (3.4.0)\n",
            "Requirement already satisfied: idna<4,>=2.5 in /usr/local/lib/python3.10/dist-packages (from requests>=2.32.2->datasets) (3.10)\n",
            "Requirement already satisfied: urllib3<3,>=1.21.1 in /usr/local/lib/python3.10/dist-packages (from requests>=2.32.2->datasets) (2.2.3)\n",
            "Requirement already satisfied: certifi>=2017.4.17 in /usr/local/lib/python3.10/dist-packages (from requests>=2.32.2->datasets) (2024.12.14)\n",
            "Requirement already satisfied: python-dateutil>=2.8.2 in /usr/local/lib/python3.10/dist-packages (from pandas->datasets) (2.8.2)\n",
            "Requirement already satisfied: pytz>=2020.1 in /usr/local/lib/python3.10/dist-packages (from pandas->datasets) (2024.2)\n",
            "Requirement already satisfied: tzdata>=2022.7 in /usr/local/lib/python3.10/dist-packages (from pandas->datasets) (2024.2)\n",
            "Requirement already satisfied: six>=1.5 in /usr/local/lib/python3.10/dist-packages (from python-dateutil>=2.8.2->pandas->datasets) (1.17.0)\n",
            "Downloading datasets-3.2.0-py3-none-any.whl (480 kB)\n",
            "\u001b[2K   \u001b[90m━━━━━━━━━━━━━━━━━━━━━━━━━━━━━━━━━━━━━━━━\u001b[0m \u001b[32m480.6/480.6 kB\u001b[0m \u001b[31m12.9 MB/s\u001b[0m eta \u001b[36m0:00:00\u001b[0m\n",
            "\u001b[?25hDownloading dill-0.3.8-py3-none-any.whl (116 kB)\n",
            "\u001b[2K   \u001b[90m━━━━━━━━━━━━━━━━━━━━━━━━━━━━━━━━━━━━━━━━\u001b[0m \u001b[32m116.3/116.3 kB\u001b[0m \u001b[31m9.0 MB/s\u001b[0m eta \u001b[36m0:00:00\u001b[0m\n",
            "\u001b[?25hDownloading fsspec-2024.9.0-py3-none-any.whl (179 kB)\n",
            "\u001b[2K   \u001b[90m━━━━━━━━━━━━━━━━━━━━━━━━━━━━━━━━━━━━━━━━\u001b[0m \u001b[32m179.3/179.3 kB\u001b[0m \u001b[31m11.2 MB/s\u001b[0m eta \u001b[36m0:00:00\u001b[0m\n",
            "\u001b[?25hDownloading multiprocess-0.70.16-py310-none-any.whl (134 kB)\n",
            "\u001b[2K   \u001b[90m━━━━━━━━━━━━━━━━━━━━━━━━━━━━━━━━━━━━━━━━\u001b[0m \u001b[32m134.8/134.8 kB\u001b[0m \u001b[31m13.6 MB/s\u001b[0m eta \u001b[36m0:00:00\u001b[0m\n",
            "\u001b[?25hDownloading xxhash-3.5.0-cp310-cp310-manylinux_2_17_x86_64.manylinux2014_x86_64.whl (194 kB)\n",
            "\u001b[2K   \u001b[90m━━━━━━━━━━━━━━━━━━━━━━━━━━━━━━━━━━━━━━━━\u001b[0m \u001b[32m194.1/194.1 kB\u001b[0m \u001b[31m14.3 MB/s\u001b[0m eta \u001b[36m0:00:00\u001b[0m\n",
            "\u001b[?25hInstalling collected packages: xxhash, fsspec, dill, multiprocess, datasets\n",
            "  Attempting uninstall: fsspec\n",
            "    Found existing installation: fsspec 2024.10.0\n",
            "    Uninstalling fsspec-2024.10.0:\n",
            "      Successfully uninstalled fsspec-2024.10.0\n",
            "\u001b[31mERROR: pip's dependency resolver does not currently take into account all the packages that are installed. This behaviour is the source of the following dependency conflicts.\n",
            "gcsfs 2024.10.0 requires fsspec==2024.10.0, but you have fsspec 2024.9.0 which is incompatible.\n",
            "torchaudio 2.5.1+cu121 requires torch==2.5.1, but you have torch 2.2.2 which is incompatible.\n",
            "torchvision 0.20.1+cu121 requires torch==2.5.1, but you have torch 2.2.2 which is incompatible.\u001b[0m\u001b[31m\n",
            "\u001b[0mSuccessfully installed datasets-3.2.0 dill-0.3.8 fsspec-2024.9.0 multiprocess-0.70.16 xxhash-3.5.0\n"
          ]
        }
      ]
    },
    {
      "cell_type": "code",
      "source": [
        "from datasets import load_dataset\n",
        "\n",
        "ds = load_dataset('thainq107/ntc-scv')"
      ],
      "metadata": {
        "colab": {
          "base_uri": "https://localhost:8080/",
          "height": 345,
          "referenced_widgets": [
            "07203cb4b15d46098d0a9f71324d0bae",
            "7e456805c5e44f78bee8b1a25460a710",
            "6d0b2ed176a1449cbd829a7df8c67e6b",
            "823059344a58480ea0c6e0f84e03d6df",
            "8581543f5bf0456aa0911056050c2fc7",
            "301ace9290e24d15a03fc79ddb1efd2e",
            "b4c88f9334554059adb0b3718ccc5f9c",
            "db7c1f34827a40be9dcf37f598774361",
            "ef64999290454325906c9a420e32b45f",
            "211ff3fdc9f64a5c9b48a40182271171",
            "d0efaa612db24b0f99888e212270f891",
            "bc8938ee303a4c079231b76dcb702dc9",
            "8a0d0dfaab82436890831f873248c7cb",
            "a21d1de563cb49e598c603fa4a5368c1",
            "27cf105bd98f4e47b09f09bca314dc93",
            "9dbd3260187444a895f224149a2aaf6b",
            "1893413a7c5c4a37b29d8be9ca09b5eb",
            "b1cd4d746bb04394abfecef44b7f54d7",
            "17fa95fb414644f9a4eafb16edbf31ed",
            "591dc1b7cf2a486cb2ab7d41c4523362",
            "2a75245ee21246369d4d086c4be3466f",
            "5eebaaf76c964705b929cb2d790c8cdb",
            "e794a22a0ecb4151b35deb356241ea2a",
            "13a19d645c534c5db402cd163816c238",
            "10a8cd51ee104c15adc1c406311574ec",
            "180d2690f11a4ffcb540bbc8c4f61b4b",
            "0837c906ac354bc59fdf36711f0a1ff3",
            "e241f5664c434286b587a4560cfb5adc",
            "016dc77e53c447149bf98c5b8b616d7c",
            "5a9f77ccbde14c41a4bf7994735c55b0",
            "5a2ac46424d442d29dae247a3061acab",
            "d25bf400a368429bbf08f39c5dc43f59",
            "dd1ca3a140f5423781c38b2937d91418",
            "3a7ddbe10c494ce09fa952e271fdfd3a",
            "1055f282f2d449a5b54b64066f79c998",
            "860119979c0542da917e0be78b9c10cb",
            "0581d6cd96644cb8bfb7f776dae5dbaa",
            "5cca06103ad14d5a8e122a9219539434",
            "8fc8fea683ed48f8bd948d74e68e3a3a",
            "4d693b6cdb8842a6a9293a658394c1d6",
            "572f5aa836c944c1b6a0e46e69b4ed6e",
            "e326a63f43b8489a82e689f7e7aeafeb",
            "fb18aba40da144e79ae5abab9d99df34",
            "af81103a25454e7eaa9c5b11ab2fbd1e",
            "9966dc0857904569a404521194b07771",
            "c0b28e2340dc4ae5b454b8017a1364d1",
            "db0d4cef72a44ce5a059e1433edd3356",
            "6493b90ab1084253b13a69b07a8cde43",
            "7287fa773c154715ab7eca980284d607",
            "2b51318b2726409b955957b1a5b5fb26",
            "34bfb0f286754f46ac45e8cfb48389b7",
            "935b238433474d7c91552144469a0f12",
            "3e9027ab83d14855921d97127d8971f7",
            "e3f683829c6e44f394794b0058c2a562",
            "1440dbf653df4328b9360b6f7c3253d8",
            "69b2c2ce19c74ef9bf7893f3bb6c3ff3",
            "586f33784cff4baabeb2af41c3181d71",
            "f6d5d616afd542c6ac566eb1bc88c228",
            "fc215e1316a04c4ca36a1559ad1b505e",
            "408186698ada49bdb93f09bb1a339379",
            "bc7c3e48fe5948b580a5107ff630329d",
            "eeb2a682cb9f465497b3587d80752444",
            "38237ecd6f8342eda6f4d1b4732eb00a",
            "40163124770f4d1bb0d39f3230c7a72e",
            "6685c4e223f74a0db2b7630c5354bb7d",
            "7c588b7d0a954ab28777757eef61c752",
            "3e72b113b3194a6fbf437a7a49e28f46",
            "a94451c05cd04151afc3a53c2d44a5e0",
            "de66c5ed61444a2f891fac87664924c3",
            "d0a5ba68838648b6979ab07801595c3c",
            "e88e01db75e04ca2a45e937f6c546991",
            "9326ae7ac4e44eebb1d9ca4db916bcd2",
            "f7ca2131c2e44c73a2361f15bef11973",
            "fd4e7e36521e45559b3bfb339840551f",
            "4e1764e0a8d449aba738413c51dc7969",
            "20543c830f47487ebcfaef93291957bb",
            "e402a8fb76124f2da80f08729f19acce"
          ]
        },
        "id": "ag0SaLgr72_H",
        "outputId": "f42ccf33-1b81-4334-9464-60c625901017"
      },
      "execution_count": 42,
      "outputs": [
        {
          "output_type": "stream",
          "name": "stderr",
          "text": [
            "/usr/local/lib/python3.10/dist-packages/huggingface_hub/utils/_auth.py:94: UserWarning: \n",
            "The secret `HF_TOKEN` does not exist in your Colab secrets.\n",
            "To authenticate with the Hugging Face Hub, create a token in your settings tab (https://huggingface.co/settings/tokens), set it as secret in your Google Colab and restart your session.\n",
            "You will be able to reuse this secret in all of your notebooks.\n",
            "Please note that authentication is recommended but still optional to access public models or datasets.\n",
            "  warnings.warn(\n"
          ]
        },
        {
          "output_type": "display_data",
          "data": {
            "text/plain": [
              "README.md:   0%|          | 0.00/570 [00:00<?, ?B/s]"
            ],
            "application/vnd.jupyter.widget-view+json": {
              "version_major": 2,
              "version_minor": 0,
              "model_id": "07203cb4b15d46098d0a9f71324d0bae"
            }
          },
          "metadata": {}
        },
        {
          "output_type": "display_data",
          "data": {
            "text/plain": [
              "train-00000-of-00001.parquet:   0%|          | 0.00/18.8M [00:00<?, ?B/s]"
            ],
            "application/vnd.jupyter.widget-view+json": {
              "version_major": 2,
              "version_minor": 0,
              "model_id": "bc8938ee303a4c079231b76dcb702dc9"
            }
          },
          "metadata": {}
        },
        {
          "output_type": "display_data",
          "data": {
            "text/plain": [
              "valid-00000-of-00001.parquet:   0%|          | 0.00/6.35M [00:00<?, ?B/s]"
            ],
            "application/vnd.jupyter.widget-view+json": {
              "version_major": 2,
              "version_minor": 0,
              "model_id": "e794a22a0ecb4151b35deb356241ea2a"
            }
          },
          "metadata": {}
        },
        {
          "output_type": "display_data",
          "data": {
            "text/plain": [
              "test-00000-of-00001.parquet:   0%|          | 0.00/6.35M [00:00<?, ?B/s]"
            ],
            "application/vnd.jupyter.widget-view+json": {
              "version_major": 2,
              "version_minor": 0,
              "model_id": "3a7ddbe10c494ce09fa952e271fdfd3a"
            }
          },
          "metadata": {}
        },
        {
          "output_type": "display_data",
          "data": {
            "text/plain": [
              "Generating train split:   0%|          | 0/30000 [00:00<?, ? examples/s]"
            ],
            "application/vnd.jupyter.widget-view+json": {
              "version_major": 2,
              "version_minor": 0,
              "model_id": "9966dc0857904569a404521194b07771"
            }
          },
          "metadata": {}
        },
        {
          "output_type": "display_data",
          "data": {
            "text/plain": [
              "Generating valid split:   0%|          | 0/10000 [00:00<?, ? examples/s]"
            ],
            "application/vnd.jupyter.widget-view+json": {
              "version_major": 2,
              "version_minor": 0,
              "model_id": "69b2c2ce19c74ef9bf7893f3bb6c3ff3"
            }
          },
          "metadata": {}
        },
        {
          "output_type": "display_data",
          "data": {
            "text/plain": [
              "Generating test split:   0%|          | 0/10000 [00:00<?, ? examples/s]"
            ],
            "application/vnd.jupyter.widget-view+json": {
              "version_major": 2,
              "version_minor": 0,
              "model_id": "3e72b113b3194a6fbf437a7a49e28f46"
            }
          },
          "metadata": {}
        }
      ]
    },
    {
      "cell_type": "code",
      "source": [
        "ds"
      ],
      "metadata": {
        "colab": {
          "base_uri": "https://localhost:8080/"
        },
        "id": "ExkiFI9D87R9",
        "outputId": "938b11f6-a5cc-41b1-f28b-0141d39443a7"
      },
      "execution_count": 43,
      "outputs": [
        {
          "output_type": "execute_result",
          "data": {
            "text/plain": [
              "DatasetDict({\n",
              "    train: Dataset({\n",
              "        features: ['sentence', 'label', 'preprocessed_sentence'],\n",
              "        num_rows: 30000\n",
              "    })\n",
              "    valid: Dataset({\n",
              "        features: ['sentence', 'label', 'preprocessed_sentence'],\n",
              "        num_rows: 10000\n",
              "    })\n",
              "    test: Dataset({\n",
              "        features: ['sentence', 'label', 'preprocessed_sentence'],\n",
              "        num_rows: 10000\n",
              "    })\n",
              "})"
            ]
          },
          "metadata": {},
          "execution_count": 43
        }
      ]
    },
    {
      "cell_type": "markdown",
      "metadata": {
        "id": "1OZjQuvm68uz"
      },
      "source": [
        "###**Preprocessing**"
      ]
    },
    {
      "cell_type": "markdown",
      "metadata": {
        "id": "_7-Z74Hz7HRS"
      },
      "source": [
        "**Text Cleaning**"
      ]
    },
    {
      "cell_type": "code",
      "execution_count": 44,
      "metadata": {
        "id": "JkdKuuog7JMv"
      },
      "outputs": [],
      "source": [
        "import re\n",
        "import string\n",
        "\n",
        "def preprocess_text(text):\n",
        "    # remove URLs https://www.\n",
        "    url_pattern = re.compile(r'https?://\\s+\\wwww\\.\\s+')\n",
        "    text = url_pattern.sub(r\" \", text)\n",
        "\n",
        "    # remove HTML Tags: <>\n",
        "    html_pattern = re.compile(r'<[^<>]+>')\n",
        "    text = html_pattern.sub(\" \", text)\n",
        "\n",
        "    # remove puncs and digits\n",
        "    replace_chars = list(string.punctuation + string.digits)\n",
        "    for char in replace_chars:\n",
        "        text = text.replace(char, \" \")\n",
        "\n",
        "    # remove emoji\n",
        "    emoji_pattern = re.compile(\"[\"\n",
        "        u\"\\U0001F600-\\U0001F64F\"  # emoticons\n",
        "        u\"\\U0001F300-\\U0001F5FF\"  # symbols & pictographs\n",
        "        u\"\\U0001F680-\\U0001F6FF\"  # transport & map symbols\n",
        "        u\"\\U0001F1E0-\\U0001F1FF\"  # flags (iOS)\n",
        "        u\"\\U0001F1F2-\\U0001F1F4\"  # Macau flag\n",
        "        u\"\\U0001F1E6-\\U0001F1FF\"  # flags\n",
        "        u\"\\U0001F600-\\U0001F64F\"\n",
        "        u\"\\U00002702-\\U000027B0\"\n",
        "        u\"\\U000024C2-\\U0001F251\"\n",
        "        u\"\\U0001f926-\\U0001f937\"\n",
        "        u\"\\U0001F1F2\"\n",
        "        u\"\\U0001F1F4\"\n",
        "        u\"\\U0001F620\"\n",
        "        u\"\\u200d\"\n",
        "        u\"\\u2640-\\u2642\"\n",
        "        \"]+\", flags=re.UNICODE)\n",
        "    text = emoji_pattern.sub(r\" \", text)\n",
        "\n",
        "    # normalize whitespace\n",
        "    text = \" \".join(text.split())\n",
        "\n",
        "    # lowercasing\n",
        "    text = text.lower()\n",
        "    return text"
      ]
    },
    {
      "cell_type": "markdown",
      "metadata": {
        "id": "3BkC5N3U7QCN"
      },
      "source": [
        "###**Representation**"
      ]
    },
    {
      "cell_type": "code",
      "execution_count": 45,
      "metadata": {
        "id": "Nc_bX28S7WUx"
      },
      "outputs": [],
      "source": [
        "def yield_tokens(sentences, tokenizer):\n",
        "    for sentence in sentences:\n",
        "        yield tokenizer(sentence)"
      ]
    },
    {
      "cell_type": "code",
      "execution_count": 46,
      "metadata": {
        "id": "-ubaJjnM7X8G"
      },
      "outputs": [],
      "source": [
        "# word-based tokenizer\n",
        "import torchtext\n",
        "from torchtext.data import get_tokenizer\n",
        "\n",
        "tokenizer = get_tokenizer(\"basic_english\")"
      ]
    },
    {
      "cell_type": "code",
      "source": [
        "ds['train']['preprocessed_sentence'][0]"
      ],
      "metadata": {
        "colab": {
          "base_uri": "https://localhost:8080/",
          "height": 53
        },
        "id": "kgHfGsbU95Cm",
        "outputId": "01ae73f6-b073-459b-bce0-c5fd73ca251d"
      },
      "execution_count": 47,
      "outputs": [
        {
          "output_type": "execute_result",
          "data": {
            "text/plain": [
              "'cửa hàng nhỏ xinh trên mặt đường vị trí khá dễ tìm đồ ăn ngon giá phải chăng bánh mỳ chảo cười bánh mỳ sốt vang và xúc xích cùng sữa ngô nữa hết có k qúa ổn luôn'"
            ],
            "application/vnd.google.colaboratory.intrinsic+json": {
              "type": "string"
            }
          },
          "metadata": {},
          "execution_count": 47
        }
      ]
    },
    {
      "cell_type": "code",
      "execution_count": 48,
      "metadata": {
        "id": "xtS-kwxD7ZjA"
      },
      "outputs": [],
      "source": [
        "# build vocabulary\n",
        "from torchtext.vocab import build_vocab_from_iterator\n",
        "\n",
        "vocab_size = 10000\n",
        "vocabulary = build_vocab_from_iterator(\n",
        "    yield_tokens(ds['train']['preprocessed_sentence'], tokenizer),\n",
        "    max_tokens=vocab_size,\n",
        "    specials=[\"<pad>\", \"<unk>\"]\n",
        ")\n",
        "vocabulary.set_default_index(vocabulary[\"<unk>\"])"
      ]
    },
    {
      "cell_type": "code",
      "execution_count": 49,
      "metadata": {
        "id": "DKxFJqz47b3F"
      },
      "outputs": [],
      "source": [
        "from torchtext.data.functional import to_map_style_dataset\n",
        "\n",
        "def prepare_dataset(df):\n",
        "    # create iterator for dataset: (sentence, label)\n",
        "    for row in df:\n",
        "        sentence = row['preprocessed_sentence']\n",
        "        encoded_sentence = vocabulary(tokenizer(sentence))\n",
        "        label = row['label']\n",
        "        yield encoded_sentence, label\n",
        "\n",
        "train_dataset = prepare_dataset(ds['train'])\n",
        "train_dataset = to_map_style_dataset(train_dataset)\n",
        "\n",
        "valid_dataset = prepare_dataset(ds['valid'])\n",
        "valid_dataset = to_map_style_dataset(valid_dataset)\n",
        "\n",
        "test_dataset = prepare_dataset(ds['test'])\n",
        "test_dataset = to_map_style_dataset(test_dataset)"
      ]
    },
    {
      "cell_type": "code",
      "source": [
        "for row in ds['train']:\n",
        "    print(vocabulary(tokenizer(row['preprocessed_sentence'])))\n",
        "    break"
      ],
      "metadata": {
        "colab": {
          "base_uri": "https://localhost:8080/"
        },
        "id": "Mul4gJ-rAspY",
        "outputId": "1f5d77d7-427e-4966-ba11-eb5b24863c95"
      },
      "execution_count": 50,
      "outputs": [
        {
          "output_type": "stream",
          "name": "stdout",
          "text": [
            "[351, 111, 112, 529, 124, 228, 196, 53, 159, 43, 103, 256, 46, 2, 11, 31, 52, 723, 32, 491, 991, 533, 32, 491, 220, 1415, 9, 731, 897, 185, 130, 836, 57, 88, 4, 14, 3183, 251, 59]\n"
          ]
        }
      ]
    },
    {
      "cell_type": "markdown",
      "metadata": {
        "id": "2pq9RDwI7dxB"
      },
      "source": [
        "###**Dataloader**"
      ]
    },
    {
      "cell_type": "code",
      "execution_count": 51,
      "metadata": {
        "id": "mzUTf-t_7hP3"
      },
      "outputs": [],
      "source": [
        "import torch\n",
        "\n",
        "seq_length = 100\n",
        "\n",
        "def collate_batch(batch):\n",
        "    # create inputs, offsets, labels for batch\n",
        "    sentences, labels = list(zip(*batch))\n",
        "    encoded_sentences = [\n",
        "        sentence+([0]* (seq_length-len(sentence))) if len(sentence) < seq_length else sentence[:seq_length]\n",
        "        for sentence in sentences\n",
        "    ]\n",
        "\n",
        "    encoded_sentences = torch.tensor(encoded_sentences, dtype=torch.int64)\n",
        "    labels = torch.tensor(labels)\n",
        "\n",
        "    return encoded_sentences, labels"
      ]
    },
    {
      "cell_type": "code",
      "execution_count": 52,
      "metadata": {
        "id": "lRqmmogt7kem"
      },
      "outputs": [],
      "source": [
        "from torch.utils.data import DataLoader\n",
        "\n",
        "batch_size = 128\n",
        "\n",
        "train_dataloader = DataLoader(\n",
        "    train_dataset,\n",
        "    batch_size=batch_size,\n",
        "    shuffle=True,\n",
        "    collate_fn=collate_batch\n",
        ")\n",
        "valid_dataloader = DataLoader(\n",
        "    valid_dataset,\n",
        "    batch_size=batch_size,\n",
        "    shuffle=False,\n",
        "    collate_fn=collate_batch\n",
        ")\n",
        "\n",
        "test_dataloader = DataLoader(\n",
        "    test_dataset,\n",
        "    batch_size=batch_size,\n",
        "    shuffle=False,\n",
        "    collate_fn=collate_batch\n",
        ")"
      ]
    },
    {
      "cell_type": "code",
      "execution_count": 53,
      "metadata": {
        "colab": {
          "base_uri": "https://localhost:8080/"
        },
        "id": "U-Jpg1Ui7mcd",
        "outputId": "b9339ebd-e2cf-4c5c-8b51-602ce8772692"
      },
      "outputs": [
        {
          "output_type": "execute_result",
          "data": {
            "text/plain": [
              "(tensor([[   7,    4,   98,  ...,  202,    3,  498],\n",
              "         [ 119,  401,  128,  ...,    0,    0,    0],\n",
              "         [ 123,  140,  747,  ...,    0,    0,    0],\n",
              "         ...,\n",
              "         [   3,  211, 1480,  ...,    0,    0,    0],\n",
              "         [ 359,  227,   23,  ..., 1514,   21,   45],\n",
              "         [ 142,   42,  127,  ...,    4,  304,  385]]),\n",
              " tensor([0, 0, 1, 0, 1, 1, 1, 1, 0, 1, 0, 1, 0, 0, 1, 1, 1, 1, 1, 0, 0, 1, 1, 0,\n",
              "         1, 1, 0, 1, 0, 0, 1, 0, 1, 1, 1, 0, 0, 1, 1, 0, 1, 0, 1, 0, 0, 1, 0, 0,\n",
              "         0, 1, 0, 0, 1, 0, 1, 1, 0, 0, 0, 0, 1, 0, 0, 1, 1, 0, 1, 0, 0, 1, 1, 1,\n",
              "         1, 1, 1, 1, 1, 0, 1, 0, 0, 0, 0, 0, 1, 1, 1, 1, 0, 1, 0, 1, 1, 0, 0, 1,\n",
              "         0, 1, 0, 0, 1, 0, 1, 0, 1, 0, 1, 1, 0, 0, 0, 0, 0, 0, 0, 1, 0, 0, 0, 0,\n",
              "         0, 0, 1, 1, 1, 0, 0, 0]))"
            ]
          },
          "metadata": {},
          "execution_count": 53
        }
      ],
      "source": [
        "next(iter(train_dataloader))"
      ]
    },
    {
      "cell_type": "code",
      "execution_count": 54,
      "metadata": {
        "colab": {
          "base_uri": "https://localhost:8080/"
        },
        "id": "jF9uYHJnDg43",
        "outputId": "f19590a8-f58f-490b-d80d-0da104c1800c"
      },
      "outputs": [
        {
          "output_type": "execute_result",
          "data": {
            "text/plain": [
              "235"
            ]
          },
          "metadata": {},
          "execution_count": 54
        }
      ],
      "source": [
        "len(train_dataloader)"
      ]
    },
    {
      "cell_type": "code",
      "execution_count": 55,
      "metadata": {
        "id": "UIJ9qYcn7oAy"
      },
      "outputs": [],
      "source": [
        "encoded_sentences, labels = next(iter(train_dataloader))"
      ]
    },
    {
      "cell_type": "code",
      "execution_count": 56,
      "metadata": {
        "colab": {
          "base_uri": "https://localhost:8080/"
        },
        "id": "c2fkG2kP7rpi",
        "outputId": "6b6fff53-3fbc-4124-d735-d2c2cd2d40fc"
      },
      "outputs": [
        {
          "output_type": "execute_result",
          "data": {
            "text/plain": [
              "torch.Size([128, 100])"
            ]
          },
          "metadata": {},
          "execution_count": 56
        }
      ],
      "source": [
        "encoded_sentences.shape"
      ]
    },
    {
      "cell_type": "code",
      "execution_count": 57,
      "metadata": {
        "colab": {
          "base_uri": "https://localhost:8080/"
        },
        "id": "fyuI2D7q8Avw",
        "outputId": "8bdb28ba-34b1-4d5f-8bac-88c21216bf0d"
      },
      "outputs": [
        {
          "output_type": "execute_result",
          "data": {
            "text/plain": [
              "torch.Size([128])"
            ]
          },
          "metadata": {},
          "execution_count": 57
        }
      ],
      "source": [
        "labels.shape"
      ]
    },
    {
      "cell_type": "markdown",
      "metadata": {
        "id": "Fa6W2VcT9mai"
      },
      "source": [
        "###**Trainer**"
      ]
    },
    {
      "cell_type": "code",
      "execution_count": 58,
      "metadata": {
        "id": "wuvVJXtB9qKL"
      },
      "outputs": [],
      "source": [
        "import time\n",
        "\n",
        "def train_epoch(model, optimizer, criterion, train_dataloader, device, epoch=0, log_interval=50):\n",
        "    model.train()\n",
        "    total_acc, total_count = 0, 0\n",
        "    losses = []\n",
        "    start_time = time.time()\n",
        "\n",
        "    for idx, (inputs, labels) in enumerate(train_dataloader):\n",
        "        inputs = inputs.to(device)\n",
        "        labels = labels.to(device)\n",
        "\n",
        "        optimizer.zero_grad()\n",
        "\n",
        "        predictions = model(inputs)\n",
        "\n",
        "        # compute loss\n",
        "        loss = criterion(predictions, labels)\n",
        "        losses.append(loss.item())\n",
        "\n",
        "        # backward\n",
        "        loss.backward()\n",
        "        optimizer.step()\n",
        "        total_acc += (predictions.argmax(1) == labels).sum().item()\n",
        "        total_count += labels.size(0)\n",
        "        if idx % log_interval == 0 and idx > 0:\n",
        "            elapsed = time.time() - start_time\n",
        "            print(\n",
        "                \"| epoch {:3d} | {:5d}/{:5d} batches \"\n",
        "                \"| accuracy {:8.3f}\".format(\n",
        "                    epoch, idx, len(train_dataloader), total_acc / total_count\n",
        "                )\n",
        "            )\n",
        "            total_acc, total_count = 0, 0\n",
        "            start_time = time.time()\n",
        "\n",
        "    epoch_acc = total_acc / total_count\n",
        "    epoch_loss = sum(losses) / len(losses)\n",
        "    return epoch_acc, epoch_loss"
      ]
    },
    {
      "cell_type": "code",
      "execution_count": 59,
      "metadata": {
        "id": "piuTehfZ9xdx"
      },
      "outputs": [],
      "source": [
        "def evaluate_epoch(model, criterion, valid_dataloader, device):\n",
        "    model.eval()\n",
        "    total_acc, total_count = 0, 0\n",
        "    losses = []\n",
        "\n",
        "    with torch.no_grad():\n",
        "        for idx, (inputs, labels) in enumerate(valid_dataloader):\n",
        "            inputs = inputs.to(device)\n",
        "            labels = labels.to(device)\n",
        "\n",
        "            predictions = model(inputs)\n",
        "\n",
        "            loss = criterion(predictions, labels)\n",
        "            losses.append(loss.item())\n",
        "\n",
        "            total_acc += (predictions.argmax(1) == labels).sum().item()\n",
        "            total_count += labels.size(0)\n",
        "\n",
        "    epoch_acc = total_acc / total_count\n",
        "    epoch_loss = sum(losses) / len(losses)\n",
        "    return epoch_acc, epoch_loss"
      ]
    },
    {
      "cell_type": "code",
      "execution_count": 60,
      "metadata": {
        "id": "JuqJbVjP92ew"
      },
      "outputs": [],
      "source": [
        "def train(model, model_name, save_model, optimizer, criterion, train_dataloader, valid_dataloader, num_epochs, device):\n",
        "    train_accs, train_losses = [], []\n",
        "    eval_accs, eval_losses = [], []\n",
        "    best_loss_eval = 100\n",
        "    times = []\n",
        "    for epoch in range(1, num_epochs+1):\n",
        "        epoch_start_time = time.time()\n",
        "        # Training\n",
        "        train_acc, train_loss = train_epoch(model, optimizer, criterion, train_dataloader, device, epoch)\n",
        "        train_accs.append(train_acc)\n",
        "        train_losses.append(train_loss)\n",
        "\n",
        "        # Evaluation\n",
        "        eval_acc, eval_loss = evaluate_epoch(model, criterion, valid_dataloader, device)\n",
        "        eval_accs.append(eval_acc)\n",
        "        eval_losses.append(eval_loss)\n",
        "\n",
        "        # Save best model\n",
        "        if eval_loss < best_loss_eval:\n",
        "            torch.save(model.state_dict(), save_model + f'/{model_name}.pt')\n",
        "\n",
        "        times.append(time.time() - epoch_start_time)\n",
        "        # Print loss, acc end epoch\n",
        "        print(\"-\" * 59)\n",
        "        print(\n",
        "            \"| End of epoch {:3d} | Time: {:5.2f}s | Train Accuracy {:8.3f} | Train Loss {:8.3f} \"\n",
        "            \"| Valid Accuracy {:8.3f} | Valid Loss {:8.3f} \".format(\n",
        "                epoch, time.time() - epoch_start_time, train_acc, train_loss, eval_acc, eval_loss\n",
        "            )\n",
        "        )\n",
        "        print(\"-\" * 59)\n",
        "\n",
        "    # Load best model\n",
        "    model.load_state_dict(torch.load(save_model + f'/{model_name}.pt', weights_only=True))\n",
        "    model.eval()\n",
        "    metrics = {\n",
        "        'train_accuracy': train_accs,\n",
        "        'train_loss': train_losses,\n",
        "        'valid_accuracy': eval_accs,\n",
        "        'valid_loss': eval_losses,\n",
        "        'time': times\n",
        "    }\n",
        "    return model, metrics"
      ]
    },
    {
      "cell_type": "code",
      "execution_count": 61,
      "metadata": {
        "id": "Im6ctPs995cJ"
      },
      "outputs": [],
      "source": [
        "import matplotlib.pyplot as plt\n",
        "\n",
        "def plot_result(num_epochs, train_accs, eval_accs, train_losses, eval_losses):\n",
        "    epochs = list(range(num_epochs))\n",
        "    fig, axs = plt.subplots(nrows = 1, ncols =2 , figsize = (12,6))\n",
        "    axs[0].plot(epochs, train_accs, label = \"Training\")\n",
        "    axs[0].plot(epochs, eval_accs, label = \"Evaluation\")\n",
        "    axs[1].plot(epochs, train_losses, label = \"Training\")\n",
        "    axs[1].plot(epochs, eval_losses, label = \"Evaluation\")\n",
        "    axs[0].set_xlabel(\"Epochs\")\n",
        "    axs[1].set_xlabel(\"Epochs\")\n",
        "    axs[0].set_ylabel(\"Accuracy\")\n",
        "    axs[1].set_ylabel(\"Loss\")\n",
        "    plt.legend()"
      ]
    },
    {
      "cell_type": "markdown",
      "metadata": {
        "id": "HJ-w3VTW9-rh"
      },
      "source": [
        "###**Modeling**"
      ]
    },
    {
      "cell_type": "code",
      "execution_count": 62,
      "metadata": {
        "id": "gTpF9kJN-BAL"
      },
      "outputs": [],
      "source": [
        "class TransformerEncoderCls(nn.Module):\n",
        "    def __init__(self, vocab_size,max_length,num_layers,embed_dim,num_heads,ff_dim,dropout=0.1,device=\"cpu\"):\n",
        "      super().__init__()\n",
        "      self.encoder = TransformerEncoder(vocab_size,embed_dim,max_length,num_layers,num_heads,ff_dim,dropout,device)\n",
        "      self.pooling = nn.AvgPool1d(kernel_size=max_length)\n",
        "      self.fc1 = nn.Linear(in_features=embed_dim,out_features=20)\n",
        "      self.fc2 = nn.Linear(in_features=20,out_features=2)\n",
        "      self.dropout =nn.Dropout(p=dropout)\n",
        "      self.relu = nn.ReLU()\n",
        "    def forward(self,x):\n",
        "      output = self.encoder(x)\n",
        "      output= self.pooling(output.permute(0,2,1)).squeeze()\n",
        "      output = self.dropout(output)\n",
        "      output = self.fc1(output)\n",
        "      output = self.relu(output)\n",
        "      output = self.dropout(output)\n",
        "      output = self.fc2(output)\n",
        "      return output"
      ]
    },
    {
      "cell_type": "code",
      "execution_count": 63,
      "metadata": {
        "id": "T3CTG5UD3mds"
      },
      "outputs": [],
      "source": [
        "vocab_size = 10000\n",
        "max_length = 100\n",
        "embed_dim = 200\n",
        "num_layers = 2\n",
        "num_heads = 4\n",
        "ff_dim = 128\n",
        "dropout=0.1\n",
        "\n",
        "model = TransformerEncoderCls(\n",
        "    vocab_size, max_length, num_layers, embed_dim, num_heads, ff_dim, dropout\n",
        ")"
      ]
    },
    {
      "cell_type": "code",
      "execution_count": 64,
      "metadata": {
        "colab": {
          "base_uri": "https://localhost:8080/"
        },
        "id": "QkyUL8wq36qy",
        "outputId": "fe7dbb20-443a-49d8-bbb7-f8ebd7ff3af4"
      },
      "outputs": [
        {
          "output_type": "execute_result",
          "data": {
            "text/plain": [
              "torch.Size([128, 100])"
            ]
          },
          "metadata": {},
          "execution_count": 64
        }
      ],
      "source": [
        "encoded_sentences.shape"
      ]
    },
    {
      "cell_type": "code",
      "execution_count": 65,
      "metadata": {
        "id": "I_RUtY7X4AQh"
      },
      "outputs": [],
      "source": [
        "predictions = model(encoded_sentences)"
      ]
    },
    {
      "cell_type": "code",
      "execution_count": 66,
      "metadata": {
        "colab": {
          "base_uri": "https://localhost:8080/"
        },
        "id": "RJEBC-MKBqPk",
        "outputId": "2934ed29-96db-4723-e72c-a3969802c4b7"
      },
      "outputs": [
        {
          "output_type": "execute_result",
          "data": {
            "text/plain": [
              "torch.Size([128, 2])"
            ]
          },
          "metadata": {},
          "execution_count": 66
        }
      ],
      "source": [
        "predictions.shape"
      ]
    },
    {
      "cell_type": "code",
      "execution_count": 67,
      "metadata": {
        "colab": {
          "base_uri": "https://localhost:8080/"
        },
        "id": "3g1G3eEzIfMy",
        "outputId": "6098547e-ba1b-44b0-8a80-1662b17ae424"
      },
      "outputs": [
        {
          "output_type": "execute_result",
          "data": {
            "text/plain": [
              "tensor([[-3.7902e-02, -2.4529e-02],\n",
              "        [-1.4595e-01, -5.5380e-02],\n",
              "        [-7.0707e-02, -9.3903e-02],\n",
              "        [-7.1698e-02, -5.9009e-02],\n",
              "        [-2.4449e-01, -2.7347e-02],\n",
              "        [-3.1628e-01, -1.4780e-01],\n",
              "        [-1.7941e-01, -1.5320e-01],\n",
              "        [-1.4591e-01, -7.7796e-02],\n",
              "        [-2.7140e-02, -7.2729e-03],\n",
              "        [-3.3727e-01, -4.4952e-02],\n",
              "        [-1.7167e-02, -1.4256e-01],\n",
              "        [-1.0653e-01, -9.0663e-02],\n",
              "        [-4.8031e-02, -1.9141e-02],\n",
              "        [-2.0423e-01, -1.0017e-01],\n",
              "        [-6.5118e-02,  8.3589e-03],\n",
              "        [-2.0731e-01, -1.6626e-02],\n",
              "        [-1.0977e-01, -7.6521e-02],\n",
              "        [-8.4449e-02, -6.0714e-02],\n",
              "        [-7.2645e-02, -6.3981e-02],\n",
              "        [-8.9222e-02, -3.0655e-02],\n",
              "        [-3.1418e-01, -5.3425e-02],\n",
              "        [-2.8686e-01, -1.4712e-01],\n",
              "        [-3.6471e-01, -1.8852e-01],\n",
              "        [-1.5676e-01,  5.9997e-02],\n",
              "        [-1.0379e-02,  8.3639e-03],\n",
              "        [-9.2951e-02, -5.7269e-02],\n",
              "        [-2.1819e-01, -1.2067e-01],\n",
              "        [-3.7736e-02, -3.9481e-02],\n",
              "        [-2.4874e-01, -1.3881e-01],\n",
              "        [-7.1347e-02, -4.5016e-02],\n",
              "        [-1.0239e-01, -7.4543e-02],\n",
              "        [-1.0577e-01, -6.3011e-02],\n",
              "        [-2.6378e-02, -1.2974e-02],\n",
              "        [-7.3139e-02, -5.9060e-02],\n",
              "        [-4.2833e-02, -3.0737e-02],\n",
              "        [-2.6996e-01, -1.4392e-01],\n",
              "        [-1.9620e-01, -1.1651e-01],\n",
              "        [-7.6495e-02, -6.9165e-02],\n",
              "        [-2.1896e-01, -1.9828e-01],\n",
              "        [-4.6394e-02, -1.3739e-02],\n",
              "        [-1.9904e-01, -2.8118e-01],\n",
              "        [-7.9378e-02, -2.3408e-02],\n",
              "        [-8.1915e-02, -4.4944e-02],\n",
              "        [-8.7037e-02, -5.9725e-02],\n",
              "        [-2.6958e-01, -1.7258e-01],\n",
              "        [-2.6372e-01, -8.0911e-02],\n",
              "        [-2.7589e-01, -1.5805e-01],\n",
              "        [-1.3417e-01, -1.0073e-01],\n",
              "        [-9.7731e-03, -2.0200e-02],\n",
              "        [-1.1703e-01, -2.9084e-03],\n",
              "        [-1.4634e-01, -1.0849e-01],\n",
              "        [-1.6679e-01, -1.6374e-01],\n",
              "        [-2.0374e-01, -1.4968e-01],\n",
              "        [-1.6037e-01, -5.8726e-02],\n",
              "        [-2.8815e-01, -8.0870e-02],\n",
              "        [-1.1512e-01, -9.0332e-02],\n",
              "        [-2.6443e-02, -1.0341e-02],\n",
              "        [-1.3771e-01, -2.1605e-01],\n",
              "        [-5.1200e-02, -3.1392e-02],\n",
              "        [-2.1921e-01, -1.0419e-01],\n",
              "        [-1.0637e-01, -1.0129e-01],\n",
              "        [-5.3783e-02, -5.2693e-02],\n",
              "        [-1.2000e-01, -7.9595e-02],\n",
              "        [-1.1366e-01, -9.0731e-02],\n",
              "        [-6.8658e-02, -2.4665e-02],\n",
              "        [-9.5404e-02, -5.1700e-02],\n",
              "        [-6.4192e-02, -2.0397e-02],\n",
              "        [-2.3033e-01, -1.1778e-01],\n",
              "        [-2.4408e-01, -1.6298e-01],\n",
              "        [-2.1267e-01, -7.7074e-02],\n",
              "        [-2.3719e-01, -1.6598e-01],\n",
              "        [-2.0103e-01, -1.3640e-01],\n",
              "        [-1.1732e-01, -6.3177e-02],\n",
              "        [-3.4831e-02, -1.4176e-02],\n",
              "        [-7.2754e-02, -4.1911e-02],\n",
              "        [-2.9274e-01, -1.0313e-01],\n",
              "        [-1.9167e-01, -2.2915e-01],\n",
              "        [-1.9038e-01, -2.3458e-01],\n",
              "        [-2.2706e-01, -1.1773e-01],\n",
              "        [-2.8905e-02, -3.8598e-03],\n",
              "        [-1.3664e-01, -1.2476e-02],\n",
              "        [-3.1285e-01,  4.8998e-02],\n",
              "        [-2.8638e-02,  3.6712e-02],\n",
              "        [-2.9534e-01, -1.5251e-01],\n",
              "        [-2.2382e-01, -1.0930e-01],\n",
              "        [-1.7138e-01, -9.3914e-02],\n",
              "        [-1.3573e-01, -1.4601e-01],\n",
              "        [-4.9668e-02, -3.3703e-02],\n",
              "        [-8.7074e-02, -4.3347e-02],\n",
              "        [-5.0576e-03, -2.2706e-03],\n",
              "        [-5.4583e-02, -3.8028e-02],\n",
              "        [-7.9949e-02, -3.2962e-02],\n",
              "        [-7.9005e-02, -5.5437e-02],\n",
              "        [-2.1194e-01, -5.6998e-02],\n",
              "        [-1.0919e-01, -8.9431e-02],\n",
              "        [-1.7964e-01, -3.5824e-02],\n",
              "        [-3.9453e-02,  1.3175e-02],\n",
              "        [-1.5815e-01, -1.5286e-01],\n",
              "        [-1.7924e-01, -1.1853e-01],\n",
              "        [-1.1583e-01, -7.2355e-02],\n",
              "        [-7.3263e-02, -1.2989e-01],\n",
              "        [-8.7003e-02, -1.1143e-02],\n",
              "        [-1.2896e-01, -8.7924e-02],\n",
              "        [-6.7533e-02, -4.1366e-02],\n",
              "        [-1.1391e-01, -9.4318e-02],\n",
              "        [-7.7501e-02, -5.3967e-02],\n",
              "        [-1.9494e-01, -3.5217e-02],\n",
              "        [-6.1948e-02, -7.1699e-02],\n",
              "        [-2.2372e-01, -1.0669e-01],\n",
              "        [-6.0845e-02, -3.5536e-02],\n",
              "        [-6.6323e-02, -4.2756e-02],\n",
              "        [-2.7693e-01, -8.6478e-02],\n",
              "        [-7.3318e-02,  1.7582e-02],\n",
              "        [-7.9558e-02, -7.5033e-02],\n",
              "        [-9.1531e-02, -4.6077e-02],\n",
              "        [-2.6647e-01, -2.3205e-01],\n",
              "        [-9.1394e-02, -7.6289e-02],\n",
              "        [-1.9208e-01, -1.1541e-01],\n",
              "        [-1.4411e-02,  6.7982e-03],\n",
              "        [-7.8587e-02, -6.0136e-02],\n",
              "        [-6.2442e-02,  2.3080e-04],\n",
              "        [-1.2692e-01, -9.3432e-02],\n",
              "        [-1.6112e-01, -1.0340e-01],\n",
              "        [-6.3159e-02, -4.0122e-02],\n",
              "        [-2.0570e-01, -1.2866e-01],\n",
              "        [ 8.4554e-03, -1.9839e-02],\n",
              "        [-6.4648e-02, -4.4576e-02],\n",
              "        [-2.8702e-02,  1.2048e-02]], grad_fn=<AddmmBackward0>)"
            ]
          },
          "metadata": {},
          "execution_count": 67
        }
      ],
      "source": [
        "predictions"
      ]
    },
    {
      "cell_type": "markdown",
      "metadata": {
        "id": "Vf9GW1dpB8PT"
      },
      "source": [
        "###**Training**"
      ]
    },
    {
      "cell_type": "code",
      "execution_count": 68,
      "metadata": {
        "colab": {
          "base_uri": "https://localhost:8080/",
          "height": 1000,
          "referenced_widgets": [
            "973c1fb547a843599c10187888aa539d",
            "4190565394a7450686a3e6cc2c486b2c",
            "590bc4532aef40e3b1e43cefaf7b8f38",
            "4bd0fcea094f44fe90add43e7c129e5a",
            "562a3f7770c54ed6a64257f5e710c4d1",
            "d8b9e91ca82a46f78be02d1ad03089f1",
            "07a780011cb54b5c8f465b3cba47051f",
            "555233522fd64573847a0ea1ede9f61e",
            "4c0f73d14f574c98b0442a567d8c80a7",
            "8aa32aa278d8488f88a64c22bf86e1aa",
            "69371a383e34457cb60d89207d0eeccb"
          ]
        },
        "id": "9yiMR-0nB-ao",
        "outputId": "010992b1-7617-4f6f-db80-51bfb3d847c2"
      },
      "outputs": [
        {
          "output_type": "stream",
          "name": "stderr",
          "text": [
            "The cache for model files in Transformers v4.22.0 has been updated. Migrating your old cache. This is a one-time only operation. You can interrupt this and resume the migration later on by calling `transformers.utils.move_cache()`.\n"
          ]
        },
        {
          "output_type": "display_data",
          "data": {
            "text/plain": [
              "0it [00:00, ?it/s]"
            ],
            "application/vnd.jupyter.widget-view+json": {
              "version_major": 2,
              "version_minor": 0,
              "model_id": "973c1fb547a843599c10187888aa539d"
            }
          },
          "metadata": {}
        },
        {
          "output_type": "stream",
          "name": "stdout",
          "text": [
            "| epoch   1 |    50/  235 batches | accuracy    0.515\n",
            "| epoch   1 |   100/  235 batches | accuracy    0.577\n",
            "| epoch   1 |   150/  235 batches | accuracy    0.654\n",
            "| epoch   1 |   200/  235 batches | accuracy    0.695\n",
            "-----------------------------------------------------------\n",
            "| End of epoch   1 | Time: 10.98s | Train Accuracy    0.733 | Train Loss    0.647 | Valid Accuracy    0.749 | Valid Loss    0.542 \n",
            "-----------------------------------------------------------\n",
            "| epoch   2 |    50/  235 batches | accuracy    0.759\n",
            "| epoch   2 |   100/  235 batches | accuracy    0.769\n",
            "| epoch   2 |   150/  235 batches | accuracy    0.778\n",
            "| epoch   2 |   200/  235 batches | accuracy    0.789\n",
            "-----------------------------------------------------------\n",
            "| End of epoch   2 | Time:  7.37s | Train Accuracy    0.789 | Train Loss    0.488 | Valid Accuracy    0.790 | Valid Loss    0.461 \n",
            "-----------------------------------------------------------\n",
            "| epoch   3 |    50/  235 batches | accuracy    0.809\n",
            "| epoch   3 |   100/  235 batches | accuracy    0.812\n",
            "| epoch   3 |   150/  235 batches | accuracy    0.803\n",
            "| epoch   3 |   200/  235 batches | accuracy    0.814\n",
            "-----------------------------------------------------------\n",
            "| End of epoch   3 | Time:  7.28s | Train Accuracy    0.813 | Train Loss    0.431 | Valid Accuracy    0.811 | Valid Loss    0.427 \n",
            "-----------------------------------------------------------\n",
            "| epoch   4 |    50/  235 batches | accuracy    0.829\n",
            "| epoch   4 |   100/  235 batches | accuracy    0.818\n",
            "| epoch   4 |   150/  235 batches | accuracy    0.831\n",
            "| epoch   4 |   200/  235 batches | accuracy    0.830\n",
            "-----------------------------------------------------------\n",
            "| End of epoch   4 | Time:  7.21s | Train Accuracy    0.824 | Train Loss    0.400 | Valid Accuracy    0.819 | Valid Loss    0.412 \n",
            "-----------------------------------------------------------\n",
            "| epoch   5 |    50/  235 batches | accuracy    0.834\n",
            "| epoch   5 |   100/  235 batches | accuracy    0.835\n",
            "| epoch   5 |   150/  235 batches | accuracy    0.835\n",
            "| epoch   5 |   200/  235 batches | accuracy    0.843\n",
            "-----------------------------------------------------------\n",
            "| End of epoch   5 | Time:  7.36s | Train Accuracy    0.833 | Train Loss    0.379 | Valid Accuracy    0.822 | Valid Loss    0.406 \n",
            "-----------------------------------------------------------\n",
            "| epoch   6 |    50/  235 batches | accuracy    0.854\n",
            "| epoch   6 |   100/  235 batches | accuracy    0.850\n",
            "| epoch   6 |   150/  235 batches | accuracy    0.845\n",
            "| epoch   6 |   200/  235 batches | accuracy    0.843\n",
            "-----------------------------------------------------------\n",
            "| End of epoch   6 | Time:  7.40s | Train Accuracy    0.846 | Train Loss    0.362 | Valid Accuracy    0.829 | Valid Loss    0.393 \n",
            "-----------------------------------------------------------\n",
            "| epoch   7 |    50/  235 batches | accuracy    0.858\n",
            "| epoch   7 |   100/  235 batches | accuracy    0.847\n",
            "| epoch   7 |   150/  235 batches | accuracy    0.856\n",
            "| epoch   7 |   200/  235 batches | accuracy    0.855\n",
            "-----------------------------------------------------------\n",
            "| End of epoch   7 | Time:  7.32s | Train Accuracy    0.856 | Train Loss    0.349 | Valid Accuracy    0.830 | Valid Loss    0.390 \n",
            "-----------------------------------------------------------\n",
            "| epoch   8 |    50/  235 batches | accuracy    0.868\n",
            "| epoch   8 |   100/  235 batches | accuracy    0.869\n",
            "| epoch   8 |   150/  235 batches | accuracy    0.859\n",
            "| epoch   8 |   200/  235 batches | accuracy    0.862\n",
            "-----------------------------------------------------------\n",
            "| End of epoch   8 | Time:  7.37s | Train Accuracy    0.865 | Train Loss    0.337 | Valid Accuracy    0.834 | Valid Loss    0.387 \n",
            "-----------------------------------------------------------\n",
            "| epoch   9 |    50/  235 batches | accuracy    0.864\n",
            "| epoch   9 |   100/  235 batches | accuracy    0.870\n",
            "| epoch   9 |   150/  235 batches | accuracy    0.862\n",
            "| epoch   9 |   200/  235 batches | accuracy    0.868\n",
            "-----------------------------------------------------------\n",
            "| End of epoch   9 | Time:  7.39s | Train Accuracy    0.874 | Train Loss    0.328 | Valid Accuracy    0.834 | Valid Loss    0.389 \n",
            "-----------------------------------------------------------\n",
            "| epoch  10 |    50/  235 batches | accuracy    0.876\n",
            "| epoch  10 |   100/  235 batches | accuracy    0.867\n",
            "| epoch  10 |   150/  235 batches | accuracy    0.876\n",
            "| epoch  10 |   200/  235 batches | accuracy    0.879\n",
            "-----------------------------------------------------------\n",
            "| End of epoch  10 | Time:  8.81s | Train Accuracy    0.872 | Train Loss    0.316 | Valid Accuracy    0.834 | Valid Loss    0.390 \n",
            "-----------------------------------------------------------\n",
            "| epoch  11 |    50/  235 batches | accuracy    0.879\n",
            "| epoch  11 |   100/  235 batches | accuracy    0.884\n",
            "| epoch  11 |   150/  235 batches | accuracy    0.878\n",
            "| epoch  11 |   200/  235 batches | accuracy    0.881\n",
            "-----------------------------------------------------------\n",
            "| End of epoch  11 | Time:  7.39s | Train Accuracy    0.881 | Train Loss    0.306 | Valid Accuracy    0.837 | Valid Loss    0.392 \n",
            "-----------------------------------------------------------\n",
            "| epoch  12 |    50/  235 batches | accuracy    0.886\n",
            "| epoch  12 |   100/  235 batches | accuracy    0.889\n",
            "| epoch  12 |   150/  235 batches | accuracy    0.884\n",
            "| epoch  12 |   200/  235 batches | accuracy    0.887\n",
            "-----------------------------------------------------------\n",
            "| End of epoch  12 | Time:  7.32s | Train Accuracy    0.876 | Train Loss    0.295 | Valid Accuracy    0.837 | Valid Loss    0.396 \n",
            "-----------------------------------------------------------\n",
            "| epoch  13 |    50/  235 batches | accuracy    0.887\n",
            "| epoch  13 |   100/  235 batches | accuracy    0.895\n",
            "| epoch  13 |   150/  235 batches | accuracy    0.885\n",
            "| epoch  13 |   200/  235 batches | accuracy    0.888\n",
            "-----------------------------------------------------------\n",
            "| End of epoch  13 | Time:  7.42s | Train Accuracy    0.888 | Train Loss    0.289 | Valid Accuracy    0.834 | Valid Loss    0.397 \n",
            "-----------------------------------------------------------\n",
            "| epoch  14 |    50/  235 batches | accuracy    0.901\n",
            "| epoch  14 |   100/  235 batches | accuracy    0.893\n",
            "| epoch  14 |   150/  235 batches | accuracy    0.899\n",
            "| epoch  14 |   200/  235 batches | accuracy    0.890\n",
            "-----------------------------------------------------------\n",
            "| End of epoch  14 | Time:  7.38s | Train Accuracy    0.893 | Train Loss    0.278 | Valid Accuracy    0.831 | Valid Loss    0.408 \n",
            "-----------------------------------------------------------\n",
            "| epoch  15 |    50/  235 batches | accuracy    0.900\n",
            "| epoch  15 |   100/  235 batches | accuracy    0.898\n",
            "| epoch  15 |   150/  235 batches | accuracy    0.902\n",
            "| epoch  15 |   200/  235 batches | accuracy    0.900\n",
            "-----------------------------------------------------------\n",
            "| End of epoch  15 | Time:  7.52s | Train Accuracy    0.899 | Train Loss    0.271 | Valid Accuracy    0.834 | Valid Loss    0.409 \n",
            "-----------------------------------------------------------\n",
            "| epoch  16 |    50/  235 batches | accuracy    0.907\n",
            "| epoch  16 |   100/  235 batches | accuracy    0.905\n",
            "| epoch  16 |   150/  235 batches | accuracy    0.914\n",
            "| epoch  16 |   200/  235 batches | accuracy    0.902\n",
            "-----------------------------------------------------------\n",
            "| End of epoch  16 | Time:  7.58s | Train Accuracy    0.904 | Train Loss    0.258 | Valid Accuracy    0.831 | Valid Loss    0.425 \n",
            "-----------------------------------------------------------\n",
            "| epoch  17 |    50/  235 batches | accuracy    0.914\n",
            "| epoch  17 |   100/  235 batches | accuracy    0.913\n",
            "| epoch  17 |   150/  235 batches | accuracy    0.911\n",
            "| epoch  17 |   200/  235 batches | accuracy    0.915\n",
            "-----------------------------------------------------------\n",
            "| End of epoch  17 | Time:  7.56s | Train Accuracy    0.907 | Train Loss    0.246 | Valid Accuracy    0.834 | Valid Loss    0.425 \n",
            "-----------------------------------------------------------\n",
            "| epoch  18 |    50/  235 batches | accuracy    0.920\n",
            "| epoch  18 |   100/  235 batches | accuracy    0.921\n",
            "| epoch  18 |   150/  235 batches | accuracy    0.918\n",
            "| epoch  18 |   200/  235 batches | accuracy    0.916\n",
            "-----------------------------------------------------------\n",
            "| End of epoch  18 | Time:  7.66s | Train Accuracy    0.911 | Train Loss    0.235 | Valid Accuracy    0.829 | Valid Loss    0.442 \n",
            "-----------------------------------------------------------\n",
            "| epoch  19 |    50/  235 batches | accuracy    0.926\n",
            "| epoch  19 |   100/  235 batches | accuracy    0.927\n",
            "| epoch  19 |   150/  235 batches | accuracy    0.923\n",
            "| epoch  19 |   200/  235 batches | accuracy    0.919\n",
            "-----------------------------------------------------------\n",
            "| End of epoch  19 | Time:  7.59s | Train Accuracy    0.927 | Train Loss    0.224 | Valid Accuracy    0.827 | Valid Loss    0.461 \n",
            "-----------------------------------------------------------\n",
            "| epoch  20 |    50/  235 batches | accuracy    0.930\n",
            "| epoch  20 |   100/  235 batches | accuracy    0.929\n",
            "| epoch  20 |   150/  235 batches | accuracy    0.931\n",
            "| epoch  20 |   200/  235 batches | accuracy    0.932\n",
            "-----------------------------------------------------------\n",
            "| End of epoch  20 | Time:  7.67s | Train Accuracy    0.929 | Train Loss    0.210 | Valid Accuracy    0.827 | Valid Loss    0.469 \n",
            "-----------------------------------------------------------\n",
            "| epoch  21 |    50/  235 batches | accuracy    0.939\n",
            "| epoch  21 |   100/  235 batches | accuracy    0.937\n",
            "| epoch  21 |   150/  235 batches | accuracy    0.937\n",
            "| epoch  21 |   200/  235 batches | accuracy    0.938\n",
            "-----------------------------------------------------------\n",
            "| End of epoch  21 | Time:  7.67s | Train Accuracy    0.930 | Train Loss    0.198 | Valid Accuracy    0.820 | Valid Loss    0.485 \n",
            "-----------------------------------------------------------\n",
            "| epoch  22 |    50/  235 batches | accuracy    0.945\n",
            "| epoch  22 |   100/  235 batches | accuracy    0.933\n",
            "| epoch  22 |   150/  235 batches | accuracy    0.942\n",
            "| epoch  22 |   200/  235 batches | accuracy    0.937\n",
            "-----------------------------------------------------------\n",
            "| End of epoch  22 | Time:  7.53s | Train Accuracy    0.944 | Train Loss    0.191 | Valid Accuracy    0.824 | Valid Loss    0.497 \n",
            "-----------------------------------------------------------\n",
            "| epoch  23 |    50/  235 batches | accuracy    0.952\n",
            "| epoch  23 |   100/  235 batches | accuracy    0.950\n",
            "| epoch  23 |   150/  235 batches | accuracy    0.943\n",
            "| epoch  23 |   200/  235 batches | accuracy    0.947\n",
            "-----------------------------------------------------------\n",
            "| End of epoch  23 | Time:  7.58s | Train Accuracy    0.945 | Train Loss    0.178 | Valid Accuracy    0.823 | Valid Loss    0.519 \n",
            "-----------------------------------------------------------\n",
            "| epoch  24 |    50/  235 batches | accuracy    0.955\n",
            "| epoch  24 |   100/  235 batches | accuracy    0.950\n",
            "| epoch  24 |   150/  235 batches | accuracy    0.955\n",
            "| epoch  24 |   200/  235 batches | accuracy    0.952\n",
            "-----------------------------------------------------------\n",
            "| End of epoch  24 | Time:  7.48s | Train Accuracy    0.946 | Train Loss    0.166 | Valid Accuracy    0.820 | Valid Loss    0.532 \n",
            "-----------------------------------------------------------\n",
            "| epoch  25 |    50/  235 batches | accuracy    0.957\n",
            "| epoch  25 |   100/  235 batches | accuracy    0.959\n",
            "| epoch  25 |   150/  235 batches | accuracy    0.954\n",
            "| epoch  25 |   200/  235 batches | accuracy    0.955\n",
            "-----------------------------------------------------------\n",
            "| End of epoch  25 | Time:  7.55s | Train Accuracy    0.960 | Train Loss    0.156 | Valid Accuracy    0.821 | Valid Loss    0.559 \n",
            "-----------------------------------------------------------\n",
            "| epoch  26 |    50/  235 batches | accuracy    0.961\n",
            "| epoch  26 |   100/  235 batches | accuracy    0.966\n",
            "| epoch  26 |   150/  235 batches | accuracy    0.955\n",
            "| epoch  26 |   200/  235 batches | accuracy    0.961\n",
            "-----------------------------------------------------------\n",
            "| End of epoch  26 | Time:  7.60s | Train Accuracy    0.960 | Train Loss    0.145 | Valid Accuracy    0.819 | Valid Loss    0.591 \n",
            "-----------------------------------------------------------\n",
            "| epoch  27 |    50/  235 batches | accuracy    0.966\n",
            "| epoch  27 |   100/  235 batches | accuracy    0.964\n",
            "| epoch  27 |   150/  235 batches | accuracy    0.962\n",
            "| epoch  27 |   200/  235 batches | accuracy    0.965\n",
            "-----------------------------------------------------------\n",
            "| End of epoch  27 | Time:  7.48s | Train Accuracy    0.960 | Train Loss    0.139 | Valid Accuracy    0.820 | Valid Loss    0.594 \n",
            "-----------------------------------------------------------\n",
            "| epoch  28 |    50/  235 batches | accuracy    0.973\n",
            "| epoch  28 |   100/  235 batches | accuracy    0.967\n",
            "| epoch  28 |   150/  235 batches | accuracy    0.968\n",
            "| epoch  28 |   200/  235 batches | accuracy    0.969\n",
            "-----------------------------------------------------------\n",
            "| End of epoch  28 | Time:  7.58s | Train Accuracy    0.962 | Train Loss    0.127 | Valid Accuracy    0.814 | Valid Loss    0.637 \n",
            "-----------------------------------------------------------\n",
            "| epoch  29 |    50/  235 batches | accuracy    0.972\n",
            "| epoch  29 |   100/  235 batches | accuracy    0.972\n",
            "| epoch  29 |   150/  235 batches | accuracy    0.969\n",
            "| epoch  29 |   200/  235 batches | accuracy    0.972\n",
            "-----------------------------------------------------------\n",
            "| End of epoch  29 | Time:  7.49s | Train Accuracy    0.967 | Train Loss    0.119 | Valid Accuracy    0.815 | Valid Loss    0.664 \n",
            "-----------------------------------------------------------\n",
            "| epoch  30 |    50/  235 batches | accuracy    0.974\n",
            "| epoch  30 |   100/  235 batches | accuracy    0.970\n",
            "| epoch  30 |   150/  235 batches | accuracy    0.969\n",
            "| epoch  30 |   200/  235 batches | accuracy    0.976\n",
            "-----------------------------------------------------------\n",
            "| End of epoch  30 | Time:  7.61s | Train Accuracy    0.974 | Train Loss    0.114 | Valid Accuracy    0.816 | Valid Loss    0.677 \n",
            "-----------------------------------------------------------\n",
            "| epoch  31 |    50/  235 batches | accuracy    0.975\n",
            "| epoch  31 |   100/  235 batches | accuracy    0.972\n",
            "| epoch  31 |   150/  235 batches | accuracy    0.977\n",
            "| epoch  31 |   200/  235 batches | accuracy    0.975\n",
            "-----------------------------------------------------------\n",
            "| End of epoch  31 | Time:  7.66s | Train Accuracy    0.974 | Train Loss    0.106 | Valid Accuracy    0.815 | Valid Loss    0.678 \n",
            "-----------------------------------------------------------\n",
            "| epoch  32 |    50/  235 batches | accuracy    0.979\n",
            "| epoch  32 |   100/  235 batches | accuracy    0.973\n",
            "| epoch  32 |   150/  235 batches | accuracy    0.978\n",
            "| epoch  32 |   200/  235 batches | accuracy    0.980\n",
            "-----------------------------------------------------------\n",
            "| End of epoch  32 | Time:  7.52s | Train Accuracy    0.975 | Train Loss    0.100 | Valid Accuracy    0.814 | Valid Loss    0.705 \n",
            "-----------------------------------------------------------\n",
            "| epoch  33 |    50/  235 batches | accuracy    0.980\n",
            "| epoch  33 |   100/  235 batches | accuracy    0.977\n",
            "| epoch  33 |   150/  235 batches | accuracy    0.977\n",
            "| epoch  33 |   200/  235 batches | accuracy    0.977\n",
            "-----------------------------------------------------------\n",
            "| End of epoch  33 | Time:  7.60s | Train Accuracy    0.975 | Train Loss    0.098 | Valid Accuracy    0.817 | Valid Loss    0.705 \n",
            "-----------------------------------------------------------\n",
            "| epoch  34 |    50/  235 batches | accuracy    0.981\n",
            "| epoch  34 |   100/  235 batches | accuracy    0.983\n",
            "| epoch  34 |   150/  235 batches | accuracy    0.979\n",
            "| epoch  34 |   200/  235 batches | accuracy    0.978\n",
            "-----------------------------------------------------------\n",
            "| End of epoch  34 | Time:  7.54s | Train Accuracy    0.979 | Train Loss    0.089 | Valid Accuracy    0.813 | Valid Loss    0.730 \n",
            "-----------------------------------------------------------\n",
            "| epoch  35 |    50/  235 batches | accuracy    0.977\n",
            "| epoch  35 |   100/  235 batches | accuracy    0.979\n",
            "| epoch  35 |   150/  235 batches | accuracy    0.981\n",
            "| epoch  35 |   200/  235 batches | accuracy    0.978\n",
            "-----------------------------------------------------------\n",
            "| End of epoch  35 | Time:  7.58s | Train Accuracy    0.978 | Train Loss    0.089 | Valid Accuracy    0.815 | Valid Loss    0.758 \n",
            "-----------------------------------------------------------\n",
            "| epoch  36 |    50/  235 batches | accuracy    0.980\n",
            "| epoch  36 |   100/  235 batches | accuracy    0.979\n",
            "| epoch  36 |   150/  235 batches | accuracy    0.981\n",
            "| epoch  36 |   200/  235 batches | accuracy    0.982\n",
            "-----------------------------------------------------------\n",
            "| End of epoch  36 | Time:  7.60s | Train Accuracy    0.982 | Train Loss    0.084 | Valid Accuracy    0.815 | Valid Loss    0.769 \n",
            "-----------------------------------------------------------\n",
            "| epoch  37 |    50/  235 batches | accuracy    0.984\n",
            "| epoch  37 |   100/  235 batches | accuracy    0.985\n",
            "| epoch  37 |   150/  235 batches | accuracy    0.984\n",
            "| epoch  37 |   200/  235 batches | accuracy    0.984\n",
            "-----------------------------------------------------------\n",
            "| End of epoch  37 | Time:  7.49s | Train Accuracy    0.982 | Train Loss    0.075 | Valid Accuracy    0.814 | Valid Loss    0.798 \n",
            "-----------------------------------------------------------\n",
            "| epoch  38 |    50/  235 batches | accuracy    0.987\n",
            "| epoch  38 |   100/  235 batches | accuracy    0.985\n",
            "| epoch  38 |   150/  235 batches | accuracy    0.981\n",
            "| epoch  38 |   200/  235 batches | accuracy    0.985\n",
            "-----------------------------------------------------------\n",
            "| End of epoch  38 | Time:  7.60s | Train Accuracy    0.982 | Train Loss    0.073 | Valid Accuracy    0.815 | Valid Loss    0.813 \n",
            "-----------------------------------------------------------\n",
            "| epoch  39 |    50/  235 batches | accuracy    0.986\n",
            "| epoch  39 |   100/  235 batches | accuracy    0.983\n",
            "| epoch  39 |   150/  235 batches | accuracy    0.984\n",
            "| epoch  39 |   200/  235 batches | accuracy    0.986\n",
            "-----------------------------------------------------------\n",
            "| End of epoch  39 | Time:  7.56s | Train Accuracy    0.983 | Train Loss    0.072 | Valid Accuracy    0.810 | Valid Loss    0.831 \n",
            "-----------------------------------------------------------\n",
            "| epoch  40 |    50/  235 batches | accuracy    0.984\n",
            "| epoch  40 |   100/  235 batches | accuracy    0.988\n",
            "| epoch  40 |   150/  235 batches | accuracy    0.985\n",
            "| epoch  40 |   200/  235 batches | accuracy    0.986\n",
            "-----------------------------------------------------------\n",
            "| End of epoch  40 | Time:  7.56s | Train Accuracy    0.980 | Train Loss    0.068 | Valid Accuracy    0.810 | Valid Loss    0.827 \n",
            "-----------------------------------------------------------\n",
            "| epoch  41 |    50/  235 batches | accuracy    0.986\n",
            "| epoch  41 |   100/  235 batches | accuracy    0.990\n",
            "| epoch  41 |   150/  235 batches | accuracy    0.983\n",
            "| epoch  41 |   200/  235 batches | accuracy    0.984\n",
            "-----------------------------------------------------------\n",
            "| End of epoch  41 | Time:  7.59s | Train Accuracy    0.985 | Train Loss    0.066 | Valid Accuracy    0.812 | Valid Loss    0.832 \n",
            "-----------------------------------------------------------\n",
            "| epoch  42 |    50/  235 batches | accuracy    0.989\n",
            "| epoch  42 |   100/  235 batches | accuracy    0.988\n",
            "| epoch  42 |   150/  235 batches | accuracy    0.988\n",
            "| epoch  42 |   200/  235 batches | accuracy    0.986\n",
            "-----------------------------------------------------------\n",
            "| End of epoch  42 | Time:  7.50s | Train Accuracy    0.984 | Train Loss    0.061 | Valid Accuracy    0.811 | Valid Loss    0.868 \n",
            "-----------------------------------------------------------\n",
            "| epoch  43 |    50/  235 batches | accuracy    0.987\n",
            "| epoch  43 |   100/  235 batches | accuracy    0.982\n",
            "| epoch  43 |   150/  235 batches | accuracy    0.987\n",
            "| epoch  43 |   200/  235 batches | accuracy    0.988\n",
            "-----------------------------------------------------------\n",
            "| End of epoch  43 | Time:  7.59s | Train Accuracy    0.987 | Train Loss    0.061 | Valid Accuracy    0.812 | Valid Loss    0.903 \n",
            "-----------------------------------------------------------\n",
            "| epoch  44 |    50/  235 batches | accuracy    0.987\n",
            "| epoch  44 |   100/  235 batches | accuracy    0.986\n",
            "| epoch  44 |   150/  235 batches | accuracy    0.989\n",
            "| epoch  44 |   200/  235 batches | accuracy    0.986\n",
            "-----------------------------------------------------------\n",
            "| End of epoch  44 | Time:  7.58s | Train Accuracy    0.990 | Train Loss    0.058 | Valid Accuracy    0.810 | Valid Loss    0.921 \n",
            "-----------------------------------------------------------\n",
            "| epoch  45 |    50/  235 batches | accuracy    0.987\n",
            "| epoch  45 |   100/  235 batches | accuracy    0.989\n",
            "| epoch  45 |   150/  235 batches | accuracy    0.989\n",
            "| epoch  45 |   200/  235 batches | accuracy    0.987\n",
            "-----------------------------------------------------------\n",
            "| End of epoch  45 | Time:  7.56s | Train Accuracy    0.987 | Train Loss    0.057 | Valid Accuracy    0.811 | Valid Loss    0.905 \n",
            "-----------------------------------------------------------\n",
            "| epoch  46 |    50/  235 batches | accuracy    0.988\n",
            "| epoch  46 |   100/  235 batches | accuracy    0.988\n",
            "| epoch  46 |   150/  235 batches | accuracy    0.989\n",
            "| epoch  46 |   200/  235 batches | accuracy    0.988\n",
            "-----------------------------------------------------------\n",
            "| End of epoch  46 | Time:  7.60s | Train Accuracy    0.989 | Train Loss    0.054 | Valid Accuracy    0.812 | Valid Loss    0.917 \n",
            "-----------------------------------------------------------\n",
            "| epoch  47 |    50/  235 batches | accuracy    0.990\n",
            "| epoch  47 |   100/  235 batches | accuracy    0.987\n",
            "| epoch  47 |   150/  235 batches | accuracy    0.988\n",
            "| epoch  47 |   200/  235 batches | accuracy    0.986\n",
            "-----------------------------------------------------------\n",
            "| End of epoch  47 | Time:  7.50s | Train Accuracy    0.988 | Train Loss    0.054 | Valid Accuracy    0.811 | Valid Loss    0.910 \n",
            "-----------------------------------------------------------\n",
            "| epoch  48 |    50/  235 batches | accuracy    0.990\n",
            "| epoch  48 |   100/  235 batches | accuracy    0.987\n",
            "| epoch  48 |   150/  235 batches | accuracy    0.988\n",
            "| epoch  48 |   200/  235 batches | accuracy    0.988\n",
            "-----------------------------------------------------------\n",
            "| End of epoch  48 | Time:  7.60s | Train Accuracy    0.989 | Train Loss    0.053 | Valid Accuracy    0.811 | Valid Loss    0.963 \n",
            "-----------------------------------------------------------\n",
            "| epoch  49 |    50/  235 batches | accuracy    0.988\n",
            "| epoch  49 |   100/  235 batches | accuracy    0.991\n",
            "| epoch  49 |   150/  235 batches | accuracy    0.992\n",
            "| epoch  49 |   200/  235 batches | accuracy    0.987\n",
            "-----------------------------------------------------------\n",
            "| End of epoch  49 | Time:  7.59s | Train Accuracy    0.989 | Train Loss    0.048 | Valid Accuracy    0.815 | Valid Loss    0.967 \n",
            "-----------------------------------------------------------\n",
            "| epoch  50 |    50/  235 batches | accuracy    0.991\n",
            "| epoch  50 |   100/  235 batches | accuracy    0.989\n",
            "| epoch  50 |   150/  235 batches | accuracy    0.987\n",
            "| epoch  50 |   200/  235 batches | accuracy    0.990\n",
            "-----------------------------------------------------------\n",
            "| End of epoch  50 | Time:  7.56s | Train Accuracy    0.990 | Train Loss    0.049 | Valid Accuracy    0.814 | Valid Loss    0.976 \n",
            "-----------------------------------------------------------\n"
          ]
        }
      ],
      "source": [
        "import os\n",
        "import torch.optim as optim\n",
        "\n",
        "device = torch.device('cuda' if torch.cuda.is_available() else 'cpu')\n",
        "\n",
        "model = TransformerEncoderCls(\n",
        "    vocab_size, max_length, num_layers, embed_dim, num_heads, ff_dim, dropout, device\n",
        ")\n",
        "model.to(device)\n",
        "\n",
        "criterion = torch.nn.CrossEntropyLoss()\n",
        "optimizer = optim.Adam(model.parameters(), lr=0.00005)\n",
        "\n",
        "num_epochs = 50\n",
        "save_model = './model'\n",
        "os.makedirs(save_model, exist_ok = True)\n",
        "model_name = 'model'\n",
        "\n",
        "model, metrics = train(\n",
        "    model, model_name, save_model, optimizer, criterion, train_dataloader, valid_dataloader, num_epochs, device\n",
        ")"
      ]
    },
    {
      "cell_type": "code",
      "execution_count": 69,
      "metadata": {
        "colab": {
          "base_uri": "https://localhost:8080/",
          "height": 452
        },
        "id": "ta6k90oHIvOR",
        "outputId": "e5527bae-ecd7-475d-d2fa-e19b5937a42e"
      },
      "outputs": [
        {
          "output_type": "display_data",
          "data": {
            "text/plain": [
              "<Figure size 1200x600 with 2 Axes>"
            ],
            "image/png": "[encoded data removed]"
          },
          "metadata": {}
        }
      ],
      "source": [
        "plot_result(\n",
        "    num_epochs,\n",
        "    metrics[\"train_accuracy\"],\n",
        "    metrics[\"valid_accuracy\"],\n",
        "    metrics[\"train_loss\"],\n",
        "    metrics[\"valid_loss\"]\n",
        ")"
      ]
    },
    {
      "cell_type": "code",
      "execution_count": 70,
      "metadata": {
        "colab": {
          "base_uri": "https://localhost:8080/"
        },
        "id": "ypREQ2FiJE1x",
        "outputId": "f758ab0a-f7b9-48e8-b04a-08cb08419250"
      },
      "outputs": [
        {
          "output_type": "execute_result",
          "data": {
            "text/plain": [
              "(0.8262, 0.8825848649574232)"
            ]
          },
          "metadata": {},
          "execution_count": 70
        }
      ],
      "source": [
        "test_acc, test_loss = evaluate_epoch(model, criterion, test_dataloader, device)\n",
        "test_acc, test_loss"
      ]
    },
    {
      "cell_type": "markdown",
      "metadata": {
        "id": "hdYC4qcP-Ij7"
      },
      "source": [
        "#**Text Classification using BERT**"
      ]
    },
    {
      "cell_type": "code",
      "execution_count": 3,
      "metadata": {
        "id": "RUx2wZob22p5"
      },
      "outputs": [],
      "source": [
        "!pip install -q datasets accelerate evaluate"
      ]
    },
    {
      "cell_type": "markdown",
      "metadata": {
        "id": "aM_HdmL-877L"
      },
      "source": [
        "###**Load Dataset**"
      ]
    },
    {
      "cell_type": "code",
      "execution_count": 4,
      "metadata": {
        "colab": {
          "base_uri": "https://localhost:8080/"
        },
        "id": "4EosXtlufQmm",
        "outputId": "03e3af05-fb93-42b7-a191-f58939843fee"
      },
      "outputs": [
        {
          "output_type": "stream",
          "name": "stderr",
          "text": [
            "/usr/local/lib/python3.10/dist-packages/huggingface_hub/utils/_auth.py:94: UserWarning: \n",
            "The secret `HF_TOKEN` does not exist in your Colab secrets.\n",
            "To authenticate with the Hugging Face Hub, create a token in your settings tab (https://huggingface.co/settings/tokens), set it as secret in your Google Colab and restart your session.\n",
            "You will be able to reuse this secret in all of your notebooks.\n",
            "Please note that authentication is recommended but still optional to access public models or datasets.\n",
            "  warnings.warn(\n"
          ]
        }
      ],
      "source": [
        "from datasets import load_dataset\n",
        "\n",
        "ds = load_dataset('thainq107/ntc-scv')"
      ]
    },
    {
      "cell_type": "code",
      "execution_count": 5,
      "metadata": {
        "colab": {
          "base_uri": "https://localhost:8080/"
        },
        "id": "FvckiwYPkgBe",
        "outputId": "2ce2bb3e-4f7f-4c52-bc9e-3b5a1bc3ad8a"
      },
      "outputs": [
        {
          "output_type": "execute_result",
          "data": {
            "text/plain": [
              "DatasetDict({\n",
              "    train: Dataset({\n",
              "        features: ['sentence', 'label', 'preprocessed_sentence'],\n",
              "        num_rows: 30000\n",
              "    })\n",
              "    valid: Dataset({\n",
              "        features: ['sentence', 'label', 'preprocessed_sentence'],\n",
              "        num_rows: 10000\n",
              "    })\n",
              "    test: Dataset({\n",
              "        features: ['sentence', 'label', 'preprocessed_sentence'],\n",
              "        num_rows: 10000\n",
              "    })\n",
              "})"
            ]
          },
          "metadata": {},
          "execution_count": 5
        }
      ],
      "source": [
        "ds"
      ]
    },
    {
      "cell_type": "markdown",
      "metadata": {
        "id": "jFdCe6-_9B4x"
      },
      "source": [
        "###**Preprocessing**"
      ]
    },
    {
      "cell_type": "code",
      "execution_count": 6,
      "metadata": {
        "id": "iefjYeL422ga"
      },
      "outputs": [],
      "source": [
        "from transformers import AutoTokenizer\n",
        "\n",
        "model_name = \"distilbert-base-uncased\"\n",
        "\n",
        "tokenizer = AutoTokenizer.from_pretrained(\n",
        "    model_name,\n",
        "    use_fast=True\n",
        ")"
      ]
    },
    {
      "cell_type": "code",
      "execution_count": 7,
      "metadata": {
        "colab": {
          "base_uri": "https://localhost:8080/"
        },
        "id": "NcDUoP0INfjA",
        "outputId": "44f536cd-1cf8-4183-ec36-89687e765903"
      },
      "outputs": [
        {
          "output_type": "execute_result",
          "data": {
            "text/plain": [
              "512"
            ]
          },
          "metadata": {},
          "execution_count": 7
        }
      ],
      "source": [
        "tokenizer.model_max_length"
      ]
    },
    {
      "cell_type": "code",
      "execution_count": 8,
      "metadata": {
        "id": "KJtMa0Rc9lw1"
      },
      "outputs": [],
      "source": [
        "max_seq_length = 100\n",
        "max_seq_length = min(max_seq_length, tokenizer.model_max_length)\n",
        "\n",
        "def preprocess_function(examples):\n",
        "    # Tokenize the texts\n",
        "\n",
        "    result = tokenizer(\n",
        "        examples[\"preprocessed_sentence\"],\n",
        "        padding=\"max_length\",\n",
        "        max_length=max_seq_length,\n",
        "        truncation=True\n",
        "    )\n",
        "    result[\"label\"] = examples['label']\n",
        "\n",
        "    return result"
      ]
    },
    {
      "cell_type": "code",
      "execution_count": 9,
      "metadata": {
        "colab": {
          "base_uri": "https://localhost:8080/",
          "height": 49,
          "referenced_widgets": [
            "5c946403919b4758a4e82f745cea3677",
            "9d02e4ce31d14cb68d73407128c8ea4a",
            "90f582e13f424c45b79c664efdcadfd8",
            "ad4c8931f43c45c9950390f1a187457c",
            "9e407419273b4548a9d60b1a1ba6f2e3",
            "fbd558e321474ab7bf981a7176e7a7cf",
            "6118a7fd20e94216bb3abd2744949659",
            "09ec9f9485a04c54865cde07b9b77499",
            "94e9f05e7ee4434ba922b3fbc15e1ff8",
            "1ec3433558694c53aa12ce27b6706057",
            "7642c773449e4d37ae2acb02a2501942"
          ]
        },
        "id": "Z07eKnrN-KqG",
        "outputId": "f45da568-b30b-4b8b-a873-3a2d9df5c355"
      },
      "outputs": [
        {
          "output_type": "display_data",
          "data": {
            "text/plain": [
              "Running tokenizer on dataset:   0%|          | 0/10000 [00:00<?, ? examples/s]"
            ],
            "application/vnd.jupyter.widget-view+json": {
              "version_major": 2,
              "version_minor": 0,
              "model_id": "5c946403919b4758a4e82f745cea3677"
            }
          },
          "metadata": {}
        }
      ],
      "source": [
        "# Running the preprocessing pipeline on all the datasets\n",
        "processed_dataset = ds.map(\n",
        "    preprocess_function,\n",
        "    batched=True,\n",
        "    desc=\"Running tokenizer on dataset\",\n",
        ")"
      ]
    },
    {
      "cell_type": "code",
      "execution_count": 10,
      "metadata": {
        "colab": {
          "base_uri": "https://localhost:8080/"
        },
        "id": "bRqF6DCy-egz",
        "outputId": "ed98c67b-2d1c-46b9-b600-1bd24ff1f947"
      },
      "outputs": [
        {
          "output_type": "execute_result",
          "data": {
            "text/plain": [
              "DatasetDict({\n",
              "    train: Dataset({\n",
              "        features: ['sentence', 'label', 'preprocessed_sentence', 'input_ids', 'attention_mask'],\n",
              "        num_rows: 30000\n",
              "    })\n",
              "    valid: Dataset({\n",
              "        features: ['sentence', 'label', 'preprocessed_sentence', 'input_ids', 'attention_mask'],\n",
              "        num_rows: 10000\n",
              "    })\n",
              "    test: Dataset({\n",
              "        features: ['sentence', 'label', 'preprocessed_sentence', 'input_ids', 'attention_mask'],\n",
              "        num_rows: 10000\n",
              "    })\n",
              "})"
            ]
          },
          "metadata": {},
          "execution_count": 10
        }
      ],
      "source": [
        "processed_dataset"
      ]
    },
    {
      "cell_type": "markdown",
      "metadata": {
        "id": "P6qNK9hT9LGI"
      },
      "source": [
        "###**Modeling**"
      ]
    },
    {
      "cell_type": "code",
      "execution_count": 11,
      "metadata": {
        "colab": {
          "base_uri": "https://localhost:8080/",
          "height": 104,
          "referenced_widgets": [
            "1f2131b09a8346d59de72b6b94eb6dca",
            "555005c5137544f6a8180d51a8f00f9f",
            "8ff5753fc2614aa59bb3c068527b77dc",
            "cf75b0b498ad4c7088ad65635d18adf9",
            "215b4f4483ba4110be950a4c8a615f31",
            "4342e17275da4521a5095b643b14f4cb",
            "e5dbbd8fe5ab47f5a8410b2ebcfcfa72",
            "a77921345cca4a939c85fb9fc09593c9",
            "d5768e286fb34e1e8ed5b4e2d980bcef",
            "0a9106f39f6f4874bf5e073a55b0b41d",
            "50f077029ebb4de1b5ef4548802104ed"
          ]
        },
        "id": "NQOsy5-V9NfU",
        "outputId": "cfb50fba-dc37-4764-eaa9-8c23cf8677de"
      },
      "outputs": [
        {
          "output_type": "display_data",
          "data": {
            "text/plain": [
              "model.safetensors:   0%|          | 0.00/268M [00:00<?, ?B/s]"
            ],
            "application/vnd.jupyter.widget-view+json": {
              "version_major": 2,
              "version_minor": 0,
              "model_id": "1f2131b09a8346d59de72b6b94eb6dca"
            }
          },
          "metadata": {}
        },
        {
          "output_type": "stream",
          "name": "stderr",
          "text": [
            "Some weights of DistilBertForSequenceClassification were not initialized from the model checkpoint at distilbert-base-uncased and are newly initialized: ['classifier.bias', 'classifier.weight', 'pre_classifier.bias', 'pre_classifier.weight']\n",
            "You should probably TRAIN this model on a down-stream task to be able to use it for predictions and inference.\n"
          ]
        }
      ],
      "source": [
        "from transformers import AutoConfig, AutoModelForSequenceClassification\n",
        "\n",
        "num_labels = 2\n",
        "\n",
        "config = AutoConfig.from_pretrained(\n",
        "    model_name,\n",
        "    num_labels=num_labels,\n",
        "    finetuning_task=\"text-classification\"\n",
        ")\n",
        "\n",
        "model = AutoModelForSequenceClassification.from_pretrained(\n",
        "    model_name,\n",
        "    config=config\n",
        ")"
      ]
    },
    {
      "cell_type": "code",
      "execution_count": 12,
      "metadata": {
        "colab": {
          "base_uri": "https://localhost:8080/"
        },
        "id": "8eKKz3g_82O_",
        "outputId": "4de16cbf-c336-4ea8-a276-13d80853ac7d"
      },
      "outputs": [
        {
          "output_type": "execute_result",
          "data": {
            "text/plain": [
              "DistilBertForSequenceClassification(\n",
              "  (distilbert): DistilBertModel(\n",
              "    (embeddings): Embeddings(\n",
              "      (word_embeddings): Embedding(30522, 768, padding_idx=0)\n",
              "      (position_embeddings): Embedding(512, 768)\n",
              "      (LayerNorm): LayerNorm((768,), eps=1e-12, elementwise_affine=True)\n",
              "      (dropout): Dropout(p=0.1, inplace=False)\n",
              "    )\n",
              "    (transformer): Transformer(\n",
              "      (layer): ModuleList(\n",
              "        (0-5): 6 x TransformerBlock(\n",
              "          (attention): DistilBertSdpaAttention(\n",
              "            (dropout): Dropout(p=0.1, inplace=False)\n",
              "            (q_lin): Linear(in_features=768, out_features=768, bias=True)\n",
              "            (k_lin): Linear(in_features=768, out_features=768, bias=True)\n",
              "            (v_lin): Linear(in_features=768, out_features=768, bias=True)\n",
              "            (out_lin): Linear(in_features=768, out_features=768, bias=True)\n",
              "          )\n",
              "          (sa_layer_norm): LayerNorm((768,), eps=1e-12, elementwise_affine=True)\n",
              "          (ffn): FFN(\n",
              "            (dropout): Dropout(p=0.1, inplace=False)\n",
              "            (lin1): Linear(in_features=768, out_features=3072, bias=True)\n",
              "            (lin2): Linear(in_features=3072, out_features=768, bias=True)\n",
              "            (activation): GELUActivation()\n",
              "          )\n",
              "          (output_layer_norm): LayerNorm((768,), eps=1e-12, elementwise_affine=True)\n",
              "        )\n",
              "      )\n",
              "    )\n",
              "  )\n",
              "  (pre_classifier): Linear(in_features=768, out_features=768, bias=True)\n",
              "  (classifier): Linear(in_features=768, out_features=2, bias=True)\n",
              "  (dropout): Dropout(p=0.2, inplace=False)\n",
              ")"
            ]
          },
          "metadata": {},
          "execution_count": 12
        }
      ],
      "source": [
        "model"
      ]
    },
    {
      "cell_type": "markdown",
      "metadata": {
        "id": "nOmxsH8D-rjy"
      },
      "source": [
        "###**Metric**"
      ]
    },
    {
      "cell_type": "code",
      "execution_count": 13,
      "metadata": {
        "colab": {
          "base_uri": "https://localhost:8080/",
          "height": 49,
          "referenced_widgets": [
            "3a387edbe04543529d4145b0168e6451",
            "bbed512e858949a19916cae54b746e55",
            "9a12674382a84623a10e74268ddb20cb",
            "3931fc4df54b488e80a58d815e11221a",
            "697267f1fcd145289373b1f13801a5df",
            "129324e3110447ccb1a23d6cb7d1d47f",
            "ef73d54069654625ac0079bc27e27931",
            "35e773cf1c1d4beba14959b38e9648d9",
            "3a3f95280b884be09c0388559b566016",
            "bbe35db585f0433485435d8913b1e7ed",
            "43157990aa224d888dbb8090e733bb7e"
          ]
        },
        "id": "MG0LKHkp-t_S",
        "outputId": "5fcf9b69-55e4-4545-9edd-c5b7b3b32daa"
      },
      "outputs": [
        {
          "output_type": "display_data",
          "data": {
            "text/plain": [
              "Downloading builder script:   0%|          | 0.00/4.20k [00:00<?, ?B/s]"
            ],
            "application/vnd.jupyter.widget-view+json": {
              "version_major": 2,
              "version_minor": 0,
              "model_id": "3a387edbe04543529d4145b0168e6451"
            }
          },
          "metadata": {}
        }
      ],
      "source": [
        "import numpy as np\n",
        "import evaluate\n",
        "\n",
        "metric = evaluate.load(\"accuracy\")\n",
        "def compute_metrics(eval_pred):\n",
        "    predictions, labels = eval_pred\n",
        "    predictions = np.argmax(predictions, axis=1)\n",
        "    result = metric.compute(predictions=predictions, references=labels)\n",
        "    return result"
      ]
    },
    {
      "cell_type": "markdown",
      "metadata": {
        "id": "UP4hXEfG_CtY"
      },
      "source": [
        "###**Trainer**"
      ]
    },
    {
      "cell_type": "code",
      "execution_count": 14,
      "metadata": {
        "id": "RNuVNnnJ_Opc",
        "colab": {
          "base_uri": "https://localhost:8080/"
        },
        "outputId": "bd2341b8-a2f4-465f-862a-e754eb029fb9"
      },
      "outputs": [
        {
          "output_type": "stream",
          "name": "stderr",
          "text": [
            "/usr/local/lib/python3.10/dist-packages/transformers/training_args.py:1575: FutureWarning: `evaluation_strategy` is deprecated and will be removed in version 4.46 of 🤗 Transformers. Use `eval_strategy` instead\n",
            "  warnings.warn(\n",
            "<ipython-input-14-1d8e69985dd1>:14: FutureWarning: `tokenizer` is deprecated and will be removed in version 5.0.0 for `Trainer.__init__`. Use `processing_class` instead.\n",
            "  trainer = Trainer(\n"
          ]
        }
      ],
      "source": [
        "from transformers import TrainingArguments, Trainer\n",
        "\n",
        "training_args = TrainingArguments(\n",
        "    output_dir='ntc-scv-distilbert-base-uncased',\n",
        "    learning_rate=2e-5,\n",
        "    per_device_train_batch_size=256,\n",
        "    per_device_eval_batch_size=256,\n",
        "    num_train_epochs=10,\n",
        "    evaluation_strategy=\"epoch\",\n",
        "    save_strategy=\"epoch\",\n",
        "    load_best_model_at_end=True\n",
        ")\n",
        "\n",
        "trainer = Trainer(\n",
        "    model=model,\n",
        "    args=training_args,\n",
        "    train_dataset=processed_dataset[\"train\"],\n",
        "    eval_dataset=processed_dataset[\"valid\"],\n",
        "    compute_metrics=compute_metrics,\n",
        "    tokenizer=tokenizer,\n",
        ")"
      ]
    },
    {
      "cell_type": "markdown",
      "metadata": {
        "id": "zbpMxgESAtts"
      },
      "source": [
        "###**Training**"
      ]
    },
    {
      "cell_type": "code",
      "source": [
        "import wandb\n",
        "wandb.init(mode='disabled')"
      ],
      "metadata": {
        "id": "EM9Ign2HbcSn",
        "colab": {
          "base_uri": "https://localhost:8080/",
          "height": 38
        },
        "outputId": "5ed1a5a4-59b6-4de5-c653-cb898808ef7a"
      },
      "execution_count": 15,
      "outputs": [
        {
          "output_type": "execute_result",
          "data": {
            "text/html": [
              "<button onClick=\"this.nextSibling.style.display='block';this.style.display='none';\">Display W&B run</button><iframe src='https://wandb.ai/dummy/dummy/runs/0hzr2m3f?jupyter=true' style='border:none;width:100%;height:420px;display:none;'></iframe>"
            ],
            "text/plain": [
              "<wandb.sdk.wandb_run.Run at 0x7e100186c130>"
            ]
          },
          "metadata": {},
          "execution_count": 15
        }
      ]
    },
    {
      "cell_type": "code",
      "execution_count": 16,
      "metadata": {
        "colab": {
          "base_uri": "https://localhost:8080/",
          "height": 750
        },
        "id": "DsSv31xY_GI_",
        "outputId": "9da3abd3-f72c-4ec8-8cf3-c0569596d6a3"
      },
      "outputs": [
        {
          "metadata": {
            "tags": null
          },
          "name": "stderr",
          "output_type": "stream",
          "text": [
            "\u001b[34m\u001b[1mwandb\u001b[0m: \u001b[33mWARNING\u001b[0m The `run_name` is currently set to the same value as `TrainingArguments.output_dir`. If this was not intended, please specify a different run name by setting the `TrainingArguments.run_name` parameter.\n"
          ]
        },
        {
          "data": {
            "text/html": [
              "\n",
              "    <div>\n",
              "      \n",
              "      <progress value='990' max='1180' style='width:300px; height:20px; vertical-align: middle;'></progress>\n",
              "      [ 990/1180 35:23 < 06:48, 0.47 it/s, Epoch 8.38/10]\n",
              "    </div>\n",
              "    <table border=\"1\" class=\"dataframe\">\n",
              "  <thead>\n",
              " <tr style=\"text-align: left;\">\n",
              "      <th>Epoch</th>\n",
              "      <th>Training Loss</th>\n",
              "      <th>Validation Loss</th>\n",
              "      <th>Accuracy</th>\n",
              "    </tr>\n",
              "  </thead>\n",
              "  <tbody>\n",
              "    <tr>\n",
              "      <td>1</td>\n",
              "      <td>No log</td>\n",
              "      <td>0.479013</td>\n",
              "      <td>0.772500</td>\n",
              "    </tr>\n",
              "    <tr>\n",
              "      <td>2</td>\n",
              "      <td>No log</td>\n",
              "      <td>0.451328</td>\n",
              "      <td>0.795100</td>\n",
              "    </tr>\n",
              "    <tr>\n",
              "      <td>3</td>\n",
              "      <td>No log</td>\n",
              "      <td>0.431728</td>\n",
              "      <td>0.808500</td>\n",
              "    </tr>\n",
              "    <tr>\n",
              "      <td>4</td>\n",
              "      <td>No log</td>\n",
              "      <td>0.439728</td>\n",
              "      <td>0.804300</td>\n",
              "    </tr>\n",
              "    <tr>\n",
              "      <td>5</td>\n",
              "      <td>0.453000</td>\n",
              "      <td>0.403761</td>\n",
              "      <td>0.829200</td>\n",
              "    </tr>\n",
              "    <tr>\n",
              "      <td>6</td>\n",
              "      <td>0.453000</td>\n",
              "      <td>0.394464</td>\n",
              "      <td>0.829400</td>\n",
              "    </tr>\n",
              "    <tr>\n",
              "      <td>7</td>\n",
              "      <td>0.453000</td>\n",
              "      <td>0.407543</td>\n",
              "      <td>0.834000</td>\n",
              "    </tr>\n",
              "    <tr>\n",
              "      <td>8</td>\n",
              "      <td>0.453000</td>\n",
              "      <td>0.406858</td>\n",
              "      <td>0.832400</td>\n",
              "    </tr>\n",
              "  </tbody>\n",
              "</table><p>"
            ],
            "text/plain": [
              "<IPython.core.display.HTML object>"
            ]
          },
          "metadata": {},
          "output_type": "display_data"
        },
        {
          "output_type": "display_data",
          "data": {
            "text/plain": [
              "<IPython.core.display.HTML object>"
            ],
            "text/html": [
              "\n",
              "    <div>\n",
              "      \n",
              "      <progress value='1180' max='1180' style='width:300px; height:20px; vertical-align: middle;'></progress>\n",
              "      [1180/1180 43:03, Epoch 10/10]\n",
              "    </div>\n",
              "    <table border=\"1\" class=\"dataframe\">\n",
              "  <thead>\n",
              " <tr style=\"text-align: left;\">\n",
              "      <th>Epoch</th>\n",
              "      <th>Training Loss</th>\n",
              "      <th>Validation Loss</th>\n",
              "      <th>Accuracy</th>\n",
              "    </tr>\n",
              "  </thead>\n",
              "  <tbody>\n",
              "    <tr>\n",
              "      <td>1</td>\n",
              "      <td>No log</td>\n",
              "      <td>0.479013</td>\n",
              "      <td>0.772500</td>\n",
              "    </tr>\n",
              "    <tr>\n",
              "      <td>2</td>\n",
              "      <td>No log</td>\n",
              "      <td>0.451328</td>\n",
              "      <td>0.795100</td>\n",
              "    </tr>\n",
              "    <tr>\n",
              "      <td>3</td>\n",
              "      <td>No log</td>\n",
              "      <td>0.431728</td>\n",
              "      <td>0.808500</td>\n",
              "    </tr>\n",
              "    <tr>\n",
              "      <td>4</td>\n",
              "      <td>No log</td>\n",
              "      <td>0.439728</td>\n",
              "      <td>0.804300</td>\n",
              "    </tr>\n",
              "    <tr>\n",
              "      <td>5</td>\n",
              "      <td>0.453000</td>\n",
              "      <td>0.403761</td>\n",
              "      <td>0.829200</td>\n",
              "    </tr>\n",
              "    <tr>\n",
              "      <td>6</td>\n",
              "      <td>0.453000</td>\n",
              "      <td>0.394464</td>\n",
              "      <td>0.829400</td>\n",
              "    </tr>\n",
              "    <tr>\n",
              "      <td>7</td>\n",
              "      <td>0.453000</td>\n",
              "      <td>0.407543</td>\n",
              "      <td>0.834000</td>\n",
              "    </tr>\n",
              "    <tr>\n",
              "      <td>8</td>\n",
              "      <td>0.453000</td>\n",
              "      <td>0.406858</td>\n",
              "      <td>0.832400</td>\n",
              "    </tr>\n",
              "    <tr>\n",
              "      <td>9</td>\n",
              "      <td>0.327700</td>\n",
              "      <td>0.395666</td>\n",
              "      <td>0.837000</td>\n",
              "    </tr>\n",
              "    <tr>\n",
              "      <td>10</td>\n",
              "      <td>0.327700</td>\n",
              "      <td>0.396434</td>\n",
              "      <td>0.838400</td>\n",
              "    </tr>\n",
              "  </tbody>\n",
              "</table><p>"
            ]
          },
          "metadata": {}
        },
        {
          "output_type": "execute_result",
          "data": {
            "text/plain": [
              "TrainOutput(global_step=1180, training_loss=0.37466119345972093, metrics={'train_runtime': 2588.6635, 'train_samples_per_second': 115.89, 'train_steps_per_second': 0.456, 'total_flos': 7761761640000000.0, 'train_loss': 0.37466119345972093, 'epoch': 10.0})"
            ]
          },
          "metadata": {},
          "execution_count": 16
        }
      ],
      "source": [
        "trainer.train()"
      ]
    },
    {
      "cell_type": "code",
      "execution_count": 17,
      "metadata": {
        "colab": {
          "base_uri": "https://localhost:8080/",
          "height": 141
        },
        "id": "rhOIH60XbSI7",
        "outputId": "e86e442c-9503-4773-c505-17fad71ca630"
      },
      "outputs": [
        {
          "output_type": "display_data",
          "data": {
            "text/plain": [
              "<IPython.core.display.HTML object>"
            ],
            "text/html": [
              "\n",
              "    <div>\n",
              "      \n",
              "      <progress value='40' max='40' style='width:300px; height:20px; vertical-align: middle;'></progress>\n",
              "      [40/40 00:25]\n",
              "    </div>\n",
              "    "
            ]
          },
          "metadata": {}
        },
        {
          "output_type": "execute_result",
          "data": {
            "text/plain": [
              "{'eval_loss': 0.37636798620224,\n",
              " 'eval_accuracy': 0.8377,\n",
              " 'eval_runtime': 26.0045,\n",
              " 'eval_samples_per_second': 384.549,\n",
              " 'eval_steps_per_second': 1.538,\n",
              " 'epoch': 10.0}"
            ]
          },
          "metadata": {},
          "execution_count": 17
        }
      ],
      "source": [
        "trainer.evaluate(processed_dataset[\"test\"])"
      ]
    },
    {
      "cell_type": "code",
      "source": [
        "from transformers import pipeline\n",
        "\n",
        "classifier = pipeline(\n",
        "    \"text-classification\",\n",
        "    model=\"thainq107/ntc-scv-distilbert-base-uncased\"\n",
        ")"
      ],
      "metadata": {
        "id": "8Wx5A_pQFvl8"
      },
      "execution_count": null,
      "outputs": []
    },
    {
      "cell_type": "code",
      "source": [
        "classifier(\"quán ăn này ngon quá luôn nè\")"
      ],
      "metadata": {
        "id": "QhIOHX6WG-r7",
        "colab": {
          "base_uri": "https://localhost:8080/"
        },
        "outputId": "603aae24-ca6c-41c1-9950-d1289be47aa8"
      },
      "execution_count": 19,
      "outputs": [
        {
          "data": {
            "text/plain": [
              "[{'label': 'LABEL_1', 'score': 0.78251713514328}]"
            ]
          },
          "execution_count": 19,
          "metadata": {},
          "output_type": "execute_result"
        },
        {
          "output_type": "execute_result",
          "data": {
            "text/plain": [
              "[{'label': 'LABEL_1', 'score': 0.78251713514328}]"
            ]
          },
          "metadata": {},
          "execution_count": 19
        }
      ]
    }
  ],
  "metadata": {
    "colab": {
      "provenance": [],
      "gpuType": "T4"
    },
    "kernelspec": {
      "display_name": "Python 3",
      "name": "python3"
    },
    "language_info": {
      "name": "python"
    },
    "widgets": {
      "application/vnd.jupyter.widget-state+json": {
        "07203cb4b15d46098d0a9f71324d0bae": {
          "model_module": "@jupyter-widgets/controls",
          "model_name": "HBoxModel",
          "model_module_version": "1.5.0",
          "state": {
            "_dom_classes": [],
            "_model_module": "@jupyter-widgets/controls",
            "_model_module_version": "1.5.0",
            "_model_name": "HBoxModel",
            "_view_count": null,
            "_view_module": "@jupyter-widgets/controls",
            "_view_module_version": "1.5.0",
            "_view_name": "HBoxView",
            "box_style": "",
            "children": [
              "IPY_MODEL_7e456805c5e44f78bee8b1a25460a710",
              "IPY_MODEL_6d0b2ed176a1449cbd829a7df8c67e6b",
              "IPY_MODEL_823059344a58480ea0c6e0f84e03d6df"
            ],
            "layout": "IPY_MODEL_8581543f5bf0456aa0911056050c2fc7"
          }
        },
        "7e456805c5e44f78bee8b1a25460a710": {
          "model_module": "@jupyter-widgets/controls",
          "model_name": "HTMLModel",
          "model_module_version": "1.5.0",
          "state": {
            "_dom_classes": [],
            "_model_module": "@jupyter-widgets/controls",
            "_model_module_version": "1.5.0",
            "_model_name": "HTMLModel",
            "_view_count": null,
            "_view_module": "@jupyter-widgets/controls",
            "_view_module_version": "1.5.0",
            "_view_name": "HTMLView",
            "description": "",
            "description_tooltip": null,
            "layout": "IPY_MODEL_301ace9290e24d15a03fc79ddb1efd2e",
            "placeholder": "​",
            "style": "IPY_MODEL_b4c88f9334554059adb0b3718ccc5f9c",
            "value": "README.md: 100%"
          }
        },
        "6d0b2ed176a1449cbd829a7df8c67e6b": {
          "model_module": "@jupyter-widgets/controls",
          "model_name": "FloatProgressModel",
          "model_module_version": "1.5.0",
          "state": {
            "_dom_classes": [],
            "_model_module": "@jupyter-widgets/controls",
            "_model_module_version": "1.5.0",
            "_model_name": "FloatProgressModel",
            "_view_count": null,
            "_view_module": "@jupyter-widgets/controls",
            "_view_module_version": "1.5.0",
            "_view_name": "ProgressView",
            "bar_style": "success",
            "description": "",
            "description_tooltip": null,
            "layout": "IPY_MODEL_db7c1f34827a40be9dcf37f598774361",
            "max": 570,
            "min": 0,
            "orientation": "horizontal",
            "style": "IPY_MODEL_ef64999290454325906c9a420e32b45f",
            "value": 570
          }
        },
        "823059344a58480ea0c6e0f84e03d6df": {
          "model_module": "@jupyter-widgets/controls",
          "model_name": "HTMLModel",
          "model_module_version": "1.5.0",
          "state": {
            "_dom_classes": [],
            "_model_module": "@jupyter-widgets/controls",
            "_model_module_version": "1.5.0",
            "_model_name": "HTMLModel",
            "_view_count": null,
            "_view_module": "@jupyter-widgets/controls",
            "_view_module_version": "1.5.0",
            "_view_name": "HTMLView",
            "description": "",
            "description_tooltip": null,
            "layout": "IPY_MODEL_211ff3fdc9f64a5c9b48a40182271171",
            "placeholder": "​",
            "style": "IPY_MODEL_d0efaa612db24b0f99888e212270f891",
            "value": " 570/570 [00:00&lt;00:00, 17.2kB/s]"
          }
        },
        "8581543f5bf0456aa0911056050c2fc7": {
          "model_module": "@jupyter-widgets/base",
          "model_name": "LayoutModel",
          "model_module_version": "1.2.0",
          "state": {
            "_model_module": "@jupyter-widgets/base",
            "_model_module_version": "1.2.0",
            "_model_name": "LayoutModel",
            "_view_count": null,
            "_view_module": "@jupyter-widgets/base",
            "_view_module_version": "1.2.0",
            "_view_name": "LayoutView",
            "align_content": null,
            "align_items": null,
            "align_self": null,
            "border": null,
            "bottom": null,
            "display": null,
            "flex": null,
            "flex_flow": null,
            "grid_area": null,
            "grid_auto_columns": null,
            "grid_auto_flow": null,
            "grid_auto_rows": null,
            "grid_column": null,
            "grid_gap": null,
            "grid_row": null,
            "grid_template_areas": null,
            "grid_template_columns": null,
            "grid_template_rows": null,
            "height": null,
            "justify_content": null,
            "justify_items": null,
            "left": null,
            "margin": null,
            "max_height": null,
            "max_width": null,
            "min_height": null,
            "min_width": null,
            "object_fit": null,
            "object_position": null,
            "order": null,
            "overflow": null,
            "overflow_x": null,
            "overflow_y": null,
            "padding": null,
            "right": null,
            "top": null,
            "visibility": null,
            "width": null
          }
        },
        "301ace9290e24d15a03fc79ddb1efd2e": {
          "model_module": "@jupyter-widgets/base",
          "model_name": "LayoutModel",
          "model_module_version": "1.2.0",
          "state": {
            "_model_module": "@jupyter-widgets/base",
            "_model_module_version": "1.2.0",
            "_model_name": "LayoutModel",
            "_view_count": null,
            "_view_module": "@jupyter-widgets/base",
            "_view_module_version": "1.2.0",
            "_view_name": "LayoutView",
            "align_content": null,
            "align_items": null,
            "align_self": null,
            "border": null,
            "bottom": null,
            "display": null,
            "flex": null,
            "flex_flow": null,
            "grid_area": null,
            "grid_auto_columns": null,
            "grid_auto_flow": null,
            "grid_auto_rows": null,
            "grid_column": null,
            "grid_gap": null,
            "grid_row": null,
            "grid_template_areas": null,
            "grid_template_columns": null,
            "grid_template_rows": null,
            "height": null,
            "justify_content": null,
            "justify_items": null,
            "left": null,
            "margin": null,
            "max_height": null,
            "max_width": null,
            "min_height": null,
            "min_width": null,
            "object_fit": null,
            "object_position": null,
            "order": null,
            "overflow": null,
            "overflow_x": null,
            "overflow_y": null,
            "padding": null,
            "right": null,
            "top": null,
            "visibility": null,
            "width": null
          }
        },
        "b4c88f9334554059adb0b3718ccc5f9c": {
          "model_module": "@jupyter-widgets/controls",
          "model_name": "DescriptionStyleModel",
          "model_module_version": "1.5.0",
          "state": {
            "_model_module": "@jupyter-widgets/controls",
            "_model_module_version": "1.5.0",
            "_model_name": "DescriptionStyleModel",
            "_view_count": null,
            "_view_module": "@jupyter-widgets/base",
            "_view_module_version": "1.2.0",
            "_view_name": "StyleView",
            "description_width": ""
          }
        },
        "db7c1f34827a40be9dcf37f598774361": {
          "model_module": "@jupyter-widgets/base",
          "model_name": "LayoutModel",
          "model_module_version": "1.2.0",
          "state": {
            "_model_module": "@jupyter-widgets/base",
            "_model_module_version": "1.2.0",
            "_model_name": "LayoutModel",
            "_view_count": null,
            "_view_module": "@jupyter-widgets/base",
            "_view_module_version": "1.2.0",
            "_view_name": "LayoutView",
            "align_content": null,
            "align_items": null,
            "align_self": null,
            "border": null,
            "bottom": null,
            "display": null,
            "flex": null,
            "flex_flow": null,
            "grid_area": null,
            "grid_auto_columns": null,
            "grid_auto_flow": null,
            "grid_auto_rows": null,
            "grid_column": null,
            "grid_gap": null,
            "grid_row": null,
            "grid_template_areas": null,
            "grid_template_columns": null,
            "grid_template_rows": null,
            "height": null,
            "justify_content": null,
            "justify_items": null,
            "left": null,
            "margin": null,
            "max_height": null,
            "max_width": null,
            "min_height": null,
            "min_width": null,
            "object_fit": null,
            "object_position": null,
            "order": null,
            "overflow": null,
            "overflow_x": null,
            "overflow_y": null,
            "padding": null,
            "right": null,
            "top": null,
            "visibility": null,
            "width": null
          }
        },
        "ef64999290454325906c9a420e32b45f": {
          "model_module": "@jupyter-widgets/controls",
          "model_name": "ProgressStyleModel",
          "model_module_version": "1.5.0",
          "state": {
            "_model_module": "@jupyter-widgets/controls",
            "_model_module_version": "1.5.0",
            "_model_name": "ProgressStyleModel",
            "_view_count": null,
            "_view_module": "@jupyter-widgets/base",
            "_view_module_version": "1.2.0",
            "_view_name": "StyleView",
            "bar_color": null,
            "description_width": ""
          }
        },
        "211ff3fdc9f64a5c9b48a40182271171": {
          "model_module": "@jupyter-widgets/base",
          "model_name": "LayoutModel",
          "model_module_version": "1.2.0",
          "state": {
            "_model_module": "@jupyter-widgets/base",
            "_model_module_version": "1.2.0",
            "_model_name": "LayoutModel",
            "_view_count": null,
            "_view_module": "@jupyter-widgets/base",
            "_view_module_version": "1.2.0",
            "_view_name": "LayoutView",
            "align_content": null,
            "align_items": null,
            "align_self": null,
            "border": null,
            "bottom": null,
            "display": null,
            "flex": null,
            "flex_flow": null,
            "grid_area": null,
            "grid_auto_columns": null,
            "grid_auto_flow": null,
            "grid_auto_rows": null,
            "grid_column": null,
            "grid_gap": null,
            "grid_row": null,
            "grid_template_areas": null,
            "grid_template_columns": null,
            "grid_template_rows": null,
            "height": null,
            "justify_content": null,
            "justify_items": null,
            "left": null,
            "margin": null,
            "max_height": null,
            "max_width": null,
            "min_height": null,
            "min_width": null,
            "object_fit": null,
            "object_position": null,
            "order": null,
            "overflow": null,
            "overflow_x": null,
            "overflow_y": null,
            "padding": null,
            "right": null,
            "top": null,
            "visibility": null,
            "width": null
          }
        },
        "d0efaa612db24b0f99888e212270f891": {
          "model_module": "@jupyter-widgets/controls",
          "model_name": "DescriptionStyleModel",
          "model_module_version": "1.5.0",
          "state": {
            "_model_module": "@jupyter-widgets/controls",
            "_model_module_version": "1.5.0",
            "_model_name": "DescriptionStyleModel",
            "_view_count": null,
            "_view_module": "@jupyter-widgets/base",
            "_view_module_version": "1.2.0",
            "_view_name": "StyleView",
            "description_width": ""
          }
        },
        "bc8938ee303a4c079231b76dcb702dc9": {
          "model_module": "@jupyter-widgets/controls",
          "model_name": "HBoxModel",
          "model_module_version": "1.5.0",
          "state": {
            "_dom_classes": [],
            "_model_module": "@jupyter-widgets/controls",
            "_model_module_version": "1.5.0",
            "_model_name": "HBoxModel",
            "_view_count": null,
            "_view_module": "@jupyter-widgets/controls",
            "_view_module_version": "1.5.0",
            "_view_name": "HBoxView",
            "box_style": "",
            "children": [
              "IPY_MODEL_8a0d0dfaab82436890831f873248c7cb",
              "IPY_MODEL_a21d1de563cb49e598c603fa4a5368c1",
              "IPY_MODEL_27cf105bd98f4e47b09f09bca314dc93"
            ],
            "layout": "IPY_MODEL_9dbd3260187444a895f224149a2aaf6b"
          }
        },
        "8a0d0dfaab82436890831f873248c7cb": {
          "model_module": "@jupyter-widgets/controls",
          "model_name": "HTMLModel",
          "model_module_version": "1.5.0",
          "state": {
            "_dom_classes": [],
            "_model_module": "@jupyter-widgets/controls",
            "_model_module_version": "1.5.0",
            "_model_name": "HTMLModel",
            "_view_count": null,
            "_view_module": "@jupyter-widgets/controls",
            "_view_module_version": "1.5.0",
            "_view_name": "HTMLView",
            "description": "",
            "description_tooltip": null,
            "layout": "IPY_MODEL_1893413a7c5c4a37b29d8be9ca09b5eb",
            "placeholder": "​",
            "style": "IPY_MODEL_b1cd4d746bb04394abfecef44b7f54d7",
            "value": "train-00000-of-00001.parquet: 100%"
          }
        },
        "a21d1de563cb49e598c603fa4a5368c1": {
          "model_module": "@jupyter-widgets/controls",
          "model_name": "FloatProgressModel",
          "model_module_version": "1.5.0",
          "state": {
            "_dom_classes": [],
            "_model_module": "@jupyter-widgets/controls",
            "_model_module_version": "1.5.0",
            "_model_name": "FloatProgressModel",
            "_view_count": null,
            "_view_module": "@jupyter-widgets/controls",
            "_view_module_version": "1.5.0",
            "_view_name": "ProgressView",
            "bar_style": "success",
            "description": "",
            "description_tooltip": null,
            "layout": "IPY_MODEL_17fa95fb414644f9a4eafb16edbf31ed",
            "max": 18750983,
            "min": 0,
            "orientation": "horizontal",
            "style": "IPY_MODEL_591dc1b7cf2a486cb2ab7d41c4523362",
            "value": 18750983
          }
        },
        "27cf105bd98f4e47b09f09bca314dc93": {
          "model_module": "@jupyter-widgets/controls",
          "model_name": "HTMLModel",
          "model_module_version": "1.5.0",
          "state": {
            "_dom_classes": [],
            "_model_module": "@jupyter-widgets/controls",
            "_model_module_version": "1.5.0",
            "_model_name": "HTMLModel",
            "_view_count": null,
            "_view_module": "@jupyter-widgets/controls",
            "_view_module_version": "1.5.0",
            "_view_name": "HTMLView",
            "description": "",
            "description_tooltip": null,
            "layout": "IPY_MODEL_2a75245ee21246369d4d086c4be3466f",
            "placeholder": "​",
            "style": "IPY_MODEL_5eebaaf76c964705b929cb2d790c8cdb",
            "value": " 18.8M/18.8M [00:00&lt;00:00, 35.9MB/s]"
          }
        },
        "9dbd3260187444a895f224149a2aaf6b": {
          "model_module": "@jupyter-widgets/base",
          "model_name": "LayoutModel",
          "model_module_version": "1.2.0",
          "state": {
            "_model_module": "@jupyter-widgets/base",
            "_model_module_version": "1.2.0",
            "_model_name": "LayoutModel",
            "_view_count": null,
            "_view_module": "@jupyter-widgets/base",
            "_view_module_version": "1.2.0",
            "_view_name": "LayoutView",
            "align_content": null,
            "align_items": null,
            "align_self": null,
            "border": null,
            "bottom": null,
            "display": null,
            "flex": null,
            "flex_flow": null,
            "grid_area": null,
            "grid_auto_columns": null,
            "grid_auto_flow": null,
            "grid_auto_rows": null,
            "grid_column": null,
            "grid_gap": null,
            "grid_row": null,
            "grid_template_areas": null,
            "grid_template_columns": null,
            "grid_template_rows": null,
            "height": null,
            "justify_content": null,
            "justify_items": null,
            "left": null,
            "margin": null,
            "max_height": null,
            "max_width": null,
            "min_height": null,
            "min_width": null,
            "object_fit": null,
            "object_position": null,
            "order": null,
            "overflow": null,
            "overflow_x": null,
            "overflow_y": null,
            "padding": null,
            "right": null,
            "top": null,
            "visibility": null,
            "width": null
          }
        },
        "1893413a7c5c4a37b29d8be9ca09b5eb": {
          "model_module": "@jupyter-widgets/base",
          "model_name": "LayoutModel",
          "model_module_version": "1.2.0",
          "state": {
            "_model_module": "@jupyter-widgets/base",
            "_model_module_version": "1.2.0",
            "_model_name": "LayoutModel",
            "_view_count": null,
            "_view_module": "@jupyter-widgets/base",
            "_view_module_version": "1.2.0",
            "_view_name": "LayoutView",
            "align_content": null,
            "align_items": null,
            "align_self": null,
            "border": null,
            "bottom": null,
            "display": null,
            "flex": null,
            "flex_flow": null,
            "grid_area": null,
            "grid_auto_columns": null,
            "grid_auto_flow": null,
            "grid_auto_rows": null,
            "grid_column": null,
            "grid_gap": null,
            "grid_row": null,
            "grid_template_areas": null,
            "grid_template_columns": null,
            "grid_template_rows": null,
            "height": null,
            "justify_content": null,
            "justify_items": null,
            "left": null,
            "margin": null,
            "max_height": null,
            "max_width": null,
            "min_height": null,
            "min_width": null,
            "object_fit": null,
            "object_position": null,
            "order": null,
            "overflow": null,
            "overflow_x": null,
            "overflow_y": null,
            "padding": null,
            "right": null,
            "top": null,
            "visibility": null,
            "width": null
          }
        },
        "b1cd4d746bb04394abfecef44b7f54d7": {
          "model_module": "@jupyter-widgets/controls",
          "model_name": "DescriptionStyleModel",
          "model_module_version": "1.5.0",
          "state": {
            "_model_module": "@jupyter-widgets/controls",
            "_model_module_version": "1.5.0",
            "_model_name": "DescriptionStyleModel",
            "_view_count": null,
            "_view_module": "@jupyter-widgets/base",
            "_view_module_version": "1.2.0",
            "_view_name": "StyleView",
            "description_width": ""
          }
        },
        "17fa95fb414644f9a4eafb16edbf31ed": {
          "model_module": "@jupyter-widgets/base",
          "model_name": "LayoutModel",
          "model_module_version": "1.2.0",
          "state": {
            "_model_module": "@jupyter-widgets/base",
            "_model_module_version": "1.2.0",
            "_model_name": "LayoutModel",
            "_view_count": null,
            "_view_module": "@jupyter-widgets/base",
            "_view_module_version": "1.2.0",
            "_view_name": "LayoutView",
            "align_content": null,
            "align_items": null,
            "align_self": null,
            "border": null,
            "bottom": null,
            "display": null,
            "flex": null,
            "flex_flow": null,
            "grid_area": null,
            "grid_auto_columns": null,
            "grid_auto_flow": null,
            "grid_auto_rows": null,
            "grid_column": null,
            "grid_gap": null,
            "grid_row": null,
            "grid_template_areas": null,
            "grid_template_columns": null,
            "grid_template_rows": null,
            "height": null,
            "justify_content": null,
            "justify_items": null,
            "left": null,
            "margin": null,
            "max_height": null,
            "max_width": null,
            "min_height": null,
            "min_width": null,
            "object_fit": null,
            "object_position": null,
            "order": null,
            "overflow": null,
            "overflow_x": null,
            "overflow_y": null,
            "padding": null,
            "right": null,
            "top": null,
            "visibility": null,
            "width": null
          }
        },
        "591dc1b7cf2a486cb2ab7d41c4523362": {
          "model_module": "@jupyter-widgets/controls",
          "model_name": "ProgressStyleModel",
          "model_module_version": "1.5.0",
          "state": {
            "_model_module": "@jupyter-widgets/controls",
            "_model_module_version": "1.5.0",
            "_model_name": "ProgressStyleModel",
            "_view_count": null,
            "_view_module": "@jupyter-widgets/base",
            "_view_module_version": "1.2.0",
            "_view_name": "StyleView",
            "bar_color": null,
            "description_width": ""
          }
        },
        "2a75245ee21246369d4d086c4be3466f": {
          "model_module": "@jupyter-widgets/base",
          "model_name": "LayoutModel",
          "model_module_version": "1.2.0",
          "state": {
            "_model_module": "@jupyter-widgets/base",
            "_model_module_version": "1.2.0",
            "_model_name": "LayoutModel",
            "_view_count": null,
            "_view_module": "@jupyter-widgets/base",
            "_view_module_version": "1.2.0",
            "_view_name": "LayoutView",
            "align_content": null,
            "align_items": null,
            "align_self": null,
            "border": null,
            "bottom": null,
            "display": null,
            "flex": null,
            "flex_flow": null,
            "grid_area": null,
            "grid_auto_columns": null,
            "grid_auto_flow": null,
            "grid_auto_rows": null,
            "grid_column": null,
            "grid_gap": null,
            "grid_row": null,
            "grid_template_areas": null,
            "grid_template_columns": null,
            "grid_template_rows": null,
            "height": null,
            "justify_content": null,
            "justify_items": null,
            "left": null,
            "margin": null,
            "max_height": null,
            "max_width": null,
            "min_height": null,
            "min_width": null,
            "object_fit": null,
            "object_position": null,
            "order": null,
            "overflow": null,
            "overflow_x": null,
            "overflow_y": null,
            "padding": null,
            "right": null,
            "top": null,
            "visibility": null,
            "width": null
          }
        },
        "5eebaaf76c964705b929cb2d790c8cdb": {
          "model_module": "@jupyter-widgets/controls",
          "model_name": "DescriptionStyleModel",
          "model_module_version": "1.5.0",
          "state": {
            "_model_module": "@jupyter-widgets/controls",
            "_model_module_version": "1.5.0",
            "_model_name": "DescriptionStyleModel",
            "_view_count": null,
            "_view_module": "@jupyter-widgets/base",
            "_view_module_version": "1.2.0",
            "_view_name": "StyleView",
            "description_width": ""
          }
        },
        "e794a22a0ecb4151b35deb356241ea2a": {
          "model_module": "@jupyter-widgets/controls",
          "model_name": "HBoxModel",
          "model_module_version": "1.5.0",
          "state": {
            "_dom_classes": [],
            "_model_module": "@jupyter-widgets/controls",
            "_model_module_version": "1.5.0",
            "_model_name": "HBoxModel",
            "_view_count": null,
            "_view_module": "@jupyter-widgets/controls",
            "_view_module_version": "1.5.0",
            "_view_name": "HBoxView",
            "box_style": "",
            "children": [
              "IPY_MODEL_13a19d645c534c5db402cd163816c238",
              "IPY_MODEL_10a8cd51ee104c15adc1c406311574ec",
              "IPY_MODEL_180d2690f11a4ffcb540bbc8c4f61b4b"
            ],
            "layout": "IPY_MODEL_0837c906ac354bc59fdf36711f0a1ff3"
          }
        },
        "13a19d645c534c5db402cd163816c238": {
          "model_module": "@jupyter-widgets/controls",
          "model_name": "HTMLModel",
          "model_module_version": "1.5.0",
          "state": {
            "_dom_classes": [],
            "_model_module": "@jupyter-widgets/controls",
            "_model_module_version": "1.5.0",
            "_model_name": "HTMLModel",
            "_view_count": null,
            "_view_module": "@jupyter-widgets/controls",
            "_view_module_version": "1.5.0",
            "_view_name": "HTMLView",
            "description": "",
            "description_tooltip": null,
            "layout": "IPY_MODEL_e241f5664c434286b587a4560cfb5adc",
            "placeholder": "​",
            "style": "IPY_MODEL_016dc77e53c447149bf98c5b8b616d7c",
            "value": "valid-00000-of-00001.parquet: 100%"
          }
        },
        "10a8cd51ee104c15adc1c406311574ec": {
          "model_module": "@jupyter-widgets/controls",
          "model_name": "FloatProgressModel",
          "model_module_version": "1.5.0",
          "state": {
            "_dom_classes": [],
            "_model_module": "@jupyter-widgets/controls",
            "_model_module_version": "1.5.0",
            "_model_name": "FloatProgressModel",
            "_view_count": null,
            "_view_module": "@jupyter-widgets/controls",
            "_view_module_version": "1.5.0",
            "_view_name": "ProgressView",
            "bar_style": "success",
            "description": "",
            "description_tooltip": null,
            "layout": "IPY_MODEL_5a9f77ccbde14c41a4bf7994735c55b0",
            "max": 6346201,
            "min": 0,
            "orientation": "horizontal",
            "style": "IPY_MODEL_5a2ac46424d442d29dae247a3061acab",
            "value": 6346201
          }
        },
        "180d2690f11a4ffcb540bbc8c4f61b4b": {
          "model_module": "@jupyter-widgets/controls",
          "model_name": "HTMLModel",
          "model_module_version": "1.5.0",
          "state": {
            "_dom_classes": [],
            "_model_module": "@jupyter-widgets/controls",
            "_model_module_version": "1.5.0",
            "_model_name": "HTMLModel",
            "_view_count": null,
            "_view_module": "@jupyter-widgets/controls",
            "_view_module_version": "1.5.0",
            "_view_name": "HTMLView",
            "description": "",
            "description_tooltip": null,
            "layout": "IPY_MODEL_d25bf400a368429bbf08f39c5dc43f59",
            "placeholder": "​",
            "style": "IPY_MODEL_dd1ca3a140f5423781c38b2937d91418",
            "value": " 6.35M/6.35M [00:00&lt;00:00, 43.3MB/s]"
          }
        },
        "0837c906ac354bc59fdf36711f0a1ff3": {
          "model_module": "@jupyter-widgets/base",
          "model_name": "LayoutModel",
          "model_module_version": "1.2.0",
          "state": {
            "_model_module": "@jupyter-widgets/base",
            "_model_module_version": "1.2.0",
            "_model_name": "LayoutModel",
            "_view_count": null,
            "_view_module": "@jupyter-widgets/base",
            "_view_module_version": "1.2.0",
            "_view_name": "LayoutView",
            "align_content": null,
            "align_items": null,
            "align_self": null,
            "border": null,
            "bottom": null,
            "display": null,
            "flex": null,
            "flex_flow": null,
            "grid_area": null,
            "grid_auto_columns": null,
            "grid_auto_flow": null,
            "grid_auto_rows": null,
            "grid_column": null,
            "grid_gap": null,
            "grid_row": null,
            "grid_template_areas": null,
            "grid_template_columns": null,
            "grid_template_rows": null,
            "height": null,
            "justify_content": null,
            "justify_items": null,
            "left": null,
            "margin": null,
            "max_height": null,
            "max_width": null,
            "min_height": null,
            "min_width": null,
            "object_fit": null,
            "object_position": null,
            "order": null,
            "overflow": null,
            "overflow_x": null,
            "overflow_y": null,
            "padding": null,
            "right": null,
            "top": null,
            "visibility": null,
            "width": null
          }
        },
        "e241f5664c434286b587a4560cfb5adc": {
          "model_module": "@jupyter-widgets/base",
          "model_name": "LayoutModel",
          "model_module_version": "1.2.0",
          "state": {
            "_model_module": "@jupyter-widgets/base",
            "_model_module_version": "1.2.0",
            "_model_name": "LayoutModel",
            "_view_count": null,
            "_view_module": "@jupyter-widgets/base",
            "_view_module_version": "1.2.0",
            "_view_name": "LayoutView",
            "align_content": null,
            "align_items": null,
            "align_self": null,
            "border": null,
            "bottom": null,
            "display": null,
            "flex": null,
            "flex_flow": null,
            "grid_area": null,
            "grid_auto_columns": null,
            "grid_auto_flow": null,
            "grid_auto_rows": null,
            "grid_column": null,
            "grid_gap": null,
            "grid_row": null,
            "grid_template_areas": null,
            "grid_template_columns": null,
            "grid_template_rows": null,
            "height": null,
            "justify_content": null,
            "justify_items": null,
            "left": null,
            "margin": null,
            "max_height": null,
            "max_width": null,
            "min_height": null,
            "min_width": null,
            "object_fit": null,
            "object_position": null,
            "order": null,
            "overflow": null,
            "overflow_x": null,
            "overflow_y": null,
            "padding": null,
            "right": null,
            "top": null,
            "visibility": null,
            "width": null
          }
        },
        "016dc77e53c447149bf98c5b8b616d7c": {
          "model_module": "@jupyter-widgets/controls",
          "model_name": "DescriptionStyleModel",
          "model_module_version": "1.5.0",
          "state": {
            "_model_module": "@jupyter-widgets/controls",
            "_model_module_version": "1.5.0",
            "_model_name": "DescriptionStyleModel",
            "_view_count": null,
            "_view_module": "@jupyter-widgets/base",
            "_view_module_version": "1.2.0",
            "_view_name": "StyleView",
            "description_width": ""
          }
        },
        "5a9f77ccbde14c41a4bf7994735c55b0": {
          "model_module": "@jupyter-widgets/base",
          "model_name": "LayoutModel",
          "model_module_version": "1.2.0",
          "state": {
            "_model_module": "@jupyter-widgets/base",
            "_model_module_version": "1.2.0",
            "_model_name": "LayoutModel",
            "_view_count": null,
            "_view_module": "@jupyter-widgets/base",
            "_view_module_version": "1.2.0",
            "_view_name": "LayoutView",
            "align_content": null,
            "align_items": null,
            "align_self": null,
            "border": null,
            "bottom": null,
            "display": null,
            "flex": null,
            "flex_flow": null,
            "grid_area": null,
            "grid_auto_columns": null,
            "grid_auto_flow": null,
            "grid_auto_rows": null,
            "grid_column": null,
            "grid_gap": null,
            "grid_row": null,
            "grid_template_areas": null,
            "grid_template_columns": null,
            "grid_template_rows": null,
            "height": null,
            "justify_content": null,
            "justify_items": null,
            "left": null,
            "margin": null,
            "max_height": null,
            "max_width": null,
            "min_height": null,
            "min_width": null,
            "object_fit": null,
            "object_position": null,
            "order": null,
            "overflow": null,
            "overflow_x": null,
            "overflow_y": null,
            "padding": null,
            "right": null,
            "top": null,
            "visibility": null,
            "width": null
          }
        },
        "5a2ac46424d442d29dae247a3061acab": {
          "model_module": "@jupyter-widgets/controls",
          "model_name": "ProgressStyleModel",
          "model_module_version": "1.5.0",
          "state": {
            "_model_module": "@jupyter-widgets/controls",
            "_model_module_version": "1.5.0",
            "_model_name": "ProgressStyleModel",
            "_view_count": null,
            "_view_module": "@jupyter-widgets/base",
            "_view_module_version": "1.2.0",
            "_view_name": "StyleView",
            "bar_color": null,
            "description_width": ""
          }
        },
        "d25bf400a368429bbf08f39c5dc43f59": {
          "model_module": "@jupyter-widgets/base",
          "model_name": "LayoutModel",
          "model_module_version": "1.2.0",
          "state": {
            "_model_module": "@jupyter-widgets/base",
            "_model_module_version": "1.2.0",
            "_model_name": "LayoutModel",
            "_view_count": null,
            "_view_module": "@jupyter-widgets/base",
            "_view_module_version": "1.2.0",
            "_view_name": "LayoutView",
            "align_content": null,
            "align_items": null,
            "align_self": null,
            "border": null,
            "bottom": null,
            "display": null,
            "flex": null,
            "flex_flow": null,
            "grid_area": null,
            "grid_auto_columns": null,
            "grid_auto_flow": null,
            "grid_auto_rows": null,
            "grid_column": null,
            "grid_gap": null,
            "grid_row": null,
            "grid_template_areas": null,
            "grid_template_columns": null,
            "grid_template_rows": null,
            "height": null,
            "justify_content": null,
            "justify_items": null,
            "left": null,
            "margin": null,
            "max_height": null,
            "max_width": null,
            "min_height": null,
            "min_width": null,
            "object_fit": null,
            "object_position": null,
            "order": null,
            "overflow": null,
            "overflow_x": null,
            "overflow_y": null,
            "padding": null,
            "right": null,
            "top": null,
            "visibility": null,
            "width": null
          }
        },
        "dd1ca3a140f5423781c38b2937d91418": {
          "model_module": "@jupyter-widgets/controls",
          "model_name": "DescriptionStyleModel",
          "model_module_version": "1.5.0",
          "state": {
            "_model_module": "@jupyter-widgets/controls",
            "_model_module_version": "1.5.0",
            "_model_name": "DescriptionStyleModel",
            "_view_count": null,
            "_view_module": "@jupyter-widgets/base",
            "_view_module_version": "1.2.0",
            "_view_name": "StyleView",
            "description_width": ""
          }
        },
        "3a7ddbe10c494ce09fa952e271fdfd3a": {
          "model_module": "@jupyter-widgets/controls",
          "model_name": "HBoxModel",
          "model_module_version": "1.5.0",
          "state": {
            "_dom_classes": [],
            "_model_module": "@jupyter-widgets/controls",
            "_model_module_version": "1.5.0",
            "_model_name": "HBoxModel",
            "_view_count": null,
            "_view_module": "@jupyter-widgets/controls",
            "_view_module_version": "1.5.0",
            "_view_name": "HBoxView",
            "box_style": "",
            "children": [
              "IPY_MODEL_1055f282f2d449a5b54b64066f79c998",
              "IPY_MODEL_860119979c0542da917e0be78b9c10cb",
              "IPY_MODEL_0581d6cd96644cb8bfb7f776dae5dbaa"
            ],
            "layout": "IPY_MODEL_5cca06103ad14d5a8e122a9219539434"
          }
        },
        "1055f282f2d449a5b54b64066f79c998": {
          "model_module": "@jupyter-widgets/controls",
          "model_name": "HTMLModel",
          "model_module_version": "1.5.0",
          "state": {
            "_dom_classes": [],
            "_model_module": "@jupyter-widgets/controls",
            "_model_module_version": "1.5.0",
            "_model_name": "HTMLModel",
            "_view_count": null,
            "_view_module": "@jupyter-widgets/controls",
            "_view_module_version": "1.5.0",
            "_view_name": "HTMLView",
            "description": "",
            "description_tooltip": null,
            "layout": "IPY_MODEL_8fc8fea683ed48f8bd948d74e68e3a3a",
            "placeholder": "​",
            "style": "IPY_MODEL_4d693b6cdb8842a6a9293a658394c1d6",
            "value": "test-00000-of-00001.parquet: 100%"
          }
        },
        "860119979c0542da917e0be78b9c10cb": {
          "model_module": "@jupyter-widgets/controls",
          "model_name": "FloatProgressModel",
          "model_module_version": "1.5.0",
          "state": {
            "_dom_classes": [],
            "_model_module": "@jupyter-widgets/controls",
            "_model_module_version": "1.5.0",
            "_model_name": "FloatProgressModel",
            "_view_count": null,
            "_view_module": "@jupyter-widgets/controls",
            "_view_module_version": "1.5.0",
            "_view_name": "ProgressView",
            "bar_style": "success",
            "description": "",
            "description_tooltip": null,
            "layout": "IPY_MODEL_572f5aa836c944c1b6a0e46e69b4ed6e",
            "max": 6352592,
            "min": 0,
            "orientation": "horizontal",
            "style": "IPY_MODEL_e326a63f43b8489a82e689f7e7aeafeb",
            "value": 6352592
          }
        },
        "0581d6cd96644cb8bfb7f776dae5dbaa": {
          "model_module": "@jupyter-widgets/controls",
          "model_name": "HTMLModel",
          "model_module_version": "1.5.0",
          "state": {
            "_dom_classes": [],
            "_model_module": "@jupyter-widgets/controls",
            "_model_module_version": "1.5.0",
            "_model_name": "HTMLModel",
            "_view_count": null,
            "_view_module": "@jupyter-widgets/controls",
            "_view_module_version": "1.5.0",
            "_view_name": "HTMLView",
            "description": "",
            "description_tooltip": null,
            "layout": "IPY_MODEL_fb18aba40da144e79ae5abab9d99df34",
            "placeholder": "​",
            "style": "IPY_MODEL_af81103a25454e7eaa9c5b11ab2fbd1e",
            "value": " 6.35M/6.35M [00:00&lt;00:00, 45.6MB/s]"
          }
        },
        "5cca06103ad14d5a8e122a9219539434": {
          "model_module": "@jupyter-widgets/base",
          "model_name": "LayoutModel",
          "model_module_version": "1.2.0",
          "state": {
            "_model_module": "@jupyter-widgets/base",
            "_model_module_version": "1.2.0",
            "_model_name": "LayoutModel",
            "_view_count": null,
            "_view_module": "@jupyter-widgets/base",
            "_view_module_version": "1.2.0",
            "_view_name": "LayoutView",
            "align_content": null,
            "align_items": null,
            "align_self": null,
            "border": null,
            "bottom": null,
            "display": null,
            "flex": null,
            "flex_flow": null,
            "grid_area": null,
            "grid_auto_columns": null,
            "grid_auto_flow": null,
            "grid_auto_rows": null,
            "grid_column": null,
            "grid_gap": null,
            "grid_row": null,
            "grid_template_areas": null,
            "grid_template_columns": null,
            "grid_template_rows": null,
            "height": null,
            "justify_content": null,
            "justify_items": null,
            "left": null,
            "margin": null,
            "max_height": null,
            "max_width": null,
            "min_height": null,
            "min_width": null,
            "object_fit": null,
            "object_position": null,
            "order": null,
            "overflow": null,
            "overflow_x": null,
            "overflow_y": null,
            "padding": null,
            "right": null,
            "top": null,
            "visibility": null,
            "width": null
          }
        },
        "8fc8fea683ed48f8bd948d74e68e3a3a": {
          "model_module": "@jupyter-widgets/base",
          "model_name": "LayoutModel",
          "model_module_version": "1.2.0",
          "state": {
            "_model_module": "@jupyter-widgets/base",
            "_model_module_version": "1.2.0",
            "_model_name": "LayoutModel",
            "_view_count": null,
            "_view_module": "@jupyter-widgets/base",
            "_view_module_version": "1.2.0",
            "_view_name": "LayoutView",
            "align_content": null,
            "align_items": null,
            "align_self": null,
            "border": null,
            "bottom": null,
            "display": null,
            "flex": null,
            "flex_flow": null,
            "grid_area": null,
            "grid_auto_columns": null,
            "grid_auto_flow": null,
            "grid_auto_rows": null,
            "grid_column": null,
            "grid_gap": null,
            "grid_row": null,
            "grid_template_areas": null,
            "grid_template_columns": null,
            "grid_template_rows": null,
            "height": null,
            "justify_content": null,
            "justify_items": null,
            "left": null,
            "margin": null,
            "max_height": null,
            "max_width": null,
            "min_height": null,
            "min_width": null,
            "object_fit": null,
            "object_position": null,
            "order": null,
            "overflow": null,
            "overflow_x": null,
            "overflow_y": null,
            "padding": null,
            "right": null,
            "top": null,
            "visibility": null,
            "width": null
          }
        },
        "4d693b6cdb8842a6a9293a658394c1d6": {
          "model_module": "@jupyter-widgets/controls",
          "model_name": "DescriptionStyleModel",
          "model_module_version": "1.5.0",
          "state": {
            "_model_module": "@jupyter-widgets/controls",
            "_model_module_version": "1.5.0",
            "_model_name": "DescriptionStyleModel",
            "_view_count": null,
            "_view_module": "@jupyter-widgets/base",
            "_view_module_version": "1.2.0",
            "_view_name": "StyleView",
            "description_width": ""
          }
        },
        "572f5aa836c944c1b6a0e46e69b4ed6e": {
          "model_module": "@jupyter-widgets/base",
          "model_name": "LayoutModel",
          "model_module_version": "1.2.0",
          "state": {
            "_model_module": "@jupyter-widgets/base",
            "_model_module_version": "1.2.0",
            "_model_name": "LayoutModel",
            "_view_count": null,
            "_view_module": "@jupyter-widgets/base",
            "_view_module_version": "1.2.0",
            "_view_name": "LayoutView",
            "align_content": null,
            "align_items": null,
            "align_self": null,
            "border": null,
            "bottom": null,
            "display": null,
            "flex": null,
            "flex_flow": null,
            "grid_area": null,
            "grid_auto_columns": null,
            "grid_auto_flow": null,
            "grid_auto_rows": null,
            "grid_column": null,
            "grid_gap": null,
            "grid_row": null,
            "grid_template_areas": null,
            "grid_template_columns": null,
            "grid_template_rows": null,
            "height": null,
            "justify_content": null,
            "justify_items": null,
            "left": null,
            "margin": null,
            "max_height": null,
            "max_width": null,
            "min_height": null,
            "min_width": null,
            "object_fit": null,
            "object_position": null,
            "order": null,
            "overflow": null,
            "overflow_x": null,
            "overflow_y": null,
            "padding": null,
            "right": null,
            "top": null,
            "visibility": null,
            "width": null
          }
        },
        "e326a63f43b8489a82e689f7e7aeafeb": {
          "model_module": "@jupyter-widgets/controls",
          "model_name": "ProgressStyleModel",
          "model_module_version": "1.5.0",
          "state": {
            "_model_module": "@jupyter-widgets/controls",
            "_model_module_version": "1.5.0",
            "_model_name": "ProgressStyleModel",
            "_view_count": null,
            "_view_module": "@jupyter-widgets/base",
            "_view_module_version": "1.2.0",
            "_view_name": "StyleView",
            "bar_color": null,
            "description_width": ""
          }
        },
        "fb18aba40da144e79ae5abab9d99df34": {
          "model_module": "@jupyter-widgets/base",
          "model_name": "LayoutModel",
          "model_module_version": "1.2.0",
          "state": {
            "_model_module": "@jupyter-widgets/base",
            "_model_module_version": "1.2.0",
            "_model_name": "LayoutModel",
            "_view_count": null,
            "_view_module": "@jupyter-widgets/base",
            "_view_module_version": "1.2.0",
            "_view_name": "LayoutView",
            "align_content": null,
            "align_items": null,
            "align_self": null,
            "border": null,
            "bottom": null,
            "display": null,
            "flex": null,
            "flex_flow": null,
            "grid_area": null,
            "grid_auto_columns": null,
            "grid_auto_flow": null,
            "grid_auto_rows": null,
            "grid_column": null,
            "grid_gap": null,
            "grid_row": null,
            "grid_template_areas": null,
            "grid_template_columns": null,
            "grid_template_rows": null,
            "height": null,
            "justify_content": null,
            "justify_items": null,
            "left": null,
            "margin": null,
            "max_height": null,
            "max_width": null,
            "min_height": null,
            "min_width": null,
            "object_fit": null,
            "object_position": null,
            "order": null,
            "overflow": null,
            "overflow_x": null,
            "overflow_y": null,
            "padding": null,
            "right": null,
            "top": null,
            "visibility": null,
            "width": null
          }
        },
        "af81103a25454e7eaa9c5b11ab2fbd1e": {
          "model_module": "@jupyter-widgets/controls",
          "model_name": "DescriptionStyleModel",
          "model_module_version": "1.5.0",
          "state": {
            "_model_module": "@jupyter-widgets/controls",
            "_model_module_version": "1.5.0",
            "_model_name": "DescriptionStyleModel",
            "_view_count": null,
            "_view_module": "@jupyter-widgets/base",
            "_view_module_version": "1.2.0",
            "_view_name": "StyleView",
            "description_width": ""
          }
        },
        "9966dc0857904569a404521194b07771": {
          "model_module": "@jupyter-widgets/controls",
          "model_name": "HBoxModel",
          "model_module_version": "1.5.0",
          "state": {
            "_dom_classes": [],
            "_model_module": "@jupyter-widgets/controls",
            "_model_module_version": "1.5.0",
            "_model_name": "HBoxModel",
            "_view_count": null,
            "_view_module": "@jupyter-widgets/controls",
            "_view_module_version": "1.5.0",
            "_view_name": "HBoxView",
            "box_style": "",
            "children": [
              "IPY_MODEL_c0b28e2340dc4ae5b454b8017a1364d1",
              "IPY_MODEL_db0d4cef72a44ce5a059e1433edd3356",
              "IPY_MODEL_6493b90ab1084253b13a69b07a8cde43"
            ],
            "layout": "IPY_MODEL_7287fa773c154715ab7eca980284d607"
          }
        },
        "c0b28e2340dc4ae5b454b8017a1364d1": {
          "model_module": "@jupyter-widgets/controls",
          "model_name": "HTMLModel",
          "model_module_version": "1.5.0",
          "state": {
            "_dom_classes": [],
            "_model_module": "@jupyter-widgets/controls",
            "_model_module_version": "1.5.0",
            "_model_name": "HTMLModel",
            "_view_count": null,
            "_view_module": "@jupyter-widgets/controls",
            "_view_module_version": "1.5.0",
            "_view_name": "HTMLView",
            "description": "",
            "description_tooltip": null,
            "layout": "IPY_MODEL_2b51318b2726409b955957b1a5b5fb26",
            "placeholder": "​",
            "style": "IPY_MODEL_34bfb0f286754f46ac45e8cfb48389b7",
            "value": "Generating train split: 100%"
          }
        },
        "db0d4cef72a44ce5a059e1433edd3356": {
          "model_module": "@jupyter-widgets/controls",
          "model_name": "FloatProgressModel",
          "model_module_version": "1.5.0",
          "state": {
            "_dom_classes": [],
            "_model_module": "@jupyter-widgets/controls",
            "_model_module_version": "1.5.0",
            "_model_name": "FloatProgressModel",
            "_view_count": null,
            "_view_module": "@jupyter-widgets/controls",
            "_view_module_version": "1.5.0",
            "_view_name": "ProgressView",
            "bar_style": "success",
            "description": "",
            "description_tooltip": null,
            "layout": "IPY_MODEL_935b238433474d7c91552144469a0f12",
            "max": 30000,
            "min": 0,
            "orientation": "horizontal",
            "style": "IPY_MODEL_3e9027ab83d14855921d97127d8971f7",
            "value": 30000
          }
        },
        "6493b90ab1084253b13a69b07a8cde43": {
          "model_module": "@jupyter-widgets/controls",
          "model_name": "HTMLModel",
          "model_module_version": "1.5.0",
          "state": {
            "_dom_classes": [],
            "_model_module": "@jupyter-widgets/controls",
            "_model_module_version": "1.5.0",
            "_model_name": "HTMLModel",
            "_view_count": null,
            "_view_module": "@jupyter-widgets/controls",
            "_view_module_version": "1.5.0",
            "_view_name": "HTMLView",
            "description": "",
            "description_tooltip": null,
            "layout": "IPY_MODEL_e3f683829c6e44f394794b0058c2a562",
            "placeholder": "​",
            "style": "IPY_MODEL_1440dbf653df4328b9360b6f7c3253d8",
            "value": " 30000/30000 [00:00&lt;00:00, 86967.45 examples/s]"
          }
        },
        "7287fa773c154715ab7eca980284d607": {
          "model_module": "@jupyter-widgets/base",
          "model_name": "LayoutModel",
          "model_module_version": "1.2.0",
          "state": {
            "_model_module": "@jupyter-widgets/base",
            "_model_module_version": "1.2.0",
            "_model_name": "LayoutModel",
            "_view_count": null,
            "_view_module": "@jupyter-widgets/base",
            "_view_module_version": "1.2.0",
            "_view_name": "LayoutView",
            "align_content": null,
            "align_items": null,
            "align_self": null,
            "border": null,
            "bottom": null,
            "display": null,
            "flex": null,
            "flex_flow": null,
            "grid_area": null,
            "grid_auto_columns": null,
            "grid_auto_flow": null,
            "grid_auto_rows": null,
            "grid_column": null,
            "grid_gap": null,
            "grid_row": null,
            "grid_template_areas": null,
            "grid_template_columns": null,
            "grid_template_rows": null,
            "height": null,
            "justify_content": null,
            "justify_items": null,
            "left": null,
            "margin": null,
            "max_height": null,
            "max_width": null,
            "min_height": null,
            "min_width": null,
            "object_fit": null,
            "object_position": null,
            "order": null,
            "overflow": null,
            "overflow_x": null,
            "overflow_y": null,
            "padding": null,
            "right": null,
            "top": null,
            "visibility": null,
            "width": null
          }
        },
        "2b51318b2726409b955957b1a5b5fb26": {
          "model_module": "@jupyter-widgets/base",
          "model_name": "LayoutModel",
          "model_module_version": "1.2.0",
          "state": {
            "_model_module": "@jupyter-widgets/base",
            "_model_module_version": "1.2.0",
            "_model_name": "LayoutModel",
            "_view_count": null,
            "_view_module": "@jupyter-widgets/base",
            "_view_module_version": "1.2.0",
            "_view_name": "LayoutView",
            "align_content": null,
            "align_items": null,
            "align_self": null,
            "border": null,
            "bottom": null,
            "display": null,
            "flex": null,
            "flex_flow": null,
            "grid_area": null,
            "grid_auto_columns": null,
            "grid_auto_flow": null,
            "grid_auto_rows": null,
            "grid_column": null,
            "grid_gap": null,
            "grid_row": null,
            "grid_template_areas": null,
            "grid_template_columns": null,
            "grid_template_rows": null,
            "height": null,
            "justify_content": null,
            "justify_items": null,
            "left": null,
            "margin": null,
            "max_height": null,
            "max_width": null,
            "min_height": null,
            "min_width": null,
            "object_fit": null,
            "object_position": null,
            "order": null,
            "overflow": null,
            "overflow_x": null,
            "overflow_y": null,
            "padding": null,
            "right": null,
            "top": null,
            "visibility": null,
            "width": null
          }
        },
        "34bfb0f286754f46ac45e8cfb48389b7": {
          "model_module": "@jupyter-widgets/controls",
          "model_name": "DescriptionStyleModel",
          "model_module_version": "1.5.0",
          "state": {
            "_model_module": "@jupyter-widgets/controls",
            "_model_module_version": "1.5.0",
            "_model_name": "DescriptionStyleModel",
            "_view_count": null,
            "_view_module": "@jupyter-widgets/base",
            "_view_module_version": "1.2.0",
            "_view_name": "StyleView",
            "description_width": ""
          }
        },
        "935b238433474d7c91552144469a0f12": {
          "model_module": "@jupyter-widgets/base",
          "model_name": "LayoutModel",
          "model_module_version": "1.2.0",
          "state": {
            "_model_module": "@jupyter-widgets/base",
            "_model_module_version": "1.2.0",
            "_model_name": "LayoutModel",
            "_view_count": null,
            "_view_module": "@jupyter-widgets/base",
            "_view_module_version": "1.2.0",
            "_view_name": "LayoutView",
            "align_content": null,
            "align_items": null,
            "align_self": null,
            "border": null,
            "bottom": null,
            "display": null,
            "flex": null,
            "flex_flow": null,
            "grid_area": null,
            "grid_auto_columns": null,
            "grid_auto_flow": null,
            "grid_auto_rows": null,
            "grid_column": null,
            "grid_gap": null,
            "grid_row": null,
            "grid_template_areas": null,
            "grid_template_columns": null,
            "grid_template_rows": null,
            "height": null,
            "justify_content": null,
            "justify_items": null,
            "left": null,
            "margin": null,
            "max_height": null,
            "max_width": null,
            "min_height": null,
            "min_width": null,
            "object_fit": null,
            "object_position": null,
            "order": null,
            "overflow": null,
            "overflow_x": null,
            "overflow_y": null,
            "padding": null,
            "right": null,
            "top": null,
            "visibility": null,
            "width": null
          }
        },
        "3e9027ab83d14855921d97127d8971f7": {
          "model_module": "@jupyter-widgets/controls",
          "model_name": "ProgressStyleModel",
          "model_module_version": "1.5.0",
          "state": {
            "_model_module": "@jupyter-widgets/controls",
            "_model_module_version": "1.5.0",
            "_model_name": "ProgressStyleModel",
            "_view_count": null,
            "_view_module": "@jupyter-widgets/base",
            "_view_module_version": "1.2.0",
            "_view_name": "StyleView",
            "bar_color": null,
            "description_width": ""
          }
        },
        "e3f683829c6e44f394794b0058c2a562": {
          "model_module": "@jupyter-widgets/base",
          "model_name": "LayoutModel",
          "model_module_version": "1.2.0",
          "state": {
            "_model_module": "@jupyter-widgets/base",
            "_model_module_version": "1.2.0",
            "_model_name": "LayoutModel",
            "_view_count": null,
            "_view_module": "@jupyter-widgets/base",
            "_view_module_version": "1.2.0",
            "_view_name": "LayoutView",
            "align_content": null,
            "align_items": null,
            "align_self": null,
            "border": null,
            "bottom": null,
            "display": null,
            "flex": null,
            "flex_flow": null,
            "grid_area": null,
            "grid_auto_columns": null,
            "grid_auto_flow": null,
            "grid_auto_rows": null,
            "grid_column": null,
            "grid_gap": null,
            "grid_row": null,
            "grid_template_areas": null,
            "grid_template_columns": null,
            "grid_template_rows": null,
            "height": null,
            "justify_content": null,
            "justify_items": null,
            "left": null,
            "margin": null,
            "max_height": null,
            "max_width": null,
            "min_height": null,
            "min_width": null,
            "object_fit": null,
            "object_position": null,
            "order": null,
            "overflow": null,
            "overflow_x": null,
            "overflow_y": null,
            "padding": null,
            "right": null,
            "top": null,
            "visibility": null,
            "width": null
          }
        },
        "1440dbf653df4328b9360b6f7c3253d8": {
          "model_module": "@jupyter-widgets/controls",
          "model_name": "DescriptionStyleModel",
          "model_module_version": "1.5.0",
          "state": {
            "_model_module": "@jupyter-widgets/controls",
            "_model_module_version": "1.5.0",
            "_model_name": "DescriptionStyleModel",
            "_view_count": null,
            "_view_module": "@jupyter-widgets/base",
            "_view_module_version": "1.2.0",
            "_view_name": "StyleView",
            "description_width": ""
          }
        },
        "69b2c2ce19c74ef9bf7893f3bb6c3ff3": {
          "model_module": "@jupyter-widgets/controls",
          "model_name": "HBoxModel",
          "model_module_version": "1.5.0",
          "state": {
            "_dom_classes": [],
            "_model_module": "@jupyter-widgets/controls",
            "_model_module_version": "1.5.0",
            "_model_name": "HBoxModel",
            "_view_count": null,
            "_view_module": "@jupyter-widgets/controls",
            "_view_module_version": "1.5.0",
            "_view_name": "HBoxView",
            "box_style": "",
            "children": [
              "IPY_MODEL_586f33784cff4baabeb2af41c3181d71",
              "IPY_MODEL_f6d5d616afd542c6ac566eb1bc88c228",
              "IPY_MODEL_fc215e1316a04c4ca36a1559ad1b505e"
            ],
            "layout": "IPY_MODEL_408186698ada49bdb93f09bb1a339379"
          }
        },
        "586f33784cff4baabeb2af41c3181d71": {
          "model_module": "@jupyter-widgets/controls",
          "model_name": "HTMLModel",
          "model_module_version": "1.5.0",
          "state": {
            "_dom_classes": [],
            "_model_module": "@jupyter-widgets/controls",
            "_model_module_version": "1.5.0",
            "_model_name": "HTMLModel",
            "_view_count": null,
            "_view_module": "@jupyter-widgets/controls",
            "_view_module_version": "1.5.0",
            "_view_name": "HTMLView",
            "description": "",
            "description_tooltip": null,
            "layout": "IPY_MODEL_bc7c3e48fe5948b580a5107ff630329d",
            "placeholder": "​",
            "style": "IPY_MODEL_eeb2a682cb9f465497b3587d80752444",
            "value": "Generating valid split: 100%"
          }
        },
        "f6d5d616afd542c6ac566eb1bc88c228": {
          "model_module": "@jupyter-widgets/controls",
          "model_name": "FloatProgressModel",
          "model_module_version": "1.5.0",
          "state": {
            "_dom_classes": [],
            "_model_module": "@jupyter-widgets/controls",
            "_model_module_version": "1.5.0",
            "_model_name": "FloatProgressModel",
            "_view_count": null,
            "_view_module": "@jupyter-widgets/controls",
            "_view_module_version": "1.5.0",
            "_view_name": "ProgressView",
            "bar_style": "success",
            "description": "",
            "description_tooltip": null,
            "layout": "IPY_MODEL_38237ecd6f8342eda6f4d1b4732eb00a",
            "max": 10000,
            "min": 0,
            "orientation": "horizontal",
            "style": "IPY_MODEL_40163124770f4d1bb0d39f3230c7a72e",
            "value": 10000
          }
        },
        "fc215e1316a04c4ca36a1559ad1b505e": {
          "model_module": "@jupyter-widgets/controls",
          "model_name": "HTMLModel",
          "model_module_version": "1.5.0",
          "state": {
            "_dom_classes": [],
            "_model_module": "@jupyter-widgets/controls",
            "_model_module_version": "1.5.0",
            "_model_name": "HTMLModel",
            "_view_count": null,
            "_view_module": "@jupyter-widgets/controls",
            "_view_module_version": "1.5.0",
            "_view_name": "HTMLView",
            "description": "",
            "description_tooltip": null,
            "layout": "IPY_MODEL_6685c4e223f74a0db2b7630c5354bb7d",
            "placeholder": "​",
            "style": "IPY_MODEL_7c588b7d0a954ab28777757eef61c752",
            "value": " 10000/10000 [00:00&lt;00:00, 51819.60 examples/s]"
          }
        },
        "408186698ada49bdb93f09bb1a339379": {
          "model_module": "@jupyter-widgets/base",
          "model_name": "LayoutModel",
          "model_module_version": "1.2.0",
          "state": {
            "_model_module": "@jupyter-widgets/base",
            "_model_module_version": "1.2.0",
            "_model_name": "LayoutModel",
            "_view_count": null,
            "_view_module": "@jupyter-widgets/base",
            "_view_module_version": "1.2.0",
            "_view_name": "LayoutView",
            "align_content": null,
            "align_items": null,
            "align_self": null,
            "border": null,
            "bottom": null,
            "display": null,
            "flex": null,
            "flex_flow": null,
            "grid_area": null,
            "grid_auto_columns": null,
            "grid_auto_flow": null,
            "grid_auto_rows": null,
            "grid_column": null,
            "grid_gap": null,
            "grid_row": null,
            "grid_template_areas": null,
            "grid_template_columns": null,
            "grid_template_rows": null,
            "height": null,
            "justify_content": null,
            "justify_items": null,
            "left": null,
            "margin": null,
            "max_height": null,
            "max_width": null,
            "min_height": null,
            "min_width": null,
            "object_fit": null,
            "object_position": null,
            "order": null,
            "overflow": null,
            "overflow_x": null,
            "overflow_y": null,
            "padding": null,
            "right": null,
            "top": null,
            "visibility": null,
            "width": null
          }
        },
        "bc7c3e48fe5948b580a5107ff630329d": {
          "model_module": "@jupyter-widgets/base",
          "model_name": "LayoutModel",
          "model_module_version": "1.2.0",
          "state": {
            "_model_module": "@jupyter-widgets/base",
            "_model_module_version": "1.2.0",
            "_model_name": "LayoutModel",
            "_view_count": null,
            "_view_module": "@jupyter-widgets/base",
            "_view_module_version": "1.2.0",
            "_view_name": "LayoutView",
            "align_content": null,
            "align_items": null,
            "align_self": null,
            "border": null,
            "bottom": null,
            "display": null,
            "flex": null,
            "flex_flow": null,
            "grid_area": null,
            "grid_auto_columns": null,
            "grid_auto_flow": null,
            "grid_auto_rows": null,
            "grid_column": null,
            "grid_gap": null,
            "grid_row": null,
            "grid_template_areas": null,
            "grid_template_columns": null,
            "grid_template_rows": null,
            "height": null,
            "justify_content": null,
            "justify_items": null,
            "left": null,
            "margin": null,
            "max_height": null,
            "max_width": null,
            "min_height": null,
            "min_width": null,
            "object_fit": null,
            "object_position": null,
            "order": null,
            "overflow": null,
            "overflow_x": null,
            "overflow_y": null,
            "padding": null,
            "right": null,
            "top": null,
            "visibility": null,
            "width": null
          }
        },
        "eeb2a682cb9f465497b3587d80752444": {
          "model_module": "@jupyter-widgets/controls",
          "model_name": "DescriptionStyleModel",
          "model_module_version": "1.5.0",
          "state": {
            "_model_module": "@jupyter-widgets/controls",
            "_model_module_version": "1.5.0",
            "_model_name": "DescriptionStyleModel",
            "_view_count": null,
            "_view_module": "@jupyter-widgets/base",
            "_view_module_version": "1.2.0",
            "_view_name": "StyleView",
            "description_width": ""
          }
        },
        "38237ecd6f8342eda6f4d1b4732eb00a": {
          "model_module": "@jupyter-widgets/base",
          "model_name": "LayoutModel",
          "model_module_version": "1.2.0",
          "state": {
            "_model_module": "@jupyter-widgets/base",
            "_model_module_version": "1.2.0",
            "_model_name": "LayoutModel",
            "_view_count": null,
            "_view_module": "@jupyter-widgets/base",
            "_view_module_version": "1.2.0",
            "_view_name": "LayoutView",
            "align_content": null,
            "align_items": null,
            "align_self": null,
            "border": null,
            "bottom": null,
            "display": null,
            "flex": null,
            "flex_flow": null,
            "grid_area": null,
            "grid_auto_columns": null,
            "grid_auto_flow": null,
            "grid_auto_rows": null,
            "grid_column": null,
            "grid_gap": null,
            "grid_row": null,
            "grid_template_areas": null,
            "grid_template_columns": null,
            "grid_template_rows": null,
            "height": null,
            "justify_content": null,
            "justify_items": null,
            "left": null,
            "margin": null,
            "max_height": null,
            "max_width": null,
            "min_height": null,
            "min_width": null,
            "object_fit": null,
            "object_position": null,
            "order": null,
            "overflow": null,
            "overflow_x": null,
            "overflow_y": null,
            "padding": null,
            "right": null,
            "top": null,
            "visibility": null,
            "width": null
          }
        },
        "40163124770f4d1bb0d39f3230c7a72e": {
          "model_module": "@jupyter-widgets/controls",
          "model_name": "ProgressStyleModel",
          "model_module_version": "1.5.0",
          "state": {
            "_model_module": "@jupyter-widgets/controls",
            "_model_module_version": "1.5.0",
            "_model_name": "ProgressStyleModel",
            "_view_count": null,
            "_view_module": "@jupyter-widgets/base",
            "_view_module_version": "1.2.0",
            "_view_name": "StyleView",
            "bar_color": null,
            "description_width": ""
          }
        },
        "6685c4e223f74a0db2b7630c5354bb7d": {
          "model_module": "@jupyter-widgets/base",
          "model_name": "LayoutModel",
          "model_module_version": "1.2.0",
          "state": {
            "_model_module": "@jupyter-widgets/base",
            "_model_module_version": "1.2.0",
            "_model_name": "LayoutModel",
            "_view_count": null,
            "_view_module": "@jupyter-widgets/base",
            "_view_module_version": "1.2.0",
            "_view_name": "LayoutView",
            "align_content": null,
            "align_items": null,
            "align_self": null,
            "border": null,
            "bottom": null,
            "display": null,
            "flex": null,
            "flex_flow": null,
            "grid_area": null,
            "grid_auto_columns": null,
            "grid_auto_flow": null,
            "grid_auto_rows": null,
            "grid_column": null,
            "grid_gap": null,
            "grid_row": null,
            "grid_template_areas": null,
            "grid_template_columns": null,
            "grid_template_rows": null,
            "height": null,
            "justify_content": null,
            "justify_items": null,
            "left": null,
            "margin": null,
            "max_height": null,
            "max_width": null,
            "min_height": null,
            "min_width": null,
            "object_fit": null,
            "object_position": null,
            "order": null,
            "overflow": null,
            "overflow_x": null,
            "overflow_y": null,
            "padding": null,
            "right": null,
            "top": null,
            "visibility": null,
            "width": null
          }
        },
        "7c588b7d0a954ab28777757eef61c752": {
          "model_module": "@jupyter-widgets/controls",
          "model_name": "DescriptionStyleModel",
          "model_module_version": "1.5.0",
          "state": {
            "_model_module": "@jupyter-widgets/controls",
            "_model_module_version": "1.5.0",
            "_model_name": "DescriptionStyleModel",
            "_view_count": null,
            "_view_module": "@jupyter-widgets/base",
            "_view_module_version": "1.2.0",
            "_view_name": "StyleView",
            "description_width": ""
          }
        },
        "3e72b113b3194a6fbf437a7a49e28f46": {
          "model_module": "@jupyter-widgets/controls",
          "model_name": "HBoxModel",
          "model_module_version": "1.5.0",
          "state": {
            "_dom_classes": [],
            "_model_module": "@jupyter-widgets/controls",
            "_model_module_version": "1.5.0",
            "_model_name": "HBoxModel",
            "_view_count": null,
            "_view_module": "@jupyter-widgets/controls",
            "_view_module_version": "1.5.0",
            "_view_name": "HBoxView",
            "box_style": "",
            "children": [
              "IPY_MODEL_a94451c05cd04151afc3a53c2d44a5e0",
              "IPY_MODEL_de66c5ed61444a2f891fac87664924c3",
              "IPY_MODEL_d0a5ba68838648b6979ab07801595c3c"
            ],
            "layout": "IPY_MODEL_e88e01db75e04ca2a45e937f6c546991"
          }
        },
        "a94451c05cd04151afc3a53c2d44a5e0": {
          "model_module": "@jupyter-widgets/controls",
          "model_name": "HTMLModel",
          "model_module_version": "1.5.0",
          "state": {
            "_dom_classes": [],
            "_model_module": "@jupyter-widgets/controls",
            "_model_module_version": "1.5.0",
            "_model_name": "HTMLModel",
            "_view_count": null,
            "_view_module": "@jupyter-widgets/controls",
            "_view_module_version": "1.5.0",
            "_view_name": "HTMLView",
            "description": "",
            "description_tooltip": null,
            "layout": "IPY_MODEL_9326ae7ac4e44eebb1d9ca4db916bcd2",
            "placeholder": "​",
            "style": "IPY_MODEL_f7ca2131c2e44c73a2361f15bef11973",
            "value": "Generating test split: 100%"
          }
        },
        "de66c5ed61444a2f891fac87664924c3": {
          "model_module": "@jupyter-widgets/controls",
          "model_name": "FloatProgressModel",
          "model_module_version": "1.5.0",
          "state": {
            "_dom_classes": [],
            "_model_module": "@jupyter-widgets/controls",
            "_model_module_version": "1.5.0",
            "_model_name": "FloatProgressModel",
            "_view_count": null,
            "_view_module": "@jupyter-widgets/controls",
            "_view_module_version": "1.5.0",
            "_view_name": "ProgressView",
            "bar_style": "success",
            "description": "",
            "description_tooltip": null,
            "layout": "IPY_MODEL_fd4e7e36521e45559b3bfb339840551f",
            "max": 10000,
            "min": 0,
            "orientation": "horizontal",
            "style": "IPY_MODEL_4e1764e0a8d449aba738413c51dc7969",
            "value": 10000
          }
        },
        "d0a5ba68838648b6979ab07801595c3c": {
          "model_module": "@jupyter-widgets/controls",
          "model_name": "HTMLModel",
          "model_module_version": "1.5.0",
          "state": {
            "_dom_classes": [],
            "_model_module": "@jupyter-widgets/controls",
            "_model_module_version": "1.5.0",
            "_model_name": "HTMLModel",
            "_view_count": null,
            "_view_module": "@jupyter-widgets/controls",
            "_view_module_version": "1.5.0",
            "_view_name": "HTMLView",
            "description": "",
            "description_tooltip": null,
            "layout": "IPY_MODEL_20543c830f47487ebcfaef93291957bb",
            "placeholder": "​",
            "style": "IPY_MODEL_e402a8fb76124f2da80f08729f19acce",
            "value": " 10000/10000 [00:00&lt;00:00, 46757.89 examples/s]"
          }
        },
        "e88e01db75e04ca2a45e937f6c546991": {
          "model_module": "@jupyter-widgets/base",
          "model_name": "LayoutModel",
          "model_module_version": "1.2.0",
          "state": {
            "_model_module": "@jupyter-widgets/base",
            "_model_module_version": "1.2.0",
            "_model_name": "LayoutModel",
            "_view_count": null,
            "_view_module": "@jupyter-widgets/base",
            "_view_module_version": "1.2.0",
            "_view_name": "LayoutView",
            "align_content": null,
            "align_items": null,
            "align_self": null,
            "border": null,
            "bottom": null,
            "display": null,
            "flex": null,
            "flex_flow": null,
            "grid_area": null,
            "grid_auto_columns": null,
            "grid_auto_flow": null,
            "grid_auto_rows": null,
            "grid_column": null,
            "grid_gap": null,
            "grid_row": null,
            "grid_template_areas": null,
            "grid_template_columns": null,
            "grid_template_rows": null,
            "height": null,
            "justify_content": null,
            "justify_items": null,
            "left": null,
            "margin": null,
            "max_height": null,
            "max_width": null,
            "min_height": null,
            "min_width": null,
            "object_fit": null,
            "object_position": null,
            "order": null,
            "overflow": null,
            "overflow_x": null,
            "overflow_y": null,
            "padding": null,
            "right": null,
            "top": null,
            "visibility": null,
            "width": null
          }
        },
        "9326ae7ac4e44eebb1d9ca4db916bcd2": {
          "model_module": "@jupyter-widgets/base",
          "model_name": "LayoutModel",
          "model_module_version": "1.2.0",
          "state": {
            "_model_module": "@jupyter-widgets/base",
            "_model_module_version": "1.2.0",
            "_model_name": "LayoutModel",
            "_view_count": null,
            "_view_module": "@jupyter-widgets/base",
            "_view_module_version": "1.2.0",
            "_view_name": "LayoutView",
            "align_content": null,
            "align_items": null,
            "align_self": null,
            "border": null,
            "bottom": null,
            "display": null,
            "flex": null,
            "flex_flow": null,
            "grid_area": null,
            "grid_auto_columns": null,
            "grid_auto_flow": null,
            "grid_auto_rows": null,
            "grid_column": null,
            "grid_gap": null,
            "grid_row": null,
            "grid_template_areas": null,
            "grid_template_columns": null,
            "grid_template_rows": null,
            "height": null,
            "justify_content": null,
            "justify_items": null,
            "left": null,
            "margin": null,
            "max_height": null,
            "max_width": null,
            "min_height": null,
            "min_width": null,
            "object_fit": null,
            "object_position": null,
            "order": null,
            "overflow": null,
            "overflow_x": null,
            "overflow_y": null,
            "padding": null,
            "right": null,
            "top": null,
            "visibility": null,
            "width": null
          }
        },
        "f7ca2131c2e44c73a2361f15bef11973": {
          "model_module": "@jupyter-widgets/controls",
          "model_name": "DescriptionStyleModel",
          "model_module_version": "1.5.0",
          "state": {
            "_model_module": "@jupyter-widgets/controls",
            "_model_module_version": "1.5.0",
            "_model_name": "DescriptionStyleModel",
            "_view_count": null,
            "_view_module": "@jupyter-widgets/base",
            "_view_module_version": "1.2.0",
            "_view_name": "StyleView",
            "description_width": ""
          }
        },
        "fd4e7e36521e45559b3bfb339840551f": {
          "model_module": "@jupyter-widgets/base",
          "model_name": "LayoutModel",
          "model_module_version": "1.2.0",
          "state": {
            "_model_module": "@jupyter-widgets/base",
            "_model_module_version": "1.2.0",
            "_model_name": "LayoutModel",
            "_view_count": null,
            "_view_module": "@jupyter-widgets/base",
            "_view_module_version": "1.2.0",
            "_view_name": "LayoutView",
            "align_content": null,
            "align_items": null,
            "align_self": null,
            "border": null,
            "bottom": null,
            "display": null,
            "flex": null,
            "flex_flow": null,
            "grid_area": null,
            "grid_auto_columns": null,
            "grid_auto_flow": null,
            "grid_auto_rows": null,
            "grid_column": null,
            "grid_gap": null,
            "grid_row": null,
            "grid_template_areas": null,
            "grid_template_columns": null,
            "grid_template_rows": null,
            "height": null,
            "justify_content": null,
            "justify_items": null,
            "left": null,
            "margin": null,
            "max_height": null,
            "max_width": null,
            "min_height": null,
            "min_width": null,
            "object_fit": null,
            "object_position": null,
            "order": null,
            "overflow": null,
            "overflow_x": null,
            "overflow_y": null,
            "padding": null,
            "right": null,
            "top": null,
            "visibility": null,
            "width": null
          }
        },
        "4e1764e0a8d449aba738413c51dc7969": {
          "model_module": "@jupyter-widgets/controls",
          "model_name": "ProgressStyleModel",
          "model_module_version": "1.5.0",
          "state": {
            "_model_module": "@jupyter-widgets/controls",
            "_model_module_version": "1.5.0",
            "_model_name": "ProgressStyleModel",
            "_view_count": null,
            "_view_module": "@jupyter-widgets/base",
            "_view_module_version": "1.2.0",
            "_view_name": "StyleView",
            "bar_color": null,
            "description_width": ""
          }
        },
        "20543c830f47487ebcfaef93291957bb": {
          "model_module": "@jupyter-widgets/base",
          "model_name": "LayoutModel",
          "model_module_version": "1.2.0",
          "state": {
            "_model_module": "@jupyter-widgets/base",
            "_model_module_version": "1.2.0",
            "_model_name": "LayoutModel",
            "_view_count": null,
            "_view_module": "@jupyter-widgets/base",
            "_view_module_version": "1.2.0",
            "_view_name": "LayoutView",
            "align_content": null,
            "align_items": null,
            "align_self": null,
            "border": null,
            "bottom": null,
            "display": null,
            "flex": null,
            "flex_flow": null,
            "grid_area": null,
            "grid_auto_columns": null,
            "grid_auto_flow": null,
            "grid_auto_rows": null,
            "grid_column": null,
            "grid_gap": null,
            "grid_row": null,
            "grid_template_areas": null,
            "grid_template_columns": null,
            "grid_template_rows": null,
            "height": null,
            "justify_content": null,
            "justify_items": null,
            "left": null,
            "margin": null,
            "max_height": null,
            "max_width": null,
            "min_height": null,
            "min_width": null,
            "object_fit": null,
            "object_position": null,
            "order": null,
            "overflow": null,
            "overflow_x": null,
            "overflow_y": null,
            "padding": null,
            "right": null,
            "top": null,
            "visibility": null,
            "width": null
          }
        },
        "e402a8fb76124f2da80f08729f19acce": {
          "model_module": "@jupyter-widgets/controls",
          "model_name": "DescriptionStyleModel",
          "model_module_version": "1.5.0",
          "state": {
            "_model_module": "@jupyter-widgets/controls",
            "_model_module_version": "1.5.0",
            "_model_name": "DescriptionStyleModel",
            "_view_count": null,
            "_view_module": "@jupyter-widgets/base",
            "_view_module_version": "1.2.0",
            "_view_name": "StyleView",
            "description_width": ""
          }
        },
        "973c1fb547a843599c10187888aa539d": {
          "model_module": "@jupyter-widgets/controls",
          "model_name": "HBoxModel",
          "model_module_version": "1.5.0",
          "state": {
            "_dom_classes": [],
            "_model_module": "@jupyter-widgets/controls",
            "_model_module_version": "1.5.0",
            "_model_name": "HBoxModel",
            "_view_count": null,
            "_view_module": "@jupyter-widgets/controls",
            "_view_module_version": "1.5.0",
            "_view_name": "HBoxView",
            "box_style": "",
            "children": [
              "IPY_MODEL_4190565394a7450686a3e6cc2c486b2c",
              "IPY_MODEL_590bc4532aef40e3b1e43cefaf7b8f38",
              "IPY_MODEL_4bd0fcea094f44fe90add43e7c129e5a"
            ],
            "layout": "IPY_MODEL_562a3f7770c54ed6a64257f5e710c4d1"
          }
        },
        "4190565394a7450686a3e6cc2c486b2c": {
          "model_module": "@jupyter-widgets/controls",
          "model_name": "HTMLModel",
          "model_module_version": "1.5.0",
          "state": {
            "_dom_classes": [],
            "_model_module": "@jupyter-widgets/controls",
            "_model_module_version": "1.5.0",
            "_model_name": "HTMLModel",
            "_view_count": null,
            "_view_module": "@jupyter-widgets/controls",
            "_view_module_version": "1.5.0",
            "_view_name": "HTMLView",
            "description": "",
            "description_tooltip": null,
            "layout": "IPY_MODEL_d8b9e91ca82a46f78be02d1ad03089f1",
            "placeholder": "​",
            "style": "IPY_MODEL_07a780011cb54b5c8f465b3cba47051f",
            "value": ""
          }
        },
        "590bc4532aef40e3b1e43cefaf7b8f38": {
          "model_module": "@jupyter-widgets/controls",
          "model_name": "FloatProgressModel",
          "model_module_version": "1.5.0",
          "state": {
            "_dom_classes": [],
            "_model_module": "@jupyter-widgets/controls",
            "_model_module_version": "1.5.0",
            "_model_name": "FloatProgressModel",
            "_view_count": null,
            "_view_module": "@jupyter-widgets/controls",
            "_view_module_version": "1.5.0",
            "_view_name": "ProgressView",
            "bar_style": "success",
            "description": "",
            "description_tooltip": null,
            "layout": "IPY_MODEL_555233522fd64573847a0ea1ede9f61e",
            "max": 1,
            "min": 0,
            "orientation": "horizontal",
            "style": "IPY_MODEL_4c0f73d14f574c98b0442a567d8c80a7",
            "value": 0
          }
        },
        "4bd0fcea094f44fe90add43e7c129e5a": {
          "model_module": "@jupyter-widgets/controls",
          "model_name": "HTMLModel",
          "model_module_version": "1.5.0",
          "state": {
            "_dom_classes": [],
            "_model_module": "@jupyter-widgets/controls",
            "_model_module_version": "1.5.0",
            "_model_name": "HTMLModel",
            "_view_count": null,
            "_view_module": "@jupyter-widgets/controls",
            "_view_module_version": "1.5.0",
            "_view_name": "HTMLView",
            "description": "",
            "description_tooltip": null,
            "layout": "IPY_MODEL_8aa32aa278d8488f88a64c22bf86e1aa",
            "placeholder": "​",
            "style": "IPY_MODEL_69371a383e34457cb60d89207d0eeccb",
            "value": " 0/0 [00:00&lt;?, ?it/s]"
          }
        },
        "562a3f7770c54ed6a64257f5e710c4d1": {
          "model_module": "@jupyter-widgets/base",
          "model_name": "LayoutModel",
          "model_module_version": "1.2.0",
          "state": {
            "_model_module": "@jupyter-widgets/base",
            "_model_module_version": "1.2.0",
            "_model_name": "LayoutModel",
            "_view_count": null,
            "_view_module": "@jupyter-widgets/base",
            "_view_module_version": "1.2.0",
            "_view_name": "LayoutView",
            "align_content": null,
            "align_items": null,
            "align_self": null,
            "border": null,
            "bottom": null,
            "display": null,
            "flex": null,
            "flex_flow": null,
            "grid_area": null,
            "grid_auto_columns": null,
            "grid_auto_flow": null,
            "grid_auto_rows": null,
            "grid_column": null,
            "grid_gap": null,
            "grid_row": null,
            "grid_template_areas": null,
            "grid_template_columns": null,
            "grid_template_rows": null,
            "height": null,
            "justify_content": null,
            "justify_items": null,
            "left": null,
            "margin": null,
            "max_height": null,
            "max_width": null,
            "min_height": null,
            "min_width": null,
            "object_fit": null,
            "object_position": null,
            "order": null,
            "overflow": null,
            "overflow_x": null,
            "overflow_y": null,
            "padding": null,
            "right": null,
            "top": null,
            "visibility": null,
            "width": null
          }
        },
        "d8b9e91ca82a46f78be02d1ad03089f1": {
          "model_module": "@jupyter-widgets/base",
          "model_name": "LayoutModel",
          "model_module_version": "1.2.0",
          "state": {
            "_model_module": "@jupyter-widgets/base",
            "_model_module_version": "1.2.0",
            "_model_name": "LayoutModel",
            "_view_count": null,
            "_view_module": "@jupyter-widgets/base",
            "_view_module_version": "1.2.0",
            "_view_name": "LayoutView",
            "align_content": null,
            "align_items": null,
            "align_self": null,
            "border": null,
            "bottom": null,
            "display": null,
            "flex": null,
            "flex_flow": null,
            "grid_area": null,
            "grid_auto_columns": null,
            "grid_auto_flow": null,
            "grid_auto_rows": null,
            "grid_column": null,
            "grid_gap": null,
            "grid_row": null,
            "grid_template_areas": null,
            "grid_template_columns": null,
            "grid_template_rows": null,
            "height": null,
            "justify_content": null,
            "justify_items": null,
            "left": null,
            "margin": null,
            "max_height": null,
            "max_width": null,
            "min_height": null,
            "min_width": null,
            "object_fit": null,
            "object_position": null,
            "order": null,
            "overflow": null,
            "overflow_x": null,
            "overflow_y": null,
            "padding": null,
            "right": null,
            "top": null,
            "visibility": null,
            "width": null
          }
        },
        "07a780011cb54b5c8f465b3cba47051f": {
          "model_module": "@jupyter-widgets/controls",
          "model_name": "DescriptionStyleModel",
          "model_module_version": "1.5.0",
          "state": {
            "_model_module": "@jupyter-widgets/controls",
            "_model_module_version": "1.5.0",
            "_model_name": "DescriptionStyleModel",
            "_view_count": null,
            "_view_module": "@jupyter-widgets/base",
            "_view_module_version": "1.2.0",
            "_view_name": "StyleView",
            "description_width": ""
          }
        },
        "555233522fd64573847a0ea1ede9f61e": {
          "model_module": "@jupyter-widgets/base",
          "model_name": "LayoutModel",
          "model_module_version": "1.2.0",
          "state": {
            "_model_module": "@jupyter-widgets/base",
            "_model_module_version": "1.2.0",
            "_model_name": "LayoutModel",
            "_view_count": null,
            "_view_module": "@jupyter-widgets/base",
            "_view_module_version": "1.2.0",
            "_view_name": "LayoutView",
            "align_content": null,
            "align_items": null,
            "align_self": null,
            "border": null,
            "bottom": null,
            "display": null,
            "flex": null,
            "flex_flow": null,
            "grid_area": null,
            "grid_auto_columns": null,
            "grid_auto_flow": null,
            "grid_auto_rows": null,
            "grid_column": null,
            "grid_gap": null,
            "grid_row": null,
            "grid_template_areas": null,
            "grid_template_columns": null,
            "grid_template_rows": null,
            "height": null,
            "justify_content": null,
            "justify_items": null,
            "left": null,
            "margin": null,
            "max_height": null,
            "max_width": null,
            "min_height": null,
            "min_width": null,
            "object_fit": null,
            "object_position": null,
            "order": null,
            "overflow": null,
            "overflow_x": null,
            "overflow_y": null,
            "padding": null,
            "right": null,
            "top": null,
            "visibility": null,
            "width": "20px"
          }
        },
        "4c0f73d14f574c98b0442a567d8c80a7": {
          "model_module": "@jupyter-widgets/controls",
          "model_name": "ProgressStyleModel",
          "model_module_version": "1.5.0",
          "state": {
            "_model_module": "@jupyter-widgets/controls",
            "_model_module_version": "1.5.0",
            "_model_name": "ProgressStyleModel",
            "_view_count": null,
            "_view_module": "@jupyter-widgets/base",
            "_view_module_version": "1.2.0",
            "_view_name": "StyleView",
            "bar_color": null,
            "description_width": ""
          }
        },
        "8aa32aa278d8488f88a64c22bf86e1aa": {
          "model_module": "@jupyter-widgets/base",
          "model_name": "LayoutModel",
          "model_module_version": "1.2.0",
          "state": {
            "_model_module": "@jupyter-widgets/base",
            "_model_module_version": "1.2.0",
            "_model_name": "LayoutModel",
            "_view_count": null,
            "_view_module": "@jupyter-widgets/base",
            "_view_module_version": "1.2.0",
            "_view_name": "LayoutView",
            "align_content": null,
            "align_items": null,
            "align_self": null,
            "border": null,
            "bottom": null,
            "display": null,
            "flex": null,
            "flex_flow": null,
            "grid_area": null,
            "grid_auto_columns": null,
            "grid_auto_flow": null,
            "grid_auto_rows": null,
            "grid_column": null,
            "grid_gap": null,
            "grid_row": null,
            "grid_template_areas": null,
            "grid_template_columns": null,
            "grid_template_rows": null,
            "height": null,
            "justify_content": null,
            "justify_items": null,
            "left": null,
            "margin": null,
            "max_height": null,
            "max_width": null,
            "min_height": null,
            "min_width": null,
            "object_fit": null,
            "object_position": null,
            "order": null,
            "overflow": null,
            "overflow_x": null,
            "overflow_y": null,
            "padding": null,
            "right": null,
            "top": null,
            "visibility": null,
            "width": null
          }
        },
        "69371a383e34457cb60d89207d0eeccb": {
          "model_module": "@jupyter-widgets/controls",
          "model_name": "DescriptionStyleModel",
          "model_module_version": "1.5.0",
          "state": {
            "_model_module": "@jupyter-widgets/controls",
            "_model_module_version": "1.5.0",
            "_model_name": "DescriptionStyleModel",
            "_view_count": null,
            "_view_module": "@jupyter-widgets/base",
            "_view_module_version": "1.2.0",
            "_view_name": "StyleView",
            "description_width": ""
          }
        },
        "5c946403919b4758a4e82f745cea3677": {
          "model_module": "@jupyter-widgets/controls",
          "model_name": "HBoxModel",
          "model_module_version": "1.5.0",
          "state": {
            "_dom_classes": [],
            "_model_module": "@jupyter-widgets/controls",
            "_model_module_version": "1.5.0",
            "_model_name": "HBoxModel",
            "_view_count": null,
            "_view_module": "@jupyter-widgets/controls",
            "_view_module_version": "1.5.0",
            "_view_name": "HBoxView",
            "box_style": "",
            "children": [
              "IPY_MODEL_9d02e4ce31d14cb68d73407128c8ea4a",
              "IPY_MODEL_90f582e13f424c45b79c664efdcadfd8",
              "IPY_MODEL_ad4c8931f43c45c9950390f1a187457c"
            ],
            "layout": "IPY_MODEL_9e407419273b4548a9d60b1a1ba6f2e3"
          }
        },
        "9d02e4ce31d14cb68d73407128c8ea4a": {
          "model_module": "@jupyter-widgets/controls",
          "model_name": "HTMLModel",
          "model_module_version": "1.5.0",
          "state": {
            "_dom_classes": [],
            "_model_module": "@jupyter-widgets/controls",
            "_model_module_version": "1.5.0",
            "_model_name": "HTMLModel",
            "_view_count": null,
            "_view_module": "@jupyter-widgets/controls",
            "_view_module_version": "1.5.0",
            "_view_name": "HTMLView",
            "description": "",
            "description_tooltip": null,
            "layout": "IPY_MODEL_fbd558e321474ab7bf981a7176e7a7cf",
            "placeholder": "​",
            "style": "IPY_MODEL_6118a7fd20e94216bb3abd2744949659",
            "value": "Running tokenizer on dataset: 100%"
          }
        },
        "90f582e13f424c45b79c664efdcadfd8": {
          "model_module": "@jupyter-widgets/controls",
          "model_name": "FloatProgressModel",
          "model_module_version": "1.5.0",
          "state": {
            "_dom_classes": [],
            "_model_module": "@jupyter-widgets/controls",
            "_model_module_version": "1.5.0",
            "_model_name": "FloatProgressModel",
            "_view_count": null,
            "_view_module": "@jupyter-widgets/controls",
            "_view_module_version": "1.5.0",
            "_view_name": "ProgressView",
            "bar_style": "success",
            "description": "",
            "description_tooltip": null,
            "layout": "IPY_MODEL_09ec9f9485a04c54865cde07b9b77499",
            "max": 10000,
            "min": 0,
            "orientation": "horizontal",
            "style": "IPY_MODEL_94e9f05e7ee4434ba922b3fbc15e1ff8",
            "value": 10000
          }
        },
        "ad4c8931f43c45c9950390f1a187457c": {
          "model_module": "@jupyter-widgets/controls",
          "model_name": "HTMLModel",
          "model_module_version": "1.5.0",
          "state": {
            "_dom_classes": [],
            "_model_module": "@jupyter-widgets/controls",
            "_model_module_version": "1.5.0",
            "_model_name": "HTMLModel",
            "_view_count": null,
            "_view_module": "@jupyter-widgets/controls",
            "_view_module_version": "1.5.0",
            "_view_name": "HTMLView",
            "description": "",
            "description_tooltip": null,
            "layout": "IPY_MODEL_1ec3433558694c53aa12ce27b6706057",
            "placeholder": "​",
            "style": "IPY_MODEL_7642c773449e4d37ae2acb02a2501942",
            "value": " 10000/10000 [00:09&lt;00:00, 884.52 examples/s]"
          }
        },
        "9e407419273b4548a9d60b1a1ba6f2e3": {
          "model_module": "@jupyter-widgets/base",
          "model_name": "LayoutModel",
          "model_module_version": "1.2.0",
          "state": {
            "_model_module": "@jupyter-widgets/base",
            "_model_module_version": "1.2.0",
            "_model_name": "LayoutModel",
            "_view_count": null,
            "_view_module": "@jupyter-widgets/base",
            "_view_module_version": "1.2.0",
            "_view_name": "LayoutView",
            "align_content": null,
            "align_items": null,
            "align_self": null,
            "border": null,
            "bottom": null,
            "display": null,
            "flex": null,
            "flex_flow": null,
            "grid_area": null,
            "grid_auto_columns": null,
            "grid_auto_flow": null,
            "grid_auto_rows": null,
            "grid_column": null,
            "grid_gap": null,
            "grid_row": null,
            "grid_template_areas": null,
            "grid_template_columns": null,
            "grid_template_rows": null,
            "height": null,
            "justify_content": null,
            "justify_items": null,
            "left": null,
            "margin": null,
            "max_height": null,
            "max_width": null,
            "min_height": null,
            "min_width": null,
            "object_fit": null,
            "object_position": null,
            "order": null,
            "overflow": null,
            "overflow_x": null,
            "overflow_y": null,
            "padding": null,
            "right": null,
            "top": null,
            "visibility": null,
            "width": null
          }
        },
        "fbd558e321474ab7bf981a7176e7a7cf": {
          "model_module": "@jupyter-widgets/base",
          "model_name": "LayoutModel",
          "model_module_version": "1.2.0",
          "state": {
            "_model_module": "@jupyter-widgets/base",
            "_model_module_version": "1.2.0",
            "_model_name": "LayoutModel",
            "_view_count": null,
            "_view_module": "@jupyter-widgets/base",
            "_view_module_version": "1.2.0",
            "_view_name": "LayoutView",
            "align_content": null,
            "align_items": null,
            "align_self": null,
            "border": null,
            "bottom": null,
            "display": null,
            "flex": null,
            "flex_flow": null,
            "grid_area": null,
            "grid_auto_columns": null,
            "grid_auto_flow": null,
            "grid_auto_rows": null,
            "grid_column": null,
            "grid_gap": null,
            "grid_row": null,
            "grid_template_areas": null,
            "grid_template_columns": null,
            "grid_template_rows": null,
            "height": null,
            "justify_content": null,
            "justify_items": null,
            "left": null,
            "margin": null,
            "max_height": null,
            "max_width": null,
            "min_height": null,
            "min_width": null,
            "object_fit": null,
            "object_position": null,
            "order": null,
            "overflow": null,
            "overflow_x": null,
            "overflow_y": null,
            "padding": null,
            "right": null,
            "top": null,
            "visibility": null,
            "width": null
          }
        },
        "6118a7fd20e94216bb3abd2744949659": {
          "model_module": "@jupyter-widgets/controls",
          "model_name": "DescriptionStyleModel",
          "model_module_version": "1.5.0",
          "state": {
            "_model_module": "@jupyter-widgets/controls",
            "_model_module_version": "1.5.0",
            "_model_name": "DescriptionStyleModel",
            "_view_count": null,
            "_view_module": "@jupyter-widgets/base",
            "_view_module_version": "1.2.0",
            "_view_name": "StyleView",
            "description_width": ""
          }
        },
        "09ec9f9485a04c54865cde07b9b77499": {
          "model_module": "@jupyter-widgets/base",
          "model_name": "LayoutModel",
          "model_module_version": "1.2.0",
          "state": {
            "_model_module": "@jupyter-widgets/base",
            "_model_module_version": "1.2.0",
            "_model_name": "LayoutModel",
            "_view_count": null,
            "_view_module": "@jupyter-widgets/base",
            "_view_module_version": "1.2.0",
            "_view_name": "LayoutView",
            "align_content": null,
            "align_items": null,
            "align_self": null,
            "border": null,
            "bottom": null,
            "display": null,
            "flex": null,
            "flex_flow": null,
            "grid_area": null,
            "grid_auto_columns": null,
            "grid_auto_flow": null,
            "grid_auto_rows": null,
            "grid_column": null,
            "grid_gap": null,
            "grid_row": null,
            "grid_template_areas": null,
            "grid_template_columns": null,
            "grid_template_rows": null,
            "height": null,
            "justify_content": null,
            "justify_items": null,
            "left": null,
            "margin": null,
            "max_height": null,
            "max_width": null,
            "min_height": null,
            "min_width": null,
            "object_fit": null,
            "object_position": null,
            "order": null,
            "overflow": null,
            "overflow_x": null,
            "overflow_y": null,
            "padding": null,
            "right": null,
            "top": null,
            "visibility": null,
            "width": null
          }
        },
        "94e9f05e7ee4434ba922b3fbc15e1ff8": {
          "model_module": "@jupyter-widgets/controls",
          "model_name": "ProgressStyleModel",
          "model_module_version": "1.5.0",
          "state": {
            "_model_module": "@jupyter-widgets/controls",
            "_model_module_version": "1.5.0",
            "_model_name": "ProgressStyleModel",
            "_view_count": null,
            "_view_module": "@jupyter-widgets/base",
            "_view_module_version": "1.2.0",
            "_view_name": "StyleView",
            "bar_color": null,
            "description_width": ""
          }
        },
        "1ec3433558694c53aa12ce27b6706057": {
          "model_module": "@jupyter-widgets/base",
          "model_name": "LayoutModel",
          "model_module_version": "1.2.0",
          "state": {
            "_model_module": "@jupyter-widgets/base",
            "_model_module_version": "1.2.0",
            "_model_name": "LayoutModel",
            "_view_count": null,
            "_view_module": "@jupyter-widgets/base",
            "_view_module_version": "1.2.0",
            "_view_name": "LayoutView",
            "align_content": null,
            "align_items": null,
            "align_self": null,
            "border": null,
            "bottom": null,
            "display": null,
            "flex": null,
            "flex_flow": null,
            "grid_area": null,
            "grid_auto_columns": null,
            "grid_auto_flow": null,
            "grid_auto_rows": null,
            "grid_column": null,
            "grid_gap": null,
            "grid_row": null,
            "grid_template_areas": null,
            "grid_template_columns": null,
            "grid_template_rows": null,
            "height": null,
            "justify_content": null,
            "justify_items": null,
            "left": null,
            "margin": null,
            "max_height": null,
            "max_width": null,
            "min_height": null,
            "min_width": null,
            "object_fit": null,
            "object_position": null,
            "order": null,
            "overflow": null,
            "overflow_x": null,
            "overflow_y": null,
            "padding": null,
            "right": null,
            "top": null,
            "visibility": null,
            "width": null
          }
        },
        "7642c773449e4d37ae2acb02a2501942": {
          "model_module": "@jupyter-widgets/controls",
          "model_name": "DescriptionStyleModel",
          "model_module_version": "1.5.0",
          "state": {
            "_model_module": "@jupyter-widgets/controls",
            "_model_module_version": "1.5.0",
            "_model_name": "DescriptionStyleModel",
            "_view_count": null,
            "_view_module": "@jupyter-widgets/base",
            "_view_module_version": "1.2.0",
            "_view_name": "StyleView",
            "description_width": ""
          }
        },
        "1f2131b09a8346d59de72b6b94eb6dca": {
          "model_module": "@jupyter-widgets/controls",
          "model_name": "HBoxModel",
          "model_module_version": "1.5.0",
          "state": {
            "_dom_classes": [],
            "_model_module": "@jupyter-widgets/controls",
            "_model_module_version": "1.5.0",
            "_model_name": "HBoxModel",
            "_view_count": null,
            "_view_module": "@jupyter-widgets/controls",
            "_view_module_version": "1.5.0",
            "_view_name": "HBoxView",
            "box_style": "",
            "children": [
              "IPY_MODEL_555005c5137544f6a8180d51a8f00f9f",
              "IPY_MODEL_8ff5753fc2614aa59bb3c068527b77dc",
              "IPY_MODEL_cf75b0b498ad4c7088ad65635d18adf9"
            ],
            "layout": "IPY_MODEL_215b4f4483ba4110be950a4c8a615f31"
          }
        },
        "555005c5137544f6a8180d51a8f00f9f": {
          "model_module": "@jupyter-widgets/controls",
          "model_name": "HTMLModel",
          "model_module_version": "1.5.0",
          "state": {
            "_dom_classes": [],
            "_model_module": "@jupyter-widgets/controls",
            "_model_module_version": "1.5.0",
            "_model_name": "HTMLModel",
            "_view_count": null,
            "_view_module": "@jupyter-widgets/controls",
            "_view_module_version": "1.5.0",
            "_view_name": "HTMLView",
            "description": "",
            "description_tooltip": null,
            "layout": "IPY_MODEL_4342e17275da4521a5095b643b14f4cb",
            "placeholder": "​",
            "style": "IPY_MODEL_e5dbbd8fe5ab47f5a8410b2ebcfcfa72",
            "value": "model.safetensors: 100%"
          }
        },
        "8ff5753fc2614aa59bb3c068527b77dc": {
          "model_module": "@jupyter-widgets/controls",
          "model_name": "FloatProgressModel",
          "model_module_version": "1.5.0",
          "state": {
            "_dom_classes": [],
            "_model_module": "@jupyter-widgets/controls",
            "_model_module_version": "1.5.0",
            "_model_name": "FloatProgressModel",
            "_view_count": null,
            "_view_module": "@jupyter-widgets/controls",
            "_view_module_version": "1.5.0",
            "_view_name": "ProgressView",
            "bar_style": "success",
            "description": "",
            "description_tooltip": null,
            "layout": "IPY_MODEL_a77921345cca4a939c85fb9fc09593c9",
            "max": 267954768,
            "min": 0,
            "orientation": "horizontal",
            "style": "IPY_MODEL_d5768e286fb34e1e8ed5b4e2d980bcef",
            "value": 267954768
          }
        },
        "cf75b0b498ad4c7088ad65635d18adf9": {
          "model_module": "@jupyter-widgets/controls",
          "model_name": "HTMLModel",
          "model_module_version": "1.5.0",
          "state": {
            "_dom_classes": [],
            "_model_module": "@jupyter-widgets/controls",
            "_model_module_version": "1.5.0",
            "_model_name": "HTMLModel",
            "_view_count": null,
            "_view_module": "@jupyter-widgets/controls",
            "_view_module_version": "1.5.0",
            "_view_name": "HTMLView",
            "description": "",
            "description_tooltip": null,
            "layout": "IPY_MODEL_0a9106f39f6f4874bf5e073a55b0b41d",
            "placeholder": "​",
            "style": "IPY_MODEL_50f077029ebb4de1b5ef4548802104ed",
            "value": " 268M/268M [00:02&lt;00:00, 164MB/s]"
          }
        },
        "215b4f4483ba4110be950a4c8a615f31": {
          "model_module": "@jupyter-widgets/base",
          "model_name": "LayoutModel",
          "model_module_version": "1.2.0",
          "state": {
            "_model_module": "@jupyter-widgets/base",
            "_model_module_version": "1.2.0",
            "_model_name": "LayoutModel",
            "_view_count": null,
            "_view_module": "@jupyter-widgets/base",
            "_view_module_version": "1.2.0",
            "_view_name": "LayoutView",
            "align_content": null,
            "align_items": null,
            "align_self": null,
            "border": null,
            "bottom": null,
            "display": null,
            "flex": null,
            "flex_flow": null,
            "grid_area": null,
            "grid_auto_columns": null,
            "grid_auto_flow": null,
            "grid_auto_rows": null,
            "grid_column": null,
            "grid_gap": null,
            "grid_row": null,
            "grid_template_areas": null,
            "grid_template_columns": null,
            "grid_template_rows": null,
            "height": null,
            "justify_content": null,
            "justify_items": null,
            "left": null,
            "margin": null,
            "max_height": null,
            "max_width": null,
            "min_height": null,
            "min_width": null,
            "object_fit": null,
            "object_position": null,
            "order": null,
            "overflow": null,
            "overflow_x": null,
            "overflow_y": null,
            "padding": null,
            "right": null,
            "top": null,
            "visibility": null,
            "width": null
          }
        },
        "4342e17275da4521a5095b643b14f4cb": {
          "model_module": "@jupyter-widgets/base",
          "model_name": "LayoutModel",
          "model_module_version": "1.2.0",
          "state": {
            "_model_module": "@jupyter-widgets/base",
            "_model_module_version": "1.2.0",
            "_model_name": "LayoutModel",
            "_view_count": null,
            "_view_module": "@jupyter-widgets/base",
            "_view_module_version": "1.2.0",
            "_view_name": "LayoutView",
            "align_content": null,
            "align_items": null,
            "align_self": null,
            "border": null,
            "bottom": null,
            "display": null,
            "flex": null,
            "flex_flow": null,
            "grid_area": null,
            "grid_auto_columns": null,
            "grid_auto_flow": null,
            "grid_auto_rows": null,
            "grid_column": null,
            "grid_gap": null,
            "grid_row": null,
            "grid_template_areas": null,
            "grid_template_columns": null,
            "grid_template_rows": null,
            "height": null,
            "justify_content": null,
            "justify_items": null,
            "left": null,
            "margin": null,
            "max_height": null,
            "max_width": null,
            "min_height": null,
            "min_width": null,
            "object_fit": null,
            "object_position": null,
            "order": null,
            "overflow": null,
            "overflow_x": null,
            "overflow_y": null,
            "padding": null,
            "right": null,
            "top": null,
            "visibility": null,
            "width": null
          }
        },
        "e5dbbd8fe5ab47f5a8410b2ebcfcfa72": {
          "model_module": "@jupyter-widgets/controls",
          "model_name": "DescriptionStyleModel",
          "model_module_version": "1.5.0",
          "state": {
            "_model_module": "@jupyter-widgets/controls",
            "_model_module_version": "1.5.0",
            "_model_name": "DescriptionStyleModel",
            "_view_count": null,
            "_view_module": "@jupyter-widgets/base",
            "_view_module_version": "1.2.0",
            "_view_name": "StyleView",
            "description_width": ""
          }
        },
        "a77921345cca4a939c85fb9fc09593c9": {
          "model_module": "@jupyter-widgets/base",
          "model_name": "LayoutModel",
          "model_module_version": "1.2.0",
          "state": {
            "_model_module": "@jupyter-widgets/base",
            "_model_module_version": "1.2.0",
            "_model_name": "LayoutModel",
            "_view_count": null,
            "_view_module": "@jupyter-widgets/base",
            "_view_module_version": "1.2.0",
            "_view_name": "LayoutView",
            "align_content": null,
            "align_items": null,
            "align_self": null,
            "border": null,
            "bottom": null,
            "display": null,
            "flex": null,
            "flex_flow": null,
            "grid_area": null,
            "grid_auto_columns": null,
            "grid_auto_flow": null,
            "grid_auto_rows": null,
            "grid_column": null,
            "grid_gap": null,
            "grid_row": null,
            "grid_template_areas": null,
            "grid_template_columns": null,
            "grid_template_rows": null,
            "height": null,
            "justify_content": null,
            "justify_items": null,
            "left": null,
            "margin": null,
            "max_height": null,
            "max_width": null,
            "min_height": null,
            "min_width": null,
            "object_fit": null,
            "object_position": null,
            "order": null,
            "overflow": null,
            "overflow_x": null,
            "overflow_y": null,
            "padding": null,
            "right": null,
            "top": null,
            "visibility": null,
            "width": null
          }
        },
        "d5768e286fb34e1e8ed5b4e2d980bcef": {
          "model_module": "@jupyter-widgets/controls",
          "model_name": "ProgressStyleModel",
          "model_module_version": "1.5.0",
          "state": {
            "_model_module": "@jupyter-widgets/controls",
            "_model_module_version": "1.5.0",
            "_model_name": "ProgressStyleModel",
            "_view_count": null,
            "_view_module": "@jupyter-widgets/base",
            "_view_module_version": "1.2.0",
            "_view_name": "StyleView",
            "bar_color": null,
            "description_width": ""
          }
        },
        "0a9106f39f6f4874bf5e073a55b0b41d": {
          "model_module": "@jupyter-widgets/base",
          "model_name": "LayoutModel",
          "model_module_version": "1.2.0",
          "state": {
            "_model_module": "@jupyter-widgets/base",
            "_model_module_version": "1.2.0",
            "_model_name": "LayoutModel",
            "_view_count": null,
            "_view_module": "@jupyter-widgets/base",
            "_view_module_version": "1.2.0",
            "_view_name": "LayoutView",
            "align_content": null,
            "align_items": null,
            "align_self": null,
            "border": null,
            "bottom": null,
            "display": null,
            "flex": null,
            "flex_flow": null,
            "grid_area": null,
            "grid_auto_columns": null,
            "grid_auto_flow": null,
            "grid_auto_rows": null,
            "grid_column": null,
            "grid_gap": null,
            "grid_row": null,
            "grid_template_areas": null,
            "grid_template_columns": null,
            "grid_template_rows": null,
            "height": null,
            "justify_content": null,
            "justify_items": null,
            "left": null,
            "margin": null,
            "max_height": null,
            "max_width": null,
            "min_height": null,
            "min_width": null,
            "object_fit": null,
            "object_position": null,
            "order": null,
            "overflow": null,
            "overflow_x": null,
            "overflow_y": null,
            "padding": null,
            "right": null,
            "top": null,
            "visibility": null,
            "width": null
          }
        },
        "50f077029ebb4de1b5ef4548802104ed": {
          "model_module": "@jupyter-widgets/controls",
          "model_name": "DescriptionStyleModel",
          "model_module_version": "1.5.0",
          "state": {
            "_model_module": "@jupyter-widgets/controls",
            "_model_module_version": "1.5.0",
            "_model_name": "DescriptionStyleModel",
            "_view_count": null,
            "_view_module": "@jupyter-widgets/base",
            "_view_module_version": "1.2.0",
            "_view_name": "StyleView",
            "description_width": ""
          }
        },
        "3a387edbe04543529d4145b0168e6451": {
          "model_module": "@jupyter-widgets/controls",
          "model_name": "HBoxModel",
          "model_module_version": "1.5.0",
          "state": {
            "_dom_classes": [],
            "_model_module": "@jupyter-widgets/controls",
            "_model_module_version": "1.5.0",
            "_model_name": "HBoxModel",
            "_view_count": null,
            "_view_module": "@jupyter-widgets/controls",
            "_view_module_version": "1.5.0",
            "_view_name": "HBoxView",
            "box_style": "",
            "children": [
              "IPY_MODEL_bbed512e858949a19916cae54b746e55",
              "IPY_MODEL_9a12674382a84623a10e74268ddb20cb",
              "IPY_MODEL_3931fc4df54b488e80a58d815e11221a"
            ],
            "layout": "IPY_MODEL_697267f1fcd145289373b1f13801a5df"
          }
        },
        "bbed512e858949a19916cae54b746e55": {
          "model_module": "@jupyter-widgets/controls",
          "model_name": "HTMLModel",
          "model_module_version": "1.5.0",
          "state": {
            "_dom_classes": [],
            "_model_module": "@jupyter-widgets/controls",
            "_model_module_version": "1.5.0",
            "_model_name": "HTMLModel",
            "_view_count": null,
            "_view_module": "@jupyter-widgets/controls",
            "_view_module_version": "1.5.0",
            "_view_name": "HTMLView",
            "description": "",
            "description_tooltip": null,
            "layout": "IPY_MODEL_129324e3110447ccb1a23d6cb7d1d47f",
            "placeholder": "​",
            "style": "IPY_MODEL_ef73d54069654625ac0079bc27e27931",
            "value": "Downloading builder script: 100%"
          }
        },
        "9a12674382a84623a10e74268ddb20cb": {
          "model_module": "@jupyter-widgets/controls",
          "model_name": "FloatProgressModel",
          "model_module_version": "1.5.0",
          "state": {
            "_dom_classes": [],
            "_model_module": "@jupyter-widgets/controls",
            "_model_module_version": "1.5.0",
            "_model_name": "FloatProgressModel",
            "_view_count": null,
            "_view_module": "@jupyter-widgets/controls",
            "_view_module_version": "1.5.0",
            "_view_name": "ProgressView",
            "bar_style": "success",
            "description": "",
            "description_tooltip": null,
            "layout": "IPY_MODEL_35e773cf1c1d4beba14959b38e9648d9",
            "max": 4203,
            "min": 0,
            "orientation": "horizontal",
            "style": "IPY_MODEL_3a3f95280b884be09c0388559b566016",
            "value": 4203
          }
        },
        "3931fc4df54b488e80a58d815e11221a": {
          "model_module": "@jupyter-widgets/controls",
          "model_name": "HTMLModel",
          "model_module_version": "1.5.0",
          "state": {
            "_dom_classes": [],
            "_model_module": "@jupyter-widgets/controls",
            "_model_module_version": "1.5.0",
            "_model_name": "HTMLModel",
            "_view_count": null,
            "_view_module": "@jupyter-widgets/controls",
            "_view_module_version": "1.5.0",
            "_view_name": "HTMLView",
            "description": "",
            "description_tooltip": null,
            "layout": "IPY_MODEL_bbe35db585f0433485435d8913b1e7ed",
            "placeholder": "​",
            "style": "IPY_MODEL_43157990aa224d888dbb8090e733bb7e",
            "value": " 4.20k/4.20k [00:00&lt;00:00, 111kB/s]"
          }
        },
        "697267f1fcd145289373b1f13801a5df": {
          "model_module": "@jupyter-widgets/base",
          "model_name": "LayoutModel",
          "model_module_version": "1.2.0",
          "state": {
            "_model_module": "@jupyter-widgets/base",
            "_model_module_version": "1.2.0",
            "_model_name": "LayoutModel",
            "_view_count": null,
            "_view_module": "@jupyter-widgets/base",
            "_view_module_version": "1.2.0",
            "_view_name": "LayoutView",
            "align_content": null,
            "align_items": null,
            "align_self": null,
            "border": null,
            "bottom": null,
            "display": null,
            "flex": null,
            "flex_flow": null,
            "grid_area": null,
            "grid_auto_columns": null,
            "grid_auto_flow": null,
            "grid_auto_rows": null,
            "grid_column": null,
            "grid_gap": null,
            "grid_row": null,
            "grid_template_areas": null,
            "grid_template_columns": null,
            "grid_template_rows": null,
            "height": null,
            "justify_content": null,
            "justify_items": null,
            "left": null,
            "margin": null,
            "max_height": null,
            "max_width": null,
            "min_height": null,
            "min_width": null,
            "object_fit": null,
            "object_position": null,
            "order": null,
            "overflow": null,
            "overflow_x": null,
            "overflow_y": null,
            "padding": null,
            "right": null,
            "top": null,
            "visibility": null,
            "width": null
          }
        },
        "129324e3110447ccb1a23d6cb7d1d47f": {
          "model_module": "@jupyter-widgets/base",
          "model_name": "LayoutModel",
          "model_module_version": "1.2.0",
          "state": {
            "_model_module": "@jupyter-widgets/base",
            "_model_module_version": "1.2.0",
            "_model_name": "LayoutModel",
            "_view_count": null,
            "_view_module": "@jupyter-widgets/base",
            "_view_module_version": "1.2.0",
            "_view_name": "LayoutView",
            "align_content": null,
            "align_items": null,
            "align_self": null,
            "border": null,
            "bottom": null,
            "display": null,
            "flex": null,
            "flex_flow": null,
            "grid_area": null,
            "grid_auto_columns": null,
            "grid_auto_flow": null,
            "grid_auto_rows": null,
            "grid_column": null,
            "grid_gap": null,
            "grid_row": null,
            "grid_template_areas": null,
            "grid_template_columns": null,
            "grid_template_rows": null,
            "height": null,
            "justify_content": null,
            "justify_items": null,
            "left": null,
            "margin": null,
            "max_height": null,
            "max_width": null,
            "min_height": null,
            "min_width": null,
            "object_fit": null,
            "object_position": null,
            "order": null,
            "overflow": null,
            "overflow_x": null,
            "overflow_y": null,
            "padding": null,
            "right": null,
            "top": null,
            "visibility": null,
            "width": null
          }
        },
        "ef73d54069654625ac0079bc27e27931": {
          "model_module": "@jupyter-widgets/controls",
          "model_name": "DescriptionStyleModel",
          "model_module_version": "1.5.0",
          "state": {
            "_model_module": "@jupyter-widgets/controls",
            "_model_module_version": "1.5.0",
            "_model_name": "DescriptionStyleModel",
            "_view_count": null,
            "_view_module": "@jupyter-widgets/base",
            "_view_module_version": "1.2.0",
            "_view_name": "StyleView",
            "description_width": ""
          }
        },
        "35e773cf1c1d4beba14959b38e9648d9": {
          "model_module": "@jupyter-widgets/base",
          "model_name": "LayoutModel",
          "model_module_version": "1.2.0",
          "state": {
            "_model_module": "@jupyter-widgets/base",
            "_model_module_version": "1.2.0",
            "_model_name": "LayoutModel",
            "_view_count": null,
            "_view_module": "@jupyter-widgets/base",
            "_view_module_version": "1.2.0",
            "_view_name": "LayoutView",
            "align_content": null,
            "align_items": null,
            "align_self": null,
            "border": null,
            "bottom": null,
            "display": null,
            "flex": null,
            "flex_flow": null,
            "grid_area": null,
            "grid_auto_columns": null,
            "grid_auto_flow": null,
            "grid_auto_rows": null,
            "grid_column": null,
            "grid_gap": null,
            "grid_row": null,
            "grid_template_areas": null,
            "grid_template_columns": null,
            "grid_template_rows": null,
            "height": null,
            "justify_content": null,
            "justify_items": null,
            "left": null,
            "margin": null,
            "max_height": null,
            "max_width": null,
            "min_height": null,
            "min_width": null,
            "object_fit": null,
            "object_position": null,
            "order": null,
            "overflow": null,
            "overflow_x": null,
            "overflow_y": null,
            "padding": null,
            "right": null,
            "top": null,
            "visibility": null,
            "width": null
          }
        },
        "3a3f95280b884be09c0388559b566016": {
          "model_module": "@jupyter-widgets/controls",
          "model_name": "ProgressStyleModel",
          "model_module_version": "1.5.0",
          "state": {
            "_model_module": "@jupyter-widgets/controls",
            "_model_module_version": "1.5.0",
            "_model_name": "ProgressStyleModel",
            "_view_count": null,
            "_view_module": "@jupyter-widgets/base",
            "_view_module_version": "1.2.0",
            "_view_name": "StyleView",
            "bar_color": null,
            "description_width": ""
          }
        },
        "bbe35db585f0433485435d8913b1e7ed": {
          "model_module": "@jupyter-widgets/base",
          "model_name": "LayoutModel",
          "model_module_version": "1.2.0",
          "state": {
            "_model_module": "@jupyter-widgets/base",
            "_model_module_version": "1.2.0",
            "_model_name": "LayoutModel",
            "_view_count": null,
            "_view_module": "@jupyter-widgets/base",
            "_view_module_version": "1.2.0",
            "_view_name": "LayoutView",
            "align_content": null,
            "align_items": null,
            "align_self": null,
            "border": null,
            "bottom": null,
            "display": null,
            "flex": null,
            "flex_flow": null,
            "grid_area": null,
            "grid_auto_columns": null,
            "grid_auto_flow": null,
            "grid_auto_rows": null,
            "grid_column": null,
            "grid_gap": null,
            "grid_row": null,
            "grid_template_areas": null,
            "grid_template_columns": null,
            "grid_template_rows": null,
            "height": null,
            "justify_content": null,
            "justify_items": null,
            "left": null,
            "margin": null,
            "max_height": null,
            "max_width": null,
            "min_height": null,
            "min_width": null,
            "object_fit": null,
            "object_position": null,
            "order": null,
            "overflow": null,
            "overflow_x": null,
            "overflow_y": null,
            "padding": null,
            "right": null,
            "top": null,
            "visibility": null,
            "width": null
          }
        },
        "43157990aa224d888dbb8090e733bb7e": {
          "model_module": "@jupyter-widgets/controls",
          "model_name": "DescriptionStyleModel",
          "model_module_version": "1.5.0",
          "state": {
            "_model_module": "@jupyter-widgets/controls",
            "_model_module_version": "1.5.0",
            "_model_name": "DescriptionStyleModel",
            "_view_count": null,
            "_view_module": "@jupyter-widgets/base",
            "_view_module_version": "1.2.0",
            "_view_name": "StyleView",
            "description_width": ""
          }
        }
      }
    },
    "accelerator": "GPU"
  },
  "nbformat": 4,
  "nbformat_minor": 0
}