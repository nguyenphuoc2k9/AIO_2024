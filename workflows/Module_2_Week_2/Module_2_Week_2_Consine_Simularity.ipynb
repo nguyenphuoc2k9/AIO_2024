{
  "nbformat": 4,
  "nbformat_minor": 0,
  "metadata": {
    "colab": {
      "provenance": []
    },
    "kernelspec": {
      "name": "python3",
      "display_name": "Python 3"
    },
    "language_info": {
      "name": "python"
    }
  },
  "cells": [
    {
      "cell_type": "code",
      "source": [
        "import numpy as np"
      ],
      "metadata": {
        "id": "cTCyae9GetDr"
      },
      "execution_count": 1,
      "outputs": []
    },
    {
      "cell_type": "code",
      "execution_count": 2,
      "metadata": {
        "colab": {
          "base_uri": "https://localhost:8080/"
        },
        "id": "yk5CK4Pzep9Q",
        "outputId": "e90c161c-38f8-440c-8725-d8b519820c94"
      },
      "outputs": [
        {
          "output_type": "execute_result",
          "data": {
            "text/plain": [
              "0.5773502691896257"
            ]
          },
          "metadata": {},
          "execution_count": 2
        }
      ],
      "source": [
        "def compute_cosine_similarity(x, y):\n",
        "  return np.dot(x,y)/(np.linalg.norm(x)*np.linalg.norm(y))\n",
        "x = np.array([1,2,3,4])\n",
        "y = np.array([1,0,3,0])\n",
        "compute_cosine_similarity(x,y)"
      ]
    }
  ]
}