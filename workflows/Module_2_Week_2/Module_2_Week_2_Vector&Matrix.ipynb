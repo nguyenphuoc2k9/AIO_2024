{
  "nbformat": 4,
  "nbformat_minor": 0,
  "metadata": {
    "colab": {
      "provenance": []
    },
    "kernelspec": {
      "name": "python3",
      "display_name": "Python 3"
    },
    "language_info": {
      "name": "python"
    }
  },
  "cells": [
    {
      "cell_type": "code",
      "source": [
        "import numpy as np"
      ],
      "metadata": {
        "id": "O0TteonabObn"
      },
      "execution_count": null,
      "outputs": []
    },
    {
      "cell_type": "markdown",
      "source": [
        "1.a) độ dài của vector"
      ],
      "metadata": {
        "id": "EZljv_TEbE55"
      }
    },
    {
      "cell_type": "code",
      "execution_count": null,
      "metadata": {
        "colab": {
          "base_uri": "https://localhost:8080/"
        },
        "id": "9tdaDYNpattr",
        "outputId": "a3c8c23d-1145-40a5-c620-c515394f9fd3"
      },
      "outputs": [
        {
          "output_type": "execute_result",
          "data": {
            "text/plain": [
              "23.280893453645632"
            ]
          },
          "metadata": {},
          "execution_count": 2
        }
      ],
      "source": [
        "def compute_vector_length(vector):\n",
        "  return np.linalg.norm(vector)\n",
        "arr = np.array([-2,4,9,21])\n",
        "compute_vector_length(arr)"
      ]
    },
    {
      "cell_type": "markdown",
      "source": [
        "1.b) phép tích vô hướng"
      ],
      "metadata": {
        "id": "HLTSr5xtbpq8"
      }
    },
    {
      "cell_type": "code",
      "source": [
        "def compute_dot_product(v1,v2):\n",
        "  return np.dot(v1,v2)\n",
        "arr1 = np.array([0,1,-1,2])\n",
        "arr2 = np.array([2,5,1,0])\n",
        "compute_dot_product(arr1,arr2)"
      ],
      "metadata": {
        "colab": {
          "base_uri": "https://localhost:8080/"
        },
        "id": "a4Viny66bwBr",
        "outputId": "cc0805bf-75bc-4eac-be15-1ecaa55169c6"
      },
      "execution_count": null,
      "outputs": [
        {
          "output_type": "execute_result",
          "data": {
            "text/plain": [
              "4"
            ]
          },
          "metadata": {},
          "execution_count": 4
        }
      ]
    },
    {
      "cell_type": "markdown",
      "source": [
        "1. c) multiplying a vector by a matrix"
      ],
      "metadata": {
        "id": "vrv4k-XnceFk"
      }
    },
    {
      "cell_type": "code",
      "source": [
        "def matrix_multi_vector(matrix,vector):\n",
        "  return np.dot(matrix,vector)\n",
        "m1 = np.eye (2)\n",
        "m1 = np. reshape (m1 ,( -1 ,4) ) [0]\n",
        "m2 = np. array ([[1 , 1 , 1 , 1] ,[2 , 2 , 2 , 2] , [3 , 3 , 3 , 3] , [4 , 4 , 4 , 4]])\n",
        "matrix_multi_vector(m1,m2)"
      ],
      "metadata": {
        "colab": {
          "base_uri": "https://localhost:8080/"
        },
        "id": "UjIAOPNqcjNk",
        "outputId": "a22d8c14-f649-4df7-bdfd-5e110028df9e"
      },
      "execution_count": null,
      "outputs": [
        {
          "output_type": "execute_result",
          "data": {
            "text/plain": [
              "array([5., 5., 5., 5.])"
            ]
          },
          "metadata": {},
          "execution_count": 19
        }
      ]
    },
    {
      "cell_type": "markdown",
      "source": [
        "1.d)multiplying a matrix by a matrix"
      ],
      "metadata": {
        "id": "QNx9pjOagBcq"
      }
    },
    {
      "cell_type": "code",
      "source": [
        "def matrix_multi_matrix(m1,m2):\n",
        "  return np.einsum(\"ij,jk\",m1,m2)\n",
        "m1 = np.array([[0,1,2],[2,-3,1]])\n",
        "m2 = np.array([[1,-3],[6,1],[0,-1]])\n",
        "matrix_multi_matrix(m1,m2)\n"
      ],
      "metadata": {
        "colab": {
          "base_uri": "https://localhost:8080/",
          "height": 460
        },
        "id": "zckJGguigGyq",
        "outputId": "62008c95-f2aa-415a-f924-0f5205e2dc13"
      },
      "execution_count": null,
      "outputs": [
        {
          "output_type": "stream",
          "name": "stdout",
          "text": [
            "[1. 0. 0. 1.]\n",
            "[[1 1 1 1]\n",
            " [2 2 2 2]\n",
            " [3 3 3 3]\n",
            " [4 4 4 4]]\n"
          ]
        },
        {
          "output_type": "error",
          "ename": "ValueError",
          "evalue": "einstein sum subscripts string contains too many subscripts for operand 0",
          "traceback": [
            "\u001b[0;31m---------------------------------------------------------------------------\u001b[0m",
            "\u001b[0;31mValueError\u001b[0m                                Traceback (most recent call last)",
            "\u001b[0;32m<ipython-input-18-abf7cd2acba2>\u001b[0m in \u001b[0;36m<cell line: 8>\u001b[0;34m()\u001b[0m\n\u001b[1;32m      6\u001b[0m \u001b[0mprint\u001b[0m\u001b[0;34m(\u001b[0m\u001b[0mm1\u001b[0m\u001b[0;34m)\u001b[0m\u001b[0;34m\u001b[0m\u001b[0;34m\u001b[0m\u001b[0m\n\u001b[1;32m      7\u001b[0m \u001b[0mprint\u001b[0m\u001b[0;34m(\u001b[0m\u001b[0mm2\u001b[0m\u001b[0;34m)\u001b[0m\u001b[0;34m\u001b[0m\u001b[0;34m\u001b[0m\u001b[0m\n\u001b[0;32m----> 8\u001b[0;31m \u001b[0mmatrix_multi_matrix\u001b[0m\u001b[0;34m(\u001b[0m\u001b[0mm1\u001b[0m\u001b[0;34m,\u001b[0m\u001b[0mm2\u001b[0m\u001b[0;34m)\u001b[0m\u001b[0;34m\u001b[0m\u001b[0;34m\u001b[0m\u001b[0m\n\u001b[0m",
            "\u001b[0;32m<ipython-input-18-abf7cd2acba2>\u001b[0m in \u001b[0;36mmatrix_multi_matrix\u001b[0;34m(m1, m2)\u001b[0m\n\u001b[1;32m      1\u001b[0m \u001b[0;32mdef\u001b[0m \u001b[0mmatrix_multi_matrix\u001b[0m\u001b[0;34m(\u001b[0m\u001b[0mm1\u001b[0m\u001b[0;34m,\u001b[0m\u001b[0mm2\u001b[0m\u001b[0;34m)\u001b[0m\u001b[0;34m:\u001b[0m\u001b[0;34m\u001b[0m\u001b[0;34m\u001b[0m\u001b[0m\n\u001b[0;32m----> 2\u001b[0;31m   \u001b[0;32mreturn\u001b[0m \u001b[0mnp\u001b[0m\u001b[0;34m.\u001b[0m\u001b[0meinsum\u001b[0m\u001b[0;34m(\u001b[0m\u001b[0;34m\"ij,jk\"\u001b[0m\u001b[0;34m,\u001b[0m\u001b[0mm1\u001b[0m\u001b[0;34m,\u001b[0m\u001b[0mm2\u001b[0m\u001b[0;34m)\u001b[0m\u001b[0;34m\u001b[0m\u001b[0;34m\u001b[0m\u001b[0m\n\u001b[0m\u001b[1;32m      3\u001b[0m \u001b[0mm1\u001b[0m \u001b[0;34m=\u001b[0m \u001b[0mnp\u001b[0m\u001b[0;34m.\u001b[0m\u001b[0meye\u001b[0m\u001b[0;34m(\u001b[0m\u001b[0;36m2\u001b[0m\u001b[0;34m)\u001b[0m\u001b[0;34m\u001b[0m\u001b[0;34m\u001b[0m\u001b[0m\n\u001b[1;32m      4\u001b[0m \u001b[0mm1\u001b[0m \u001b[0;34m=\u001b[0m \u001b[0mnp\u001b[0m\u001b[0;34m.\u001b[0m\u001b[0mreshape\u001b[0m\u001b[0;34m(\u001b[0m\u001b[0mm1\u001b[0m\u001b[0;34m,\u001b[0m\u001b[0;34m(\u001b[0m\u001b[0;34m-\u001b[0m\u001b[0;36m1\u001b[0m\u001b[0;34m,\u001b[0m\u001b[0;36m4\u001b[0m\u001b[0;34m)\u001b[0m\u001b[0;34m)\u001b[0m\u001b[0;34m[\u001b[0m\u001b[0;36m0\u001b[0m\u001b[0;34m]\u001b[0m\u001b[0;34m\u001b[0m\u001b[0;34m\u001b[0m\u001b[0m\n\u001b[1;32m      5\u001b[0m \u001b[0mm2\u001b[0m \u001b[0;34m=\u001b[0m \u001b[0mnp\u001b[0m\u001b[0;34m.\u001b[0m\u001b[0marray\u001b[0m\u001b[0;34m(\u001b[0m\u001b[0;34m[\u001b[0m\u001b[0;34m[\u001b[0m\u001b[0;36m1\u001b[0m \u001b[0;34m,\u001b[0m \u001b[0;36m1\u001b[0m \u001b[0;34m,\u001b[0m \u001b[0;36m1\u001b[0m \u001b[0;34m,\u001b[0m \u001b[0;36m1\u001b[0m\u001b[0;34m]\u001b[0m \u001b[0;34m,\u001b[0m\u001b[0;34m[\u001b[0m\u001b[0;36m2\u001b[0m \u001b[0;34m,\u001b[0m \u001b[0;36m2\u001b[0m \u001b[0;34m,\u001b[0m \u001b[0;36m2\u001b[0m \u001b[0;34m,\u001b[0m \u001b[0;36m2\u001b[0m\u001b[0;34m]\u001b[0m \u001b[0;34m,\u001b[0m \u001b[0;34m[\u001b[0m\u001b[0;36m3\u001b[0m \u001b[0;34m,\u001b[0m \u001b[0;36m3\u001b[0m \u001b[0;34m,\u001b[0m \u001b[0;36m3\u001b[0m \u001b[0;34m,\u001b[0m \u001b[0;36m3\u001b[0m\u001b[0;34m]\u001b[0m \u001b[0;34m,\u001b[0m \u001b[0;34m[\u001b[0m\u001b[0;36m4\u001b[0m \u001b[0;34m,\u001b[0m \u001b[0;36m4\u001b[0m \u001b[0;34m,\u001b[0m \u001b[0;36m4\u001b[0m \u001b[0;34m,\u001b[0m \u001b[0;36m4\u001b[0m\u001b[0;34m]\u001b[0m\u001b[0;34m]\u001b[0m\u001b[0;34m)\u001b[0m\u001b[0;34m\u001b[0m\u001b[0;34m\u001b[0m\u001b[0m\n",
            "\u001b[0;32m/usr/local/lib/python3.10/dist-packages/numpy/core/einsumfunc.py\u001b[0m in \u001b[0;36meinsum\u001b[0;34m(out, optimize, *operands, **kwargs)\u001b[0m\n\u001b[1;32m   1369\u001b[0m         \u001b[0;32mif\u001b[0m \u001b[0mspecified_out\u001b[0m\u001b[0;34m:\u001b[0m\u001b[0;34m\u001b[0m\u001b[0;34m\u001b[0m\u001b[0m\n\u001b[1;32m   1370\u001b[0m             \u001b[0mkwargs\u001b[0m\u001b[0;34m[\u001b[0m\u001b[0;34m'out'\u001b[0m\u001b[0;34m]\u001b[0m \u001b[0;34m=\u001b[0m \u001b[0mout\u001b[0m\u001b[0;34m\u001b[0m\u001b[0;34m\u001b[0m\u001b[0m\n\u001b[0;32m-> 1371\u001b[0;31m         \u001b[0;32mreturn\u001b[0m \u001b[0mc_einsum\u001b[0m\u001b[0;34m(\u001b[0m\u001b[0;34m*\u001b[0m\u001b[0moperands\u001b[0m\u001b[0;34m,\u001b[0m \u001b[0;34m**\u001b[0m\u001b[0mkwargs\u001b[0m\u001b[0;34m)\u001b[0m\u001b[0;34m\u001b[0m\u001b[0;34m\u001b[0m\u001b[0m\n\u001b[0m\u001b[1;32m   1372\u001b[0m \u001b[0;34m\u001b[0m\u001b[0m\n\u001b[1;32m   1373\u001b[0m     \u001b[0;31m# Check the kwargs to avoid a more cryptic error later, without having to\u001b[0m\u001b[0;34m\u001b[0m\u001b[0;34m\u001b[0m\u001b[0m\n",
            "\u001b[0;31mValueError\u001b[0m: einstein sum subscripts string contains too many subscripts for operand 0"
          ]
        }
      ]
    },
    {
      "cell_type": "markdown",
      "source": [
        "1.e) Matrix inverse\n",
        " - Matrix A: **A**  $=\\begin{bmatrix}-2&6\\cr 8&-4\\end{bmatrix}$, $A  \\in R ^{2*2}$\n",
        "\n",
        " - Determinant of $A \\in R^{2*2}$: $det(A) = (-2)\\times(-4) - 8 \\times 6 =-40$\n",
        " -$det(A) \\neq0$ **A** is invertible\n",
        " - Inverse Matrix: $A^{-1} = 1/det(A)\\begin{bmatrix}-4&-6\\cr -8&-2\\end{bmatrix}$\n"
      ],
      "metadata": {
        "id": "ws3NCyUkghH7"
      }
    },
    {
      "cell_type": "code",
      "source": [
        "def Matrix_inverse(matrix):\n",
        "  determinant = matrix[0,0]*matrix[1,1]-matrix[0,1]*matrix[1,0]\n",
        "  if determinant != 0:\n",
        "    return (1/determinant)*np.array([[matrix[1,1],-matrix[0,1]],[-matrix[1,0],matrix[0,0]]])\n",
        "  else:\n",
        "    return \"Matrix cannot be inversed\"\n",
        "arr = np.array([[-2,6],[8,-4]])\n",
        "print(Matrix_inverse(arr))"
      ],
      "metadata": {
        "colab": {
          "base_uri": "https://localhost:8080/"
        },
        "id": "_HZrGLcwgmYE",
        "outputId": "75352272-b404-43ea-acdd-1217a81dade1"
      },
      "execution_count": null,
      "outputs": [
        {
          "output_type": "stream",
          "name": "stdout",
          "text": [
            "[[0.1  0.15]\n",
            " [0.2  0.05]]\n",
            "[[0.1  0.15]\n",
            " [0.2  0.05]]\n"
          ]
        }
      ]
    },
    {
      "cell_type": "code",
      "source": [
        "m1 = np. array ([[1 , 2] , [3 , 4]])\n",
        "m1 = np. reshape (m1 ,( -1 ,4) , \"F\") [0]\n",
        "m2 = np. array ([[1 , 1 , 1 , 1] ,[2 , 2 , 2 , 2] , [3 , 3 , 3 , 3] , [4 , 4 , 4 , 4]])\n",
        "result = m1@m2\n",
        "print ( result )"
      ],
      "metadata": {
        "colab": {
          "base_uri": "https://localhost:8080/"
        },
        "id": "mLPYcisHfhtE",
        "outputId": "8834cc3e-5bac-48e5-89bb-944fb0eec78c"
      },
      "execution_count": null,
      "outputs": [
        {
          "output_type": "stream",
          "name": "stdout",
          "text": [
            "[29 29 29 29]\n"
          ]
        }
      ]
    }
  ]
}