{
  "nbformat": 4,
  "nbformat_minor": 0,
  "metadata": {
    "colab": {
      "provenance": []
    },
    "kernelspec": {
      "name": "python3",
      "display_name": "Python 3"
    },
    "language_info": {
      "name": "python"
    }
  },
  "cells": [
    {
      "cell_type": "code",
      "source": [
        "import numpy as np"
      ],
      "metadata": {
        "id": "ZVAAWYLbd08e"
      },
      "execution_count": null,
      "outputs": []
    },
    {
      "cell_type": "code",
      "execution_count": null,
      "metadata": {
        "id": "751u6DqfESb7",
        "colab": {
          "base_uri": "https://localhost:8080/"
        },
        "outputId": "388ecfc9-effa-4439-971a-d440054175d1"
      },
      "outputs": [
        {
          "output_type": "execute_result",
          "data": {
            "text/plain": [
              "EigResult(eigenvalues=array([1. , 0.7]), eigenvectors=array([[ 0.89442719, -0.70710678],\n",
              "       [ 0.4472136 ,  0.70710678]]))"
            ]
          },
          "metadata": {},
          "execution_count": 3
        }
      ],
      "source": [
        "def compute_eigenvalues_eigenvectors(matrix):\n",
        "  return np.linalg.eig(matrix)\n",
        "arr = np.array([[0.9,0.2],[0.1,0.8]])\n",
        "compute_eigenvalues_eigenvectors(arr)"
      ]
    }
  ]
}