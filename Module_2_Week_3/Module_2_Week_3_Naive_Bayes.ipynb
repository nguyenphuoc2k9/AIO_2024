{
  "nbformat": 4,
  "nbformat_minor": 0,
  "metadata": {
    "colab": {
      "provenance": []
    },
    "kernelspec": {
      "name": "python3",
      "display_name": "Python 3"
    },
    "language_info": {
      "name": "python"
    }
  },
  "cells": [
    {
      "cell_type": "code",
      "source": [
        "import numpy as np"
      ],
      "metadata": {
        "id": "om_-MG7o7yYe"
      },
      "execution_count": 1,
      "outputs": []
    },
    {
      "cell_type": "code",
      "source": [
        "def create_train_data():\n",
        "  data=[['Sunny','Hot', 'High', 'Weak', 'no'],\n",
        "        ['Sunny','Hot', 'High', 'Strong', 'no'],\n",
        "        ['Overcast','Hot', 'High', 'Weak', 'yes'],\n",
        "        ['Rain','Mild', 'High', 'Weak', 'yes'],\n",
        "        ['Rain','Cool', 'Normal', 'Weak', 'yes'],\n",
        "        ['Rain','Cool', 'Normal', 'Strong', 'no'],\n",
        "        ['Overcast','Cool', 'Normal', 'Strong', 'yes'],\n",
        "        ['Overcast','Mild', 'High', 'Weak', 'no'],\n",
        "        ['Sunny','Cool', 'Normal', 'Weak', 'yes'],\n",
        "        ['Rain','Mild', 'Normal', 'Weak', 'yes']\n",
        "        ]\n",
        "  return np.array(data)"
      ],
      "metadata": {
        "id": "tw809au0poRV"
      },
      "execution_count": 2,
      "outputs": []
    },
    {
      "cell_type": "code",
      "execution_count": 3,
      "metadata": {
        "id": "lBwZ6HPF4lLu"
      },
      "outputs": [],
      "source": [
        "def compute_prior_probability(train_data):\n",
        "  y_unique = ['no','yes']\n",
        "  prior_probablility = np.zeros(len(y_unique))\n",
        "  for i in range(0,len(y_unique)):\n",
        "    prior_probablility[i] = len(np.where(train_data[:,4] ==y_unique[i])[0])/len(train_data)\n",
        "  return prior_probablility\n"
      ]
    },
    {
      "cell_type": "code",
      "source": [
        "def compute_conditional_probablility(train_data):\n",
        "  y_unique = ['no','yes']\n",
        "  list_x_name = []\n",
        "  conditional_probability = []\n",
        "  for i in range(0,train_data.shape[1]-1):\n",
        "    x_unique = np.unique(train_data[:,i])\n",
        "    x_conditional_probability = np.zeros((len(y_unique),len(x_unique)))\n",
        "    list_x_name.append(x_unique)\n",
        "    for j in range(0,len(y_unique)):\n",
        "      for k in range(0,len(x_unique)):\n",
        "         x_conditional_probability[j,k]= len(np.where((train_data[:,i] == x_unique[k]) & (train_data[:,4] == y_unique[j]))[0])/len(np.where(train_data[:,4] == y_unique[j])[0])\n",
        "    conditional_probability.append(x_conditional_probability)\n",
        "  return conditional_probability,list_x_name"
      ],
      "metadata": {
        "id": "jOiQGlhh5j8q",
        "colab": {
          "base_uri": "https://localhost:8080/"
        },
        "outputId": "cdbfa37e-ab99-4ce6-b679-c44ee200a771"
      },
      "execution_count": 9,
      "outputs": [
        {
          "output_type": "stream",
          "name": "stdout",
          "text": [
            "[array([[0.25      , 0.25      , 0.5       ],\n",
            "       [0.33333333, 0.5       , 0.16666667]]), array([[0.25      , 0.5       , 0.25      ],\n",
            "       [0.5       , 0.16666667, 0.33333333]]), array([[0.75      , 0.25      ],\n",
            "       [0.33333333, 0.66666667]]), array([[0.5       , 0.5       ],\n",
            "       [0.16666667, 0.83333333]])]\n"
          ]
        }
      ]
    },
    {
      "cell_type": "code",
      "source": [
        "def train_naive_bayes(train_data):\n",
        "  prior_probability = compute_prior_probability(train_data)\n",
        "  conditinal_probability,list_x_name = compute_conditional_probablility(train_data)\n",
        "  return prior_probability,conditinal_probability,list_x_name"
      ],
      "metadata": {
        "id": "uL9ONhiU87-8"
      },
      "execution_count": 11,
      "outputs": []
    },
    {
      "cell_type": "code",
      "source": [
        "def get_index(f_name,list_features):\n",
        "  return np.where(list_features == f_name)[0][0]"
      ],
      "metadata": {
        "id": "_zNWlgT-9iUO"
      },
      "execution_count": 12,
      "outputs": []
    },
    {
      "cell_type": "code",
      "source": [
        "def predict_play_tennis(X, list_x_name, prior_probability, conditional_probability):\n",
        "    x1=get_index(X[0],list_x_name[0])\n",
        "    x2=get_index(X[1],list_x_name[1])\n",
        "    x3=get_index(X[2],list_x_name[2])\n",
        "    x4=get_index(X[3],list_x_name[3])\n",
        "\n",
        "    p0=prior_probability[0] \\\n",
        "    *conditional_probability[0][0,x1] \\\n",
        "    *conditional_probability[1][0,x2] \\\n",
        "    *conditional_probability[2][0,x3] \\\n",
        "    *conditional_probability[3][0,x4]\n",
        "\n",
        "    p1=prior_probability[1]\\\n",
        "    *conditional_probability[0][1,x1]\\\n",
        "    *conditional_probability[1][1,x2]\\\n",
        "    *conditional_probability[2][1,x3]\\\n",
        "    *conditional_probability[3][1,x4]\n",
        "    if p0 > p1:\n",
        "     y_pred = 0\n",
        "    else:\n",
        "     y_pred = 1\n",
        "    return y_pred"
      ],
      "metadata": {
        "id": "Wg9y5Gm__J50"
      },
      "execution_count": 13,
      "outputs": []
    },
    {
      "cell_type": "code",
      "source": [
        "#test-case\n",
        "X = ['Sunny','Cool', 'High', 'Strong']\n",
        "data = create_train_data()\n",
        "prior_probability,conditional_probability, list_x_name = train_naive_bayes(data)\n",
        "pred =  predict_play_tennis(X, list_x_name, prior_probability, conditional_probability)\n",
        "\n",
        "if(pred):\n",
        "  print(\"Ad should go!\")\n",
        "else:\n",
        "  print(\"Ad should not go!\")"
      ],
      "metadata": {
        "colab": {
          "base_uri": "https://localhost:8080/"
        },
        "id": "ttS1D8cnayVl",
        "outputId": "fd7a5fa5-187d-4621-aa9a-d6760a5d27bc"
      },
      "execution_count": 14,
      "outputs": [
        {
          "output_type": "stream",
          "name": "stdout",
          "text": [
            "Ad should not go!\n"
          ]
        }
      ]
    }
  ]
}