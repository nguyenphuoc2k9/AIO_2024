{
  "nbformat": 4,
  "nbformat_minor": 0,
  "metadata": {
    "colab": {
      "provenance": []
    },
    "kernelspec": {
      "name": "python3",
      "display_name": "Python 3"
    },
    "language_info": {
      "name": "python"
    }
  },
  "cells": [
    {
      "cell_type": "markdown",
      "source": [
        "Bài 4"
      ],
      "metadata": {
        "id": "_lgi8bRV_c7L"
      }
    },
    {
      "cell_type": "code",
      "source": [
        "class Queue:\n",
        "  def __init__(self,capacity):\n",
        "    self.capacity = capacity\n",
        "    self.queue = []\n",
        "  def is_empty(self):\n",
        "    if len(self.queue) == 0:\n",
        "      return True\n",
        "    else:\n",
        "      return False\n",
        "  def is_full(self):\n",
        "    if len(self.queue) == self.capacity:\n",
        "      return True\n",
        "    else:\n",
        "      return False\n",
        "  def dequeue(self):\n",
        "    if len(self.queue) != 0:\n",
        "      return self.queue.pop(0)\n",
        "  def enqueue(self,element):\n",
        "    if len(self.queue) < self.capacity:\n",
        "      self.queue.append(element)\n",
        "  def front(self):\n",
        "    if len(self.queue) !=0:\n",
        "      return self.queue[0]"
      ],
      "metadata": {
        "id": "KO1Po9Xl_fQ7"
      },
      "execution_count": null,
      "outputs": []
    },
    {
      "cell_type": "markdown",
      "source": [
        "Test case"
      ],
      "metadata": {
        "id": "y5zjv27qAFx8"
      }
    },
    {
      "cell_type": "code",
      "source": [
        "queue1 = Queue ( capacity =5)\n",
        "queue1 . enqueue (1)\n",
        "queue1 . enqueue (2)\n",
        "print ( queue1 . is_full () )\n",
        "print ( queue1 . front () )\n",
        "print ( queue1 . dequeue () )\n",
        "print ( queue1 . front () )\n",
        "print ( queue1 . dequeue () )\n",
        "print(queue1.is_empty())"
      ],
      "metadata": {
        "colab": {
          "base_uri": "https://localhost:8080/"
        },
        "id": "mPNU6facAG0s",
        "outputId": "ee66e4a7-7524-450c-db96-3f6ed8ce0958"
      },
      "execution_count": null,
      "outputs": [
        {
          "output_type": "stream",
          "name": "stdout",
          "text": [
            "False\n",
            "1\n",
            "1\n",
            "2\n",
            "2\n",
            "True\n"
          ]
        }
      ]
    }
  ]
}