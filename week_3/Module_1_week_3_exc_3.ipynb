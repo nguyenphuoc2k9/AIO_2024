{
  "nbformat": 4,
  "nbformat_minor": 0,
  "metadata": {
    "colab": {
      "provenance": []
    },
    "kernelspec": {
      "name": "python3",
      "display_name": "Python 3"
    },
    "language_info": {
      "name": "python"
    }
  },
  "cells": [
    {
      "cell_type": "markdown",
      "source": [
        "Bài 3"
      ],
      "metadata": {
        "id": "zpADmUsi9jJ1"
      }
    },
    {
      "cell_type": "code",
      "source": [
        "class Stack :\n",
        "  def __init__(self,capacity):\n",
        "    self.capacity = capacity\n",
        "    self.stack = []\n",
        "  def is_empty(self):\n",
        "    if len(self.stack) == 0:\n",
        "      return True\n",
        "    else:\n",
        "      return False\n",
        "  def is_full(self):\n",
        "    if len(self.stack) == self.capacity:\n",
        "      return True\n",
        "    else:\n",
        "      return False\n",
        "  def pop(self):\n",
        "    if len(self.stack) != 0:\n",
        "      return self.stack.pop(-1)\n",
        "  def push(self,element):\n",
        "    if len(self.stack) < self.capacity:\n",
        "      self.stack.append(element)\n",
        "  def top(self):\n",
        "    if len(self.stack) !=0:\n",
        "      return self.stack[-1]"
      ],
      "metadata": {
        "id": "ZEMhLsf99lyG"
      },
      "execution_count": null,
      "outputs": []
    },
    {
      "cell_type": "markdown",
      "source": [
        "Test case"
      ],
      "metadata": {
        "id": "MinqOTdj_BAH"
      }
    },
    {
      "cell_type": "code",
      "source": [
        "stack1 = Stack(5)\n",
        "stack1.push(1)\n",
        "stack1.push(2)\n",
        "print(stack1.is_full())\n",
        "print(stack1.top())\n",
        "print(stack1.pop())\n",
        "print(stack1.top())\n",
        "print(stack1.pop())\n",
        "print(stack1.is_empty())"
      ],
      "metadata": {
        "colab": {
          "base_uri": "https://localhost:8080/"
        },
        "id": "2GItBUd5_DJq",
        "outputId": "eba34234-3c35-457e-c4e0-c1273c3fab49"
      },
      "execution_count": null,
      "outputs": [
        {
          "output_type": "stream",
          "name": "stdout",
          "text": [
            "False\n",
            "2\n",
            "2\n",
            "1\n",
            "1\n",
            "True\n"
          ]
        }
      ]
    }
  ]
}