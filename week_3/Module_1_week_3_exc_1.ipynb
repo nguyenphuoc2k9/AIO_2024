{
  "nbformat": 4,
  "nbformat_minor": 0,
  "metadata": {
    "colab": {
      "provenance": []
    },
    "kernelspec": {
      "name": "python3",
      "display_name": "Python 3"
    },
    "language_info": {
      "name": "python"
    }
  },
  "cells": [
    {
      "cell_type": "markdown",
      "source": [
        "bài 1"
      ],
      "metadata": {
        "id": "QnVBf3wb08Ko"
      }
    },
    {
      "cell_type": "code",
      "execution_count": null,
      "metadata": {
        "id": "Ds1Hp-AJ0jIr",
        "colab": {
          "base_uri": "https://localhost:8080/"
        },
        "outputId": "a3583ab9-0323-410f-b043-e45bdd03f297"
      },
      "outputs": [
        {
          "output_type": "execute_result",
          "data": {
            "text/plain": [
              "tensor([0., 0., nan])"
            ]
          },
          "metadata": {},
          "execution_count": 7
        }
      ],
      "source": [
        "import torch.nn as nn\n",
        "import torch\n",
        "class Softmax(nn.Module):\n",
        "  def __init__(self):\n",
        "    super().__init__()\n",
        "  def forward(self,x):\n",
        "    total = sum(torch.exp(x))\n",
        "    return torch.exp(x)/total\n",
        "data = torch.Tensor([1 , 2 , 300000000])\n",
        "softmax = Softmax()\n",
        "output = softmax ( data )\n",
        "output"
      ]
    },
    {
      "cell_type": "code",
      "source": [
        "class Softmax_stable(nn.Module):\n",
        "  def __init__(self):\n",
        "    super().__init__()\n",
        "  def forward(self,x):\n",
        "    c = torch.max(x)\n",
        "    total = sum(torch.exp(x-c))\n",
        "    return torch.exp(x-c)/total\n",
        "data = torch.Tensor([1 , 2 , 3])\n",
        "softmax = Softmax_stable()\n",
        "output = softmax ( data )\n",
        "output"
      ],
      "metadata": {
        "colab": {
          "base_uri": "https://localhost:8080/"
        },
        "id": "i-mOA9QSZBTx",
        "outputId": "f4c11b86-4c5e-4f4f-a8f4-a5dd77cfa0ef"
      },
      "execution_count": null,
      "outputs": [
        {
          "output_type": "execute_result",
          "data": {
            "text/plain": [
              "tensor([0.0900, 0.2447, 0.6652])"
            ]
          },
          "metadata": {},
          "execution_count": 5
        }
      ]
    }
  ]
}