{
  "nbformat": 4,
  "nbformat_minor": 0,
  "metadata": {
    "colab": {
      "provenance": []
    },
    "kernelspec": {
      "name": "python3",
      "display_name": "Python 3"
    },
    "language_info": {
      "name": "python"
    }
  },
  "cells": [
    {
      "cell_type": "code",
      "source": [
        "class Ward:\n",
        "  def __init__(self,name):\n",
        "    self.name = name\n",
        "    self.resident = []\n",
        "  def add_person(self,person):\n",
        "    self.resident.append(person)\n",
        "  def describe(self):\n",
        "    print(f\"Ward Name: {self.name}\")\n",
        "    if len(self.resident) != 0:\n",
        "      for i in self.resident:\n",
        "        print(i.describe())\n",
        "    else:\n",
        "      print(\"không có người ở\")\n",
        "  def count_doctor(self):\n",
        "    doctors = []\n",
        "    for i in self.resident:\n",
        "      if isinstance(i,Doctor):\n",
        "        doctors.append(i)\n",
        "    return len(doctors)\n",
        "  def sort_age(self):\n",
        "    self.resident.sort(key=lambda x: x.yob, reverse = True)\n",
        "  def compute_average(self):\n",
        "    total = 0\n",
        "    teachers = 0\n",
        "    for i in self.resident:\n",
        "      if isinstance(i,Teacher):\n",
        "        teachers += 1\n",
        "        total+=i.yob\n",
        "    return total/teachers\n",
        "class Person:\n",
        "  def __init__(self,name,yob):\n",
        "    self.name = name\n",
        "    self.yob = yob\n",
        "  def describe(self):\n",
        "    return f\"Name: {self.name} - Yob: {self.yob}\"\n",
        "class Student(Person):\n",
        "  def __init__(self,name,yob,grade):\n",
        "    super().__init__(name,yob)\n",
        "    self.grade = grade\n",
        "  def describe(self):\n",
        "    return f\"Student - {super().describe()} - Grade: {self.grade}\"\n",
        "class Teacher(Person):\n",
        "  def __init__(self, name, yob,subject):\n",
        "    super().__init__(name, yob)\n",
        "    self.subject = subject\n",
        "  def describe(self):\n",
        "    return f\"Teacher - {super().describe()} - Subject: {self.subject}\"\n",
        "class Doctor(Person):\n",
        "  def __init__(self, name, yob,specialist):\n",
        "    super().__init__(name, yob)\n",
        "    self.specialist = specialist\n",
        "  def describe(self):\n",
        "    return f\"Doctor - {super().describe()} - Specialist: {self.specialist}\"\n"
      ],
      "metadata": {
        "id": "eLnhZ1hT1CVa"
      },
      "execution_count": null,
      "outputs": []
    },
    {
      "cell_type": "markdown",
      "source": [
        "A)"
      ],
      "metadata": {
        "id": "Bmsh271Y41kN"
      }
    },
    {
      "cell_type": "code",
      "source": [
        "student1 = Student( name =\"studentA\", yob =2010 , grade =\"7\")\n",
        "student1 . describe ()\n",
        "teacher1 = Teacher ( name =\"teacherA\", yob =1969 , subject =\"Math\")\n",
        "teacher1 . describe ()\n",
        "doctor1 = Doctor ( name =\"doctorA\", yob =1945 , specialist =\"Endocrinologists\")\n",
        "doctor1 . describe ()"
      ],
      "metadata": {
        "colab": {
          "base_uri": "https://localhost:8080/",
          "height": 35
        },
        "id": "6wTlDUZ04kF3",
        "outputId": "2945e6fa-02e5-4b77-d9c0-de6783dd99a9"
      },
      "execution_count": null,
      "outputs": [
        {
          "output_type": "execute_result",
          "data": {
            "text/plain": [
              "'Doctor - Name: doctorA - Yob: 1945 - Specialist: Endocrinologists'"
            ],
            "application/vnd.google.colaboratory.intrinsic+json": {
              "type": "string"
            }
          },
          "metadata": {},
          "execution_count": 74
        }
      ]
    },
    {
      "cell_type": "markdown",
      "source": [
        "B)"
      ],
      "metadata": {
        "id": "DDRRdT5e5S_u"
      }
    },
    {
      "cell_type": "code",
      "source": [
        "teacher2 = Teacher ( name =\" teacherB \", yob =1995 , subject =\" History \")\n",
        "doctor2 = Doctor ( name =\" doctorB \", yob =1975 , specialist =\" Cardiologists \")\n",
        "ward1 = Ward ( name =\" Ward1 \")\n",
        "ward1 . add_person ( student1 )\n",
        "ward1 . add_person ( teacher1 )\n",
        "ward1 . add_person ( teacher2 )\n",
        "ward1 . add_person ( doctor1 )\n",
        "ward1 . add_person ( doctor2 )\n",
        "ward1 . describe ()"
      ],
      "metadata": {
        "colab": {
          "base_uri": "https://localhost:8080/"
        },
        "id": "eXpKKjUg5UgE",
        "outputId": "cbe84e5d-3fae-4e17-f931-8685b38f8d76"
      },
      "execution_count": null,
      "outputs": [
        {
          "output_type": "stream",
          "name": "stdout",
          "text": [
            "Ward Name:  Ward1 \n",
            "Student - Name: studentA - Yob: 2010 - Grade: 7\n",
            "Teacher - Name: teacherA - Yob: 1969 - Subject: Math\n",
            "Teacher - Name:  teacherB  - Yob: 1995 - Subject:  History \n",
            "Doctor - Name: doctorA - Yob: 1945 - Specialist: Endocrinologists\n",
            "Doctor - Name:  doctorB  - Yob: 1975 - Specialist:  Cardiologists \n"
          ]
        }
      ]
    },
    {
      "cell_type": "markdown",
      "source": [
        "C)"
      ],
      "metadata": {
        "id": "sRClX-Uv5ttU"
      }
    },
    {
      "cell_type": "code",
      "source": [
        "print(f\"Number of doctors : { ward1.count_doctor()}\")"
      ],
      "metadata": {
        "colab": {
          "base_uri": "https://localhost:8080/"
        },
        "id": "0PJY1Biy5uob",
        "outputId": "2bd2d8e6-d3c6-41ca-e403-a37b204514d0"
      },
      "execution_count": null,
      "outputs": [
        {
          "output_type": "stream",
          "name": "stdout",
          "text": [
            "Number of doctors : 2\n"
          ]
        }
      ]
    },
    {
      "cell_type": "markdown",
      "source": [
        "D)"
      ],
      "metadata": {
        "id": "XztjpzCL7CLT"
      }
    },
    {
      "cell_type": "code",
      "source": [
        "ward1 . sort_age ()\n",
        "ward1 . describe ()"
      ],
      "metadata": {
        "colab": {
          "base_uri": "https://localhost:8080/"
        },
        "id": "wzkFrgAR8G1C",
        "outputId": "c96c835d-e5d1-4fee-edb7-93e70e1f8cdf"
      },
      "execution_count": null,
      "outputs": [
        {
          "output_type": "stream",
          "name": "stdout",
          "text": [
            "Ward Name:  Ward1 \n",
            "Student - Name: studentA - Yob: 2010 - Grade: 7\n",
            "Teacher - Name:  teacherB  - Yob: 1995 - Subject:  History \n",
            "Doctor - Name:  doctorB  - Yob: 1975 - Specialist:  Cardiologists \n",
            "Teacher - Name: teacherA - Yob: 1969 - Subject: Math\n",
            "Doctor - Name: doctorA - Yob: 1945 - Specialist: Endocrinologists\n"
          ]
        }
      ]
    },
    {
      "cell_type": "markdown",
      "source": [
        "E)"
      ],
      "metadata": {
        "id": "DsSZt27a81CL"
      }
    },
    {
      "cell_type": "code",
      "source": [
        "print ( f\"\\ nAverage year of birth ( teachers ): { ward1 . compute_average ()}\")"
      ],
      "metadata": {
        "colab": {
          "base_uri": "https://localhost:8080/"
        },
        "id": "op8jIdjk82TT",
        "outputId": "df6c9c5d-613b-40fb-f88d-32a62ad1793b"
      },
      "execution_count": null,
      "outputs": [
        {
          "output_type": "stream",
          "name": "stdout",
          "text": [
            "\\ nAverage year of birth ( teachers ): 1982.0\n"
          ]
        }
      ]
    }
  ]
}