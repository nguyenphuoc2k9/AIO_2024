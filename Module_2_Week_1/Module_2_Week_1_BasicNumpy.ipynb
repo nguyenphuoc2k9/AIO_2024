{
  "nbformat": 4,
  "nbformat_minor": 0,
  "metadata": {
    "colab": {
      "provenance": []
    },
    "kernelspec": {
      "name": "python3",
      "display_name": "Python 3"
    },
    "language_info": {
      "name": "python"
    }
  },
  "cells": [
    {
      "cell_type": "markdown",
      "source": [
        "Bài 1"
      ],
      "metadata": {
        "id": "hTz0q-AasJ0A"
      }
    },
    {
      "cell_type": "code",
      "source": [
        "import numpy as np"
      ],
      "metadata": {
        "id": "F5GvHc_rX0OX"
      },
      "execution_count": null,
      "outputs": []
    },
    {
      "cell_type": "code",
      "execution_count": null,
      "metadata": {
        "colab": {
          "base_uri": "https://localhost:8080/"
        },
        "id": "arnsNAH_XifQ",
        "outputId": "f674300b-22c7-4931-9281-a513fbcc942b"
      },
      "outputs": [
        {
          "output_type": "stream",
          "name": "stdout",
          "text": [
            "[1 3 5 7 9]\n",
            "[ 0 -1  2 -1  4 -1  6 -1  8 -1]\n",
            "[[0 1 2 3 4]\n",
            " [5 6 7 8 9]]\n",
            "[[0 1 2 3 4]\n",
            " [5 6 7 8 9]\n",
            " [1 1 1 1 1]\n",
            " [1 1 1 1 1]]\n",
            "[[0 1 2 3 4 1 1 1 1 1]\n",
            " [5 6 7 8 9 1 1 1 1 1]]\n",
            "[1 1 1 2 2 2 3 3 3]\n",
            "[1 2 3 1 2 3 1 2 3]\n",
            "result [ 6  9 10]\n",
            "[6. 7. 9. 8. 9. 7. 5.]\n",
            "[6 7 9 8 9 7 5]\n"
          ]
        }
      ],
      "source": [
        "# Câu 1 A\n",
        "arr = np.arange(0,10,1)\n",
        "# Câu 2 D\n",
        "arr = np.ones((3,3)) >0\n",
        "arr = np.ones((3,3),dtype=bool)\n",
        "arr = np.full((3,3),True)\n",
        "\n",
        "# Câu 3 A\n",
        "arr = np.arange(0,10)\n",
        "print(arr[arr%2==1])\n",
        "#Câu 4 B\n",
        "arr[arr[arr%2 ==1]] =-1\n",
        "print(arr)\n",
        "#Câu 5 B\n",
        "arr = np.arange(10)\n",
        "arr_2d = arr.reshape(2,-1)\n",
        "print(arr_2d)\n",
        "#Câu 6 A\n",
        "arr1 = np.arange(10).reshape(2,-1)\n",
        "arr2= np.repeat(1,10).reshape(2,-1)\n",
        "new_arr = np.concatenate([arr1,arr2],axis=0)\n",
        "print(new_arr)\n",
        "#Câu 7 C\n",
        "arr1 = np.arange(10).reshape(2,-1)\n",
        "arr2= np.repeat(1,10).reshape(2,-1)\n",
        "new_arr = np.concatenate([arr1,arr2],axis=1)\n",
        "print(new_arr)\n",
        "#Câu 8 A\n",
        "arr = np.array([1,2,3])\n",
        "print(np.repeat(arr,3))\n",
        "print(np.tile(arr,3))\n",
        "#Câu 9 C\n",
        "a = np.array([2,6,1,9,10,3,27])\n",
        "index = np.where((a>=5)&(a<=10))\n",
        "print(\"result\",a[index])\n",
        "#Câu 10 D\n",
        "def maxx(x,y):\n",
        "  if x>=y:\n",
        "    return x\n",
        "  else:\n",
        "    return y\n",
        "a = np.array([5,7,9,8,6,4,5])\n",
        "b = np.array([6,3,4,8,9,7,1])\n",
        "pair_max = np.vectorize(maxx,otypes=[float])\n",
        "print(pair_max(a,b))\n",
        "#Câu 11 A\n",
        "print(np.where(a<b,b,a))"
      ]
    }
  ]
}