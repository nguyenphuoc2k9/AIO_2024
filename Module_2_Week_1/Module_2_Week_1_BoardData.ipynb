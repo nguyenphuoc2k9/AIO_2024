{
  "nbformat": 4,
  "nbformat_minor": 0,
  "metadata": {
    "colab": {
      "provenance": []
    },
    "kernelspec": {
      "name": "python3",
      "display_name": "Python 3"
    },
    "language_info": {
      "name": "python"
    }
  },
  "cells": [
    {
      "cell_type": "markdown",
      "source": [
        "Bài 3"
      ],
      "metadata": {
        "id": "UAAvrQNutdKK"
      }
    },
    {
      "cell_type": "code",
      "source": [
        "! gdown 1iA0WmVfW88HyJvTBSQDI5vesf-pgKabq"
      ],
      "metadata": {
        "colab": {
          "base_uri": "https://localhost:8080/"
        },
        "id": "kKzd54iNmyFm",
        "outputId": "3da302ea-f0a8-440b-b282-866ddcb1ffa2"
      },
      "execution_count": null,
      "outputs": [
        {
          "output_type": "stream",
          "name": "stdout",
          "text": [
            "Downloading...\n",
            "From: https://drive.google.com/uc?id=1iA0WmVfW88HyJvTBSQDI5vesf-pgKabq\n",
            "To: /content/advertising.csv\n",
            "\r  0% 0.00/4.06k [00:00<?, ?B/s]\r100% 4.06k/4.06k [00:00<00:00, 11.0MB/s]\n"
          ]
        }
      ]
    },
    {
      "cell_type": "code",
      "source": [
        "import pandas as pd\n",
        "df = pd.read_csv(\"./advertising.csv\")\n",
        "\n",
        "data = df.to_numpy()"
      ],
      "metadata": {
        "id": "8Be6J9GjnKSe"
      },
      "execution_count": null,
      "outputs": []
    },
    {
      "cell_type": "code",
      "source": [
        "#Câu 15 C\n",
        "highest = data[:,3].max(axis=0)\n",
        "index = list(data[:,3]).index(highest)\n",
        "print(f\"Max: {highest} - Index: {index}\")\n",
        "#Câu 16 B\n",
        "mean_of_TV = data[:,0].mean()\n",
        "print(mean_of_TV)\n",
        "#Câu 17 A\n",
        "above_20 = np.where(data[:,3] >= 20)\n",
        "len(data[above_20])\n",
        "#Câu 18 B\n",
        "above_15 = np.where(data[:,3] >= 15)\n",
        "print(data[above_15][:,1].mean())\n",
        "#Câu 19 C\n",
        "mean_newspaper = data[:,2].mean()\n",
        "newspaper_above_average = np.where(data[:,2] > mean_newspaper)\n",
        "\n",
        "print(data[newspaper_above_average][:,3].sum())\n",
        "#Câu 20 C\n",
        "mean_of_sales = data[:,3].mean()\n",
        "scores = data[:,3]\n",
        "scores = np.where(scores > mean_of_sales,\"Good\",np.where(scores < mean_of_sales,\"Bad\",\"Average\"))\n",
        "scores[7:10]\n",
        "#Câu 21 C\n",
        "scores = data[:,3]\n",
        "average_index = np.argmin(abs(scores-mean_of_sales))\n",
        "nearest_mean_value = scores[average_index]\n",
        "scores = np.where(scores > nearest_mean_value,\"Good\",np.where(scores < nearest_mean_value,\"Bad\",\"Average\"))\n",
        "scores[7:10]"
      ],
      "metadata": {
        "colab": {
          "base_uri": "https://localhost:8080/"
        },
        "id": "5WtjR_OinXoE",
        "outputId": "8f768083-aed9-41c1-f314-6ee09b8623aa"
      },
      "execution_count": null,
      "outputs": [
        {
          "output_type": "stream",
          "name": "stdout",
          "text": [
            "Max: 27.0 - Index: 175\n",
            "147.0425\n",
            "26.22293577981651\n",
            "1405.1\n",
            "15.2\n"
          ]
        },
        {
          "output_type": "execute_result",
          "data": {
            "text/plain": [
              "array(['Bad', 'Bad', 'Good'], dtype='<U7')"
            ]
          },
          "metadata": {},
          "execution_count": 73
        }
      ]
    }
  ]
}