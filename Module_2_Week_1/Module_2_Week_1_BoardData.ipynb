{
  "cells": [
    {
      "cell_type": "markdown",
      "metadata": {
        "id": "UAAvrQNutdKK"
      },
      "source": [
        "Bài 3"
      ]
    },
    {
      "cell_type": "code",
      "execution_count": null,
      "metadata": {
        "id": "8Be6J9GjnKSe"
      },
      "outputs": [],
      "source": [
        "import pandas as pd\n",
        "df = pd.read_csv(\"./source/advertising.csv\")\n",
        "\n",
        "data = df.to_numpy()"
      ]
    },
    {
      "cell_type": "code",
      "execution_count": null,
      "metadata": {
        "colab": {
          "base_uri": "https://localhost:8080/"
        },
        "id": "5WtjR_OinXoE",
        "outputId": "8f768083-aed9-41c1-f314-6ee09b8623aa"
      },
      "outputs": [
        {
          "name": "stdout",
          "output_type": "stream",
          "text": [
            "Max: 27.0 - Index: 175\n",
            "147.0425\n",
            "26.22293577981651\n",
            "1405.1\n",
            "15.2\n"
          ]
        },
        {
          "data": {
            "text/plain": [
              "array(['Bad', 'Bad', 'Good'], dtype='<U7')"
            ]
          },
          "execution_count": 73,
          "metadata": {},
          "output_type": "execute_result"
        }
      ],
      "source": [
        "#Câu 15 C\n",
        "highest = data[:,3].max(axis=0)\n",
        "index = list(data[:,3]).index(highest)\n",
        "print(f\"Max: {highest} - Index: {index}\")\n",
        "#Câu 16 B\n",
        "mean_of_TV = data[:,0].mean()\n",
        "print(mean_of_TV)\n",
        "#Câu 17 A\n",
        "above_20 = np.where(data[:,3] >= 20)\n",
        "len(data[above_20])\n",
        "#Câu 18 B\n",
        "above_15 = np.where(data[:,3] >= 15)\n",
        "print(data[above_15][:,1].mean())\n",
        "#Câu 19 C\n",
        "mean_newspaper = data[:,2].mean()\n",
        "newspaper_above_average = np.where(data[:,2] > mean_newspaper)\n",
        "\n",
        "print(data[newspaper_above_average][:,3].sum())\n",
        "#Câu 20 C\n",
        "mean_of_sales = data[:,3].mean()\n",
        "scores = data[:,3]\n",
        "scores = np.where(scores > mean_of_sales,\"Good\",np.where(scores < mean_of_sales,\"Bad\",\"Average\"))\n",
        "scores[7:10]\n",
        "#Câu 21 C\n",
        "scores = data[:,3]\n",
        "average_index = np.argmin(abs(scores-mean_of_sales))\n",
        "nearest_mean_value = scores[average_index]\n",
        "scores = np.where(scores > nearest_mean_value,\"Good\",np.where(scores < nearest_mean_value,\"Bad\",\"Average\"))\n",
        "scores[7:10]"
      ]
    }
  ],
  "metadata": {
    "colab": {
      "provenance": []
    },
    "kernelspec": {
      "display_name": "Python 3",
      "name": "python3"
    },
    "language_info": {
      "name": "python"
    }
  },
  "nbformat": 4,
  "nbformat_minor": 0
}
