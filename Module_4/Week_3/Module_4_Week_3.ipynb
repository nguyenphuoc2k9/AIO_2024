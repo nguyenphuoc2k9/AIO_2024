{
  "nbformat": 4,
  "nbformat_minor": 0,
  "metadata": {
    "colab": {
      "provenance": []
    },
    "kernelspec": {
      "name": "python3",
      "display_name": "Python 3"
    },
    "language_info": {
      "name": "python"
    }
  },
  "cells": [
    {
      "cell_type": "code",
      "source": [
        "import numpy as np\n",
        "import random"
      ],
      "metadata": {
        "id": "yG6Km7kEEqgB"
      },
      "execution_count": 1,
      "outputs": []
    },
    {
      "cell_type": "code",
      "execution_count": 2,
      "metadata": {
        "id": "IEe3XiU_ETYB"
      },
      "outputs": [],
      "source": [
        "def load_data_from_file(file_path):\n",
        "  data= np.genfromtxt(file_path,skip_header=1,delimiter=\",\",dtype=None)\n",
        "  x_features = data[:,:3]\n",
        "  y_labels = data[:,3:]\n",
        "  x_features = np.hstack((np.ones((x_features.shape[0],1)),x_features))\n",
        "  return x_features,y_labels\n",
        "X,Y = load_data_from_file(\"advertising.csv\")\n"
      ]
    },
    {
      "cell_type": "code",
      "source": [
        "# Question 2:\n",
        "features_X,_ = load_data_from_file(\"advertising.csv\")\n",
        "print(features_X[:5,:])"
      ],
      "metadata": {
        "colab": {
          "base_uri": "https://localhost:8080/"
        },
        "id": "xKXGwkazFpMa",
        "outputId": "37af0eb5-993d-4482-aea9-101d8d9f43da"
      },
      "execution_count": 3,
      "outputs": [
        {
          "output_type": "stream",
          "name": "stdout",
          "text": [
            "[[  1.  230.1  37.8  69.2]\n",
            " [  1.   44.5  39.3  45.1]\n",
            " [  1.   17.2  45.9  69.3]\n",
            " [  1.  151.5  41.3  58.5]\n",
            " [  1.  180.8  10.8  58.4]]\n"
          ]
        }
      ]
    },
    {
      "cell_type": "code",
      "source": [
        "# Question 3:\n",
        "_,sales_Y = load_data_from_file(\"advertising.csv\")\n",
        "print(sales_Y.shape)"
      ],
      "metadata": {
        "colab": {
          "base_uri": "https://localhost:8080/"
        },
        "id": "AJ0grOTMIdrN",
        "outputId": "c724787e-3e6e-494c-a3d3-3eda314e2e25"
      },
      "execution_count": 4,
      "outputs": [
        {
          "output_type": "stream",
          "name": "stdout",
          "text": [
            "(200, 1)\n"
          ]
        }
      ]
    },
    {
      "cell_type": "code",
      "source": [
        "def create_individual(n=4,bound=10):\n",
        "  individual = [random.uniform(-(bound/2),bound/2) for _ in range(n)]\n",
        "  return individual\n",
        "create_individual()"
      ],
      "metadata": {
        "colab": {
          "base_uri": "https://localhost:8080/"
        },
        "id": "zfjfFexDI1e4",
        "outputId": "3550ff2a-0a89-4964-990d-49d1f904504c"
      },
      "execution_count": 5,
      "outputs": [
        {
          "output_type": "execute_result",
          "data": {
            "text/plain": [
              "[-2.2428313899308696,\n",
              " 1.9789007255803508,\n",
              " 2.1377121171221916,\n",
              " -0.7048708777583359]"
            ]
          },
          "metadata": {},
          "execution_count": 5
        }
      ]
    },
    {
      "cell_type": "code",
      "source": [
        "features_X,sales_Y = load_data_from_file(\"advertising.csv\")\n",
        "def compute_loss(individual):\n",
        "  theta = np.array(individual)\n",
        "  y_hat = np.dot(features_X,theta)\n",
        "  loss = np.mean((y_hat-sales_Y)**2)\n",
        "  return loss\n",
        "def compute_fitness(individual):\n",
        "  loss = compute_loss(individual)\n",
        "  return 1/(loss+1)"
      ],
      "metadata": {
        "id": "s1pSJuhSLZz3"
      },
      "execution_count": 6,
      "outputs": []
    },
    {
      "cell_type": "code",
      "source": [
        "# Question 4:\n",
        "features_X , sales_Y = load_data_from_file (\"advertising.csv\")\n",
        "individual = [4.09 , 4.82 , 3.10 , 4.02]\n",
        "fitness_score = compute_fitness( individual )\n",
        "print ( fitness_score )"
      ],
      "metadata": {
        "colab": {
          "base_uri": "https://localhost:8080/"
        },
        "id": "hPSJyadDLfYl",
        "outputId": "40418a43-db7f-447a-89e4-142068412889"
      },
      "execution_count": 7,
      "outputs": [
        {
          "output_type": "stream",
          "name": "stdout",
          "text": [
            "1.014222981203215e-06\n"
          ]
        }
      ]
    },
    {
      "cell_type": "code",
      "source": [
        "def crossover(individual1,individual2,crossover_rate=0.9):\n",
        "  individual1_copy = individual1.copy()\n",
        "  individual2_copy = individual2.copy()\n",
        "  for i in range(len(individual1)):\n",
        "    rand = random.random()\n",
        "    if rand < crossover_rate:\n",
        "      individual1_copy[i] = individual2[i]\n",
        "      individual2_copy[i] = individual1[i]\n",
        "  return individual1_copy,individual2_copy"
      ],
      "metadata": {
        "id": "SAW4jmktUqJx"
      },
      "execution_count": 8,
      "outputs": []
    },
    {
      "cell_type": "code",
      "source": [
        "individual1 = [4.09 , 4.82 , 3.10 , 4.02]\n",
        "individual2 = [3.44 , 2.57 , -0.79 , -2.41]\n",
        "individual1 , individual2 = crossover ( individual1 , individual2 , 2.0)\n",
        "print (\" individual1 : \" , individual1 )\n",
        "print (\" individual2 : \" , individual2 )"
      ],
      "metadata": {
        "colab": {
          "base_uri": "https://localhost:8080/"
        },
        "id": "yyZpG0m2U6gB",
        "outputId": "f628d9a9-4b43-4167-9385-c15470e84f68"
      },
      "execution_count": 9,
      "outputs": [
        {
          "output_type": "stream",
          "name": "stdout",
          "text": [
            " individual1 :  [3.44, 2.57, -0.79, -2.41]\n",
            " individual2 :  [4.09, 4.82, 3.1, 4.02]\n"
          ]
        }
      ]
    },
    {
      "cell_type": "code",
      "source": [
        "def mutate(individual,mutation_rate=0.05):\n",
        "  individual_copy = individual.copy()\n",
        "  for i in range(len(individual)):\n",
        "    rand = random.random()\n",
        "    if rand < mutation_rate:\n",
        "      individual_copy[i] = random.uniform(-10,10)\n",
        "  return individual_copy"
      ],
      "metadata": {
        "id": "Q7l0dAhceo7R"
      },
      "execution_count": 10,
      "outputs": []
    },
    {
      "cell_type": "code",
      "source": [
        "# question 6:\n",
        "before_individual = [4.09,4.82,3.10,4.02]\n",
        "after_individual = mutate(before_individual,mutation_rate=2.0)\n",
        "print(before_individual == after_individual)\n"
      ],
      "metadata": {
        "colab": {
          "base_uri": "https://localhost:8080/"
        },
        "id": "OtKQlg7pB96H",
        "outputId": "72927e20-923d-41e8-d9c2-4499a1201c6f"
      },
      "execution_count": 12,
      "outputs": [
        {
          "output_type": "stream",
          "name": "stdout",
          "text": [
            "False\n"
          ]
        }
      ]
    },
    {
      "cell_type": "code",
      "source": [
        "def inittializePopulation(m):\n",
        "  population = [create_individual() for _ in range(m)]\n",
        "  return population"
      ],
      "metadata": {
        "id": "7WHVB55SCebt"
      },
      "execution_count": 13,
      "outputs": []
    },
    {
      "cell_type": "code",
      "source": [
        "def selection(sorted_old_population,m=100):\n",
        "  index1 = random.randint(0,m-1)\n",
        "  while True:\n",
        "    index2 = random.randint(0,m-1)\n",
        "    if index1 != index2:\n",
        "      break\n",
        "  individual_s = sorted_old_population[index1]\n",
        "  if index2 > index1:\n",
        "    individual_s = sorted_old_population[index2]\n",
        "  return individual_s"
      ],
      "metadata": {
        "id": "kHaqkaTxCnmM"
      },
      "execution_count": 30,
      "outputs": []
    },
    {
      "cell_type": "code",
      "source": [
        "def create_new_population(old_population,elitism=2,gen=1):\n",
        "  m = len(old_population)\n",
        "  sorted_population = sorted(old_population,key=compute_fitness)\n",
        "  if gen%1 == 0:\n",
        "    print(\"Best loss:\",compute_loss(sorted_population[m-1]),\"with chromsome: \", sorted_population[m-1])\n",
        "  new_population = old_population.copy()\n",
        "\n",
        "  while len(new_population) < m-elitism:\n",
        "    print(\"run\")\n",
        "    sorted_population = sorted(new_population,key=compute_fitness)\n",
        "    #selection\n",
        "    selected_individual = []\n",
        "    for i in range(m/2):\n",
        "      selected_individual.append(selection(sorted_population))\n",
        "    # crossover\n",
        "    offsprings = []\n",
        "    for i in range(0,m,2):\n",
        "      offsprings1,offsprings2 = crossover(selected_individual[i],selected_individual[i+1])\n",
        "      offsprings.append(offsprings1)\n",
        "      offsprings.append(offsprings2)\n",
        "    # mutation\n",
        "    for i in range(len(offsprings)):\n",
        "      offsprings[i] = mutate(offsprings[i])\n",
        "    sorted_offsprings = sorted(offsprings,key=compute_fitness)\n",
        "    # elitism\n",
        "    for i in range(elitism):\n",
        "      new_population[i] = sorted_offsprings[i]\n",
        "    print(compute_loss(sorted_population[m-1]))\n",
        "    return new_population, compute_loss(sorted_population[m-1])\n"
      ],
      "metadata": {
        "id": "OYQh0KIqCqRO"
      },
      "execution_count": 31,
      "outputs": []
    },
    {
      "cell_type": "code",
      "source": [
        "# Question 7\n",
        "individual1 = [4.09 , 4.82 , 3.10 , 4.02]\n",
        "individual2 = [3.44 , 2.57 , -0.79 , -2.41]\n",
        "old_population = [ individual1 , individual2 ]\n",
        "new_population , _ = create_new_population ( old_population , elitism =2 , gen =1)"
      ],
      "metadata": {
        "colab": {
          "base_uri": "https://localhost:8080/",
          "height": 228
        },
        "id": "9R7T44kDDGsg",
        "outputId": "75fa6c80-76d4-4266-b664-3688b31c7bb2"
      },
      "execution_count": 32,
      "outputs": [
        {
          "output_type": "stream",
          "name": "stdout",
          "text": [
            "Best loss: 125375.62399377997 with chromsome:  [3.44, 2.57, -0.79, -2.41]\n",
            "False\n"
          ]
        },
        {
          "output_type": "error",
          "ename": "TypeError",
          "evalue": "cannot unpack non-iterable NoneType object",
          "traceback": [
            "\u001b[0;31m---------------------------------------------------------------------------\u001b[0m",
            "\u001b[0;31mTypeError\u001b[0m                                 Traceback (most recent call last)",
            "\u001b[0;32m<ipython-input-32-b63592d8f2dd>\u001b[0m in \u001b[0;36m<cell line: 5>\u001b[0;34m()\u001b[0m\n\u001b[1;32m      3\u001b[0m \u001b[0mindividual2\u001b[0m \u001b[0;34m=\u001b[0m \u001b[0;34m[\u001b[0m\u001b[0;36m3.44\u001b[0m \u001b[0;34m,\u001b[0m \u001b[0;36m2.57\u001b[0m \u001b[0;34m,\u001b[0m \u001b[0;34m-\u001b[0m\u001b[0;36m0.79\u001b[0m \u001b[0;34m,\u001b[0m \u001b[0;34m-\u001b[0m\u001b[0;36m2.41\u001b[0m\u001b[0;34m]\u001b[0m\u001b[0;34m\u001b[0m\u001b[0;34m\u001b[0m\u001b[0m\n\u001b[1;32m      4\u001b[0m \u001b[0mold_population\u001b[0m \u001b[0;34m=\u001b[0m \u001b[0;34m[\u001b[0m \u001b[0mindividual1\u001b[0m \u001b[0;34m,\u001b[0m \u001b[0mindividual2\u001b[0m \u001b[0;34m]\u001b[0m\u001b[0;34m\u001b[0m\u001b[0;34m\u001b[0m\u001b[0m\n\u001b[0;32m----> 5\u001b[0;31m \u001b[0mnew_population\u001b[0m \u001b[0;34m,\u001b[0m \u001b[0m_\u001b[0m \u001b[0;34m=\u001b[0m \u001b[0mcreate_new_population\u001b[0m \u001b[0;34m(\u001b[0m \u001b[0mold_population\u001b[0m \u001b[0;34m,\u001b[0m \u001b[0melitism\u001b[0m \u001b[0;34m=\u001b[0m\u001b[0;36m2\u001b[0m \u001b[0;34m,\u001b[0m \u001b[0mgen\u001b[0m \u001b[0;34m=\u001b[0m\u001b[0;36m1\u001b[0m\u001b[0;34m)\u001b[0m\u001b[0;34m\u001b[0m\u001b[0;34m\u001b[0m\u001b[0m\n\u001b[0m",
            "\u001b[0;31mTypeError\u001b[0m: cannot unpack non-iterable NoneType object"
          ]
        }
      ]
    }
  ]
}