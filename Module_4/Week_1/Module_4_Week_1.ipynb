{
  "cells": [
    {
      "cell_type": "markdown",
      "metadata": {
        "id": "LvMUEn97FTXQ"
      },
      "source": [
        "# Import"
      ]
    },
    {
      "cell_type": "code",
      "execution_count": null,
      "metadata": {
        "id": "lJMNzYTWFG00"
      },
      "outputs": [],
      "source": [
        "import numpy as np\n",
        "import matplotlib.pyplot as plt\n",
        "import random"
      ]
    },
    {
      "cell_type": "markdown",
      "metadata": {
        "id": "RH4yWbrgFD0Q"
      },
      "source": [
        "**Prepare_data**\n",
        "<hr>\n",
        "\n"
      ]
    },
    {
      "cell_type": "code",
      "execution_count": 67,
      "metadata": {
        "id": "qWiCm-zO7RxY"
      },
      "outputs": [],
      "source": [
        "\n",
        "def get_column(data,index):\n",
        "  return [row[index]for row in data]\n",
        "def prepare_data(file_name_dataset):\n",
        "  data = np.genfromtxt(file_name_dataset, delimiter=\",\", skip_header=1).tolist()\n",
        "\n",
        "  tv_data = get_column(data,0)\n",
        "  radio_data = get_column(data,1)\n",
        "  newspaper_data = get_column(data,2)\n",
        "  sales_data = get_column(data,3)\n",
        "  X= [tv_data,radio_data,newspaper_data]\n",
        "  y = sales_data\n",
        "  return X,y"
      ]
    },
    {
      "cell_type": "code",
      "execution_count": 20,
      "metadata": {
        "colab": {
          "base_uri": "https://localhost:8080/"
        },
        "id": "_sSYO0Bt8Xd9",
        "outputId": "a4901fa0-027c-4717-d251-2d903caecbf3"
      },
      "outputs": [
        {
          "name": "stdout",
          "output_type": "stream",
          "text": [
            "[230.1, 44.5, 17.2, 151.5, 180.8, 8.7, 57.5, 120.2, 8.6, 199.8, 66.1, 214.7, 23.8, 97.5, 204.1, 195.4, 67.8, 281.4, 69.2, 147.3, 218.4, 237.4, 13.2, 228.3, 62.3, 262.9, 142.9, 240.1, 248.8, 70.6, 292.9, 112.9, 97.2, 265.6, 95.7, 290.7, 266.9, 74.7, 43.1, 228.0, 202.5, 177.0, 293.6, 206.9, 25.1, 175.1, 89.7, 239.9, 227.2, 66.9, 199.8, 100.4, 216.4, 182.6, 262.7, 198.9, 7.3, 136.2, 210.8, 210.7, 53.5, 261.3, 239.3, 102.7, 131.1, 69.0, 31.5, 139.3, 237.4, 216.8, 199.1, 109.8, 26.8, 129.4, 213.4, 16.9, 27.5, 120.5, 5.4, 116.0, 76.4, 239.8, 75.3, 68.4, 213.5, 193.2, 76.3, 110.7, 88.3, 109.8, 134.3, 28.6, 217.7, 250.9, 107.4, 163.3, 197.6, 184.9, 289.7, 135.2, 222.4, 296.4, 280.2, 187.9, 238.2, 137.9, 25.0, 90.4, 13.1, 255.4, 225.8, 241.7, 175.7, 209.6, 78.2, 75.1, 139.2, 76.4, 125.7, 19.4, 141.3, 18.8, 224.0, 123.1, 229.5, 87.2, 7.8, 80.2, 220.3, 59.6, 0.7, 265.2, 8.4, 219.8, 36.9, 48.3, 25.6, 273.7, 43.0, 184.9, 73.4, 193.7, 220.5, 104.6, 96.2, 140.3, 240.1, 243.2, 38.0, 44.7, 280.7, 121.0, 197.6, 171.3, 187.8, 4.1, 93.9, 149.8, 11.7, 131.7, 172.5, 85.7, 188.4, 163.5, 117.2, 234.5, 17.9, 206.8, 215.4, 284.3, 50.0, 164.5, 19.6, 168.4, 222.4, 276.9, 248.4, 170.2, 276.7, 165.6, 156.6, 218.5, 56.2, 287.6, 253.8, 205.0, 139.5, 191.1, 286.0, 18.7, 39.5, 75.5, 17.2, 166.8, 149.7, 38.2, 94.2, 177.0, 283.6, 232.1]\n",
            "[[230.1, 44.5, 17.2, 151.5, 180.8, 8.7, 57.5, 120.2, 8.6, 199.8, 66.1, 214.7, 23.8, 97.5, 204.1, 195.4, 67.8, 281.4, 69.2, 147.3, 218.4, 237.4, 13.2, 228.3, 62.3, 262.9, 142.9, 240.1, 248.8, 70.6, 292.9, 112.9, 97.2, 265.6, 95.7, 290.7, 266.9, 74.7, 43.1, 228.0, 202.5, 177.0, 293.6, 206.9, 25.1, 175.1, 89.7, 239.9, 227.2, 66.9, 199.8, 100.4, 216.4, 182.6, 262.7, 198.9, 7.3, 136.2, 210.8, 210.7, 53.5, 261.3, 239.3, 102.7, 131.1, 69.0, 31.5, 139.3, 237.4, 216.8, 199.1, 109.8, 26.8, 129.4, 213.4, 16.9, 27.5, 120.5, 5.4, 116.0, 76.4, 239.8, 75.3, 68.4, 213.5, 193.2, 76.3, 110.7, 88.3, 109.8, 134.3, 28.6, 217.7, 250.9, 107.4, 163.3, 197.6, 184.9, 289.7, 135.2, 222.4, 296.4, 280.2, 187.9, 238.2, 137.9, 25.0, 90.4, 13.1, 255.4, 225.8, 241.7, 175.7, 209.6, 78.2, 75.1, 139.2, 76.4, 125.7, 19.4, 141.3, 18.8, 224.0, 123.1, 229.5, 87.2, 7.8, 80.2, 220.3, 59.6, 0.7, 265.2, 8.4, 219.8, 36.9, 48.3, 25.6, 273.7, 43.0, 184.9, 73.4, 193.7, 220.5, 104.6, 96.2, 140.3, 240.1, 243.2, 38.0, 44.7, 280.7, 121.0, 197.6, 171.3, 187.8, 4.1, 93.9, 149.8, 11.7, 131.7, 172.5, 85.7, 188.4, 163.5, 117.2, 234.5, 17.9, 206.8, 215.4, 284.3, 50.0, 164.5, 19.6, 168.4, 222.4, 276.9, 248.4, 170.2, 276.7, 165.6, 156.6, 218.5, 56.2, 287.6, 253.8, 205.0, 139.5, 191.1, 286.0, 18.7, 39.5, 75.5, 17.2, 166.8, 149.7, 38.2, 94.2, 177.0, 283.6, 232.1], [37.8, 39.3, 45.9, 41.3, 10.8, 48.9, 32.8, 19.6, 2.1, 2.6, 5.8, 24.0, 35.1, 7.6, 32.9, 47.7, 36.6, 39.6, 20.5, 23.9, 27.7, 5.1, 15.9, 16.9, 12.6, 3.5, 29.3, 16.7, 27.1, 16.0, 28.3, 17.4, 1.5, 20.0, 1.4, 4.1, 43.8, 49.4, 26.7, 37.7, 22.3, 33.4, 27.7, 8.4, 25.7, 22.5, 9.9, 41.5, 15.8, 11.7, 3.1, 9.6, 41.7, 46.2, 28.8, 49.4, 28.1, 19.2, 49.6, 29.5, 2.0, 42.7, 15.5, 29.6, 42.8, 9.3, 24.6, 14.5, 27.5, 43.9, 30.6, 14.3, 33.0, 5.7, 24.6, 43.7, 1.6, 28.5, 29.9, 7.7, 26.7, 4.1, 20.3, 44.5, 43.0, 18.4, 27.5, 40.6, 25.5, 47.8, 4.9, 1.5, 33.5, 36.5, 14.0, 31.6, 3.5, 21.0, 42.3, 41.7, 4.3, 36.3, 10.1, 17.2, 34.3, 46.4, 11.0, 0.3, 0.4, 26.9, 8.2, 38.0, 15.4, 20.6, 46.8, 35.0, 14.3, 0.8, 36.9, 16.0, 26.8, 21.7, 2.4, 34.6, 32.3, 11.8, 38.9, 0.0, 49.0, 12.0, 39.6, 2.9, 27.2, 33.5, 38.6, 47.0, 39.0, 28.9, 25.9, 43.9, 17.0, 35.4, 33.2, 5.7, 14.8, 1.9, 7.3, 49.0, 40.3, 25.8, 13.9, 8.4, 23.3, 39.7, 21.1, 11.6, 43.5, 1.3, 36.9, 18.4, 18.1, 35.8, 18.1, 36.8, 14.7, 3.4, 37.6, 5.2, 23.6, 10.6, 11.6, 20.9, 20.1, 7.1, 3.4, 48.9, 30.2, 7.8, 2.3, 10.0, 2.6, 5.4, 5.7, 43.0, 21.3, 45.1, 2.1, 28.7, 13.9, 12.1, 41.1, 10.8, 4.1, 42.0, 35.6, 3.7, 4.9, 9.3, 42.0, 8.6], [69.2, 45.1, 69.3, 58.5, 58.4, 75.0, 23.5, 11.6, 1.0, 21.2, 24.2, 4.0, 65.9, 7.2, 46.0, 52.9, 114.0, 55.8, 18.3, 19.1, 53.4, 23.5, 49.6, 26.2, 18.3, 19.5, 12.6, 22.9, 22.9, 40.8, 43.2, 38.6, 30.0, 0.3, 7.4, 8.5, 5.0, 45.7, 35.1, 32.0, 31.6, 38.7, 1.8, 26.4, 43.3, 31.5, 35.7, 18.5, 49.9, 36.8, 34.6, 3.6, 39.6, 58.7, 15.9, 60.0, 41.4, 16.6, 37.7, 9.3, 21.4, 54.7, 27.3, 8.4, 28.9, 0.9, 2.2, 10.2, 11.0, 27.2, 38.7, 31.7, 19.3, 31.3, 13.1, 89.4, 20.7, 14.2, 9.4, 23.1, 22.3, 36.9, 32.5, 35.6, 33.8, 65.7, 16.0, 63.2, 73.4, 51.4, 9.3, 33.0, 59.0, 72.3, 10.9, 52.9, 5.9, 22.0, 51.2, 45.9, 49.8, 100.9, 21.4, 17.9, 5.3, 59.0, 29.7, 23.2, 25.6, 5.5, 56.5, 23.2, 2.4, 10.7, 34.5, 52.7, 25.6, 14.8, 79.2, 22.3, 46.2, 50.4, 15.6, 12.4, 74.2, 25.9, 50.6, 9.2, 3.2, 43.1, 8.7, 43.0, 2.1, 45.1, 65.6, 8.5, 9.3, 59.7, 20.5, 1.7, 12.9, 75.6, 37.9, 34.4, 38.9, 9.0, 8.7, 44.3, 11.9, 20.6, 37.0, 48.7, 14.2, 37.7, 9.5, 5.7, 50.5, 24.3, 45.2, 34.6, 30.7, 49.3, 25.6, 7.4, 5.4, 84.8, 21.6, 19.4, 57.6, 6.4, 18.4, 47.4, 17.0, 12.8, 13.1, 41.8, 20.3, 35.2, 23.7, 17.6, 8.3, 27.4, 29.7, 71.8, 30.0, 19.6, 26.6, 18.2, 3.7, 23.4, 5.8, 6.0, 31.6, 3.6, 6.0, 13.8, 8.1, 6.4, 66.2, 8.7]]\n",
            "[624.1, 175.10000000000002, 300.5, 78.9]\n"
          ]
        }
      ],
      "source": [
        "# Question 1:\n",
        "X,y = prepare_data(\"./data/advertising (1).csv\")\n",
        "print(X)\n",
        "list = [ sum ( X [0][:5]) , sum ( X [1][:5]) , sum ( X [2][:5]) , sum ( y [:5]) ]\n",
        "print ( list )"
      ]
    },
    {
      "cell_type": "markdown",
      "metadata": {
        "id": "0R6mUOOCFYpC"
      },
      "source": [
        "**One_sample linear regression**\n",
        "<hr>"
      ]
    },
    {
      "cell_type": "code",
      "execution_count": 64,
      "metadata": {
        "collapsed": true,
        "id": "CXc51Viy-VFb"
      },
      "outputs": [],
      "source": [
        "def initialize_params():\n",
        "    return (0.016992259082509283 , 0.0070783670518262355 ,-0.002307860847821344 , 0)\n",
        "def predict(x1,x2,x3,w1,w2,w3,b):\n",
        "    return w1*x1+w2*x2+w3*x3+b\n",
        "def compute_gradient_wi(xi,y,y_hat):\n",
        "    return 2*xi*(y_hat-y)\n",
        "def compute_gradient_b(y,y_hat):\n",
        "    return 2*(y_hat-y)\n",
        "def compute_loss_mse(y,y_hat):\n",
        "    return (y_hat-y)**2\n",
        "def update_weight_wi(wi,dl_dwi,lr):\n",
        "    return wi-lr*dl_dwi\n",
        "def update_weight_b(b,dl_db,lr):\n",
        "  return b-lr*dl_db\n",
        "def compute_loss_mae(y,y_hat):\n",
        "  return abs(y_hat-y)\n",
        "def implement_linear_regression(X_data,y_data,epoch_max=50,lr=1e-5):\n",
        "\n",
        "  losses = []\n",
        "  w1,w2,w3,b = initialize_params()\n",
        "  N = len(y_data)\n",
        "  for epoch in range(epoch_max):\n",
        "    for i in range(N):\n",
        "      #get sample\n",
        "      x1 = X_data[0][i]\n",
        "      x2 = X_data[1][i]\n",
        "      x3 = X_data[2][i]\n",
        "      y = y_data[i]\n",
        "      # predict\n",
        "      y_hat = predict(x1,x2,x3,w1,w2,w3,b)\n",
        "      # compute loss\n",
        "      loss = compute_loss_mse(y,y_hat)\n",
        "      # compute gradient w1, w2, w3, b\n",
        "      dl_dw1 = compute_gradient_wi(x1,y,y_hat)\n",
        "      dl_dw2 = compute_gradient_wi(x2,y,y_hat)\n",
        "      dl_dw3 = compute_gradient_wi(x3,y,y_hat)\n",
        "      dl_db = compute_gradient_b(y,y_hat)\n",
        "      # update parameters\n",
        "      w1 = update_weight_wi(w1,dl_dw1,lr)\n",
        "      w2 = update_weight_wi(w2,dl_dw2,lr)\n",
        "      w3 = update_weight_wi(w3,dl_dw3,lr)\n",
        "      b = update_weight_b(b,dl_db,lr)\n",
        "      losses.append(loss)\n",
        "  print(len(losses))\n",
        "  return (w1,w2,w3,b,losses)"
      ]
    },
    {
      "cell_type": "code",
      "execution_count": null,
      "metadata": {
        "id": "xm-Fhwj3-kHD"
      },
      "outputs": [],
      "source": [
        "# Question 2\n",
        "print(predict(x1=1,x2=1,x3=1,w1=0,w2=0.5,w3=0,b=0.5))"
      ]
    },
    {
      "cell_type": "code",
      "execution_count": 29,
      "metadata": {
        "colab": {
          "base_uri": "https://localhost:8080/"
        },
        "id": "y91qehfxCB1j",
        "outputId": "b4015b12-aa15-4ae1-e2a6-e51be3cf7cb3"
      },
      "outputs": [
        {
          "name": "stdout",
          "output_type": "stream",
          "text": [
            "0.25\n"
          ]
        }
      ],
      "source": [
        "# Question 3\n",
        "print(compute_loss_mse(y_hat=1,y=0.5))"
      ]
    },
    {
      "cell_type": "code",
      "execution_count": 27,
      "metadata": {
        "colab": {
          "base_uri": "https://localhost:8080/"
        },
        "id": "PweEsiOvBeOJ",
        "outputId": "96d97a3e-eba3-4e07-8117-f199dfc6e66e"
      },
      "outputs": [
        {
          "name": "stdout",
          "output_type": "stream",
          "text": [
            "-1.0\n",
            "-3.0\n"
          ]
        }
      ],
      "source": [
        "# Question 4\n",
        "g_wi = compute_gradient_wi(xi=1.0,y=1.0,y_hat=0.5)\n",
        "print(g_wi)\n",
        "# Question 5\n",
        "g_b= compute_gradient_b(y=2.0,y_hat=0.5)\n",
        "print(g_b)"
      ]
    },
    {
      "cell_type": "code",
      "execution_count": 32,
      "metadata": {
        "colab": {
          "base_uri": "https://localhost:8080/"
        },
        "id": "OJil6SGTDM5z",
        "outputId": "1e1355a3-a3a6-4622-ece6-58671f0f043b"
      },
      "outputs": [
        {
          "name": "stdout",
          "output_type": "stream",
          "text": [
            "1.000005\n"
          ]
        }
      ],
      "source": [
        "# Question 6\n",
        "after_wi = update_weight_wi(wi=1,dl_dwi=-0.5,lr=1e-5)\n",
        "print(after_wi)"
      ]
    },
    {
      "cell_type": "code",
      "execution_count": 33,
      "metadata": {
        "colab": {
          "base_uri": "https://localhost:8080/"
        },
        "id": "gcyDsVlDDj5x",
        "outputId": "0d5fbd09-e40f-4594-e1b4-3ad6cd97edcd"
      },
      "outputs": [
        {
          "name": "stdout",
          "output_type": "stream",
          "text": [
            "0.50001\n"
          ]
        }
      ],
      "source": [
        "# Question 7\n",
        "after_b = update_weight_b(b=0.5,dl_db=-1,lr=1e-5)\n",
        "print(after_b)"
      ]
    },
    {
      "cell_type": "code",
      "execution_count": 38,
      "metadata": {
        "colab": {
          "base_uri": "https://localhost:8080/"
        },
        "id": "ylSo3OVkDmRY",
        "outputId": "c3d12c78-a211-4a41-f6cb-c8ac1637bf15"
      },
      "outputs": [
        {
          "name": "stdout",
          "output_type": "stream",
          "text": [
            "0.07405984066396477 0.15917360263437663 0.017561197559948935\n"
          ]
        }
      ],
      "source": [
        "# Question 8\n",
        "X,y = prepare_data(\"/content/advertising (1).csv\")\n",
        "w1,w2,w3,b,losses = implement_linear_regression(X,y)\n",
        "print(w1,w2,w3)"
      ]
    },
    {
      "cell_type": "code",
      "execution_count": 50,
      "metadata": {
        "colab": {
          "base_uri": "https://localhost:8080/"
        },
        "id": "13hWtV9IEdc2",
        "outputId": "aa292770-f524-4374-a037-d980d2bc1156"
      },
      "outputs": [
        {
          "name": "stdout",
          "output_type": "stream",
          "text": [
            "10000\n",
            "predicted sales is 8.176413319549823\n",
            "31.338878034644296\n"
          ]
        }
      ],
      "source": [
        "# Question 9\n",
        "tv = 19.2\n",
        "radio = 35.9\n",
        "newspaper = 51.3\n",
        "X,y = prepare_data(\"/content/advertising (1).csv\")\n",
        "w1,w2,w3,b,losses = implement_linear_regression(X,y)\n",
        "sales = predict(tv,radio,newspaper,w1,w2,w3,b)\n",
        "print(f'predicted sales is {sales}')\n",
        "print(losses[9999])"
      ]
    },
    {
      "cell_type": "code",
      "execution_count": 41,
      "metadata": {
        "colab": {
          "base_uri": "https://localhost:8080/"
        },
        "id": "T01UqsNME61I",
        "outputId": "5dd90562-30b6-4774-c6e2-cfd77f412897"
      },
      "outputs": [
        {
          "name": "stdout",
          "output_type": "stream",
          "text": [
            "0.5\n"
          ]
        }
      ],
      "source": [
        "# Question 10\n",
        "l = compute_loss_mae(y_hat=1,y=0.5)\n",
        "print(l)"
      ]
    },
    {
      "cell_type": "markdown",
      "metadata": {
        "id": "0M1b_UqEFegQ"
      },
      "source": [
        "**Mini-batch linear regression**\n",
        "<hr>"
      ]
    },
    {
      "cell_type": "code",
      "execution_count": 65,
      "metadata": {
        "id": "_sQp8uvsFiff"
      },
      "outputs": [],
      "source": [
        "def implement_linear_regression(X_data,y_data,epoch_max=50,lr=1e-5):\n",
        "\n",
        "  losses = []\n",
        "  w1,w2,w3,b = initialize_params()\n",
        "  N = len(y_data)\n",
        "  for epoch in range(epoch_max):\n",
        "    loss_total =0.0\n",
        "    dw1_total = 0.0\n",
        "    dw2_total = 0.0\n",
        "    dw3_total = 0.0\n",
        "    db_total = 0.0\n",
        "    for i in range(N):\n",
        "      #get sample\n",
        "      x1 = X_data[0][i]\n",
        "      x2 = X_data[1][i]\n",
        "      x3 = X_data[2][i]\n",
        "      y = y_data[i]\n",
        "      # predict\n",
        "      y_hat = predict(x1,x2,x3,w1,w2,w3,b)\n",
        "      # compute loss\n",
        "      loss = compute_loss_mse(y,y_hat)\n",
        "      # compute gradient w1, w2, w3, b\n",
        "      dl_dw1 = compute_gradient_wi(x1,y,y_hat)\n",
        "      dl_dw2 = compute_gradient_wi(x2,y,y_hat)\n",
        "      dl_dw3 = compute_gradient_wi(x3,y,y_hat)\n",
        "      dl_db = compute_gradient_b(y,y_hat)\n",
        "      dw1_total+=dl_dw1\n",
        "      dw2_total+=dl_dw2\n",
        "      dw3_total+=dl_dw3\n",
        "      db_total+=dl_db\n",
        "      loss_total+=loss\n",
        "      # update parameters\n",
        "    w1 = update_weight_wi(w1,dw1_total/N,lr)\n",
        "    w2 = update_weight_wi(w2,dw2_total/N,lr)\n",
        "    w3 = update_weight_wi(w3,dw3_total/N,lr)\n",
        "    b = update_weight_b(b,db_total/N,lr)\n",
        "    losses.append(loss_total/N)\n",
        "  return (w1,w2,w3,b,losses)"
      ]
    },
    {
      "cell_type": "code",
      "execution_count": 68,
      "metadata": {
        "colab": {
          "base_uri": "https://localhost:8080/"
        },
        "id": "QITIhQ_lIDsV",
        "outputId": "bdef1be4-4624-436a-88a8-25445f481f57"
      },
      "outputs": [
        {
          "name": "stdout",
          "output_type": "stream",
          "text": [
            "0.06710990754044266 0.15756173831487585 0.029619799386084403\n"
          ]
        }
      ],
      "source": [
        "# Question 11:\n",
        "X,y = prepare_data(\"/content/advertising (1).csv\")\n",
        "w1,w2,w3,b,losses = implement_linear_regression(X,y,epoch_max=1000,lr=1e-5)\n",
        "print(w1,w2,w3)"
      ]
    },
    {
      "cell_type": "markdown",
      "metadata": {
        "id": "D9n7YQ7WVYci"
      },
      "source": [
        "**use array**\n",
        "<hr>"
      ]
    },
    {
      "cell_type": "code",
      "execution_count": 52,
      "metadata": {
        "id": "Iwjv_NpsVhuK"
      },
      "outputs": [],
      "source": [
        "def get_column(data,index):\n",
        "  return np.array(data)[:,index].tolist()\n",
        "def prepare_data(file_name_dataset):\n",
        "  data = np.genfromtxt(file_name_dataset, delimiter=\",\", skip_header=1).tolist()\n",
        "\n",
        "  tv_data = get_column(data,0)\n",
        "  radio_data = get_column(data,1)\n",
        "  newspaper_data = get_column(data,2)\n",
        "  sales_data = get_column(data,3)\n",
        "  X= [[1,x1,x2,x3] for x1,x2,x3 in zip(tv_data,radio_data,newspaper_data)]\n",
        "  y = sales_data\n",
        "  return X,y"
      ]
    },
    {
      "cell_type": "code",
      "execution_count": 55,
      "metadata": {
        "id": "FkwCc5HXV38b"
      },
      "outputs": [],
      "source": [
        "def initialize_params():\n",
        "    return (0,0.016992259082509283 , 0.0070783670518262355 ,-0.002307860847821344)\n",
        "def predict(features,weight):\n",
        "    return np.sum(features*np.array(weight))\n",
        "def compute_gradient_w(feature,y,y_hat):\n",
        "    x = np.array(feature)\n",
        "    return 2*x*(y_hat-y).tolist()\n",
        "def compute_loss_mse(y,y_hat):\n",
        "    return (y_hat-y)**2\n",
        "def update_weight_w(weight,dl_dweight,lr):\n",
        "    weight = np.array(weight)\n",
        "    return weight-lr*dl_dweight\n",
        "def compute_loss_mae(y,y_hat):\n",
        "  return abs(y_hat-y)\n",
        "def implement_linear_regression(X_data,y_data,epoch_max=50,lr=1e-5):\n",
        "\n",
        "  losses = []\n",
        "  weight = initialize_params()\n",
        "  N = len(y_data)\n",
        "  for epoch in range(epoch_max):\n",
        "    for i in range(N):\n",
        "      #get sample\n",
        "      features = X_data[i]\n",
        "      y = y_data[i]\n",
        "      # predict\n",
        "      y_hat = predict(features,weight)\n",
        "      # compute loss\n",
        "      loss = compute_loss_mse(y,y_hat)\n",
        "      # compute gradient w1, w2, w3, b\n",
        "      dl_dweight = compute_gradient_w(features,y,y_hat)\n",
        "      # update parameters\n",
        "      weight = update_weight_w(weight,dl_dweight,lr)\n",
        "      losses.append(loss)\n",
        "  return (weight,losses)"
      ]
    },
    {
      "cell_type": "code",
      "execution_count": 59,
      "metadata": {
        "colab": {
          "base_uri": "https://localhost:8080/"
        },
        "id": "I2sq7bHpYaY1",
        "outputId": "9ece3a55-247e-4174-d0a8-7b95fa8cce6c"
      },
      "outputs": [
        {
          "name": "stdout",
          "output_type": "stream",
          "text": [
            "10000\n",
            "[0.13924261 0.07405984 0.1591736  0.0175612 ]\n",
            "31.338878034644296\n"
          ]
        }
      ],
      "source": [
        "X , y = prepare_data (\"/content/advertising (1).csv\")\n",
        "W , L = implement_linear_regression(X ,y,epoch_max=50,lr =1e-5)\n",
        "print(L[9999])"
      ]
    }
  ],
  "metadata": {
    "colab": {
      "provenance": []
    },
    "kernelspec": {
      "display_name": "Python 3",
      "name": "python3"
    },
    "language_info": {
      "name": "python"
    }
  },
  "nbformat": 4,
  "nbformat_minor": 0
}
